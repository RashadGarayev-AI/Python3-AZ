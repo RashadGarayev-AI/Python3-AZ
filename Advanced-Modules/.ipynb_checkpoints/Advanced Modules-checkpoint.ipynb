{
 "cells": [
  {
   "cell_type": "markdown",
   "metadata": {},
   "source": [
    "## Advanced Modules (Pythonda qabaqcıl modullar)"
   ]
  },
  {
   "cell_type": "markdown",
   "metadata": {},
   "source": [
    "Modullar bəhsində biz şəxsi modullarımızı hazırlayırdıq.Bundan başqa python ilə bərabər gələn qabaqcıl modullar da mövcuddur."
   ]
  },
  {
   "cell_type": "markdown",
   "metadata": {},
   "source": [
    "### Os modulu"
   ]
  },
  {
   "cell_type": "code",
   "execution_count": 1,
   "metadata": {},
   "outputs": [],
   "source": [
    "import os"
   ]
  },
  {
   "cell_type": "code",
   "execution_count": 8,
   "metadata": {},
   "outputs": [
    {
     "name": "stdout",
     "output_type": "stream",
     "text": [
      "['DirEntry', 'MutableMapping', 'PathLike', 'abc', 'abort', 'access', 'altsep', 'chdir', 'chmod', 'close', 'closerange', 'curdir', 'defpath', 'devnull', 'dup', 'dup2', 'environ', 'errno', 'error', 'execl', 'execle', 'execlp', 'execlpe', 'execv', 'execve', 'execvp', 'execvpe', 'extsep', 'fdopen', 'fsdecode', 'fsencode', 'fspath', 'fstat', 'fsync', 'ftruncate', 'getcwd', 'getcwdb', 'getenv', 'getlogin', 'getpid', 'getppid', 'isatty', 'kill', 'linesep', 'link', 'listdir', 'lseek', 'lstat', 'makedirs', 'mkdir', 'name', 'open', 'pardir', 'path', 'pathsep', 'pipe', 'popen', 'putenv', 'read', 'readlink', 'remove', 'removedirs', 'rename', 'renames', 'replace', 'rmdir', 'scandir', 'sep', 'spawnl', 'spawnle', 'spawnv', 'spawnve', 'st', 'startfile', 'stat', 'strerror', 'symlink', 'sys', 'system', 'times', 'truncate', 'umask', 'unlink', 'urandom', 'utime', 'waitpid', 'walk', 'write']\n"
     ]
    }
   ],
   "source": [
    "siyahı = []\n",
    "for i in dir(os):\n",
    "    if '_' not in i:\n",
    "        siyahı.append(i)\n",
    "print(siyahı)"
   ]
  },
  {
   "cell_type": "markdown",
   "metadata": {},
   "source": [
    "Yuxarıda bir neçə funksiyanı bu bəhsdə öyrənəcəksiniz."
   ]
  },
  {
   "cell_type": "code",
   "execution_count": 10,
   "metadata": {},
   "outputs": [
    {
     "data": {
      "text/plain": [
       "'nt'"
      ]
     },
     "execution_count": 10,
     "metadata": {},
     "output_type": "execute_result"
    }
   ],
   "source": [
    "import os\n",
    "os.name #əməliyyat sistemi"
   ]
  },
  {
   "cell_type": "markdown",
   "metadata": {},
   "source": [
    "<code>Windows -> 'nt' 'dos' 'ce' ; Linux -> 'posix' </code>"
   ]
  },
  {
   "cell_type": "code",
   "execution_count": 17,
   "metadata": {},
   "outputs": [
    {
     "data": {
      "text/plain": [
       "'\\\\'"
      ]
     },
     "execution_count": 17,
     "metadata": {},
     "output_type": "execute_result"
    }
   ],
   "source": [
    "import os\n",
    "os.sep #Windows əməliyyat sistemi"
   ]
  },
  {
   "cell_type": "code",
   "execution_count": 18,
   "metadata": {},
   "outputs": [
    {
     "data": {
      "text/plain": [
       "'E:\\\\Tain\\\\Python3-AZ\\\\Advanced-Modules'"
      ]
     },
     "execution_count": 18,
     "metadata": {},
     "output_type": "execute_result"
    }
   ],
   "source": [
    "import os\n",
    "os.getcwd() #hansı qovluqda olduğumuzu bildirir"
   ]
  },
  {
   "cell_type": "code",
   "execution_count": 20,
   "metadata": {},
   "outputs": [
    {
     "data": {
      "text/plain": [
       "'E:\\\\Tain\\\\Python3-AZ'"
      ]
     },
     "execution_count": 20,
     "metadata": {},
     "output_type": "execute_result"
    }
   ],
   "source": [
    "import os\n",
    "os.chdir('E:\\\\Tain\\\\Python3-AZ') #Qovluqlar arası keçid\n",
    "os.getcwd()"
   ]
  },
  {
   "cell_type": "code",
   "execution_count": 21,
   "metadata": {},
   "outputs": [
    {
     "data": {
      "text/plain": [
       "['.git',\n",
       " '.idea',\n",
       " 'Advanced-Modules',\n",
       " 'Built-in-Function',\n",
       " 'CONTRIBUTING.md',\n",
       " 'DATA',\n",
       " 'Data_types',\n",
       " 'debug.log',\n",
       " 'Decorators',\n",
       " 'Error_Exceptions',\n",
       " 'Files',\n",
       " 'Function',\n",
       " 'image',\n",
       " 'Iterators-Generators',\n",
       " 'Modules',\n",
       " 'OOP',\n",
       " 'Operators',\n",
       " 'Package',\n",
       " 'README.md',\n",
       " '__pycache__']"
      ]
     },
     "execution_count": 21,
     "metadata": {},
     "output_type": "execute_result"
    }
   ],
   "source": [
    "import os \n",
    "os.listdir() #olduğumuz qovluqda fayl və qovluqları göstərir"
   ]
  },
  {
   "cell_type": "code",
   "execution_count": 23,
   "metadata": {},
   "outputs": [
    {
     "data": {
      "text/plain": [
       "['$360Section',\n",
       " '$Recycle.Bin',\n",
       " '360SANDBOX',\n",
       " 'Config.Msi',\n",
       " 'cudnn',\n",
       " 'Documents and Settings',\n",
       " 'Games',\n",
       " 'hiberfil.sys',\n",
       " 'Intel',\n",
       " 'OneDriveTemp',\n",
       " 'pagefile.sys',\n",
       " 'PerfLogs',\n",
       " 'Program Files',\n",
       " 'Program Files (x86)',\n",
       " 'ProgramData',\n",
       " 'Recovery',\n",
       " 'swapfile.sys',\n",
       " 'System Volume Information',\n",
       " 'Users',\n",
       " 'Windows']"
      ]
     },
     "execution_count": 23,
     "metadata": {},
     "output_type": "execute_result"
    }
   ],
   "source": [
    "# Əgər təyinatı ünvan yazsanız,həmin qovluq daxilindəki fayl və qovluqları göstərəcək(əgər qovluq və ya fayl varsa)\n",
    "import os \n",
    "os.listdir('C:')"
   ]
  },
  {
   "cell_type": "code",
   "execution_count": 7,
   "metadata": {},
   "outputs": [
    {
     "name": "stdout",
     "output_type": "stream",
     "text": [
      "../image/anac1.png\n",
      "../image/anac2.png\n",
      "../image/anac3.png\n",
      "../image/anaconda.png\n",
      "../image/datatypes.png\n",
      "../image/diskrt.png\n",
      "../image/f.png\n",
      "../image/ieee.jpg\n",
      "../image/inhert.png\n",
      "../image/loop.jpg\n",
      "../image/map.png\n",
      "../image/moduls.png\n",
      "../image/moduls1.png\n",
      "../image/operator.png\n",
      "../image/operators.png\n",
      "../image/pack.png\n",
      "../image/pack1.png\n",
      "../image/package.png\n",
      "../image/pyimg.jpg\n",
      "../image/pyscript.png\n",
      "../image/pytest.png\n",
      "../image/reduce.png\n",
      "../image/rerunpy.png\n",
      "../image/runpy.png\n",
      "../image/savepy.png\n",
      "../image/screen.png\n",
      "../image/stack (1).jpg\n",
      "../image/stack.webp\n",
      "../image/start.png\n",
      "../image/strindex.png\n",
      "../image/t.png\n"
     ]
    }
   ],
   "source": [
    "import os\n",
    "siyahı = []\n",
    "image_direc = '../image/'\n",
    "read_im = [image_direc+i for i in os.listdir(image_direc)]\n",
    "for i in read_im:\n",
    "    siyahı.append(i)\n",
    "    print(i)\n",
    "    "
   ]
  },
  {
   "cell_type": "code",
   "execution_count": 26,
   "metadata": {},
   "outputs": [
    {
     "data": {
      "text/plain": [
       "['.git',\n",
       " '.idea',\n",
       " 'Advanced-Modules',\n",
       " 'Built-in-Function',\n",
       " 'CONTRIBUTING.md',\n",
       " 'DATA',\n",
       " 'Data_types',\n",
       " 'debug.log',\n",
       " 'Decorators',\n",
       " 'Error_Exceptions',\n",
       " 'Files',\n",
       " 'Function',\n",
       " 'image',\n",
       " 'Iterators-Generators',\n",
       " 'Modules',\n",
       " 'OOP',\n",
       " 'Operators',\n",
       " 'Package',\n",
       " 'README.md',\n",
       " '__pycache__']"
      ]
     },
     "execution_count": 26,
     "metadata": {},
     "output_type": "execute_result"
    }
   ],
   "source": [
    "import os\n",
    "os.listdir(os.curdir) # əməliyyat sistemində ana qovluğu göstərir."
   ]
  },
  {
   "cell_type": "code",
   "execution_count": 27,
   "metadata": {},
   "outputs": [
    {
     "data": {
      "text/plain": [
       "['Aİ',\n",
       " 'Car_Count',\n",
       " 'Computing',\n",
       " 'Computing vision',\n",
       " 'data',\n",
       " 'dataset',\n",
       " 'face-dataset',\n",
       " 'Face-recognition',\n",
       " 'fire',\n",
       " 'FireDetection',\n",
       " 'model',\n",
       " 'New folder (2)',\n",
       " 'Python3-AZ',\n",
       " 'PythonProqramlaşdırmadili']"
      ]
     },
     "execution_count": 27,
     "metadata": {},
     "output_type": "execute_result"
    }
   ],
   "source": [
    "import os\n",
    "os.listdir(os.pardir) #bir qovluq geri,qovluqdakı qovluq və faylları göstərir"
   ]
  },
  {
   "cell_type": "code",
   "execution_count": 29,
   "metadata": {},
   "outputs": [
    {
     "ename": "FileNotFoundError",
     "evalue": "[WinError 2] The system cannot find the file specified: 'pythonaz.pdf'",
     "output_type": "error",
     "traceback": [
      "\u001b[1;31m---------------------------------------------------------------------------\u001b[0m",
      "\u001b[1;31mFileNotFoundError\u001b[0m                         Traceback (most recent call last)",
      "\u001b[1;32m<ipython-input-29-7f2b0b829323>\u001b[0m in \u001b[0;36m<module>\u001b[1;34m()\u001b[0m\n\u001b[0;32m      1\u001b[0m \u001b[1;32mimport\u001b[0m \u001b[0mos\u001b[0m\u001b[1;33m\u001b[0m\u001b[1;33m\u001b[0m\u001b[0m\n\u001b[1;32m----> 2\u001b[1;33m \u001b[0mos\u001b[0m\u001b[1;33m.\u001b[0m\u001b[0mstartfile\u001b[0m\u001b[1;33m(\u001b[0m\u001b[1;34m'pythonaz.pdf'\u001b[0m\u001b[1;33m)\u001b[0m \u001b[1;31m#Yalnız Windows əməliyyat sistemində çalışır\u001b[0m\u001b[1;33m\u001b[0m\u001b[1;33m\u001b[0m\u001b[0m\n\u001b[0m",
      "\u001b[1;31mFileNotFoundError\u001b[0m: [WinError 2] The system cannot find the file specified: 'pythonaz.pdf'"
     ]
    }
   ],
   "source": [
    "import os\n",
    "os.startfile('pythonaz.pdf') #Yalnız Windows əməliyyat sistemində çalışır"
   ]
  },
  {
   "cell_type": "code",
   "execution_count": 31,
   "metadata": {},
   "outputs": [],
   "source": [
    "import os\n",
    "os.mkdir('example') #Olduğunuz qovluqda yeni qovluq yaradır.Təyinatı ünvan verilərsə həmin ünvanda qovluğu yaradacaq\n",
    "#os.mkdir('C:\\example')"
   ]
  },
  {
   "cell_type": "code",
   "execution_count": 34,
   "metadata": {},
   "outputs": [
    {
     "data": {
      "text/plain": [
       "['.git',\n",
       " '.idea',\n",
       " 'Advanced-Modules',\n",
       " 'Built-in-Function',\n",
       " 'CONTRIBUTING.md',\n",
       " 'DATA',\n",
       " 'Data_types',\n",
       " 'debug.log',\n",
       " 'Decorators',\n",
       " 'Error_Exceptions',\n",
       " 'example',\n",
       " 'Files',\n",
       " 'Function',\n",
       " 'image',\n",
       " 'Iterators-Generators',\n",
       " 'Modules',\n",
       " 'OOP',\n",
       " 'Operators',\n",
       " 'Package',\n",
       " 'README.md',\n",
       " '__pycache__']"
      ]
     },
     "execution_count": 34,
     "metadata": {},
     "output_type": "execute_result"
    }
   ],
   "source": [
    "os.listdir()"
   ]
  },
  {
   "cell_type": "code",
   "execution_count": 35,
   "metadata": {},
   "outputs": [],
   "source": [
    "import os\n",
    "os.makedirs('example/new') #Qovluq altında yeni qovluq yaradır."
   ]
  },
  {
   "cell_type": "code",
   "execution_count": 36,
   "metadata": {},
   "outputs": [],
   "source": [
    "import os \n",
    "os.rename('example','rename') #Qovluq adını dəyişə bilərsiniz"
   ]
  },
  {
   "cell_type": "code",
   "execution_count": 37,
   "metadata": {},
   "outputs": [
    {
     "data": {
      "text/plain": [
       "['.git',\n",
       " '.idea',\n",
       " 'Advanced-Modules',\n",
       " 'Built-in-Function',\n",
       " 'CONTRIBUTING.md',\n",
       " 'DATA',\n",
       " 'Data_types',\n",
       " 'debug.log',\n",
       " 'Decorators',\n",
       " 'Error_Exceptions',\n",
       " 'Files',\n",
       " 'Function',\n",
       " 'image',\n",
       " 'Iterators-Generators',\n",
       " 'Modules',\n",
       " 'OOP',\n",
       " 'Operators',\n",
       " 'Package',\n",
       " 'README.md',\n",
       " 'rename',\n",
       " '__pycache__']"
      ]
     },
     "execution_count": 37,
     "metadata": {},
     "output_type": "execute_result"
    }
   ],
   "source": [
    "os.listdir()"
   ]
  },
  {
   "cell_type": "code",
   "execution_count": null,
   "metadata": {},
   "outputs": [],
   "source": []
  },
  {
   "cell_type": "code",
   "execution_count": null,
   "metadata": {},
   "outputs": [],
   "source": []
  },
  {
   "cell_type": "code",
   "execution_count": 41,
   "metadata": {},
   "outputs": [],
   "source": [
    "import os\n",
    "os.replace('rename','example') #rename ilə eyni işi görür.fərq ondadırki əgər həmin adda qovluq varsa qovluq tamamilə silinib yenidən yeni adla yaradılır"
   ]
  },
  {
   "cell_type": "code",
   "execution_count": 47,
   "metadata": {},
   "outputs": [],
   "source": [
    "import os\n",
    "os.rmdir('example/new')# Sadəcə boş qovluğu silir.alt qovluqları silmir və xəta alacaqsınız"
   ]
  },
  {
   "cell_type": "code",
   "execution_count": 48,
   "metadata": {},
   "outputs": [],
   "source": [
    "import os\n",
    "os.removedirs('example')#rmdir fərqli olaraq başlanğıc qovluqdan alt paketlərə qədər tamamilə silir"
   ]
  },
  {
   "cell_type": "code",
   "execution_count": 49,
   "metadata": {},
   "outputs": [
    {
     "data": {
      "text/plain": [
       "os.stat_result(st_mode=16895, st_ino=1688849860282229, st_dev=1385644650, st_nlink=1, st_uid=0, st_gid=0, st_size=4096, st_atime=1585513628, st_mtime=1585513628, st_ctime=1585497963)"
      ]
     },
     "execution_count": 49,
     "metadata": {},
     "output_type": "execute_result"
    }
   ],
   "source": [
    "import os\n",
    "os.stat('Package')# qovluqlar haqqında məlumat verir"
   ]
  },
  {
   "cell_type": "code",
   "execution_count": 50,
   "metadata": {},
   "outputs": [],
   "source": [
    "#st_atime -qovluğa son giriş tarixi\n",
    "#st_ctime -qovluğun yaranma tarixi\n",
    "#st_mtime -qovluğun dəyişdirilmə tarixi\n",
    "#st_size -qovluğun həcmi"
   ]
  },
  {
   "cell_type": "code",
   "execution_count": 60,
   "metadata": {},
   "outputs": [
    {
     "data": {
      "text/plain": [
       "'E:\\\\Tain\\\\Python3-AZ\\\\cudnn64_7.dll'"
      ]
     },
     "execution_count": 60,
     "metadata": {},
     "output_type": "execute_result"
    }
   ],
   "source": [
    "import os\n",
    "os.path.abspath('cudnn64_7.dll') # faylın ünvanını göstərir"
   ]
  },
  {
   "cell_type": "code",
   "execution_count": 62,
   "metadata": {},
   "outputs": [
    {
     "data": {
      "text/plain": [
       "''"
      ]
     },
     "execution_count": 62,
     "metadata": {},
     "output_type": "execute_result"
    }
   ],
   "source": [
    "import os\n",
    "os.path.dirname('cudnn64_7.dll') # faylın qovluq ünvanını göstərir"
   ]
  },
  {
   "cell_type": "code",
   "execution_count": null,
   "metadata": {},
   "outputs": [],
   "source": []
  },
  {
   "cell_type": "markdown",
   "metadata": {},
   "source": [
    "### sys modulu"
   ]
  },
  {
   "cell_type": "code",
   "execution_count": 11,
   "metadata": {},
   "outputs": [
    {
     "name": "stdout",
     "output_type": "stream",
     "text": [
      ":-1\n",
      "Proqram sonlandirildi...\n"
     ]
    },
    {
     "ename": "SystemExit",
     "evalue": "",
     "output_type": "error",
     "traceback": [
      "An exception has occurred, use %tb to see the full traceback.\n",
      "\u001b[1;31mSystemExit\u001b[0m\n"
     ]
    },
    {
     "name": "stderr",
     "output_type": "stream",
     "text": [
      "C:\\ProgramData\\Anaconda3\\lib\\site-packages\\IPython\\core\\interactiveshell.py:2918: UserWarning: To exit: use 'exit', 'quit', or Ctrl-D.\n",
      "  warn(\"To exit: use 'exit', 'quit', or Ctrl-D.\", stacklevel=1)\n"
     ]
    }
   ],
   "source": [
    "import sys\n",
    "#sys.exit() proqramdan çıxış üçün istifadə edə bilərsiniz\n",
    "\n",
    "def sistem():\n",
    "    var = int(input(':'))\n",
    "    if var <0:\n",
    "        print('Proqram sonlandirildi...')\n",
    "        sys.exit()\n",
    "    else:\n",
    "        return var*2\n",
    "sistem()   "
   ]
  },
  {
   "cell_type": "code",
   "execution_count": null,
   "metadata": {},
   "outputs": [],
   "source": []
  },
  {
   "cell_type": "code",
   "execution_count": 12,
   "metadata": {},
   "outputs": [
    {
     "name": "stdout",
     "output_type": "stream",
     "text": [
      "This is the name of the program: C:\\ProgramData\\Anaconda3\\lib\\site-packages\\ipykernel_launcher.py\n",
      "Number of elements including the name of the program: 3\n",
      "Number of elements excluding the name of the program: 2\n",
      "Argument List: ['C:\\\\ProgramData\\\\Anaconda3\\\\lib\\\\site-packages\\\\ipykernel_launcher.py', '-f', 'C:\\\\Users\\\\garay\\\\AppData\\\\Roaming\\\\jupyter\\\\runtime\\\\kernel-6ae3fcb5-6ef2-4e46-b99a-620edfb656df.json']\n"
     ]
    }
   ],
   "source": [
    "import sys\n",
    "#sys.argv \n",
    "print(\"This is the name of the program:\", sys.argv[0]) \n",
    "print(\"Number of elements including the name of the program:\", len(sys.argv)) \n",
    "print(\"Number of elements excluding the name of the program:\", (len(sys.argv)-1)) \n",
    "print(\"Argument List:\", str(sys.argv)) "
   ]
  },
  {
   "cell_type": "code",
   "execution_count": 14,
   "metadata": {},
   "outputs": [
    {
     "data": {
      "text/plain": [
       "'C:\\\\ProgramData\\\\Anaconda3\\\\python.exe'"
      ]
     },
     "execution_count": 14,
     "metadata": {},
     "output_type": "execute_result"
    }
   ],
   "source": [
    "import sys\n",
    "sys.executable"
   ]
  },
  {
   "cell_type": "code",
   "execution_count": 18,
   "metadata": {},
   "outputs": [
    {
     "data": {
      "text/plain": [
       "'win32'"
      ]
     },
     "execution_count": 18,
     "metadata": {},
     "output_type": "execute_result"
    }
   ],
   "source": [
    "import sys\n",
    "sys.platform #Çalışdığı əməliyyat sistemi haqqında məlumat"
   ]
  },
  {
   "cell_type": "code",
   "execution_count": 19,
   "metadata": {},
   "outputs": [
    {
     "data": {
      "text/plain": [
       "'C:\\\\ProgramData\\\\Anaconda3'"
      ]
     },
     "execution_count": 19,
     "metadata": {},
     "output_type": "execute_result"
    }
   ],
   "source": [
    "import sys\n",
    "sys.prefix #Çalışan proqramın hansı qovluqda yerləşdiyini göstərir\n"
   ]
  },
  {
   "cell_type": "code",
   "execution_count": 20,
   "metadata": {},
   "outputs": [
    {
     "data": {
      "text/plain": [
       "'3.6.10 |Anaconda, Inc.| (default, Jan  7 2020, 15:18:16) [MSC v.1916 64 bit (AMD64)]'"
      ]
     },
     "execution_count": 20,
     "metadata": {},
     "output_type": "execute_result"
    }
   ],
   "source": [
    "import sys\n",
    "sys.version #çalışan proqramın versiyası haqqında məlumat verir"
   ]
  },
  {
   "cell_type": "code",
   "execution_count": null,
   "metadata": {},
   "outputs": [],
   "source": []
  },
  {
   "cell_type": "markdown",
   "metadata": {},
   "source": [
    "### Python Regex (re modulu)"
   ]
  },
  {
   "cell_type": "code",
   "execution_count": 21,
   "metadata": {},
   "outputs": [],
   "source": [
    "import re"
   ]
  },
  {
   "cell_type": "code",
   "execution_count": 22,
   "metadata": {},
   "outputs": [
    {
     "name": "stdout",
     "output_type": "stream",
     "text": [
      "['A', 'ASCII', 'DEBUG', 'DOTALL', 'I', 'IGNORECASE', 'L', 'LOCALE', 'M', 'MULTILINE', 'RegexFlag', 'S', 'Scanner', 'T', 'TEMPLATE', 'U', 'UNICODE', 'VERBOSE', 'X', '_MAXCACHE', '__all__', '__builtins__', '__cached__', '__doc__', '__file__', '__loader__', '__name__', '__package__', '__spec__', '__version__', '_alphanum_bytes', '_alphanum_str', '_cache', '_compile', '_compile_repl', '_expand', '_locale', '_pattern_type', '_pickle', '_subx', 'compile', 'copyreg', 'enum', 'error', 'escape', 'findall', 'finditer', 'fullmatch', 'functools', 'match', 'purge', 'search', 'split', 'sre_compile', 'sre_parse', 'sub', 'subn', 'template']\n"
     ]
    }
   ],
   "source": [
    "print(dir(re))"
   ]
  },
  {
   "cell_type": "code",
   "execution_count": 35,
   "metadata": {},
   "outputs": [
    {
     "name": "stdout",
     "output_type": "stream",
     "text": [
      "python\n"
     ]
    }
   ],
   "source": [
    "import re\n",
    "#metod sadəcə ilk verilənə baxır\n",
    "data = 'python is very best language'\n",
    "result = re.match('python',data)\n",
    "print(result.group())"
   ]
  },
  {
   "cell_type": "code",
   "execution_count": 37,
   "metadata": {},
   "outputs": [],
   "source": [
    "# search() metodu"
   ]
  },
  {
   "cell_type": "code",
   "execution_count": 45,
   "metadata": {},
   "outputs": [
    {
     "name": "stdout",
     "output_type": "stream",
     "text": [
      "best\n"
     ]
    }
   ],
   "source": [
    "import re \n",
    "data = 'python is very best language'\n",
    "result = re.search('best',data)\n",
    "print(result.group())\n"
   ]
  },
  {
   "cell_type": "code",
   "execution_count": 68,
   "metadata": {},
   "outputs": [
    {
     "name": "stdout",
     "output_type": "stream",
     "text": [
      "['There', 'There']\n"
     ]
    }
   ],
   "source": [
    "#findall() metodu\n",
    "#Metod mətn daxilində təkrar olunan elementləri göstərir.\n",
    "import re\n",
    "text=\"\"\"\n",
    "There are 10 types of people.\n",
    "Those who know binary and those who don't.\n",
    "I said: 'There are 10 types of people.'.\n",
    "I also said: 'Those who know binary and those who don't.'.\n",
    "Isn't that joke so funny?! False\n",
    "This is the left side of...a string with a right side.\n",
    "\"\"\"\n",
    "print(re.findall('There',text))\n"
   ]
  },
  {
   "cell_type": "code",
   "execution_count": 69,
   "metadata": {},
   "outputs": [
    {
     "name": "stdout",
     "output_type": "stream",
     "text": [
      "\n",
      "\n",
      "\\d işarəsi 0-dan 9-a qədər ədədləri ifadə edir [0-9].\n",
      "\\D [^0-9].\n",
      "\\s [ \t\n",
      "\r",
      "\f",
      "\u000b",
      "].\n",
      "\\S [^ \t\n",
      "\r",
      "\f",
      "\u000b",
      "].\n",
      "\\w [a-zA-Z0-9_].\n",
      "\\W [^a-zA-Z0-9_].\n",
      "\n",
      "\n",
      "\n"
     ]
    }
   ],
   "source": [
    "print(\"\"\"\n",
    "\n",
    "\\d işarəsi 0-dan 9-a qədər ədədləri ifadə edir [0-9].\n",
    "\\D [^0-9].\n",
    "\\s [ \\t\\n\\r\\f\\v].\n",
    "\\S [^ \\t\\n\\r\\f\\v].\n",
    "\\w [a-zA-Z0-9_].\n",
    "\\W [^a-zA-Z0-9_].\n",
    "\n",
    "\n",
    "\"\"\")"
   ]
  },
  {
   "cell_type": "code",
   "execution_count": 73,
   "metadata": {},
   "outputs": [
    {
     "name": "stdout",
     "output_type": "stream",
     "text": [
      "john\n",
      "julion\n",
      "jon\n"
     ]
    }
   ],
   "source": [
    "import re\n",
    "list=['john','mohn','leon','julion','jon']\n",
    "for i in list:\n",
    "    if re.match('j.',i):\n",
    "        print(i)"
   ]
  },
  {
   "cell_type": "code",
   "execution_count": 74,
   "metadata": {},
   "outputs": [
    {
     "name": "stdout",
     "output_type": "stream",
     "text": [
      "eat\n",
      "meat\n",
      "meal\n"
     ]
    }
   ],
   "source": [
    "import re\n",
    "list=['eat','meat','missing','meal','mui']\n",
    "for i in list:\n",
    "    if re.search('ea*',i):\n",
    "        print(i)\n",
    "    "
   ]
  },
  {
   "cell_type": "code",
   "execution_count": 80,
   "metadata": {},
   "outputs": [
    {
     "name": "stdout",
     "output_type": "stream",
     "text": [
      "Arzu\n"
     ]
    }
   ],
   "source": [
    "import re\n",
    "list=['ədalət','fəlakət','kəramət','məlahət','ülviyyə','Nizami','Eldar','Arzu']\n",
    "for i in list:\n",
    "    if re.match('.*u',i):\n",
    "        print(i)"
   ]
  },
  {
   "cell_type": "code",
   "execution_count": 82,
   "metadata": {},
   "outputs": [],
   "source": [
    "import re,os\n",
    "i=os.listdir(os.getcwd())\n",
    "for v in i:\n",
    "    if re.match('.*mp',v):\n",
    "        print(i)"
   ]
  },
  {
   "cell_type": "code",
   "execution_count": 88,
   "metadata": {},
   "outputs": [
    {
     "name": "stdout",
     "output_type": "stream",
     "text": [
      "linuxmint-19.1-cinnamon-64bit.iso\n",
      "MX-18.3_x64.iso\n",
      "ubuntu-19.04-desktop-amd64_2.iso\n",
      "Win10_1909_English_x64.iso\n"
     ]
    }
   ],
   "source": [
    "import re,os\n",
    "def search():\n",
    "    qovluq=os.listdir('E:\\programlar\\OS-system')\n",
    "    for i in qovluq:\n",
    "        if re.match('.*iso',i):\n",
    "            print(i)\n",
    "search()"
   ]
  },
  {
   "cell_type": "code",
   "execution_count": 91,
   "metadata": {},
   "outputs": [
    {
     "name": "stdout",
     "output_type": "stream",
     "text": [
      "fəlakət\n",
      "məlahət\n"
     ]
    }
   ],
   "source": [
    "import re\n",
    "list=['ədalət','fəlakət','kəramət','ət','ələt','məlahət','ülviyyə']\n",
    "for i in list:\n",
    "    if re.search('.+əl',i):\n",
    "        print (i)"
   ]
  },
  {
   "cell_type": "code",
   "execution_count": 93,
   "metadata": {},
   "outputs": [
    {
     "name": "stdout",
     "output_type": "stream",
     "text": [
      "saat\n"
     ]
    }
   ],
   "source": [
    "import re\n",
    "list=['s','sa','saa','saat','saaat','slaaat']\n",
    "for i in list:\n",
    "    if re.match('sa{2}t',i):\n",
    "        print(i)"
   ]
  },
  {
   "cell_type": "code",
   "execution_count": 94,
   "metadata": {},
   "outputs": [
    {
     "name": "stdout",
     "output_type": "stream",
     "text": [
      "saat\n",
      "saaat\n"
     ]
    }
   ],
   "source": [
    "import re\n",
    "list=['s','sa','saa','saat','saaat','slaaat']\n",
    "for i in list:\n",
    "    if re.match('sa{1,3}t',i):\n",
    "        print(i)"
   ]
  },
  {
   "cell_type": "code",
   "execution_count": 95,
   "metadata": {},
   "outputs": [
    {
     "name": "stdout",
     "output_type": "stream",
     "text": [
      "564343\n",
      "45gfhfh\n"
     ]
    }
   ],
   "source": [
    "import re\n",
    "data=['564343','fgdg454','45gfhfh','fghf34hg','fgdgd','rtyuqw']\n",
    "for i in data:\n",
    "    if re.search('^[0-9]',i):\n",
    "        print(i)"
   ]
  },
  {
   "cell_type": "code",
   "execution_count": 96,
   "metadata": {},
   "outputs": [
    {
     "name": "stdout",
     "output_type": "stream",
     "text": [
      "fgdg454\n",
      "fghf34hg\n",
      "fgdgd\n",
      "rtyuqw\n"
     ]
    }
   ],
   "source": [
    "import re\n",
    "data=['564343','fgdg454','45gfhfh','fghf34hg','fgdgd','rtyuqw','AzsAy12s']\n",
    "for i in data:\n",
    "    if re.search('^[a-z]',i):\n",
    "        print(i)"
   ]
  },
  {
   "cell_type": "code",
   "execution_count": 97,
   "metadata": {},
   "outputs": [
    {
     "name": "stdout",
     "output_type": "stream",
     "text": [
      "Az1\n"
     ]
    }
   ],
   "source": [
    "import re\n",
    "data=['564343','Az1','azAb12']\n",
    "for i in data:\n",
    "    if re.search('^[A-Z]',i):\n",
    "        print(i)"
   ]
  },
  {
   "cell_type": "code",
   "execution_count": 98,
   "metadata": {},
   "outputs": [
    {
     "name": "stdout",
     "output_type": "stream",
     "text": [
      "12$\n",
      "10$\n"
     ]
    }
   ],
   "source": [
    "import re\n",
    "data=['12$','10$','30€']\n",
    "for i in data:\n",
    "    if re.match('[0-9]+\\$',i):\n",
    "        print(i)"
   ]
  },
  {
   "cell_type": "code",
   "execution_count": 99,
   "metadata": {},
   "outputs": [
    {
     "name": "stdout",
     "output_type": "stream",
     "text": [
      "30€\n"
     ]
    }
   ],
   "source": [
    "import re\n",
    "data=['12$','10$','30€']\n",
    "for i in data:\n",
    "    if re.match('[0-9]+\\€',i):\n",
    "        print(i)"
   ]
  },
  {
   "cell_type": "code",
   "execution_count": 100,
   "metadata": {},
   "outputs": [
    {
     "name": "stdout",
     "output_type": "stream",
     "text": [
      "href=\"https://asan.gov.az/css/bootstrap.min.css\n",
      "href=\"https://asan.gov.az/css/style.css\n",
      "href=\"https://asan.gov.az/css/responsive.css\n"
     ]
    }
   ],
   "source": [
    "import re\n",
    "from urllib.request import urlopen\n",
    "url=\"http://www.asan.gov.az/\"\n",
    "i=urlopen(url)\n",
    "v=\"href=.+css\"\n",
    "for k in i:\n",
    "    n=re.search(v,str(k))\n",
    "    if n:\n",
    "        print(n.group())"
   ]
  },
  {
   "cell_type": "code",
   "execution_count": 104,
   "metadata": {},
   "outputs": [
    {
     "name": "stdout",
     "output_type": "stream",
     "text": [
      "Octan 7\n"
     ]
    }
   ],
   "source": [
    "import re\n",
    "#Simvol,daxilində boşluqları olan verilənləri aşkar edir\n",
    "data=['5 Frank','Octan 7','5elli']\n",
    "for i in data:\n",
    "    x=re.search(\"[A-Za-z]+\\s[0-9]\",i)\n",
    "    if x:\n",
    "        print(x.group())"
   ]
  },
  {
   "cell_type": "code",
   "execution_count": 105,
   "metadata": {},
   "outputs": [
    {
     "name": "stdout",
     "output_type": "stream",
     "text": [
      "java_3.1\n",
      "oracle_2.6\n",
      "nagios_1.2\n"
     ]
    }
   ],
   "source": [
    "import re\n",
    "data=['java_3.1','python.4','oracle_2.6','nagios_1.2','litr12']\n",
    "tertib=re.compile('[a-z_]+[0-9]\\.[0-9]')\n",
    "for i in data:\n",
    "    v=tertib.search(i)\n",
    "    if v:\n",
    "        print(v.group())"
   ]
  },
  {
   "cell_type": "code",
   "execution_count": null,
   "metadata": {},
   "outputs": [],
   "source": []
  },
  {
   "cell_type": "markdown",
   "metadata": {},
   "source": [
    "### datetime modulu"
   ]
  },
  {
   "cell_type": "code",
   "execution_count": 106,
   "metadata": {},
   "outputs": [],
   "source": [
    "import datetime"
   ]
  },
  {
   "cell_type": "code",
   "execution_count": 107,
   "metadata": {},
   "outputs": [
    {
     "name": "stdout",
     "output_type": "stream",
     "text": [
      "['MAXYEAR', 'MINYEAR', '__builtins__', '__cached__', '__doc__', '__file__', '__loader__', '__name__', '__package__', '__spec__', 'date', 'datetime', 'datetime_CAPI', 'sys', 'time', 'timedelta', 'timezone', 'tzinfo']\n"
     ]
    }
   ],
   "source": [
    "print(dir(datetime))"
   ]
  },
  {
   "cell_type": "code",
   "execution_count": 108,
   "metadata": {},
   "outputs": [],
   "source": [
    "from datetime import datetime"
   ]
  },
  {
   "cell_type": "code",
   "execution_count": 109,
   "metadata": {},
   "outputs": [
    {
     "name": "stdout",
     "output_type": "stream",
     "text": [
      "['__add__', '__class__', '__delattr__', '__dir__', '__doc__', '__eq__', '__format__', '__ge__', '__getattribute__', '__gt__', '__hash__', '__init__', '__init_subclass__', '__le__', '__lt__', '__ne__', '__new__', '__radd__', '__reduce__', '__reduce_ex__', '__repr__', '__rsub__', '__setattr__', '__sizeof__', '__str__', '__sub__', '__subclasshook__', 'astimezone', 'combine', 'ctime', 'date', 'day', 'dst', 'fold', 'fromordinal', 'fromtimestamp', 'hour', 'isocalendar', 'isoformat', 'isoweekday', 'max', 'microsecond', 'min', 'minute', 'month', 'now', 'replace', 'resolution', 'second', 'strftime', 'strptime', 'time', 'timestamp', 'timetuple', 'timetz', 'today', 'toordinal', 'tzinfo', 'tzname', 'utcfromtimestamp', 'utcnow', 'utcoffset', 'utctimetuple', 'weekday', 'year']\n"
     ]
    }
   ],
   "source": [
    "print(dir(datetime))"
   ]
  },
  {
   "cell_type": "code",
   "execution_count": 111,
   "metadata": {},
   "outputs": [],
   "source": [
    "from datetime import datetime "
   ]
  },
  {
   "cell_type": "code",
   "execution_count": 112,
   "metadata": {},
   "outputs": [],
   "source": [
    "time = datetime.now()"
   ]
  },
  {
   "cell_type": "code",
   "execution_count": 113,
   "metadata": {},
   "outputs": [
    {
     "name": "stdout",
     "output_type": "stream",
     "text": [
      "2020-03-30 06:37:36.323085\n"
     ]
    }
   ],
   "source": [
    "print(time)"
   ]
  },
  {
   "cell_type": "code",
   "execution_count": 114,
   "metadata": {},
   "outputs": [
    {
     "name": "stdout",
     "output_type": "stream",
     "text": [
      "2020\n"
     ]
    }
   ],
   "source": [
    "print(time.year)"
   ]
  },
  {
   "cell_type": "code",
   "execution_count": 115,
   "metadata": {},
   "outputs": [
    {
     "name": "stdout",
     "output_type": "stream",
     "text": [
      "3\n"
     ]
    }
   ],
   "source": [
    "print(time.month)"
   ]
  },
  {
   "cell_type": "code",
   "execution_count": 116,
   "metadata": {},
   "outputs": [
    {
     "name": "stdout",
     "output_type": "stream",
     "text": [
      "30\n"
     ]
    }
   ],
   "source": [
    "print(time.day)"
   ]
  },
  {
   "cell_type": "code",
   "execution_count": 117,
   "metadata": {},
   "outputs": [
    {
     "name": "stdout",
     "output_type": "stream",
     "text": [
      "6\n"
     ]
    }
   ],
   "source": [
    "print(time.hour)"
   ]
  },
  {
   "cell_type": "code",
   "execution_count": 118,
   "metadata": {},
   "outputs": [],
   "source": [
    "#today()\n",
    "from datetime import datetime\n",
    "zaman = datetime.today()"
   ]
  },
  {
   "cell_type": "code",
   "execution_count": 119,
   "metadata": {},
   "outputs": [
    {
     "name": "stdout",
     "output_type": "stream",
     "text": [
      "2020-03-30 06:39:01.456433\n"
     ]
    }
   ],
   "source": [
    "print(zaman)"
   ]
  },
  {
   "cell_type": "code",
   "execution_count": 120,
   "metadata": {},
   "outputs": [
    {
     "name": "stdout",
     "output_type": "stream",
     "text": [
      "2020\n"
     ]
    }
   ],
   "source": [
    "print(zaman.year)"
   ]
  },
  {
   "cell_type": "code",
   "execution_count": 121,
   "metadata": {},
   "outputs": [
    {
     "name": "stdout",
     "output_type": "stream",
     "text": [
      "3\n"
     ]
    }
   ],
   "source": [
    "print(zaman.month)"
   ]
  },
  {
   "cell_type": "code",
   "execution_count": 122,
   "metadata": {},
   "outputs": [],
   "source": [
    "#ctime \n",
    "from datetime import datetime\n",
    "zaman = datetime.ctime"
   ]
  },
  {
   "cell_type": "code",
   "execution_count": 123,
   "metadata": {},
   "outputs": [
    {
     "name": "stdout",
     "output_type": "stream",
     "text": [
      "<method 'ctime' of 'datetime.datetime' objects>\n"
     ]
    }
   ],
   "source": [
    "print(zaman)"
   ]
  },
  {
   "cell_type": "code",
   "execution_count": 124,
   "metadata": {},
   "outputs": [],
   "source": [
    "from datetime import datetime\n",
    "zaman = datetime.ctime(datetime.now())"
   ]
  },
  {
   "cell_type": "code",
   "execution_count": 125,
   "metadata": {},
   "outputs": [
    {
     "name": "stdout",
     "output_type": "stream",
     "text": [
      "Mon Mar 30 06:41:13 2020\n"
     ]
    }
   ],
   "source": [
    "print(zaman)"
   ]
  },
  {
   "cell_type": "code",
   "execution_count": 126,
   "metadata": {},
   "outputs": [],
   "source": [
    "#strftime()"
   ]
  },
  {
   "cell_type": "markdown",
   "metadata": {},
   "source": [
    "<code>\n",
    "\n",
    "%a -həftəni ifadə edirik.(ixtisarla)\n",
    "%A -həftəni bütünlükdə ifadə edirik.\n",
    "%b -ayı ifadə edir.(İxtisarla)\n",
    "%B -ayı bütünlükdə ifadə edir.\n",
    "%c -tarix və saatı ifadə edir.\n",
    "%d -günü sözlə ifadə edir.\n",
    "%j -tarixin hansısa bir ildə uyğun gəldiyi gununu ifadə edirik.\n",
    "%m -ayı rəqəmlə ifadə edir.\n",
    "%U -bir tarixin ilin neçənci həftəsinə uyğun gəldiyini təyin edir.\n",
    "%y -İlin son iki rəqəmi\n",
    "%Y -ili ifadə edir.\n",
    "%x -tarixi bütünlükdə ifadə edir.\n",
    "%X -saatı bütünlükdə ifadə edir.\n",
    "\n",
    "</code>"
   ]
  },
  {
   "cell_type": "code",
   "execution_count": 130,
   "metadata": {},
   "outputs": [
    {
     "name": "stdout",
     "output_type": "stream",
     "text": [
      "Monday\n"
     ]
    }
   ],
   "source": [
    "zaman = datetime.now()\n",
    "zaman = datetime.strftime(zaman,'%A')\n",
    "print(zaman)"
   ]
  },
  {
   "cell_type": "code",
   "execution_count": 131,
   "metadata": {},
   "outputs": [
    {
     "name": "stdout",
     "output_type": "stream",
     "text": [
      "Mon Mar 30 06:43:26 2020\n"
     ]
    }
   ],
   "source": [
    "zaman = datetime.now()\n",
    "zaman = datetime.strftime(zaman,'%c')\n",
    "print(zaman)"
   ]
  },
  {
   "cell_type": "code",
   "execution_count": 132,
   "metadata": {},
   "outputs": [
    {
     "name": "stdout",
     "output_type": "stream",
     "text": [
      "March\n"
     ]
    }
   ],
   "source": [
    "zaman = datetime.now()\n",
    "zaman = datetime.strftime(zaman,'%B')\n",
    "print(zaman)"
   ]
  },
  {
   "cell_type": "code",
   "execution_count": 138,
   "metadata": {},
   "outputs": [],
   "source": [
    "import locale\n",
    "#Olduğunuz coğrafi bölgəyə uyğun  zaman məlumatını bölgə dilinə uyğun"
   ]
  },
  {
   "cell_type": "code",
   "execution_count": 139,
   "metadata": {},
   "outputs": [
    {
     "data": {
      "text/plain": [
       "'az'"
      ]
     },
     "execution_count": 139,
     "metadata": {},
     "output_type": "execute_result"
    }
   ],
   "source": [
    "locale.setlocale(locale.LC_ALL,'az') "
   ]
  },
  {
   "cell_type": "code",
   "execution_count": 140,
   "metadata": {},
   "outputs": [
    {
     "name": "stdout",
     "output_type": "stream",
     "text": [
      "Mart\n"
     ]
    }
   ],
   "source": [
    "zaman = datetime.now()\n",
    "zaman = datetime.strftime(zaman,'%B')\n",
    "print(zaman)"
   ]
  },
  {
   "cell_type": "code",
   "execution_count": 144,
   "metadata": {},
   "outputs": [
    {
     "name": "stdout",
     "output_type": "stream",
     "text": [
      "bazar ert?si\n"
     ]
    }
   ],
   "source": [
    "zaman = datetime.now()\n",
    "zaman = datetime.strftime(zaman,'%A')\n",
    "print(zaman)"
   ]
  },
  {
   "cell_type": "code",
   "execution_count": 145,
   "metadata": {},
   "outputs": [
    {
     "name": "stdout",
     "output_type": "stream",
     "text": [
      "30 Mart 2020\n"
     ]
    }
   ],
   "source": [
    "zaman = datetime.now()\n",
    "zaman = datetime.strftime(zaman,'%d %B %Y')\n",
    "print(zaman)"
   ]
  },
  {
   "cell_type": "markdown",
   "metadata": {},
   "source": [
    "### time modulu"
   ]
  },
  {
   "cell_type": "code",
   "execution_count": 146,
   "metadata": {},
   "outputs": [
    {
     "name": "stdout",
     "output_type": "stream",
     "text": [
      "Seconds since epoch = 1585576082.9815543\n"
     ]
    }
   ],
   "source": [
    "import time\n",
    "seconds = time.time()\n",
    "print(\"Seconds since epoch =\", seconds)"
   ]
  },
  {
   "cell_type": "code",
   "execution_count": 147,
   "metadata": {},
   "outputs": [
    {
     "data": {
      "text/plain": [
       "time.struct_time(tm_year=2020, tm_mon=3, tm_mday=30, tm_hour=13, tm_min=48, tm_sec=17, tm_wday=0, tm_yday=90, tm_isdst=0)"
      ]
     },
     "execution_count": 147,
     "metadata": {},
     "output_type": "execute_result"
    }
   ],
   "source": [
    "import time\n",
    "time.gmtime()"
   ]
  },
  {
   "cell_type": "code",
   "execution_count": 149,
   "metadata": {},
   "outputs": [
    {
     "name": "stdout",
     "output_type": "stream",
     "text": [
      "Wed Dec 31 16:00:00 1969\n"
     ]
    }
   ],
   "source": [
    "import time\n",
    "\n",
    "seconds = 0\n",
    "local_time = time.ctime(seconds)\n",
    "print(local_time)"
   ]
  },
  {
   "cell_type": "code",
   "execution_count": 151,
   "metadata": {},
   "outputs": [
    {
     "name": "stdout",
     "output_type": "stream",
     "text": [
      "Salam,Gözləyin...\n",
      "Dörd saniyə gözlətdirdim...\n"
     ]
    }
   ],
   "source": [
    "import time\n",
    "print(\"Salam,Gözləyin...\")\n",
    "time.sleep(4)\n",
    "print(\"Dörd saniyə gözlətdirdim...\")"
   ]
  },
  {
   "cell_type": "code",
   "execution_count": null,
   "metadata": {},
   "outputs": [],
   "source": []
  },
  {
   "cell_type": "code",
   "execution_count": null,
   "metadata": {},
   "outputs": [],
   "source": []
  }
 ],
 "metadata": {
  "kernelspec": {
   "display_name": "Python 3",
   "language": "python",
   "name": "python3"
  },
  "language_info": {
   "codemirror_mode": {
    "name": "ipython",
    "version": 3
   },
   "file_extension": ".py",
   "mimetype": "text/x-python",
   "name": "python",
   "nbconvert_exporter": "python",
   "pygments_lexer": "ipython3",
   "version": "3.6.10"
  }
 },
 "nbformat": 4,
 "nbformat_minor": 2
}
