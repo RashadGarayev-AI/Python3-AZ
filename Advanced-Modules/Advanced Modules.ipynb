{
 "cells": [
  {
   "cell_type": "markdown",
   "metadata": {},
   "source": [
    "## Advanced Modules (Pythonda qabaqcıl modullar)"
   ]
  },
  {
   "cell_type": "markdown",
   "metadata": {},
   "source": [
    "Modullar bəhsində biz şəxsi modullarımızı hazırlayırdıq.Bundan başqa python ilə bərabər gələn qabaqcıl modullar da mövcuddur."
   ]
  },
  {
   "cell_type": "markdown",
   "metadata": {},
   "source": [
    "### Os modulu"
   ]
  },
  {
   "cell_type": "code",
   "execution_count": 1,
   "metadata": {},
   "outputs": [],
   "source": [
    "import os"
   ]
  },
  {
   "cell_type": "code",
   "execution_count": 8,
   "metadata": {},
   "outputs": [
    {
     "name": "stdout",
     "output_type": "stream",
     "text": [
      "['DirEntry', 'MutableMapping', 'PathLike', 'abc', 'abort', 'access', 'altsep', 'chdir', 'chmod', 'close', 'closerange', 'curdir', 'defpath', 'devnull', 'dup', 'dup2', 'environ', 'errno', 'error', 'execl', 'execle', 'execlp', 'execlpe', 'execv', 'execve', 'execvp', 'execvpe', 'extsep', 'fdopen', 'fsdecode', 'fsencode', 'fspath', 'fstat', 'fsync', 'ftruncate', 'getcwd', 'getcwdb', 'getenv', 'getlogin', 'getpid', 'getppid', 'isatty', 'kill', 'linesep', 'link', 'listdir', 'lseek', 'lstat', 'makedirs', 'mkdir', 'name', 'open', 'pardir', 'path', 'pathsep', 'pipe', 'popen', 'putenv', 'read', 'readlink', 'remove', 'removedirs', 'rename', 'renames', 'replace', 'rmdir', 'scandir', 'sep', 'spawnl', 'spawnle', 'spawnv', 'spawnve', 'st', 'startfile', 'stat', 'strerror', 'symlink', 'sys', 'system', 'times', 'truncate', 'umask', 'unlink', 'urandom', 'utime', 'waitpid', 'walk', 'write']\n"
     ]
    }
   ],
   "source": [
    "siyahı = []\n",
    "for i in dir(os):\n",
    "    if '_' not in i:\n",
    "        siyahı.append(i)\n",
    "print(siyahı)"
   ]
  },
  {
   "cell_type": "markdown",
   "metadata": {},
   "source": [
    "Yuxarıda bir neçə funksiyanı bu bəhsdə öyrənəcəksiniz."
   ]
  },
  {
   "cell_type": "code",
   "execution_count": 10,
   "metadata": {},
   "outputs": [
    {
     "data": {
      "text/plain": [
       "'nt'"
      ]
     },
     "execution_count": 10,
     "metadata": {},
     "output_type": "execute_result"
    }
   ],
   "source": [
    "import os\n",
    "os.name #əməliyyat sistemi"
   ]
  },
  {
   "cell_type": "markdown",
   "metadata": {},
   "source": [
    "<code>Windows -> 'nt' 'dos' 'ce' ; Linux -> 'posix' </code>"
   ]
  },
  {
   "cell_type": "code",
   "execution_count": 17,
   "metadata": {},
   "outputs": [
    {
     "data": {
      "text/plain": [
       "'\\\\'"
      ]
     },
     "execution_count": 17,
     "metadata": {},
     "output_type": "execute_result"
    }
   ],
   "source": [
    "import os\n",
    "os.sep #Windows əməliyyat sistemi"
   ]
  },
  {
   "cell_type": "code",
   "execution_count": 18,
   "metadata": {},
   "outputs": [
    {
     "data": {
      "text/plain": [
       "'E:\\\\Tain\\\\Python3-AZ\\\\Advanced-Modules'"
      ]
     },
     "execution_count": 18,
     "metadata": {},
     "output_type": "execute_result"
    }
   ],
   "source": [
    "import os\n",
    "os.getcwd() #hansı qovluqda olduğumuzu bildirir"
   ]
  },
  {
   "cell_type": "code",
   "execution_count": 20,
   "metadata": {},
   "outputs": [
    {
     "data": {
      "text/plain": [
       "'E:\\\\Tain\\\\Python3-AZ'"
      ]
     },
     "execution_count": 20,
     "metadata": {},
     "output_type": "execute_result"
    }
   ],
   "source": [
    "import os\n",
    "os.chdir('E:\\\\Tain\\\\Python3-AZ') #Qovluqlar arası keçid\n",
    "os.getcwd()"
   ]
  },
  {
   "cell_type": "code",
   "execution_count": 21,
   "metadata": {},
   "outputs": [
    {
     "data": {
      "text/plain": [
       "['.git',\n",
       " '.idea',\n",
       " 'Advanced-Modules',\n",
       " 'Built-in-Function',\n",
       " 'CONTRIBUTING.md',\n",
       " 'DATA',\n",
       " 'Data_types',\n",
       " 'debug.log',\n",
       " 'Decorators',\n",
       " 'Error_Exceptions',\n",
       " 'Files',\n",
       " 'Function',\n",
       " 'image',\n",
       " 'Iterators-Generators',\n",
       " 'Modules',\n",
       " 'OOP',\n",
       " 'Operators',\n",
       " 'Package',\n",
       " 'README.md',\n",
       " '__pycache__']"
      ]
     },
     "execution_count": 21,
     "metadata": {},
     "output_type": "execute_result"
    }
   ],
   "source": [
    "import os \n",
    "os.listdir() #olduğumuz qovluqda fayl və qovluqları göstərir"
   ]
  },
  {
   "cell_type": "code",
   "execution_count": 23,
   "metadata": {},
   "outputs": [
    {
     "data": {
      "text/plain": [
       "['$360Section',\n",
       " '$Recycle.Bin',\n",
       " '360SANDBOX',\n",
       " 'Config.Msi',\n",
       " 'cudnn',\n",
       " 'Documents and Settings',\n",
       " 'Games',\n",
       " 'hiberfil.sys',\n",
       " 'Intel',\n",
       " 'OneDriveTemp',\n",
       " 'pagefile.sys',\n",
       " 'PerfLogs',\n",
       " 'Program Files',\n",
       " 'Program Files (x86)',\n",
       " 'ProgramData',\n",
       " 'Recovery',\n",
       " 'swapfile.sys',\n",
       " 'System Volume Information',\n",
       " 'Users',\n",
       " 'Windows']"
      ]
     },
     "execution_count": 23,
     "metadata": {},
     "output_type": "execute_result"
    }
   ],
   "source": [
    "# Əgər təyinatı ünvan yazsanız,həmin qovluq daxilindəki fayl və qovluqları göstərəcək(əgər qovluq və ya fayl varsa)\n",
    "import os \n",
    "os.listdir('C:')"
   ]
  },
  {
   "cell_type": "code",
   "execution_count": 26,
   "metadata": {},
   "outputs": [
    {
     "data": {
      "text/plain": [
       "['.git',\n",
       " '.idea',\n",
       " 'Advanced-Modules',\n",
       " 'Built-in-Function',\n",
       " 'CONTRIBUTING.md',\n",
       " 'DATA',\n",
       " 'Data_types',\n",
       " 'debug.log',\n",
       " 'Decorators',\n",
       " 'Error_Exceptions',\n",
       " 'Files',\n",
       " 'Function',\n",
       " 'image',\n",
       " 'Iterators-Generators',\n",
       " 'Modules',\n",
       " 'OOP',\n",
       " 'Operators',\n",
       " 'Package',\n",
       " 'README.md',\n",
       " '__pycache__']"
      ]
     },
     "execution_count": 26,
     "metadata": {},
     "output_type": "execute_result"
    }
   ],
   "source": [
    "import os\n",
    "os.listdir(os.curdir) # əməliyyat sistemində ana qovluğu göstərir."
   ]
  },
  {
   "cell_type": "code",
   "execution_count": 27,
   "metadata": {},
   "outputs": [
    {
     "data": {
      "text/plain": [
       "['Aİ',\n",
       " 'Car_Count',\n",
       " 'Computing',\n",
       " 'Computing vision',\n",
       " 'data',\n",
       " 'dataset',\n",
       " 'face-dataset',\n",
       " 'Face-recognition',\n",
       " 'fire',\n",
       " 'FireDetection',\n",
       " 'model',\n",
       " 'New folder (2)',\n",
       " 'Python3-AZ',\n",
       " 'PythonProqramlaşdırmadili']"
      ]
     },
     "execution_count": 27,
     "metadata": {},
     "output_type": "execute_result"
    }
   ],
   "source": [
    "import os\n",
    "os.listdir(os.pardir) #bir qovluq geri,qovluqdakı qovluq və faylları göstərir"
   ]
  },
  {
   "cell_type": "code",
   "execution_count": 29,
   "metadata": {},
   "outputs": [
    {
     "ename": "FileNotFoundError",
     "evalue": "[WinError 2] The system cannot find the file specified: 'pythonaz.pdf'",
     "output_type": "error",
     "traceback": [
      "\u001b[1;31m---------------------------------------------------------------------------\u001b[0m",
      "\u001b[1;31mFileNotFoundError\u001b[0m                         Traceback (most recent call last)",
      "\u001b[1;32m<ipython-input-29-7f2b0b829323>\u001b[0m in \u001b[0;36m<module>\u001b[1;34m()\u001b[0m\n\u001b[0;32m      1\u001b[0m \u001b[1;32mimport\u001b[0m \u001b[0mos\u001b[0m\u001b[1;33m\u001b[0m\u001b[1;33m\u001b[0m\u001b[0m\n\u001b[1;32m----> 2\u001b[1;33m \u001b[0mos\u001b[0m\u001b[1;33m.\u001b[0m\u001b[0mstartfile\u001b[0m\u001b[1;33m(\u001b[0m\u001b[1;34m'pythonaz.pdf'\u001b[0m\u001b[1;33m)\u001b[0m \u001b[1;31m#Yalnız Windows əməliyyat sistemində çalışır\u001b[0m\u001b[1;33m\u001b[0m\u001b[1;33m\u001b[0m\u001b[0m\n\u001b[0m",
      "\u001b[1;31mFileNotFoundError\u001b[0m: [WinError 2] The system cannot find the file specified: 'pythonaz.pdf'"
     ]
    }
   ],
   "source": [
    "import os\n",
    "os.startfile('pythonaz.pdf') #Yalnız Windows əməliyyat sistemində çalışır"
   ]
  },
  {
   "cell_type": "code",
   "execution_count": 31,
   "metadata": {},
   "outputs": [],
   "source": [
    "import os\n",
    "os.mkdir('example') #Olduğunuz qovluqda yeni qovluq yaradır.Təyinatı ünvan verilərsə həmin ünvanda qovluğu yaradacaq\n",
    "#os.mkdir('C:\\example')"
   ]
  },
  {
   "cell_type": "code",
   "execution_count": 34,
   "metadata": {},
   "outputs": [
    {
     "data": {
      "text/plain": [
       "['.git',\n",
       " '.idea',\n",
       " 'Advanced-Modules',\n",
       " 'Built-in-Function',\n",
       " 'CONTRIBUTING.md',\n",
       " 'DATA',\n",
       " 'Data_types',\n",
       " 'debug.log',\n",
       " 'Decorators',\n",
       " 'Error_Exceptions',\n",
       " 'example',\n",
       " 'Files',\n",
       " 'Function',\n",
       " 'image',\n",
       " 'Iterators-Generators',\n",
       " 'Modules',\n",
       " 'OOP',\n",
       " 'Operators',\n",
       " 'Package',\n",
       " 'README.md',\n",
       " '__pycache__']"
      ]
     },
     "execution_count": 34,
     "metadata": {},
     "output_type": "execute_result"
    }
   ],
   "source": [
    "os.listdir()"
   ]
  },
  {
   "cell_type": "code",
   "execution_count": 35,
   "metadata": {},
   "outputs": [],
   "source": [
    "import os\n",
    "os.makedirs('example/new') #Qovluq altında yeni qovluq yaradır."
   ]
  },
  {
   "cell_type": "code",
   "execution_count": 36,
   "metadata": {},
   "outputs": [],
   "source": [
    "import os \n",
    "os.rename('example','rename') #Qovluq adını dəyişə bilərsiniz"
   ]
  },
  {
   "cell_type": "code",
   "execution_count": 37,
   "metadata": {},
   "outputs": [
    {
     "data": {
      "text/plain": [
       "['.git',\n",
       " '.idea',\n",
       " 'Advanced-Modules',\n",
       " 'Built-in-Function',\n",
       " 'CONTRIBUTING.md',\n",
       " 'DATA',\n",
       " 'Data_types',\n",
       " 'debug.log',\n",
       " 'Decorators',\n",
       " 'Error_Exceptions',\n",
       " 'Files',\n",
       " 'Function',\n",
       " 'image',\n",
       " 'Iterators-Generators',\n",
       " 'Modules',\n",
       " 'OOP',\n",
       " 'Operators',\n",
       " 'Package',\n",
       " 'README.md',\n",
       " 'rename',\n",
       " '__pycache__']"
      ]
     },
     "execution_count": 37,
     "metadata": {},
     "output_type": "execute_result"
    }
   ],
   "source": [
    "os.listdir()"
   ]
  },
  {
   "cell_type": "code",
   "execution_count": 41,
   "metadata": {},
   "outputs": [],
   "source": [
    "import os\n",
    "os.replace('rename','example') #rename ilə eyni işi görür.fərq ondadırki əgər həmin adda qovluq varsa qovluq tamamilə silinib yenidən yeni adla yaradılır"
   ]
  },
  {
   "cell_type": "code",
   "execution_count": 47,
   "metadata": {},
   "outputs": [],
   "source": [
    "import os\n",
    "os.rmdir('example/new')# Sadəcə boş qovluğu silir.alt qovluqları silmir və xəta alacaqsınız"
   ]
  },
  {
   "cell_type": "code",
   "execution_count": 48,
   "metadata": {},
   "outputs": [],
   "source": [
    "import os\n",
    "os.removedirs('example')#rmdir fərqli olaraq başlanğıc qovluqdan alt paketlərə qədər tamamilə silir"
   ]
  },
  {
   "cell_type": "code",
   "execution_count": 49,
   "metadata": {},
   "outputs": [
    {
     "data": {
      "text/plain": [
       "os.stat_result(st_mode=16895, st_ino=1688849860282229, st_dev=1385644650, st_nlink=1, st_uid=0, st_gid=0, st_size=4096, st_atime=1585513628, st_mtime=1585513628, st_ctime=1585497963)"
      ]
     },
     "execution_count": 49,
     "metadata": {},
     "output_type": "execute_result"
    }
   ],
   "source": [
    "import os\n",
    "os.stat('Package')# qovluqlar haqqında məlumat verir"
   ]
  },
  {
   "cell_type": "code",
   "execution_count": 50,
   "metadata": {},
   "outputs": [],
   "source": [
    "#st_atime -qovluğa son giriş tarixi\n",
    "#st_ctime -qovluğun yaranma tarixi\n",
    "#st_mtime -qovluğun dəyişdirilmə tarixi\n",
    "#st_size -qovluğun həcmi"
   ]
  },
  {
   "cell_type": "code",
   "execution_count": 60,
   "metadata": {},
   "outputs": [
    {
     "data": {
      "text/plain": [
       "'E:\\\\Tain\\\\Python3-AZ\\\\cudnn64_7.dll'"
      ]
     },
     "execution_count": 60,
     "metadata": {},
     "output_type": "execute_result"
    }
   ],
   "source": [
    "import os\n",
    "os.path.abspath('cudnn64_7.dll') # faylın ünvanını göstərir"
   ]
  },
  {
   "cell_type": "code",
   "execution_count": 62,
   "metadata": {},
   "outputs": [
    {
     "data": {
      "text/plain": [
       "''"
      ]
     },
     "execution_count": 62,
     "metadata": {},
     "output_type": "execute_result"
    }
   ],
   "source": [
    "import os\n",
    "os.path.dirname('cudnn64_7.dll') # faylın qovluq ünvanını göstərir"
   ]
  },
  {
   "cell_type": "code",
   "execution_count": null,
   "metadata": {},
   "outputs": [],
   "source": []
  }
 ],
 "metadata": {
  "kernelspec": {
   "display_name": "Python 3",
   "language": "python",
   "name": "python3"
  },
  "language_info": {
   "codemirror_mode": {
    "name": "ipython",
    "version": 3
   },
   "file_extension": ".py",
   "mimetype": "text/x-python",
   "name": "python",
   "nbconvert_exporter": "python",
   "pygments_lexer": "ipython3",
   "version": "3.6.10"
  }
 },
 "nbformat": 4,
 "nbformat_minor": 2
}
