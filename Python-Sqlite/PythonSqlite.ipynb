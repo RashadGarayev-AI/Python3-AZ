{
 "cells": [
  {
   "cell_type": "markdown",
   "metadata": {},
   "source": [
    "### Sqlite3"
   ]
  },
  {
   "cell_type": "markdown",
   "metadata": {},
   "source": [
    "Yükləmək üçün"
   ]
  },
  {
   "cell_type": "markdown",
   "metadata": {},
   "source": [
    "\n",
    "<code>\n",
    "\n",
    "\n",
    "sudo apt-get install sqlite3 # Unix/Linux\n",
    "sudo pip3 install sqlite3\n",
    "\n",
    "</code>\n",
    "\n",
    "<code>\n",
    "sudo pip3 install sqlite3 # Windows\n",
    "</code>"
   ]
  },
  {
   "cell_type": "markdown",
   "metadata": {},
   "source": [
    "Əgər sisteminizə anaconda platformasını yükləmisinizsə.<code>pip3</code> yazmağa ehtiyyac yoxdur.Sadəcə olaraq <code>pip install sqlite3</code> yazmağınız kifayətdir."
   ]
  },
  {
   "cell_type": "code",
   "execution_count": null,
   "metadata": {},
   "outputs": [],
   "source": []
  },
  {
   "cell_type": "code",
   "execution_count": 3,
   "metadata": {},
   "outputs": [],
   "source": [
    "import sqlite3"
   ]
  },
  {
   "cell_type": "markdown",
   "metadata": {},
   "source": [
    "Kitabxana,baza yaratmağımız üçün əlverişlidir.Bundan savayı mysql pymongo kimi digər kitabxanalardan da istifadə edə bilərsiniz.Qeyd edimki hər birinin kökü sql sorğu prinspinə dayanır.Və kodlarımızı yazaq."
   ]
  },
  {
   "cell_type": "markdown",
   "metadata": {},
   "source": [
    "Bazanı hazırlamaq üçün iki üsul var.Birincisi ram üzərindən digəri həqiqi disk üzərində."
   ]
  },
  {
   "cell_type": "code",
   "execution_count": 4,
   "metadata": {},
   "outputs": [],
   "source": [
    "import sqlite3\n",
    "\n",
    "db = sqlite3.connect('database.db')"
   ]
  },
  {
   "cell_type": "markdown",
   "metadata": {},
   "source": [
    "Yuxarıdakı üsulla disk üzərində baza hazırlayacaqsınız.Hal-hazırda mən qovluq yolunu göstərmədiyim üçün birbaşa olduğum cari qovluqda hazırlandı"
   ]
  },
  {
   "cell_type": "code",
   "execution_count": 5,
   "metadata": {},
   "outputs": [
    {
     "name": "stdout",
     "output_type": "stream",
     "text": [
      " Volume in drive C has no label.\n",
      " Volume Serial Number is A4BB-1CFC\n",
      "\n",
      " Directory of C:\\Users\\garay\\OneDrive\\Documents\\GitHub\\Python3-AZ\\Python-Sqlite\n",
      "\n",
      "03/31/2020  10:59 AM    <DIR>          .\n",
      "03/31/2020  10:59 AM    <DIR>          ..\n",
      "03/31/2020  10:49 AM    <DIR>          .ipynb_checkpoints\n",
      "03/31/2020  10:59 AM                 0 database.db\n",
      "03/31/2020  10:59 AM             2,163 PythonSqlite.ipynb\n",
      "               2 File(s)          2,163 bytes\n",
      "               3 Dir(s)  317,945,831,424 bytes free\n"
     ]
    }
   ],
   "source": [
    "!dir"
   ]
  },
  {
   "cell_type": "markdown",
   "metadata": {},
   "source": [
    "İkinci metod isə ram üzərində"
   ]
  },
  {
   "cell_type": "code",
   "execution_count": 6,
   "metadata": {},
   "outputs": [],
   "source": [
    "import sqlite3\n",
    "\n",
    "db = sqlite3.connect(':memory:')"
   ]
  },
  {
   "cell_type": "markdown",
   "metadata": {},
   "source": [
    "Yuxarıdakı nümunədə isə baza adı yazmağa belə ehtiyyac olmadı.Biz amma bu bəhsdə,ilkin metodu istifadə edəcəyik"
   ]
  },
  {
   "cell_type": "code",
   "execution_count": 7,
   "metadata": {},
   "outputs": [],
   "source": [
    "import sqlite3\n",
    "\n",
    "db = sqlite3.connect('DATA/database.db')"
   ]
  },
  {
   "cell_type": "markdown",
   "metadata": {},
   "source": [
    "SQL sorğu əmrlərini sqlite tərəfindən hazırlanır.Və çalışdırıla bilməsi üçün execute əmrinə ehtiyyacımız var."
   ]
  },
  {
   "cell_type": "code",
   "execution_count": 10,
   "metadata": {},
   "outputs": [],
   "source": [
    "import sqlite3\n",
    "db = sqlite3.connect('DATA/database.db')\n",
    "cursor = db.cursor()\n"
   ]
  },
  {
   "cell_type": "markdown",
   "metadata": {},
   "source": [
    "#### cədvəl hazırlama"
   ]
  },
  {
   "cell_type": "markdown",
   "metadata": {},
   "source": [
    "<code>SQL : CREATE TABLE person ('name','surname','email','password')</code>"
   ]
  },
  {
   "cell_type": "code",
   "execution_count": 13,
   "metadata": {},
   "outputs": [
    {
     "ename": "OperationalError",
     "evalue": "table person already exists",
     "output_type": "error",
     "traceback": [
      "\u001b[1;31m---------------------------------------------------------------------------\u001b[0m",
      "\u001b[1;31mOperationalError\u001b[0m                          Traceback (most recent call last)",
      "\u001b[1;32m<ipython-input-13-f2bba52c98b9>\u001b[0m in \u001b[0;36m<module>\u001b[1;34m\u001b[0m\n\u001b[0;32m      2\u001b[0m \u001b[0mdb\u001b[0m \u001b[1;33m=\u001b[0m \u001b[0msqlite3\u001b[0m\u001b[1;33m.\u001b[0m\u001b[0mconnect\u001b[0m\u001b[1;33m(\u001b[0m\u001b[1;34m'DATA/database.db'\u001b[0m\u001b[1;33m)\u001b[0m\u001b[1;33m\u001b[0m\u001b[1;33m\u001b[0m\u001b[0m\n\u001b[0;32m      3\u001b[0m \u001b[0mcursor\u001b[0m \u001b[1;33m=\u001b[0m \u001b[0mdb\u001b[0m\u001b[1;33m.\u001b[0m\u001b[0mcursor\u001b[0m\u001b[1;33m(\u001b[0m\u001b[1;33m)\u001b[0m\u001b[1;33m\u001b[0m\u001b[1;33m\u001b[0m\u001b[0m\n\u001b[1;32m----> 4\u001b[1;33m \u001b[0mcursor\u001b[0m\u001b[1;33m.\u001b[0m\u001b[0mexecute\u001b[0m\u001b[1;33m(\u001b[0m\u001b[1;34m\"CREATE TABLE person ('name','surname','email','password')\"\u001b[0m\u001b[1;33m)\u001b[0m\u001b[1;33m\u001b[0m\u001b[1;33m\u001b[0m\u001b[0m\n\u001b[0m",
      "\u001b[1;31mOperationalError\u001b[0m: table person already exists"
     ]
    }
   ],
   "source": [
    "import sqlite3\n",
    "db = sqlite3.connect('DATA/database.db')\n",
    "cursor = db.cursor()\n",
    "cursor.execute(\"CREATE TABLE person ('name','surname','email','password')\")"
   ]
  },
  {
   "cell_type": "markdown",
   "metadata": {},
   "source": [
    "Əgər təkrar çalışdırsanız yuxarıdakı xətanı alacaqsınız.kodlarımıza bəzi əlavələr edək"
   ]
  },
  {
   "cell_type": "markdown",
   "metadata": {},
   "source": [
    "Çünki əvvəl biz cədvəli qeyd etdik çalışdırdıq,təkrar çalışdırdıqda bu tip xəta aldıq.Bunu qabaqlamaq üçün"
   ]
  },
  {
   "cell_type": "code",
   "execution_count": null,
   "metadata": {},
   "outputs": [],
   "source": [
    "import sqlite3\n",
    "\n",
    "try:\n",
    "    db = sqlite3.connect('DATA/database.db')\n",
    "    cursor = db.cursor()\n",
    "    cursor.execute(\"CREATE TABLE person ('name','surname','email','password')\")"
   ]
  }
 ],
 "metadata": {
  "kernelspec": {
   "display_name": "Python 3",
   "language": "python",
   "name": "python3"
  },
  "language_info": {
   "codemirror_mode": {
    "name": "ipython",
    "version": 3
   },
   "file_extension": ".py",
   "mimetype": "text/x-python",
   "name": "python",
   "nbconvert_exporter": "python",
   "pygments_lexer": "ipython3",
   "version": "3.6.10"
  }
 },
 "nbformat": 4,
 "nbformat_minor": 4
}
