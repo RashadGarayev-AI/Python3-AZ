{
 "cells": [
  {
   "cell_type": "markdown",
   "metadata": {},
   "source": [
    "### Sqlite3"
   ]
  },
  {
   "cell_type": "markdown",
   "metadata": {},
   "source": [
    "Yükləmək üçün"
   ]
  },
  {
   "cell_type": "code",
   "execution_count": 1,
   "metadata": {},
   "outputs": [],
   "source": [
    "# Unix/Linux"
   ]
  },
  {
   "cell_type": "markdown",
   "metadata": {},
   "source": [
    "\n",
    "<code>\n",
    "\n",
    "sudo apt-get install sqlite3 \n",
    "sudo pip3 install sqlite3\n",
    "\n",
    "</code>\n"
   ]
  },
  {
   "cell_type": "code",
   "execution_count": 2,
   "metadata": {},
   "outputs": [],
   "source": [
    "#Windows"
   ]
  },
  {
   "cell_type": "markdown",
   "metadata": {},
   "source": [
    "\n",
    "<code>\n",
    "pip3 install sqlite3 \n",
    "</code>"
   ]
  },
  {
   "cell_type": "markdown",
   "metadata": {},
   "source": [
    "Əgər sisteminizə anaconda platformasını yükləmisinizsə.<code>pip3</code> yazmağa ehtiyyac yoxdur.Sadəcə olaraq <code>pip install sqlite3</code> yazmağınız kifayətdir."
   ]
  },
  {
   "cell_type": "code",
   "execution_count": null,
   "metadata": {},
   "outputs": [],
   "source": []
  },
  {
   "cell_type": "code",
   "execution_count": 3,
   "metadata": {},
   "outputs": [],
   "source": [
    "import sqlite3 # kitabxananı çağırırıq"
   ]
  },
  {
   "cell_type": "markdown",
   "metadata": {},
   "source": [
    "Kitabxana,baza yaratmağımız üçün əlverişlidir.Bundan savayı mysql pymongo kimi digər kitabxanalardan da istifadə edə bilərsiniz.Qeyd edimki hər birinin kökü sql sorğu prinspinə dayanır.Və kodlarımızı yazaq."
   ]
  },
  {
   "cell_type": "markdown",
   "metadata": {},
   "source": [
    "Bazanı hazırlamaq üçün iki üsul var.Birincisi ram üzərindən digəri həqiqi disk üzərində."
   ]
  },
  {
   "cell_type": "code",
   "execution_count": 4,
   "metadata": {},
   "outputs": [],
   "source": [
    "import sqlite3\n",
    "\n",
    "db = sqlite3.connect('database.db')"
   ]
  },
  {
   "cell_type": "markdown",
   "metadata": {},
   "source": [
    "Yuxarıdakı üsulla disk üzərində baza hazırlayacaqsınız.Hal-hazırda mən qovluq yolunu göstərmədiyim üçün birbaşa olduğum cari qovluqda hazırlandı"
   ]
  },
  {
   "cell_type": "code",
   "execution_count": 5,
   "metadata": {},
   "outputs": [
    {
     "name": "stdout",
     "output_type": "stream",
     "text": [
      " Volume in drive C has no label.\n",
      " Volume Serial Number is A4BB-1CFC\n",
      "\n",
      " Directory of C:\\Users\\garay\\OneDrive\\Documents\\GitHub\\Python3-AZ\\Python-Sqlite\n",
      "\n",
      "04/01/2020  09:17 AM    <DIR>          .\n",
      "04/01/2020  09:17 AM    <DIR>          ..\n",
      "03/31/2020  10:49 AM    <DIR>          .ipynb_checkpoints\n",
      "04/01/2020  09:17 AM    <DIR>          DATA\n",
      "04/01/2020  09:17 AM                 0 database.db\n",
      "04/01/2020  09:16 AM            22,341 PythonSqlite.ipynb\n",
      "               2 File(s)         22,341 bytes\n",
      "               4 Dir(s)  317,554,704,384 bytes free\n"
     ]
    }
   ],
   "source": [
    "!dir"
   ]
  },
  {
   "cell_type": "markdown",
   "metadata": {},
   "source": [
    "İkinci metod isə ram üzərində"
   ]
  },
  {
   "cell_type": "code",
   "execution_count": 6,
   "metadata": {},
   "outputs": [],
   "source": [
    "import sqlite3\n",
    "\n",
    "db = sqlite3.connect(':memory:')"
   ]
  },
  {
   "cell_type": "markdown",
   "metadata": {},
   "source": [
    "Yuxarıdakı nümunədə isə baza adı yazmağa belə ehtiyyac olmadı.Biz amma bu bəhsdə,ilkin metodu istifadə edəcəyik"
   ]
  },
  {
   "cell_type": "code",
   "execution_count": 7,
   "metadata": {},
   "outputs": [],
   "source": [
    "import sqlite3\n",
    "\n",
    "db = sqlite3.connect('DATA/database.db')"
   ]
  },
  {
   "cell_type": "markdown",
   "metadata": {},
   "source": [
    "SQL sorğu əmrlərini sqlite tərəfindən hazırlanır.Və çalışdırıla bilməsi üçün execute əmrinə ehtiyyacımız var."
   ]
  },
  {
   "cell_type": "code",
   "execution_count": 8,
   "metadata": {},
   "outputs": [],
   "source": [
    "import sqlite3\n",
    "db = sqlite3.connect('DATA/database.db')\n",
    "cursor = db.cursor()\n"
   ]
  },
  {
   "cell_type": "markdown",
   "metadata": {},
   "source": [
    "#### cədvəl hazırlama"
   ]
  },
  {
   "cell_type": "markdown",
   "metadata": {},
   "source": [
    "<code>SQL : CREATE TABLE person ('name','surname','email','password')</code>"
   ]
  },
  {
   "cell_type": "code",
   "execution_count": 9,
   "metadata": {},
   "outputs": [
    {
     "data": {
      "text/plain": [
       "<sqlite3.Cursor at 0x21d329adc00>"
      ]
     },
     "execution_count": 9,
     "metadata": {},
     "output_type": "execute_result"
    }
   ],
   "source": [
    "import sqlite3\n",
    "db = sqlite3.connect('DATA/database.db')\n",
    "cursor = db.cursor()\n",
    "cursor.execute(\"CREATE TABLE person ('name','surname','email','password','salary','employment')\")"
   ]
  },
  {
   "cell_type": "markdown",
   "metadata": {},
   "source": [
    "Əgər təkrar çalışdırsanız yuxarıdakı xətanı alacaqsınız.kodlarımıza bəzi əlavələr edək"
   ]
  },
  {
   "cell_type": "markdown",
   "metadata": {},
   "source": [
    "Çünki əvvəl biz cədvəli qeyd etdik çalışdırdıq,təkrar çalışdırdıqda bu tip xəta aldıq.Bunu qabaqlamaq üçün"
   ]
  },
  {
   "cell_type": "code",
   "execution_count": 10,
   "metadata": {},
   "outputs": [
    {
     "name": "stdout",
     "output_type": "stream",
     "text": [
      "Ok\n"
     ]
    }
   ],
   "source": [
    "import sqlite3\n",
    "\n",
    "try:\n",
    "    db = sqlite3.connect('DATA/database.db')\n",
    "    cursor = db.cursor()\n",
    "    cursor.execute(\"CREATE TABLE person ('name','surname','email','password','salary','employment')\")\n",
    "    print('Database created')\n",
    "except sqlite3.OperationalError:\n",
    "    db = sqlite3.connect('DATA/database.db')\n",
    "    cursor = db.cursor()\n",
    "    cursor.execute(\"CREATE TABLE IF NOT EXISTS person ('name','surname','email','password','salary','employment')\")\n",
    "    print('Ok')\n",
    "    \n",
    "   "
   ]
  },
  {
   "cell_type": "code",
   "execution_count": 11,
   "metadata": {},
   "outputs": [],
   "source": [
    "#Məlumatların əlavə edilməsi"
   ]
  },
  {
   "cell_type": "code",
   "execution_count": 12,
   "metadata": {},
   "outputs": [
    {
     "name": "stdout",
     "output_type": "stream",
     "text": [
      "Ok\n",
      "Məlumatlar əlavə olundu\n"
     ]
    }
   ],
   "source": [
    "import sqlite3\n",
    "\n",
    "try:\n",
    "    db = sqlite3.connect('DATA/database.db')\n",
    "    cursor = db.cursor()\n",
    "    cursor.execute(\"CREATE TABLE person ('name','surname','email','password','salary','employment')\")\n",
    "    print('Database created')\n",
    "except sqlite3.OperationalError:\n",
    "    db = sqlite3.connect('DATA/database.db')\n",
    "    cursor = db.cursor()\n",
    "    cursor.execute(\"CREATE TABLE IF NOT EXISTS person ('name','surname','email','password','salary','employment')\")\n",
    "    print('Ok')\n",
    "    cursor.execute(\"INSERT INTO person VALUES ('Rəşad','Qarayev','garayevrashad@hotmail.com','123456',2000,'Python C/C++')\")\n",
    "    cursor.execute(\"INSERT INTO person VALUES ('Eldar','Əliyev','example@hotmail.com','asdfg',2000,'Back-end Developer')\")\n",
    "    cursor.execute(\"INSERT INTO person VALUES ('Vüsalə','Əliyeva','valiyeva@hotmail.com','v1999',1800,'Managment')\")\n",
    "    cursor.execute(\"INSERT INTO person VALUES ('Arzu','Əliyeva','arzu@hotmail.com','v1987',4000,'Team Leader')\")\n",
    "    db.commit() #məlumatları bazaya əlavə edirik\n",
    "    \n",
    "    print('Məlumatlar əlavə olundu')"
   ]
  },
  {
   "cell_type": "code",
   "execution_count": 13,
   "metadata": {},
   "outputs": [],
   "source": [
    "#Bazadakı məlumatları oxuyaq"
   ]
  },
  {
   "cell_type": "code",
   "execution_count": 14,
   "metadata": {},
   "outputs": [
    {
     "name": "stdout",
     "output_type": "stream",
     "text": [
      "[('Vüsalə', 'Əliyeva'), ('Arzu', 'Əliyeva')]\n"
     ]
    }
   ],
   "source": [
    "import sqlite3\n",
    "\n",
    "try:\n",
    "    db = sqlite3.connect('DATA/database.db')\n",
    "    cursor = db.cursor()\n",
    "    cursor.execute(\"SELECT name,surname FROM person WHERE surname='Əliyeva'\")\n",
    "    data = cursor.fetchall()\n",
    "    print(data)\n",
    "except sqlite3.OperationalError:\n",
    "    print('Error')\n",
    "    "
   ]
  },
  {
   "cell_type": "code",
   "execution_count": 15,
   "metadata": {},
   "outputs": [
    {
     "name": "stdout",
     "output_type": "stream",
     "text": [
      "Ad : Vüsalə\n",
      "Soyad : Əliyeva\n",
      "Ad : Arzu\n",
      "Soyad : Əliyeva\n"
     ]
    }
   ],
   "source": [
    "import sqlite3\n",
    "\n",
    "try:\n",
    "    db = sqlite3.connect('DATA/database.db')\n",
    "    cursor = db.cursor()\n",
    "    cursor.execute(\"SELECT name,surname FROM person WHERE surname='Əliyeva'\")\n",
    "    data = cursor.fetchall()\n",
    "    for i in data:\n",
    "        print('Ad :',i[0])\n",
    "        print('Soyad :',i[1])\n",
    "except sqlite3.OperationalError:\n",
    "    print('Error')"
   ]
  },
  {
   "cell_type": "markdown",
   "metadata": {},
   "source": [
    "Bazada Əliyeva soyadı olan şəxsləri sorğu ilə əldə etdik"
   ]
  },
  {
   "cell_type": "code",
   "execution_count": 16,
   "metadata": {},
   "outputs": [],
   "source": [
    "#Update - məlumatları yeniləmək"
   ]
  },
  {
   "cell_type": "markdown",
   "metadata": {},
   "source": [
    "Şirkətimizə yeni işçi gəldi və biz bu işçini işdən çıxan işçi ilə əvəzləməliyik.Yenidən bazaya əlavə etmək yerinə,çıxarılan işçinin məlumatlarını yeni işçinin məlumatları ilə əvəzləyək"
   ]
  },
  {
   "cell_type": "code",
   "execution_count": 17,
   "metadata": {},
   "outputs": [
    {
     "name": "stdout",
     "output_type": "stream",
     "text": [
      "('Rəşad', 'Qarayev', 'garayevrashad@hotmail.com', '123456')\n",
      "('Eldar', 'Əliyev', 'example@hotmail.com', 'asdfg')\n",
      "('Vüsalə', 'Əliyeva', 'valiyeva@hotmail.com', 'v1999')\n",
      "('Kəmalə', 'Məlikova', 'km11@gmail.com', 'km2000')\n"
     ]
    }
   ],
   "source": [
    "\n",
    "import sqlite3\n",
    "\n",
    "try:\n",
    "    db = sqlite3.connect('DATA/database.db')\n",
    "    cursor = db.cursor()\n",
    "    cursor.execute(\"UPDATE person SET name='Kəmalə',surname='Məlikova',email='km11@gmail.com',password='km2000' WHERE name='Arzu'\")\n",
    "    \n",
    "    cursor.execute(\"SELECT name,surname,email,password FROM person \")\n",
    "    db.commit()\n",
    "    data = cursor.fetchall()\n",
    "    for i in data:\n",
    "        print(i)\n",
    "    db.close()\n",
    "except sqlite3.OperationalError:\n",
    "    print('Error')"
   ]
  },
  {
   "cell_type": "code",
   "execution_count": 18,
   "metadata": {},
   "outputs": [],
   "source": [
    "#Yeni sütun əlavə edək"
   ]
  },
  {
   "cell_type": "code",
   "execution_count": 19,
   "metadata": {},
   "outputs": [
    {
     "name": "stdout",
     "output_type": "stream",
     "text": [
      "('Rəşad', 'Qarayev', 'garayevrashad@hotmail.com', '123456', 2000, 'Python C/C++')\n",
      "('Eldar', 'Əliyev', 'example@hotmail.com', 'asdfg', 2000, 'Back-end Developer')\n",
      "('Vüsalə', 'Əliyeva', 'valiyeva@hotmail.com', 'v1999', 1800, 'Managment')\n",
      "('Kəmalə', 'Məlikova', 'km11@gmail.com', 'km2000', 4000, 'Team Leader')\n"
     ]
    }
   ],
   "source": [
    "import sqlite3\n",
    "\n",
    "try:\n",
    "    db = sqlite3.connect('DATA/database.db')\n",
    "    cursor = db.cursor()\n",
    "    cursor.execute(\"SELECT * from person\")\n",
    "    data = cursor.fetchall()\n",
    "    \n",
    "    \n",
    "    for i in data:\n",
    "        print(i)\n",
    "    db.close()\n",
    "except sqlite3.OperationalError:\n",
    "    print('Error')"
   ]
  },
  {
   "cell_type": "code",
   "execution_count": 20,
   "metadata": {},
   "outputs": [],
   "source": [
    "#ORDER BY verilənləri,sorğu arqumentinə uyğun sıralayır.Məsələn,id lərə adlara görə,maaş az-çox məsələsinə görə"
   ]
  },
  {
   "cell_type": "code",
   "execution_count": 21,
   "metadata": {},
   "outputs": [
    {
     "name": "stdout",
     "output_type": "stream",
     "text": [
      "('Vüsalə', 'Əliyeva', 'valiyeva@hotmail.com', 'v1999', 1800, 'Managment')\n",
      "('Rəşad', 'Qarayev', 'garayevrashad@hotmail.com', '123456', 2000, 'Python C/C++')\n",
      "('Kəmalə', 'Məlikova', 'km11@gmail.com', 'km2000', 4000, 'Team Leader')\n",
      "('Eldar', 'Əliyev', 'example@hotmail.com', 'asdfg', 2000, 'Back-end Developer')\n"
     ]
    }
   ],
   "source": [
    "import sqlite3\n",
    "\n",
    "try:\n",
    "    db = sqlite3.connect('DATA/database.db')\n",
    "    cursor = db.cursor()\n",
    "    cursor.execute(\"SELECT DISTINCT * FROM person ORDER BY name DESC\") #adlara uyğun - əlifba sırası ilə\n",
    "    data = cursor.fetchall()\n",
    "    for i in data:\n",
    "        print(i)\n",
    "    db.close()\n",
    "except sqlite3.OperationalError:\n",
    "    print('Error')"
   ]
  },
  {
   "cell_type": "code",
   "execution_count": 22,
   "metadata": {},
   "outputs": [
    {
     "name": "stdout",
     "output_type": "stream",
     "text": [
      "('Kəmalə', 'Məlikova', 'km11@gmail.com', 'km2000', 4000, 'Team Leader')\n",
      "('Rəşad', 'Qarayev', 'garayevrashad@hotmail.com', '123456', 2000, 'Python C/C++')\n",
      "('Eldar', 'Əliyev', 'example@hotmail.com', 'asdfg', 2000, 'Back-end Developer')\n",
      "('Vüsalə', 'Əliyeva', 'valiyeva@hotmail.com', 'v1999', 1800, 'Managment')\n"
     ]
    }
   ],
   "source": [
    "import sqlite3\n",
    "\n",
    "try:\n",
    "    db = sqlite3.connect('DATA/database.db')\n",
    "    cursor = db.cursor()\n",
    "    cursor.execute(\"SELECT DISTINCT * FROM person ORDER BY salary DESC\") #maaşa görə çoxdan-aza doğru\n",
    "    data = cursor.fetchall()\n",
    "    for i in data:\n",
    "        print(i)\n",
    "    db.close()\n",
    "except sqlite3.OperationalError:\n",
    "    print('Error')"
   ]
  },
  {
   "cell_type": "code",
   "execution_count": 23,
   "metadata": {},
   "outputs": [],
   "source": [
    "#maaşı 2000 dən aşağı olanları ekrana çap edək"
   ]
  },
  {
   "cell_type": "code",
   "execution_count": 24,
   "metadata": {},
   "outputs": [
    {
     "name": "stdout",
     "output_type": "stream",
     "text": [
      "('Vüsalə', 'Əliyeva', 'valiyeva@hotmail.com', 'v1999', 1800, 'Managment')\n"
     ]
    }
   ],
   "source": [
    "import sqlite3\n",
    "\n",
    "try:\n",
    "    db = sqlite3.connect('DATA/database.db')\n",
    "    cursor = db.cursor()\n",
    "    cursor.execute(\"SELECT DISTINCT * FROM person WHERE salary < 2000\") #maaşa görə çoxdan-aza doğru\n",
    "    data = cursor.fetchall()\n",
    "    for i in data:\n",
    "        print(i)\n",
    "        \n",
    "    db.close()\n",
    "except sqlite3.OperationalError:\n",
    "    print('Error')"
   ]
  },
  {
   "cell_type": "code",
   "execution_count": 25,
   "metadata": {},
   "outputs": [],
   "source": [
    "#Aşağı maaşlı işçinin maaşını artıraq"
   ]
  },
  {
   "cell_type": "code",
   "execution_count": 26,
   "metadata": {},
   "outputs": [
    {
     "name": "stdout",
     "output_type": "stream",
     "text": [
      "('Rəşad', 'Qarayev', 'garayevrashad@hotmail.com', '123456', 2000, 'Python C/C++')\n",
      "('Eldar', 'Əliyev', 'example@hotmail.com', 'asdfg', 2000, 'Back-end Developer')\n",
      "('Vüsalə', 'Əliyeva', 'valiyeva@hotmail.com', 'v1999', 2400, 'Managment')\n",
      "('Kəmalə', 'Məlikova', 'km11@gmail.com', 'km2000', 4000, 'Team Leader')\n"
     ]
    }
   ],
   "source": [
    "\n",
    "import sqlite3\n",
    "\n",
    "try:\n",
    "    db = sqlite3.connect('DATA/database.db')\n",
    "    cursor = db.cursor()\n",
    "    cursor.execute(\"UPDATE person SET salary=2400 WHERE name='Vüsalə'\")\n",
    "    cursor.execute(\"SELECT * from person\")\n",
    "    data = cursor.fetchall()\n",
    "    for i in data:\n",
    "        print(i)\n",
    "    db.commit()\n",
    "    db.close()\n",
    "except sqlite3.OperationalError:\n",
    "    print('Error')"
   ]
  },
  {
   "cell_type": "code",
   "execution_count": 27,
   "metadata": {},
   "outputs": [],
   "source": [
    "#Şəxsi bazadan kənarlaşdıraq"
   ]
  },
  {
   "cell_type": "code",
   "execution_count": 28,
   "metadata": {},
   "outputs": [],
   "source": [
    "#DELETE FROM"
   ]
  },
  {
   "cell_type": "code",
   "execution_count": 29,
   "metadata": {},
   "outputs": [
    {
     "name": "stdout",
     "output_type": "stream",
     "text": [
      "('Rəşad', 'Qarayev', 'garayevrashad@hotmail.com', '123456', 2000, 'Python C/C++')\n",
      "('Vüsalə', 'Əliyeva', 'valiyeva@hotmail.com', 'v1999', 2400, 'Managment')\n",
      "('Kəmalə', 'Məlikova', 'km11@gmail.com', 'km2000', 4000, 'Team Leader')\n"
     ]
    }
   ],
   "source": [
    "\n",
    "import sqlite3\n",
    "\n",
    "try:\n",
    "    db = sqlite3.connect('DATA/database.db')\n",
    "    cursor = db.cursor()\n",
    "    cursor.execute(\"DELETE FROM person WHERE employment == 'Back-end Developer'\")\n",
    "    cursor.execute(\"SELECT * from person\")\n",
    "    data = cursor.fetchall()\n",
    "    for i in data:\n",
    "        print(i)\n",
    "    db.commit()\n",
    "    db.close()\n",
    "except sqlite3.OperationalError:\n",
    "    print('Error')"
   ]
  },
  {
   "cell_type": "markdown",
   "metadata": {},
   "source": [
    "Istənilən məlumata görə şəxsi bazadan kənarlaşdırmaq mümkündür.<code>DELETE FROM person WHERE salary == 4000</code> qeyd etsəydik,bu səfər maaşa görə şəxsi kənarlaşdıracaqdıq"
   ]
  },
  {
   "cell_type": "code",
   "execution_count": 30,
   "metadata": {},
   "outputs": [],
   "source": [
    "#Sum hesabi cəm"
   ]
  },
  {
   "cell_type": "markdown",
   "metadata": {},
   "source": [
    "Şirkət daxilində işçilərə verilən maaşın ümumi cəmini əldə edə bilərik."
   ]
  },
  {
   "cell_type": "code",
   "execution_count": 35,
   "metadata": {},
   "outputs": [
    {
     "name": "stdout",
     "output_type": "stream",
     "text": [
      "[(8400,)]\n"
     ]
    }
   ],
   "source": [
    "import sqlite3\n",
    "\n",
    "try:\n",
    "    db = sqlite3.connect('DATA/database.db')\n",
    "    cursor = db.cursor()\n",
    "    cursor.execute(\"SELECT SUM(salary) FROM person\")\n",
    "    data = cursor.fetchall()\n",
    "    print(data)\n",
    "    db.commit()\n",
    "    db.close()\n",
    "except sqlite3.OperationalError:\n",
    "    print('Error')"
   ]
  },
  {
   "cell_type": "code",
   "execution_count": 36,
   "metadata": {},
   "outputs": [],
   "source": [
    "# mean və ya average termini\n",
    "#İşçilərin ümumi maaşlarının ortaq qiymətini çıxara bilərik.İşçi maaşları toplanır daha sonra işçilərin sayına bölünür"
   ]
  },
  {
   "cell_type": "code",
   "execution_count": null,
   "metadata": {},
   "outputs": [],
   "source": []
  },
  {
   "cell_type": "code",
   "execution_count": 39,
   "metadata": {},
   "outputs": [
    {
     "name": "stdout",
     "output_type": "stream",
     "text": [
      "[(2800.0,)]\n"
     ]
    }
   ],
   "source": [
    "import sqlite3\n",
    "\n",
    "try:\n",
    "    db = sqlite3.connect('DATA/database.db')\n",
    "    cursor = db.cursor()\n",
    "    cursor.execute(\"SELECT AVG(salary) FROM person\")\n",
    "    data = cursor.fetchall()\n",
    "    print(data)\n",
    "    db.commit()\n",
    "    db.close()\n",
    "except sqlite3.OperationalError:\n",
    "    print('Error')"
   ]
  },
  {
   "cell_type": "code",
   "execution_count": 40,
   "metadata": {},
   "outputs": [],
   "source": [
    "# min və max "
   ]
  },
  {
   "cell_type": "code",
   "execution_count": 49,
   "metadata": {},
   "outputs": [
    {
     "name": "stdout",
     "output_type": "stream",
     "text": [
      "[(4000,)]\n"
     ]
    }
   ],
   "source": [
    "import sqlite3\n",
    "\n",
    "try:\n",
    "    db = sqlite3.connect('DATA/database.db')\n",
    "    cursor = db.cursor()\n",
    "    cursor.execute(\"SELECT max(salary) FROM person\")\n",
    "    maximum = cursor.fetchall()\n",
    "    print(maximum)\n",
    "    db.close()\n",
    "except sqlite3.OperationalError:\n",
    "    print('Error')"
   ]
  },
  {
   "cell_type": "code",
   "execution_count": 50,
   "metadata": {},
   "outputs": [
    {
     "name": "stdout",
     "output_type": "stream",
     "text": [
      "[(2000,)]\n"
     ]
    }
   ],
   "source": [
    "import sqlite3\n",
    "\n",
    "try:\n",
    "    db = sqlite3.connect('DATA/database.db')\n",
    "    cursor = db.cursor()\n",
    "    cursor.execute(\"SELECT min(salary) FROM person\")\n",
    "    minimum = cursor.fetchall()\n",
    "    print(minimum)\n",
    "    db.close()\n",
    "except sqlite3.OperationalError:\n",
    "    print('Error')"
   ]
  },
  {
   "cell_type": "code",
   "execution_count": 51,
   "metadata": {},
   "outputs": [],
   "source": [
    "#like"
   ]
  },
  {
   "cell_type": "markdown",
   "metadata": {},
   "source": [
    "Bəzi vəziyyətlərdə ad soyad kimi elementləri bilmədiyimiz təqdirdə baş hərfi ilə də elementləri əldə etmək kimi vəziyyətlə rastlaşa bilərik"
   ]
  },
  {
   "cell_type": "code",
   "execution_count": 56,
   "metadata": {},
   "outputs": [
    {
     "name": "stdout",
     "output_type": "stream",
     "text": [
      "[('Rəşad', 'Qarayev', 'garayevrashad@hotmail.com', '123456', 2000, 'Python C/C++')]\n"
     ]
    }
   ],
   "source": [
    "import sqlite3\n",
    "\n",
    "try:\n",
    "    db = sqlite3.connect('DATA/database.db')\n",
    "    cursor = db.cursor()\n",
    "    cursor.execute(\"SELECT * FROM person WHERE name LIKE 'R%'\")\n",
    "    data = cursor.fetchall()\n",
    "    print(data)\n",
    "    db.close()\n",
    "except sqlite3.OperationalError:\n",
    "    print('Error')"
   ]
  },
  {
   "cell_type": "code",
   "execution_count": 57,
   "metadata": {},
   "outputs": [],
   "source": [
    "#R ilə başlayan elementi sorğuya çəkdik"
   ]
  },
  {
   "cell_type": "code",
   "execution_count": null,
   "metadata": {},
   "outputs": [],
   "source": []
  }
 ],
 "metadata": {
  "kernelspec": {
   "display_name": "Python 3",
   "language": "python",
   "name": "python3"
  },
  "language_info": {
   "codemirror_mode": {
    "name": "ipython",
    "version": 3
   },
   "file_extension": ".py",
   "mimetype": "text/x-python",
   "name": "python",
   "nbconvert_exporter": "python",
   "pygments_lexer": "ipython3",
   "version": "3.6.10"
  }
 },
 "nbformat": 4,
 "nbformat_minor": 4
}
