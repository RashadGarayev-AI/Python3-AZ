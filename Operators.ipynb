{
 "cells": [
  {
   "cell_type": "markdown",
   "metadata": {},
   "source": [
    "# Python Conditions and If statements"
   ]
  },
  {
   "cell_type": "markdown",
   "metadata": {},
   "source": [
    "Pythonda Şərt operatorları (if else elif)"
   ]
  },
  {
   "cell_type": "markdown",
   "metadata": {},
   "source": [
    "Hər bir dildə olduğu kimi python dilində də şərt operatorları var.Şərt operatorları verilmiş arqumentlərə qarşı şərt qoyaraq kod blokunu təşkil edir.Bura qədər öyrəndiyimiz ümumi girişdən savayı data tipləri mövzusu necə vacibdirsə şərt operatorları da bir o qədər vacib nüans sayılır.Demək olarki şərt operatorlarını öyrəndiyiniz müddətdə kod sətirləri asta-asta mürəkkəbləşəcək və beyninizdə sual yaradacaq bəzi suallar daha da aydınlaşacaq.Şərt operatorları istifadəsi zamanı dil özünəməxsus abzas(indentation) xüsusiyyəti ilə operatora daxil olan ifadələri həmin abzasdan yazılma məcburiyyətini tələb edir.abzas 4 dəfə boşluq (space) düyməsinə və ya bir tab düyməsi qədər məsafədə olub ifadələrin yazılmasını o nöqtədən hesaba alır.if Operatoru həmçinin dildə açar söz olub tətbiq edilməsində, məntiq operatorlarını təşkil edə bilir .Şərt operatorlarını öyrəndiyiniz müddətdə həmçinin əvvəlki mövzuları da təkrarlamış olacaqsınız.Odurki nəzəri hissəni çox uzatmayıb if operatoruna nəzər yetirək"
   ]
  },
  {
   "cell_type": "code",
   "execution_count": 1,
   "metadata": {},
   "outputs": [
    {
     "name": "stdout",
     "output_type": "stream",
     "text": [
      "\n",
      "\n",
      "if arqument:\n",
      "    kodlar;\n",
      "if arqument1:\n",
      "    kodlar;\n",
      "\n",
      "\n",
      "\n",
      "\n",
      "\n"
     ]
    }
   ],
   "source": [
    "print(\"\"\"\n",
    "\n",
    "if arqument:\n",
    "    kodlar;\n",
    "if arqument1:\n",
    "    kodlar;\n",
    "\n",
    "\n",
    "\n",
    "\n",
    "\"\"\")"
   ]
  },
  {
   "cell_type": "markdown",
   "metadata": {},
   "source": [
    "Formasında ifadə olunur.Nümunələrə baxaq"
   ]
  },
  {
   "cell_type": "code",
   "execution_count": 2,
   "metadata": {},
   "outputs": [
    {
     "data": {
      "text/plain": [
       "True"
      ]
     },
     "execution_count": 2,
     "metadata": {},
     "output_type": "execute_result"
    }
   ],
   "source": [
    "siyahı = ['Python','Java','C++']\n",
    "'Python' in siyahı"
   ]
  },
  {
   "cell_type": "markdown",
   "metadata": {},
   "source": [
    "ifadəsinin yerinə if operatorundan istifadə edərək"
   ]
  },
  {
   "cell_type": "code",
   "execution_count": 3,
   "metadata": {},
   "outputs": [
    {
     "name": "stdout",
     "output_type": "stream",
     "text": [
      "Bəli \"Python\" ifadəsi lüğət daxilində var!\n"
     ]
    }
   ],
   "source": [
    "siyahı = ['Python','Java','C++']\n",
    "if 'Python' in siyahı:\n",
    "    print('Bəli \"Python\" ifadəsi lüğət daxilində var!')"
   ]
  },
  {
   "cell_type": "markdown",
   "metadata": {},
   "source": [
    "Yuxarıdakı nümunədə lüğət tərtib edib Python ifadəsinin lüğət daxilində var olub-olmadığını sorğuya çəkdik.Əgər Python ifadəsi siyahı daxilində varsa ekrana ......... ifadələr yaz əmrini verdik."
   ]
  },
  {
   "cell_type": "markdown",
   "metadata": {},
   "source": [
    "Biz bilirikki verdiyimiz ifadə siyahı daxilində mövcuddur,bunun əksi olaraq sorğuya çəkdiyimiz ifadə əgər olmasa necə!"
   ]
  },
  {
   "cell_type": "code",
   "execution_count": 4,
   "metadata": {},
   "outputs": [],
   "source": [
    "siyahı = ['Python','Java','C++']\n",
    "if 'Rust' in siyahı:\n",
    "    print('Bəli \"Python\" ifadəsi lüğət daxilində var!')"
   ]
  },
  {
   "cell_type": "markdown",
   "metadata": {},
   "source": [
    "Yuxarıdakı nümunədə Rust ifadəsini sorğuya çəkdim və bilirikki bu ifadə siyahı daxilində mövcud deyil.Bu ifadələri biz şərti olaraq qeyd edirik,proqramları biz yönəldə bilmərik hər zaman.İfadəni istifadəçidən alsaq istifadəçi toplama işarəsi girərsə ekrana heç bir ifadə çap olunmayaraq proqram bitəcəkdir.Bunun alternativi else operatorudur.if ifadəsinin əksinə olan məqamlarda dövrəyə girərək daxilində məlumatları çalışdırır."
   ]
  },
  {
   "cell_type": "code",
   "execution_count": 10,
   "metadata": {},
   "outputs": [
    {
     "name": "stdout",
     "output_type": "stream",
     "text": [
      "Siyahı daxilində axtarış üçün ifadə yazın : Python\n",
      "********************\n",
      "Bəli \"Python\" ifadəsi lüğət daxilində var!\n"
     ]
    }
   ],
   "source": [
    "siyahı = ['Python','Java','C++','Rust']\n",
    "data = input('Siyahı daxilində axtarış üçün ifadə yazın : ')\n",
    "if data in siyahı:\n",
    "    print('*'*20)\n",
    "    print('Bəli \"{}\" ifadəsi lüğət daxilində var!'.format(data))\n",
    "else:\n",
    "    print('Xeyr \"{}\" ifadəsi lüğət daxilində yoxdur!'.format(data))"
   ]
  },
  {
   "cell_type": "code",
   "execution_count": 11,
   "metadata": {},
   "outputs": [
    {
     "name": "stdout",
     "output_type": "stream",
     "text": [
      "Siyahı daxilində axtarış üçün ifadə yazın : academy\n",
      "Xeyr \"academy\" ifadəsi lüğət daxilində yoxdur!\n"
     ]
    }
   ],
   "source": [
    "siyahı = ['Python','Java','C++','Rust']\n",
    "data = input('Siyahı daxilində axtarış üçün ifadə yazın : ')\n",
    "if data in siyahı:\n",
    "    print('*'*20)\n",
    "    print('Bəli \"{}\" ifadəsi lüğət daxilində var!'.format(data))\n",
    "else:\n",
    "    print('Xeyr \"{}\" ifadəsi lüğət daxilində yoxdur!'.format(data))"
   ]
  },
  {
   "cell_type": "code",
   "execution_count": null,
   "metadata": {},
   "outputs": [],
   "source": []
  }
 ],
 "metadata": {
  "kernelspec": {
   "display_name": "Python 3",
   "language": "python",
   "name": "python3"
  },
  "language_info": {
   "codemirror_mode": {
    "name": "ipython",
    "version": 3
   },
   "file_extension": ".py",
   "mimetype": "text/x-python",
   "name": "python",
   "nbconvert_exporter": "python",
   "pygments_lexer": "ipython3",
   "version": "3.7.5"
  }
 },
 "nbformat": 4,
 "nbformat_minor": 2
}
