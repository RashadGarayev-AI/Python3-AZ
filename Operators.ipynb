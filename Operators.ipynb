{
 "cells": [
  {
   "cell_type": "markdown",
   "metadata": {},
   "source": [
    "# Python Conditions and If statements"
   ]
  },
  {
   "cell_type": "markdown",
   "metadata": {},
   "source": [
    "Pythonda Şərt operatorları (if else elif)"
   ]
  },
  {
   "cell_type": "markdown",
   "metadata": {},
   "source": [
    "Hər bir dildə olduğu kimi python dilində də şərt operatorları var.Şərt operatorları verilmiş arqumentlərə qarşı şərt qoyaraq kod blokunu təşkil edir.Bura qədər öyrəndiyimiz ümumi girişdən savayı data tipləri mövzusu necə vacibdirsə şərt operatorları da bir o qədər vacib nüans sayılır.Demək olarki şərt operatorlarını öyrəndiyiniz müddətdə kod sətirləri asta-asta mürəkkəbləşəcək və beyninizdə sual yaradacaq bəzi suallar daha da aydınlaşacaq.Şərt operatorları istifadəsi zamanı dil özünəməxsus abzas(indentation) xüsusiyyəti ilə operatora daxil olan ifadələri həmin abzasdan yazılma məcburiyyətini tələb edir.abzas 4 dəfə boşluq (space) düyməsinə və ya bir tab düyməsi qədər məsafədə olub ifadələrin yazılmasını o nöqtədən hesaba alır.if Operatoru həmçinin dildə açar söz olub tətbiq edilməsində, məntiq operatorlarını təşkil edə bilir .Şərt operatorlarını öyrəndiyiniz müddətdə həmçinin əvvəlki mövzuları da təkrarlamış olacaqsınız.Odurki nəzəri hissəni çox uzatmayıb if operatoruna nəzər yetirək"
   ]
  },
  {
   "cell_type": "code",
   "execution_count": 1,
   "metadata": {},
   "outputs": [
    {
     "name": "stdout",
     "output_type": "stream",
     "text": [
      "\n",
      "\n",
      "if arqument:\n",
      "    kodlar;\n",
      "if arqument1:\n",
      "    kodlar;\n",
      "\n",
      "\n",
      "\n",
      "\n",
      "\n"
     ]
    }
   ],
   "source": [
    "print(\"\"\"\n",
    "\n",
    "if arqument:\n",
    "    kodlar;\n",
    "if arqument1:\n",
    "    kodlar;\n",
    "\n",
    "\n",
    "\n",
    "\n",
    "\"\"\")"
   ]
  },
  {
   "cell_type": "code",
   "execution_count": 38,
   "metadata": {},
   "outputs": [
    {
     "ename": "IndentationError",
     "evalue": "expected an indented block (<ipython-input-38-61b40b9d3259>, line 4)",
     "output_type": "error",
     "traceback": [
      "\u001b[1;36m  File \u001b[1;32m\"<ipython-input-38-61b40b9d3259>\"\u001b[1;36m, line \u001b[1;32m4\u001b[0m\n\u001b[1;33m    print(\"{} {}-ddən böyükdür.\".format(b,a))\u001b[0m\n\u001b[1;37m        ^\u001b[0m\n\u001b[1;31mIndentationError\u001b[0m\u001b[1;31m:\u001b[0m expected an indented block\n"
     ]
    }
   ],
   "source": [
    "a = 33\n",
    "b = 200\n",
    "if b > a:\n",
    "print(\"{} {}-ddən böyükdür.\".format(b,a))"
   ]
  },
  {
   "cell_type": "markdown",
   "metadata": {},
   "source": [
    "Yuxarıdakı nümunədə abzas qorunması təşkil olunmadığından IndentationError: expected an indented block -xətası aldıq"
   ]
  },
  {
   "cell_type": "code",
   "execution_count": 39,
   "metadata": {},
   "outputs": [
    {
     "name": "stdout",
     "output_type": "stream",
     "text": [
      "200 33-ddən böyükdür.\n"
     ]
    }
   ],
   "source": [
    "a = 33\n",
    "b = 200\n",
    "if b > a:\n",
    "    print(\"{} {}-dən böyükdür.\".format(b,a))"
   ]
  },
  {
   "cell_type": "markdown",
   "metadata": {},
   "source": [
    "Formasında ifadə olunur.Nümunələrə baxaq"
   ]
  },
  {
   "cell_type": "code",
   "execution_count": 2,
   "metadata": {},
   "outputs": [
    {
     "data": {
      "text/plain": [
       "True"
      ]
     },
     "execution_count": 2,
     "metadata": {},
     "output_type": "execute_result"
    }
   ],
   "source": [
    "siyahı = ['Python','Java','C++']\n",
    "'Python' in siyahı"
   ]
  },
  {
   "cell_type": "markdown",
   "metadata": {},
   "source": [
    "ifadəsinin yerinə if operatorundan istifadə edərək"
   ]
  },
  {
   "cell_type": "code",
   "execution_count": 3,
   "metadata": {},
   "outputs": [
    {
     "name": "stdout",
     "output_type": "stream",
     "text": [
      "Bəli \"Python\" ifadəsi lüğət daxilində var!\n"
     ]
    }
   ],
   "source": [
    "siyahı = ['Python','Java','C++']\n",
    "if 'Python' in siyahı:\n",
    "    print('Bəli \"Python\" ifadəsi lüğət daxilində var!')"
   ]
  },
  {
   "cell_type": "markdown",
   "metadata": {},
   "source": [
    "Yuxarıdakı nümunədə lüğət tərtib edib Python ifadəsinin lüğət daxilində var olub-olmadığını sorğuya çəkdik.Əgər Python ifadəsi siyahı daxilində varsa ekrana ......... ifadələr yaz əmrini verdik."
   ]
  },
  {
   "cell_type": "markdown",
   "metadata": {},
   "source": [
    "Biz bilirikki verdiyimiz ifadə siyahı daxilində mövcuddur,bunun əksi olaraq sorğuya çəkdiyimiz ifadə əgər olmasa necə!"
   ]
  },
  {
   "cell_type": "code",
   "execution_count": 4,
   "metadata": {},
   "outputs": [],
   "source": [
    "siyahı = ['Python','Java','C++']\n",
    "if 'Rust' in siyahı:\n",
    "    print('Bəli \"Python\" ifadəsi lüğət daxilində var!')"
   ]
  },
  {
   "cell_type": "markdown",
   "metadata": {},
   "source": [
    "Yuxarıdakı nümunədə Rust ifadəsini sorğuya çəkdim və bilirikki bu ifadə siyahı daxilində mövcud deyil.Bu ifadələri biz şərti olaraq qeyd edirik,proqramları biz yönəldə bilmərik hər zaman.İfadəni istifadəçidən alsaq istifadəçi toplama işarəsi girərsə ekrana heç bir ifadə çap olunmayaraq proqram bitəcəkdir.Bunun alternativi else operatorudur.if ifadəsinin əksinə olan məqamlarda dövrəyə girərək daxilində məlumatları çalışdırır."
   ]
  },
  {
   "cell_type": "code",
   "execution_count": 5,
   "metadata": {},
   "outputs": [
    {
     "name": "stdout",
     "output_type": "stream",
     "text": [
      "Siyahı daxilində axtarış üçün ifadə yazın : Rust\n",
      "********************\n",
      "Bəli \"Rust\" ifadəsi lüğət daxilində var!\n"
     ]
    }
   ],
   "source": [
    "siyahı = ['Python','Java','C++','Rust']\n",
    "data = input('Siyahı daxilində axtarış üçün ifadə yazın : ')\n",
    "if data in siyahı:\n",
    "    print('*'*20)\n",
    "    print('Bəli \"{}\" ifadəsi lüğət daxilində var!'.format(data))\n",
    "else:\n",
    "    print('Xeyr \"{}\" ifadəsi lüğət daxilində yoxdur!'.format(data))"
   ]
  },
  {
   "cell_type": "code",
   "execution_count": 6,
   "metadata": {},
   "outputs": [
    {
     "name": "stdout",
     "output_type": "stream",
     "text": [
      "Siyahı daxilində axtarış üçün ifadə yazın : Go\n",
      "Xeyr \"Go\" ifadəsi lüğət daxilində yoxdur!\n"
     ]
    }
   ],
   "source": [
    "siyahı = ['Python','Java','C++','Rust']\n",
    "data = input('Siyahı daxilində axtarış üçün ifadə yazın : ')\n",
    "if data in siyahı:\n",
    "    print('*'*20)\n",
    "    print('Bəli \"{}\" ifadəsi lüğət daxilində var!'.format(data))\n",
    "else:\n",
    "    print('Xeyr \"{}\" ifadəsi lüğət daxilində yoxdur!'.format(data))"
   ]
  },
  {
   "cell_type": "markdown",
   "metadata": {},
   "source": [
    "Digər nümunələrə baxaq"
   ]
  },
  {
   "cell_type": "code",
   "execution_count": 7,
   "metadata": {},
   "outputs": [
    {
     "name": "stdout",
     "output_type": "stream",
     "text": [
      "Number:12\n",
      "Number:5\n",
      "Cavab:2.4\n",
      "Bölmə əməlini yerinə yetirdik\n"
     ]
    }
   ],
   "source": [
    "num1 = float(input('Number:'))\n",
    "num2 = float(input('Number:'))\n",
    "result = None;\n",
    "if num1>num2:\n",
    "    result = num1/num2\n",
    "    print('Cavab:{}'.format(result))\n",
    "else:\n",
    "    result = num2/num1;\n",
    "    print('Cavab:{}'.format(result))\n",
    "print('Bölmə əməlini yerinə yetirdik')\n",
    "    \n",
    "    "
   ]
  },
  {
   "cell_type": "code",
   "execution_count": 8,
   "metadata": {},
   "outputs": [
    {
     "name": "stdout",
     "output_type": "stream",
     "text": [
      "Number:4\n",
      "Number:7\n",
      "Cavab:1.75\n",
      "Bölmə əməlini yerinə yetirdik\n"
     ]
    }
   ],
   "source": [
    "num1 = float(input('Number:'))\n",
    "num2 = float(input('Number:'))\n",
    "result = None;\n",
    "if num1>num2:\n",
    "    result = num1/num2\n",
    "    print('Cavab:{}'.format(result))\n",
    "else:\n",
    "    result = num2/num1;\n",
    "    print('Cavab:{}'.format(result))\n",
    "print('Bölmə əməlini yerinə yetirdik')"
   ]
  },
  {
   "cell_type": "markdown",
   "metadata": {},
   "source": [
    "Yuxarıdakı nümunədə istifadəçidən aldığımız iki ədədi müqayisə edib bölmə əməlini yerinə yetirdik"
   ]
  },
  {
   "cell_type": "code",
   "execution_count": 9,
   "metadata": {},
   "outputs": [
    {
     "name": "stdout",
     "output_type": "stream",
     "text": [
      "Yaşınızı qeyd edin:18\n",
      "Siz yaş məhdudiyyətini keçmisiniz.Filmi izləyə bilərsiniz!\n"
     ]
    }
   ],
   "source": [
    "yaş = int(input('Yaşınızı qeyd edin:'));\n",
    "limit = 18;\n",
    "if yaş >= limit :\n",
    "    print('Siz yaş məhdudiyyətini keçmisiniz.Filmi izləyə bilərsiniz!')\n",
    "else:\n",
    "    print('Yaşınız 18-dən kiçikdir.Filmi izləmək sizə qadağandır.')"
   ]
  },
  {
   "cell_type": "code",
   "execution_count": 10,
   "metadata": {},
   "outputs": [
    {
     "name": "stdout",
     "output_type": "stream",
     "text": [
      "Yaşınızı qeyd edin:16\n",
      "Yaşınız 18-dən kiçikdir.Filmi izləmək sizə qadağandır.\n"
     ]
    }
   ],
   "source": [
    "yaş = int(input('Yaşınızı qeyd edin:'));\n",
    "limit = 18;\n",
    "if yaş >= limit :\n",
    "    print('Siz yaş məhdudiyyətini keçmisiniz.Filmi izləyə bilərsiniz!')\n",
    "else:\n",
    "    print('Yaşınız 18-dən kiçikdir.Filmi izləmək sizə qadağandır.')"
   ]
  },
  {
   "cell_type": "code",
   "execution_count": 11,
   "metadata": {},
   "outputs": [
    {
     "name": "stdout",
     "output_type": "stream",
     "text": [
      "Şifrənizi yazın:abc12\n",
      "Şifrəniz 6 sayda olmalıdır.\n"
     ]
    }
   ],
   "source": [
    "password = input('Şifrənizi yazın:');\n",
    "limit = 6\n",
    "if len(password)<limit :\n",
    "    print('Şifrəniz {} sayda olmalıdır.'.format(limit))\n"
   ]
  },
  {
   "cell_type": "code",
   "execution_count": 12,
   "metadata": {},
   "outputs": [
    {
     "name": "stdout",
     "output_type": "stream",
     "text": [
      "Şifrənizi yazın:abc123\n"
     ]
    }
   ],
   "source": [
    "password = input('Şifrənizi yazın:');\n",
    "limit = 6\n",
    "if len(password)<limit :\n",
    "    print('Şifrəniz {} sayda olmalıdır.'.format(limit))"
   ]
  },
  {
   "cell_type": "code",
   "execution_count": 13,
   "metadata": {},
   "outputs": [
    {
     "name": "stdout",
     "output_type": "stream",
     "text": [
      "Şifrənizi yazın:abc123\n",
      "Şifrəniz 6 qəbul olundu.\n",
      "Şifrəniz :abc123\n"
     ]
    }
   ],
   "source": [
    "password = input('Şifrənizi yazın:');\n",
    "limit = 6\n",
    "if len(password)<limit :\n",
    "    print('Şifrəniz {} sayda olmalıdır.'.format(limit))\n",
    "if len(password)==limit:\n",
    "    print('Şifrəniz {} qəbul olundu.'.format(limit))\n",
    "    print('Şifrəniz :{}'.format(password))"
   ]
  },
  {
   "cell_type": "code",
   "execution_count": 14,
   "metadata": {},
   "outputs": [
    {
     "name": "stdout",
     "output_type": "stream",
     "text": [
      "Şifrənizi yazın:abc1\n",
      "Şifrəniz 6 sayda olmalıdır.\n"
     ]
    }
   ],
   "source": [
    "password = input('Şifrənizi yazın:');\n",
    "limit = 6\n",
    "if len(password)<limit :\n",
    "    print('Şifrəniz {} sayda olmalıdır.'.format(limit))\n",
    "if len(password)==limit:\n",
    "    print('Şifrəniz \"{}\" qəbul olundu.'.format(password))\n",
    "    print('Şifrəniz :{}'.format(password))"
   ]
  },
  {
   "cell_type": "markdown",
   "metadata": {},
   "source": [
    "elif Operatoru"
   ]
  },
  {
   "cell_type": "markdown",
   "metadata": {},
   "source": [
    "birdən çox seçimlər qarşısında elif operatorundan istifadə etmək daha məqsədəuyğundur"
   ]
  },
  {
   "cell_type": "markdown",
   "metadata": {},
   "source": [
    "Riyazi əməlləri yerinə yetirən proqram hazırlayaq"
   ]
  },
  {
   "cell_type": "code",
   "execution_count": 15,
   "metadata": {},
   "outputs": [
    {
     "name": "stdout",
     "output_type": "stream",
     "text": [
      "\n",
      "\n",
      "###########################\n",
      "#                         #\n",
      "# Sadə Hesablama Proqramı #\n",
      "#                         #\n",
      "#                         #\n",
      "###########################\n",
      "\n",
      "'1' Toplama\n",
      "'2' Çıxma\n",
      "'3' Vurma\n",
      "'4' Bölmə\n",
      "'5' Faiz\n",
      "\n",
      "\n",
      "Yuxarıdakı əməliyyatlardan birini seçin5\n",
      "Faizi tapılacaq ədəd:1000\n",
      "Faiz dərəcəsi:30\n",
      "Cavab : 300.0\n"
     ]
    }
   ],
   "source": [
    "print(\"\"\"\n",
    "\n",
    "###########################\n",
    "#                         #\n",
    "# Sadə Hesablama Proqramı #\n",
    "#                         #\n",
    "#                         #\n",
    "###########################\n",
    "\n",
    "'1' Toplama\n",
    "'2' Çıxma\n",
    "'3' Vurma\n",
    "'4' Bölmə\n",
    "'5' Faiz\n",
    "\n",
    "\"\"\")\n",
    "\n",
    "#Proqramın tərtibatı\n",
    "\n",
    "#Əməliyyatın seçilməsi\n",
    "\n",
    "operation = input('Yuxarıdakı əməliyyatlardan birini seçin')\n",
    "\n",
    "\n",
    "result = None;\n",
    "if operation == '1':\n",
    "    num1 = float(input('Ilk ədədi yazın:'))\n",
    "    num2 = float(input('İkinci ədədi yazın:'))\n",
    "    #Toplama əməli\n",
    "    result = num1+num2\n",
    "    print('Cavab : {}'.format(result))\n",
    "\n",
    "elif operation == '2':\n",
    "    num1 = float(input('Ilk ədədi yazın:'))\n",
    "    num2 = float(input('İkinci ədədi yazın:'))\n",
    "    #Çıxma əməli\n",
    "    result = num1-num2\n",
    "    print('Cavab : {}'.format(result))\n",
    "    \n",
    "elif operation == '3':\n",
    "    num1 = float(input('Ilk ədədi yazın:'))\n",
    "    num2 = float(input('İkinci ədədi yazın:'))\n",
    "    #Vurma əməli\n",
    "    result = num1*num2\n",
    "    print('Cavab : {}'.format(result))\n",
    "    \n",
    "elif operation == '4':\n",
    "    num1 = float(input('Ilk ədədi yazın:'))\n",
    "    num2 = float(input('İkinci ədədi yazın:'))\n",
    "    #Bölmə əməli\n",
    "    result = num1/num2\n",
    "    print('Cavab : {}'.format(result))\n",
    "\n",
    "elif operation == '5':\n",
    "    #Faiz əməli\n",
    "    num1 = float(input('Faizi tapılacaq ədəd:'))\n",
    "    num2 = float(input('Faiz dərəcəsi:'))\n",
    "    result = (num1*num2)/100\n",
    "    print('Cavab : {}'.format(result))"
   ]
  },
  {
   "cell_type": "code",
   "execution_count": 16,
   "metadata": {},
   "outputs": [
    {
     "name": "stdout",
     "output_type": "stream",
     "text": [
      "\n",
      "\n",
      "###########################\n",
      "#                         #\n",
      "# Sadə Hesablama Proqramı #\n",
      "#                         #\n",
      "#                         #\n",
      "###########################\n",
      "\n",
      "'1' Toplama\n",
      "'2' Çıxma\n",
      "'3' Vurma\n",
      "'4' Bölmə\n",
      "'5' Faiz\n",
      "\n",
      "\n",
      "Yuxarıdakı əməliyyatlardan birini seçin3\n",
      "Ilk ədədi yazın:12\n",
      "İkinci ədədi yazın:6\n",
      "Cavab : 72.0\n"
     ]
    }
   ],
   "source": [
    "print(\"\"\"\n",
    "\n",
    "###########################\n",
    "#                         #\n",
    "# Sadə Hesablama Proqramı #\n",
    "#                         #\n",
    "#                         #\n",
    "###########################\n",
    "\n",
    "'1' Toplama\n",
    "'2' Çıxma\n",
    "'3' Vurma\n",
    "'4' Bölmə\n",
    "'5' Faiz\n",
    "\n",
    "\"\"\")\n",
    "\n",
    "#Proqramın tərtibatı\n",
    "\n",
    "#Əməliyyatın seçilməsi\n",
    "\n",
    "operation = input('Yuxarıdakı əməliyyatlardan birini seçin')\n",
    "\n",
    "\n",
    "result = None;\n",
    "if operation == '1':\n",
    "    num1 = float(input('Ilk ədədi yazın:'))\n",
    "    num2 = float(input('İkinci ədədi yazın:'))\n",
    "    #Toplama əməli\n",
    "    result = num1+num2\n",
    "    print('Cavab : {}'.format(result))\n",
    "\n",
    "elif operation == '2':\n",
    "    num1 = float(input('Ilk ədədi yazın:'))\n",
    "    num2 = float(input('İkinci ədədi yazın:'))\n",
    "    #Çıxma əməli\n",
    "    result = num1-num2\n",
    "    print('Cavab : {}'.format(result))\n",
    "    \n",
    "elif operation == '3':\n",
    "    num1 = float(input('Ilk ədədi yazın:'))\n",
    "    num2 = float(input('İkinci ədədi yazın:'))\n",
    "    #Vurma əməli\n",
    "    result = num1*num2\n",
    "    print('Cavab : {}'.format(result))\n",
    "    \n",
    "elif operation == '4':\n",
    "    num1 = float(input('Ilk ədədi yazın:'))\n",
    "    num2 = float(input('İkinci ədədi yazın:'))\n",
    "    #Bölmə əməli\n",
    "    result = num1/num2\n",
    "    print('Cavab : {}'.format(result))\n",
    "\n",
    "elif operation == '5':\n",
    "    #Faiz əməli\n",
    "    num1 = float(input('Faizi tapılacaq ədəd:'))\n",
    "    num2 = float(input('Faiz dərəcəsi:'))\n",
    "    result = (num1*num2)/100\n",
    "    print('Cavab : {}'.format(result))"
   ]
  },
  {
   "cell_type": "code",
   "execution_count": 37,
   "metadata": {},
   "outputs": [
    {
     "name": "stdout",
     "output_type": "stream",
     "text": [
      "Sorğuya çəkəcəyiniz ədədi qeyd edin:10\n",
      "10 ədədi siyahı daxilində yoxdur\n"
     ]
    }
   ],
   "source": [
    "siyahı = [1,2,3,4,5,6,7,8,9,0];\n",
    "data = int(input('Sorğuya çəkəcəyiniz ədədi qeyd edin:'))\n",
    "if data in siyahı:\n",
    "    print('{} ədədi siyahı daxilində var'.format(data))\n",
    "else:\n",
    "    print('{} ədədi siyahı daxilində yoxdur'.format(data))\n"
   ]
  },
  {
   "cell_type": "code",
   "execution_count": 23,
   "metadata": {},
   "outputs": [],
   "source": [
    "dictionary = {'kitab':{'Davinchi':{'Author':'Dan Brown','Year':'2005','Publisher':'BrightSummaries'},\n",
    "                      'A Life':{'Author':'Gabriel Garcia Marquez','Year':'2012','Publisher':'Bloomsbury Publishing'}}}"
   ]
  },
  {
   "cell_type": "code",
   "execution_count": 24,
   "metadata": {},
   "outputs": [
    {
     "name": "stdout",
     "output_type": "stream",
     "text": [
      "{'kitab': {'Davinchi': {'Author': 'Dan Brown', 'Year': '2005', 'Publisher': 'BrightSummaries'}, 'A Life': {'Author': 'Gabriel Garcia Marquez', 'Year': '2012', 'Publisher': 'Bloomsbury Publishing'}}}\n"
     ]
    }
   ],
   "source": [
    "print(dictionary)"
   ]
  },
  {
   "cell_type": "code",
   "execution_count": 25,
   "metadata": {},
   "outputs": [
    {
     "name": "stdout",
     "output_type": "stream",
     "text": [
      "2005\n"
     ]
    }
   ],
   "source": [
    "print(dictionary['kitab']['Davinchi']['Year'])"
   ]
  },
  {
   "cell_type": "code",
   "execution_count": 26,
   "metadata": {},
   "outputs": [
    {
     "name": "stdout",
     "output_type": "stream",
     "text": [
      "dict_values([{'Davinchi': {'Author': 'Dan Brown', 'Year': '2005', 'Publisher': 'BrightSummaries'}, 'A Life': {'Author': 'Gabriel Garcia Marquez', 'Year': '2012', 'Publisher': 'Bloomsbury Publishing'}}])\n"
     ]
    }
   ],
   "source": [
    "print(dictionary.values())"
   ]
  },
  {
   "cell_type": "code",
   "execution_count": 31,
   "metadata": {},
   "outputs": [
    {
     "data": {
      "text/plain": [
       "{'Davinchi': {'Author': 'Dan Brown',\n",
       "  'Year': '2005',\n",
       "  'Publisher': 'BrightSummaries'},\n",
       " 'A Life': {'Author': 'Gabriel Garcia Marquez',\n",
       "  'Year': '2012',\n",
       "  'Publisher': 'Bloomsbury Publishing'}}"
      ]
     },
     "execution_count": 31,
     "metadata": {},
     "output_type": "execute_result"
    }
   ],
   "source": [
    "dictionary['kitab']"
   ]
  },
  {
   "cell_type": "code",
   "execution_count": 36,
   "metadata": {},
   "outputs": [
    {
     "name": "stdout",
     "output_type": "stream",
     "text": [
      "Kitab adını qeyd edin : A Life\n",
      "\"A Life\" kitabı bazamızda var\n",
      "{'Author': 'Gabriel Garcia Marquez', 'Year': '2012', 'Publisher': 'Bloomsbury Publishing'}\n"
     ]
    }
   ],
   "source": [
    "book = input('Kitab adını qeyd edin : ')\n",
    "if book in dictionary['kitab']:\n",
    "    print('\"{}\" kitabı bazamızda var'.format(book))\n",
    "    print('{}'.format(dictionary['kitab'][book]))\n",
    "else:\n",
    "    print('Təəssüf edirik,\"{}\" kitabı bazamızda yoxdur'.format(book))"
   ]
  },
  {
   "cell_type": "code",
   "execution_count": 203,
   "metadata": {},
   "outputs": [
    {
     "name": "stdout",
     "output_type": "stream",
     "text": [
      "lütfən açar sözlərdən istifadəedin(1-meyvələr bölməsi,2-tərəvəzlər bölməsi):1\n",
      "\n",
      "Siz meyvələr bölməsində axtarış edəcəksiniz\n",
      "    \n",
      "Dükanda axtarış üçün :alma\n",
      "Bazada alma meyvəsi yoxdur\n"
     ]
    }
   ],
   "source": [
    "key = input('lütfən açar sözlərdən istifadə\\\n",
    "edin(1-meyvələr bölməsi,2-tərəvəzlər bölməsi):')\n",
    "\n",
    "\n",
    "baza = {'meyvələr':['Alma','Armud','Heyva','Nar','Gilas'],\n",
    "              'tərəvəzlər':['kartof','soğan','kələm']}\n",
    "\n",
    "if key == '1':\n",
    "    print(\"\"\"\n",
    "Siz meyvələr bölməsində axtarış edəcəksiniz\n",
    "    \"\"\")\n",
    "    search = input('Dükanda axtarış üçün :')\n",
    "    \n",
    "    if search in baza['meyvələr']:\n",
    "        print('Bazada {} meyvəsi var'.format(search))\n",
    "    else:\n",
    "        print('Bazada {} meyvəsi yoxdur'.format(search))\n",
    "   \n",
    "elif key == '2':\n",
    "    print(\"\"\"\n",
    "Siz tərəvəzlər bölməsində axtarış edəcəksiniz\n",
    "    \"\"\")\n",
    "    search = input('Dükanda axtarış üçün :')\n",
    "    \n",
    "    if search in baza['tərəvəzlər']:\n",
    "        print('Bazada {} tərəvəzi  var'.format(search))\n",
    "    else:\n",
    "        print('Təəssüf edirik,Bazada {} tərəvəzi  yoxdur'.format(search))\n",
    "else:\n",
    "    print('Daxil etdiyiniz açar söz naməlumdur')"
   ]
  },
  {
   "cell_type": "markdown",
   "metadata": {},
   "source": [
    "yuxarıdakı nümunədə 1-ci əməliyyatı seçib alma ifadəsini qeyd etdik amma meyvənin olmadığı barədə bizə mesaj verdi.Halbuki alma meyvəsi bazada var.və böyük hərflə ifadələri yazdığımız üçün bu problemdən çıxmağın yolu sətir tipi verilənlərin metodlarından istifadə etməkdir."
   ]
  },
  {
   "cell_type": "code",
   "execution_count": 204,
   "metadata": {},
   "outputs": [
    {
     "name": "stdout",
     "output_type": "stream",
     "text": [
      "lütfən açar sözlərdən istifadə edin(1-meyvələr bölməsi,2-tərəvəzlər bölməsi):1\n",
      "Dükanda axtarış üçün :alma\n",
      "\n",
      "Siz meyvələr bölməsində axtarış edəcəksiniz\n",
      "    \n",
      "Bazada Alma meyvəsi var\n"
     ]
    }
   ],
   "source": [
    "key = input('lütfən açar sözlərdən istifadə \\\n",
    "edin(1-meyvələr bölməsi,2-tərəvəzlər bölməsi):')\n",
    "\n",
    "\n",
    "baza = {'meyvələr':['Alma','Armud','Heyva','Nar','Gilas'],\n",
    "              'tərəvəzlər':['Kartof','Soğan','Kələm']}\n",
    "\n",
    "search = input('Dükanda axtarış üçün :')\n",
    "search = search.capitalize() #aldığımız sətir tipi verilənin ilk hərfini böyük hərfə çeviririk\n",
    "if key == '1':\n",
    "    print(\"\"\"\n",
    "Siz meyvələr bölməsində axtarış edəcəksiniz\n",
    "    \"\"\")\n",
    "        \n",
    "    if search in baza['meyvələr']:\n",
    "        print('Bazada {} meyvəsi var'.format(search))\n",
    "    else:\n",
    "        print('Bazada {} meyvəsi yoxdur'.format(search))\n",
    "   \n",
    "elif key == '2':\n",
    "    print(\"\"\"\n",
    "Siz tərəvəzlər bölməsində axtarış edəcəksiniz\n",
    "    \"\"\")\n",
    "    \n",
    "    \n",
    "    if search in baza['tərəvəzlər']:\n",
    "        print('Bazada {} tərəvəzi  var'.format(search))\n",
    "    else:\n",
    "        print('Təəssüf edirik,Bazada {} tərəvəzi  yoxdur'.format(search))\n",
    "else:\n",
    "    print('Daxil etdiyiniz açar söz naməlumdur')"
   ]
  },
  {
   "cell_type": "code",
   "execution_count": null,
   "metadata": {},
   "outputs": [],
   "source": []
  },
  {
   "cell_type": "code",
   "execution_count": null,
   "metadata": {},
   "outputs": [],
   "source": []
  },
  {
   "cell_type": "code",
   "execution_count": null,
   "metadata": {},
   "outputs": [],
   "source": []
  },
  {
   "cell_type": "markdown",
   "metadata": {},
   "source": [
    "# Dövr Operatorları"
   ]
  },
  {
   "cell_type": "markdown",
   "metadata": {},
   "source": [
    "Həmçinin dövr operatorları iki hissədən ibarətdir.Sayğaclı(for) Şərtli(While) "
   ]
  },
  {
   "cell_type": "markdown",
   "metadata": {},
   "source": [
    "Əgər Dövrün ilk və son dəyərləri məlumdursa sayğaclı dövr,əgər təkrar elementlərin sayı öncədən məlum deyilsə şərtli dövrlər adlanır.\n"
   ]
  },
  {
   "cell_type": "code",
   "execution_count": 41,
   "metadata": {},
   "outputs": [
    {
     "name": "stdout",
     "output_type": "stream",
     "text": [
      "[1, 2, 3, 4, 5, 6]\n",
      "1\n",
      "2\n",
      "3\n",
      "4\n",
      "5\n",
      "6\n"
     ]
    }
   ],
   "source": [
    "siyahı = [1,2,3,4,5,6];\n",
    "print(siyahı)\n",
    "for i in siyahı:\n",
    "    print(i)"
   ]
  },
  {
   "cell_type": "markdown",
   "metadata": {},
   "source": [
    "Yuxarıdakı nümunədə siyahı tərtib etdik,daha sonra i dəyişəninə siyahı elementlərini hər dövrdə mənimsədərək print() funksiyası ilə ekrana çap etdirdik"
   ]
  },
  {
   "cell_type": "markdown",
   "metadata": {},
   "source": [
    "Və 6-ədədini ekrana çap edib dövrü bitirdi.Ümumi qayda olaraq biz qeyd etdikki dövrün ilk və son dəyərləri məlumdursa sayğaclı(for) dövr adlanır.Bizim yazdığımız nümunədə də siyahı dövrün kökü olub ilk və son elementlərin qiymətləri məlum olduğu üçün (1 və 6) dövrü 6 ədədində sonlandırdı"
   ]
  },
  {
   "cell_type": "markdown",
   "metadata": {},
   "source": [
    "və ya "
   ]
  },
  {
   "cell_type": "code",
   "execution_count": 42,
   "metadata": {},
   "outputs": [
    {
     "name": "stdout",
     "output_type": "stream",
     "text": [
      "P\n",
      "y\n",
      "t\n",
      "h\n",
      "o\n",
      "n\n"
     ]
    }
   ],
   "source": [
    "string = 'Python';\n",
    "for sətir in string:\n",
    "    print(sətir)"
   ]
  },
  {
   "cell_type": "markdown",
   "metadata": {},
   "source": [
    "Sətir tipi verilənlərin dəyəri,hər biri simvolu xarakterizə etdiyindən python ifadəsi hərflərə parçalandı."
   ]
  },
  {
   "cell_type": "code",
   "execution_count": 50,
   "metadata": {},
   "outputs": [
    {
     "name": "stdout",
     "output_type": "stream",
     "text": [
      "Python Octave\n",
      "Python Rust\n",
      "Python Go\n",
      "C++ Octave\n",
      "C++ Rust\n",
      "C++ Go\n",
      "Java Octave\n",
      "Java Rust\n",
      "Java Go\n"
     ]
    }
   ],
   "source": [
    "kortej1 = ('Python','C++','Java')\n",
    "kortej2 = ('Octave','Rust','Go')\n",
    "for i in kortej1:\n",
    "    for j in kortej2:\n",
    "        print(i,j)"
   ]
  },
  {
   "cell_type": "markdown",
   "metadata": {},
   "source": [
    "Yuxarıdakı nümunədə iç içə for operatorundan istifadə edərək hər iki kortej daxilində ifadələri qarşı qarşıya çap etdik"
   ]
  },
  {
   "cell_type": "code",
   "execution_count": 56,
   "metadata": {},
   "outputs": [
    {
     "name": "stdout",
     "output_type": "stream",
     "text": [
      "1 Python\n",
      "2 C++\n",
      "3 Java\n"
     ]
    }
   ],
   "source": [
    "kortej = ('Python','C++','Java')\n",
    "sayğac = 0\n",
    "for i in kortej:\n",
    "    sayğac+=1\n",
    "    print(sayğac,i)\n",
    "    \n",
    "    \n",
    "     "
   ]
  },
  {
   "cell_type": "markdown",
   "metadata": {},
   "source": [
    "lüğətlərdən istifadə edərək"
   ]
  },
  {
   "cell_type": "code",
   "execution_count": 64,
   "metadata": {},
   "outputs": [
    {
     "name": "stdout",
     "output_type": "stream",
     "text": [
      "['Namiq', 'Arzu']\n",
      "['Mammadov', 'Garayeva']\n"
     ]
    }
   ],
   "source": [
    "dictionary = {'name':['Namiq','Arzu'],\n",
    "             'surname':['Mammadov','Garayeva']};\n",
    "\n",
    "for i in dictionary.values():\n",
    "    print(i)"
   ]
  },
  {
   "cell_type": "code",
   "execution_count": 65,
   "metadata": {},
   "outputs": [
    {
     "name": "stdout",
     "output_type": "stream",
     "text": [
      "name\n",
      "surname\n"
     ]
    }
   ],
   "source": [
    "dictionary = {'name':['Namiq','Arzu'],\n",
    "             'surname':['Mammadov','Garayeva']};\n",
    "\n",
    "for i in dictionary.keys():\n",
    "    print(i)"
   ]
  },
  {
   "cell_type": "code",
   "execution_count": 68,
   "metadata": {},
   "outputs": [
    {
     "name": "stdout",
     "output_type": "stream",
     "text": [
      "Python\n",
      "C++\n",
      "Javascript\n",
      "Php\n"
     ]
    }
   ],
   "source": [
    "siyahı = ['Python','C++','Javascript','Php']\n",
    "count=0\n",
    "for i in siyahı:\n",
    "    print(i)"
   ]
  },
  {
   "cell_type": "code",
   "execution_count": 76,
   "metadata": {},
   "outputs": [
    {
     "name": "stdout",
     "output_type": "stream",
     "text": [
      "['Java']\n",
      "['Java', 'Python']\n",
      "['Java', 'Python', 'Php']\n"
     ]
    }
   ],
   "source": [
    "listler = []\n",
    "kortej = ('Java','Python','Php')\n",
    "for i in kortej:\n",
    "    listler.append(i)\n",
    "    print(listler)"
   ]
  },
  {
   "cell_type": "markdown",
   "metadata": {},
   "source": [
    "Yuxarıdakı nümunədə hər dövr tətbiq olunduğu zaman kortej daxilindəki elementlər siyahıya əlavə olunur.print() funksiyasını dövr operatoru daxilində yerləşdirdikki,dövr təkrarlandığı müddətdə hansı proseslərin getdiyini görək."
   ]
  },
  {
   "cell_type": "code",
   "execution_count": 77,
   "metadata": {},
   "outputs": [
    {
     "name": "stdout",
     "output_type": "stream",
     "text": [
      "['Java', 'Python', 'Php']\n"
     ]
    }
   ],
   "source": [
    "listler = []\n",
    "kortej = ('Java','Python','Php')\n",
    "for i in kortej:\n",
    "    listler.append(i)\n",
    "print(listler)"
   ]
  },
  {
   "cell_type": "markdown",
   "metadata": {},
   "source": [
    "print() funksiyasını blokdan kənarda qeyd etsək ümumi nəticə ekrana çap olunacaqdır"
   ]
  },
  {
   "cell_type": "code",
   "execution_count": 84,
   "metadata": {},
   "outputs": [
    {
     "name": "stdout",
     "output_type": "stream",
     "text": [
      "Siyahıya əlavə edəcəyiniz elementi yazın:Python\n",
      "['P', 'y', 't', 'h', 'o', 'n']\n"
     ]
    }
   ],
   "source": [
    "data = input('Siyahıya əlavə edəcəyiniz elementi yazın:')\n",
    "siyahı = []\n",
    "for data in data:\n",
    "    siyahı.append(data)\n",
    "print(siyahı)"
   ]
  },
  {
   "cell_type": "code",
   "execution_count": 85,
   "metadata": {},
   "outputs": [
    {
     "name": "stdout",
     "output_type": "stream",
     "text": [
      "[1, 2, 3, 4]\n",
      "[5, 6, 7, 8]\n",
      "['AI', 'ML', 'DL']\n"
     ]
    }
   ],
   "source": [
    "siyahı = [[1,2,3,4],[5,6,7,8],['AI','ML','DL']]\n",
    "for v in siyahı:\n",
    "    print(v)"
   ]
  },
  {
   "cell_type": "markdown",
   "metadata": {},
   "source": [
    "Yuxarıdakı nümunədə əgər hər indeksdəki bütün elementləri almaq istəsək"
   ]
  },
  {
   "cell_type": "code",
   "execution_count": 90,
   "metadata": {},
   "outputs": [
    {
     "name": "stdout",
     "output_type": "stream",
     "text": [
      "1 2 3 4\n",
      "5 6 7 8\n",
      "AI ML DL SP\n"
     ]
    }
   ],
   "source": [
    "siyahı = [[1,2,3,4],[5,6,7,8],['AI','ML','DL','SP']]\n",
    "for a,b,c,d in siyahı:\n",
    "    print(a,b,c,d)"
   ]
  },
  {
   "cell_type": "markdown",
   "metadata": {},
   "source": [
    "formada yazacağıq"
   ]
  },
  {
   "cell_type": "code",
   "execution_count": 91,
   "metadata": {},
   "outputs": [],
   "source": []
  },
  {
   "cell_type": "code",
   "execution_count": 98,
   "metadata": {},
   "outputs": [
    {
     "name": "stdout",
     "output_type": "stream",
     "text": [
      "Cavab: 1\n",
      "Cavab: 3\n",
      "Cavab: 6\n",
      "Cavab: 10\n",
      "Cavab: 15\n"
     ]
    }
   ],
   "source": [
    "kortej = (1,2,3,4,5)\n",
    "summa = 0\n",
    "for i in kortej:\n",
    "    summa+=i\n",
    "    print('Cavab:',summa)\n",
    "    "
   ]
  },
  {
   "cell_type": "code",
   "execution_count": 110,
   "metadata": {},
   "outputs": [
    {
     "name": "stdout",
     "output_type": "stream",
     "text": [
      "Cavab: 15\n"
     ]
    }
   ],
   "source": [
    "kortej = (1,2,3,4,5)\n",
    "summa = 0\n",
    "for i in kortej:\n",
    "    summa+=i\n",
    "print('Cavab:',summa)"
   ]
  },
  {
   "cell_type": "markdown",
   "metadata": {},
   "source": [
    "Yuxarıdakı nümunədə siyahı daxilindəki ədədlərin hasilini əldə etmək istədik amma 0 -cavabını aldıq.Təbiki dövrü sayğac sıfırdan başladığı üçün 0 ın digər ədədlərə hasili bizə sıfır cavabını verəcəkdir.Bunun alternativ yolu,sayğacı 1dən başlamaqdır."
   ]
  },
  {
   "cell_type": "code",
   "execution_count": 112,
   "metadata": {},
   "outputs": [
    {
     "name": "stdout",
     "output_type": "stream",
     "text": [
      "Cavab: 362880\n"
     ]
    }
   ],
   "source": [
    "s = 1\n",
    "for i in [1,2,3,4,5,6,7,8,9]:\n",
    "    s *= i\n",
    "print('Cavab:',s)"
   ]
  },
  {
   "cell_type": "code",
   "execution_count": 118,
   "metadata": {},
   "outputs": [
    {
     "name": "stdout",
     "output_type": "stream",
     "text": [
      "Java\n",
      "Python\n",
      "Go\n",
      "C++\n"
     ]
    }
   ],
   "source": [
    "siyahı = set(['Python','Java','C++','Go'])\n",
    "for j in siyahı:\n",
    "    print(j)"
   ]
  },
  {
   "cell_type": "code",
   "execution_count": 123,
   "metadata": {},
   "outputs": [
    {
     "name": "stdout",
     "output_type": "stream",
     "text": [
      "{'Python'}\n",
      "{'Java', 'Python'}\n",
      "{'Java', 'Python', 'C++'}\n",
      "{'Java', 'Python', 'Go', 'C++'}\n",
      "--------------------\n",
      "{'Java', 'Python', 'Go', 'C++'}\n",
      "<class 'set'>\n"
     ]
    }
   ],
   "source": [
    "siyahı = ['Python','Java','C++','Go']\n",
    "dəst = set()\n",
    "for j in siyahı:\n",
    "    dəst.add(j)\n",
    "    print(dəst)\n",
    "print('-'*20)\n",
    "print(dəst)\n",
    "print(type(dəst))"
   ]
  },
  {
   "cell_type": "code",
   "execution_count": 141,
   "metadata": {},
   "outputs": [
    {
     "name": "stdout",
     "output_type": "stream",
     "text": [
      "['name Ramin', 'surname Aliyev', 'email example@gmail.com', 'phone +994500']\n"
     ]
    }
   ],
   "source": [
    "key = ['name','surname','email','phone']\n",
    "value = ['Ramin','Aliyev','example@gmail.com','+994500']\n",
    "siyahı = []\n",
    "for i,j in zip(key,value):\n",
    "    siyahı.append(i+' '+j)\n",
    "print(siyahı)"
   ]
  },
  {
   "cell_type": "code",
   "execution_count": 151,
   "metadata": {},
   "outputs": [
    {
     "name": "stdout",
     "output_type": "stream",
     "text": [
      "[1, 2]\n",
      "[3, 4]\n",
      "[5, 6]\n",
      "********************\n",
      "[1, 2]\n",
      "[3, 4]\n",
      "[5, 6]\n"
     ]
    }
   ],
   "source": [
    "siyahı = [[1,2],[3,4],[5,6]]\n",
    "\n",
    "for i in siyahı:\n",
    "    print(i)\n",
    "print('*'*20)\n",
    "print(siyahı[0])\n",
    "print(siyahı[1])\n",
    "print(siyahı[2])\n"
   ]
  },
  {
   "cell_type": "code",
   "execution_count": 152,
   "metadata": {},
   "outputs": [
    {
     "name": "stdout",
     "output_type": "stream",
     "text": [
      "1 2\n",
      "3 4\n",
      "5 6\n",
      "********************\n",
      "[1, 2]\n",
      "[3, 4]\n",
      "[5, 6]\n"
     ]
    }
   ],
   "source": [
    "siyahı = [[1,2],[3,4],[5,6]]\n",
    "\n",
    "for i,j in siyahı:\n",
    "    print(i,j)\n",
    "print('*'*20)\n",
    "print(siyahı[0])\n",
    "print(siyahı[1])\n",
    "print(siyahı[2])"
   ]
  },
  {
   "cell_type": "code",
   "execution_count": 158,
   "metadata": {},
   "outputs": [],
   "source": [
    "dictionary = {'lang':['Python','C++','Javascript'],\n",
    "              'library':['Opencv','Pandas','librosa'],\n",
    "              'ai':['ML','DL']}"
   ]
  },
  {
   "cell_type": "code",
   "execution_count": 159,
   "metadata": {},
   "outputs": [
    {
     "name": "stdout",
     "output_type": "stream",
     "text": [
      "lang\n",
      "library\n",
      "ai\n"
     ]
    }
   ],
   "source": [
    "for i in dictionary:\n",
    "    print(i)"
   ]
  },
  {
   "cell_type": "markdown",
   "metadata": {},
   "source": [
    "Yuxarıdakı nümunədə lüğət daxilindən sadəcə açar sözləri əldə etdik.amma dəyərləri əldə edə bilmədik."
   ]
  },
  {
   "cell_type": "code",
   "execution_count": 160,
   "metadata": {},
   "outputs": [
    {
     "name": "stdout",
     "output_type": "stream",
     "text": [
      "['Python', 'C++', 'Javascript']\n",
      "['Opencv', 'Pandas', 'librosa']\n",
      "['ML', 'DL']\n"
     ]
    }
   ],
   "source": [
    "dictionary = {'lang':['Python','C++','Javascript'],\n",
    "              'library':['Opencv','Pandas','librosa'],\n",
    "              'ai':['ML','DL']}\n",
    "for i in dictionary.values():\n",
    "    print(i)"
   ]
  },
  {
   "cell_type": "markdown",
   "metadata": {},
   "source": [
    "Dəyərləri yuxarıdakı nümunədə əldə etdik.Bütün elementləri əldə etmək üçün isə həm keys həm values elementlərini iki dəyişən ilə əvəzləsək"
   ]
  },
  {
   "cell_type": "code",
   "execution_count": 161,
   "metadata": {},
   "outputs": [
    {
     "name": "stdout",
     "output_type": "stream",
     "text": [
      "lang ['Python', 'C++', 'Javascript']\n",
      "library ['Opencv', 'Pandas', 'librosa']\n",
      "ai ['ML', 'DL']\n"
     ]
    }
   ],
   "source": [
    "dictionary = {'lang':['Python','C++','Javascript'],\n",
    "              'library':['Opencv','Pandas','librosa'],\n",
    "              'ai':['ML','DL']}\n",
    "for i,j in dictionary.items():\n",
    "    print(i,j)"
   ]
  },
  {
   "cell_type": "code",
   "execution_count": 173,
   "metadata": {},
   "outputs": [
    {
     "name": "stdout",
     "output_type": "stream",
     "text": [
      "lütfən açar sözlərdən istifadəedin(1-meyvələr bölməsi,2-tərəvəzlər bölməsi):1\n",
      "\n",
      "        Siz meyvələr bölməsində axtarış edəcəksiniz\n",
      "    \n",
      "Dükanda axtarış üçün :alma\n",
      "Təəssüf edirik,Bazada alma meyvəsi yoxdur\n"
     ]
    }
   ],
   "source": [
    "\n",
    "    "
   ]
  },
  {
   "cell_type": "code",
   "execution_count": null,
   "metadata": {},
   "outputs": [],
   "source": []
  }
 ],
 "metadata": {
  "kernelspec": {
   "display_name": "Python 3",
   "language": "python",
   "name": "python3"
  },
  "language_info": {
   "codemirror_mode": {
    "name": "ipython",
    "version": 3
   },
   "file_extension": ".py",
   "mimetype": "text/x-python",
   "name": "python",
   "nbconvert_exporter": "python",
   "pygments_lexer": "ipython3",
   "version": "3.7.5"
  }
 },
 "nbformat": 4,
 "nbformat_minor": 2
}
