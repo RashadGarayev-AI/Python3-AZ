{
 "cells": [
  {
   "cell_type": "markdown",
   "metadata": {},
   "source": [
    "# Python Conditions and If statements"
   ]
  },
  {
   "cell_type": "markdown",
   "metadata": {},
   "source": [
    "Pythonda Şərt operatorları (if else elif)"
   ]
  },
  {
   "cell_type": "markdown",
   "metadata": {},
   "source": [
    "Hər bir dildə olduğu kimi python dilində də şərt operatorları var.Şərt operatorları verilmiş arqumentlərə qarşı şərt qoyaraq kod blokunu təşkil edir.Bura qədər öyrəndiyimiz ümumi girişdən savayı data tipləri mövzusu necə vacibdirsə şərt operatorları da bir o qədər vacib nüans sayılır.Demək olarki şərt operatorlarını öyrəndiyiniz müddətdə kod sətirləri asta-asta mürəkkəbləşəcək və beyninizdə sual yaradacaq bəzi suallar daha da aydınlaşacaq.Şərt operatorları istifadəsi zamanı dil özünəməxsus abzas(indentation) xüsusiyyəti ilə operatora daxil olan ifadələri həmin abzasdan yazılma məcburiyyətini tələb edir.abzas 4 dəfə boşluq (space) düyməsinə və ya bir tab düyməsi qədər məsafədə olub ifadələrin yazılmasını o nöqtədən hesaba alır.if Operatoru həmçinin dildə açar söz olub tətbiq edilməsində, məntiq operatorlarını təşkil edə bilir .Şərt operatorlarını öyrəndiyiniz müddətdə həmçinin əvvəlki mövzuları da təkrarlamış olacaqsınız.Odurki nəzəri hissəni çox uzatmayıb if operatoruna nəzər yetirək"
   ]
  },
  {
   "cell_type": "code",
   "execution_count": 1,
   "metadata": {},
   "outputs": [
    {
     "name": "stdout",
     "output_type": "stream",
     "text": [
      "\n",
      "\n",
      "if arqument:\n",
      "    kodlar;\n",
      "if arqument1:\n",
      "    kodlar;\n",
      "\n",
      "\n",
      "\n",
      "\n",
      "\n"
     ]
    }
   ],
   "source": [
    "print(\"\"\"\n",
    "\n",
    "if arqument:\n",
    "    kodlar;\n",
    "if arqument1:\n",
    "    kodlar;\n",
    "\n",
    "\n",
    "\n",
    "\n",
    "\"\"\")"
   ]
  },
  {
   "cell_type": "code",
   "execution_count": 38,
   "metadata": {},
   "outputs": [
    {
     "ename": "IndentationError",
     "evalue": "expected an indented block (<ipython-input-38-61b40b9d3259>, line 4)",
     "output_type": "error",
     "traceback": [
      "\u001b[1;36m  File \u001b[1;32m\"<ipython-input-38-61b40b9d3259>\"\u001b[1;36m, line \u001b[1;32m4\u001b[0m\n\u001b[1;33m    print(\"{} {}-ddən böyükdür.\".format(b,a))\u001b[0m\n\u001b[1;37m        ^\u001b[0m\n\u001b[1;31mIndentationError\u001b[0m\u001b[1;31m:\u001b[0m expected an indented block\n"
     ]
    }
   ],
   "source": [
    "a = 33\n",
    "b = 200\n",
    "if b > a:\n",
    "print(\"{} {}-ddən böyükdür.\".format(b,a))"
   ]
  },
  {
   "cell_type": "markdown",
   "metadata": {},
   "source": [
    "Yuxarıdakı nümunədə abzas qorunması təşkil olunmadığından IndentationError: expected an indented block -xətası aldıq"
   ]
  },
  {
   "cell_type": "code",
   "execution_count": 39,
   "metadata": {},
   "outputs": [
    {
     "name": "stdout",
     "output_type": "stream",
     "text": [
      "200 33-ddən böyükdür.\n"
     ]
    }
   ],
   "source": [
    "a = 33\n",
    "b = 200\n",
    "if b > a:\n",
    "    print(\"{} {}-dən böyükdür.\".format(b,a))"
   ]
  },
  {
   "cell_type": "markdown",
   "metadata": {},
   "source": [
    "Formasında ifadə olunur.Nümunələrə baxaq"
   ]
  },
  {
   "cell_type": "code",
   "execution_count": 2,
   "metadata": {},
   "outputs": [
    {
     "data": {
      "text/plain": [
       "True"
      ]
     },
     "execution_count": 2,
     "metadata": {},
     "output_type": "execute_result"
    }
   ],
   "source": [
    "siyahı = ['Python','Java','C++']\n",
    "'Python' in siyahı"
   ]
  },
  {
   "cell_type": "markdown",
   "metadata": {},
   "source": [
    "ifadəsinin yerinə if operatorundan istifadə edərək"
   ]
  },
  {
   "cell_type": "code",
   "execution_count": 3,
   "metadata": {},
   "outputs": [
    {
     "name": "stdout",
     "output_type": "stream",
     "text": [
      "Bəli \"Python\" ifadəsi lüğət daxilində var!\n"
     ]
    }
   ],
   "source": [
    "siyahı = ['Python','Java','C++']\n",
    "if 'Python' in siyahı:\n",
    "    print('Bəli \"Python\" ifadəsi lüğət daxilində var!')"
   ]
  },
  {
   "cell_type": "markdown",
   "metadata": {},
   "source": [
    "Yuxarıdakı nümunədə siyahı tərtib edib Python ifadəsinin siyahı daxilində var olub-olmadığını sorğuya çəkdik.Əgər Python ifadəsi siyahı daxilində varsa ekrana ......... ifadələr yaz əmrini verdik."
   ]
  },
  {
   "cell_type": "markdown",
   "metadata": {},
   "source": [
    "Biz bilirikki verdiyimiz ifadə siyahı daxilində mövcuddur,bunun əksi olaraq sorğuya çəkdiyimiz ifadə əgər olmasa necə!"
   ]
  },
  {
   "cell_type": "code",
   "execution_count": 4,
   "metadata": {},
   "outputs": [],
   "source": [
    "siyahı = ['Python','Java','C++']\n",
    "if 'Rust' in siyahı:\n",
    "    print('Bəli \"Python\" ifadəsi lüğət daxilində var!')"
   ]
  },
  {
   "cell_type": "markdown",
   "metadata": {},
   "source": [
    "Yuxarıdakı nümunədə Rust ifadəsini sorğuya çəkdim və bilirikki bu ifadə siyahı daxilində mövcud deyil.Bu ifadələri biz şərti olaraq qeyd edirik,proqramları biz yönəldə bilmərik hər zaman.İfadəni istifadəçidən alsaq istifadəçi toplama işarəsi girərsə ekrana heç bir ifadə çap olunmayaraq proqram bitəcəkdir.Bunun alternativi else operatorudur.if ifadəsinin əksinə olan məqamlarda dövrəyə girərək daxilində məlumatları çalışdırır."
   ]
  },
  {
   "cell_type": "code",
   "execution_count": 278,
   "metadata": {},
   "outputs": [
    {
     "name": "stdout",
     "output_type": "stream",
     "text": [
      "Siyahı daxilində axtarış üçün ifadə yazın : Rust\n",
      "********************\n",
      "Bəli \"Rust\" ifadəsi siyahı daxilində var!\n"
     ]
    }
   ],
   "source": [
    "siyahı = ['Python','Java','C++','Rust']\n",
    "data = input('Siyahı daxilində axtarış üçün ifadə yazın : ')\n",
    "if data in siyahı:\n",
    "    print('*'*20)\n",
    "    print('Bəli \"{}\" ifadəsi siyahı daxilində var!'.format(data))\n",
    "else:\n",
    "    print('Xeyr \"{}\" ifadəsi siyahı daxilində yoxdur!'.format(data))"
   ]
  },
  {
   "cell_type": "code",
   "execution_count": 279,
   "metadata": {},
   "outputs": [
    {
     "name": "stdout",
     "output_type": "stream",
     "text": [
      "Siyahı daxilində axtarış üçün ifadə yazın : Go\n",
      "Xeyr \"Go\" ifadəsi siyahı daxilində yoxdur!\n"
     ]
    }
   ],
   "source": [
    "siyahı = ['Python','Java','C++','Rust']\n",
    "data = input('Siyahı daxilində axtarış üçün ifadə yazın : ')\n",
    "if data in siyahı:\n",
    "    print('*'*20)\n",
    "    print('Bəli \"{}\" ifadəsi siyahı daxilində var!'.format(data))\n",
    "else:\n",
    "    print('Xeyr \"{}\" ifadəsi siyahı daxilində yoxdur!'.format(data))"
   ]
  },
  {
   "cell_type": "markdown",
   "metadata": {},
   "source": [
    "Digər nümunələrə baxaq"
   ]
  },
  {
   "cell_type": "code",
   "execution_count": 7,
   "metadata": {},
   "outputs": [
    {
     "name": "stdout",
     "output_type": "stream",
     "text": [
      "Number:12\n",
      "Number:5\n",
      "Cavab:2.4\n",
      "Bölmə əməlini yerinə yetirdik\n"
     ]
    }
   ],
   "source": [
    "num1 = float(input('Number:'))\n",
    "num2 = float(input('Number:'))\n",
    "result = None;\n",
    "if num1>num2:\n",
    "    result = num1/num2\n",
    "    print('Cavab:{}'.format(result))\n",
    "else:\n",
    "    result = num2/num1;\n",
    "    print('Cavab:{}'.format(result))\n",
    "print('Bölmə əməlini yerinə yetirdik')\n",
    "    \n",
    "    "
   ]
  },
  {
   "cell_type": "code",
   "execution_count": 8,
   "metadata": {},
   "outputs": [
    {
     "name": "stdout",
     "output_type": "stream",
     "text": [
      "Number:4\n",
      "Number:7\n",
      "Cavab:1.75\n",
      "Bölmə əməlini yerinə yetirdik\n"
     ]
    }
   ],
   "source": [
    "num1 = float(input('Number:'))\n",
    "num2 = float(input('Number:'))\n",
    "result = None;\n",
    "if num1>num2:\n",
    "    result = num1/num2\n",
    "    print('Cavab:{}'.format(result))\n",
    "else:\n",
    "    result = num2/num1;\n",
    "    print('Cavab:{}'.format(result))\n",
    "print('Bölmə əməlini yerinə yetirdik')"
   ]
  },
  {
   "cell_type": "markdown",
   "metadata": {},
   "source": [
    "Yuxarıdakı nümunədə istifadəçidən aldığımız iki ədədi müqayisə edib bölmə əməlini yerinə yetirdik"
   ]
  },
  {
   "cell_type": "code",
   "execution_count": 9,
   "metadata": {},
   "outputs": [
    {
     "name": "stdout",
     "output_type": "stream",
     "text": [
      "Yaşınızı qeyd edin:18\n",
      "Siz yaş məhdudiyyətini keçmisiniz.Filmi izləyə bilərsiniz!\n"
     ]
    }
   ],
   "source": [
    "yaş = int(input('Yaşınızı qeyd edin:'));\n",
    "limit = 18;\n",
    "if yaş >= limit :\n",
    "    print('Siz yaş məhdudiyyətini keçmisiniz.Filmi izləyə bilərsiniz!')\n",
    "else:\n",
    "    print('Yaşınız 18-dən kiçikdir.Filmi izləmək sizə qadağandır.')"
   ]
  },
  {
   "cell_type": "code",
   "execution_count": 10,
   "metadata": {},
   "outputs": [
    {
     "name": "stdout",
     "output_type": "stream",
     "text": [
      "Yaşınızı qeyd edin:16\n",
      "Yaşınız 18-dən kiçikdir.Filmi izləmək sizə qadağandır.\n"
     ]
    }
   ],
   "source": [
    "yaş = int(input('Yaşınızı qeyd edin:'));\n",
    "limit = 18;\n",
    "if yaş >= limit :\n",
    "    print('Siz yaş məhdudiyyətini keçmisiniz.Filmi izləyə bilərsiniz!')\n",
    "else:\n",
    "    print('Yaşınız 18-dən kiçikdir.Filmi izləmək sizə qadağandır.')"
   ]
  },
  {
   "cell_type": "code",
   "execution_count": 11,
   "metadata": {},
   "outputs": [
    {
     "name": "stdout",
     "output_type": "stream",
     "text": [
      "Şifrənizi yazın:abc12\n",
      "Şifrəniz 6 sayda olmalıdır.\n"
     ]
    }
   ],
   "source": [
    "password = input('Şifrənizi yazın:');\n",
    "limit = 6\n",
    "if len(password)<limit :\n",
    "    print('Şifrəniz {} sayda olmalıdır.'.format(limit))\n"
   ]
  },
  {
   "cell_type": "code",
   "execution_count": 12,
   "metadata": {},
   "outputs": [
    {
     "name": "stdout",
     "output_type": "stream",
     "text": [
      "Şifrənizi yazın:abc123\n"
     ]
    }
   ],
   "source": [
    "password = input('Şifrənizi yazın:');\n",
    "limit = 6\n",
    "if len(password)<limit :\n",
    "    print('Şifrəniz {} sayda olmalıdır.'.format(limit))"
   ]
  },
  {
   "cell_type": "code",
   "execution_count": 13,
   "metadata": {},
   "outputs": [
    {
     "name": "stdout",
     "output_type": "stream",
     "text": [
      "Şifrənizi yazın:abc123\n",
      "Şifrəniz 6 qəbul olundu.\n",
      "Şifrəniz :abc123\n"
     ]
    }
   ],
   "source": [
    "password = input('Şifrənizi yazın:');\n",
    "limit = 6\n",
    "if len(password)<limit :\n",
    "    print('Şifrəniz {} sayda olmalıdır.'.format(limit))\n",
    "if len(password)==limit:\n",
    "    print('Şifrəniz {} qəbul olundu.'.format(limit))\n",
    "    print('Şifrəniz :{}'.format(password))"
   ]
  },
  {
   "cell_type": "code",
   "execution_count": 14,
   "metadata": {},
   "outputs": [
    {
     "name": "stdout",
     "output_type": "stream",
     "text": [
      "Şifrənizi yazın:abc1\n",
      "Şifrəniz 6 sayda olmalıdır.\n"
     ]
    }
   ],
   "source": [
    "password = input('Şifrənizi yazın:');\n",
    "limit = 6\n",
    "if len(password)<limit :\n",
    "    print('Şifrəniz {} sayda olmalıdır.'.format(limit))\n",
    "if len(password)==limit:\n",
    "    print('Şifrəniz \"{}\" qəbul olundu.'.format(password))\n",
    "    print('Şifrəniz :{}'.format(password))"
   ]
  },
  {
   "cell_type": "markdown",
   "metadata": {},
   "source": [
    "elif Operatoru"
   ]
  },
  {
   "cell_type": "markdown",
   "metadata": {},
   "source": [
    "birdən çox seçimlər qarşısında elif operatorundan istifadə etmək daha məqsədəuyğundur"
   ]
  },
  {
   "cell_type": "markdown",
   "metadata": {},
   "source": [
    "Riyazi əməlləri yerinə yetirən proqram hazırlayaq"
   ]
  },
  {
   "cell_type": "code",
   "execution_count": 15,
   "metadata": {},
   "outputs": [
    {
     "name": "stdout",
     "output_type": "stream",
     "text": [
      "\n",
      "\n",
      "###########################\n",
      "#                         #\n",
      "# Sadə Hesablama Proqramı #\n",
      "#                         #\n",
      "#                         #\n",
      "###########################\n",
      "\n",
      "'1' Toplama\n",
      "'2' Çıxma\n",
      "'3' Vurma\n",
      "'4' Bölmə\n",
      "'5' Faiz\n",
      "\n",
      "\n",
      "Yuxarıdakı əməliyyatlardan birini seçin5\n",
      "Faizi tapılacaq ədəd:1000\n",
      "Faiz dərəcəsi:30\n",
      "Cavab : 300.0\n"
     ]
    }
   ],
   "source": [
    "print(\"\"\"\n",
    "\n",
    "###########################\n",
    "#                         #\n",
    "# Sadə Hesablama Proqramı #\n",
    "#                         #\n",
    "#                         #\n",
    "###########################\n",
    "\n",
    "'1' Toplama\n",
    "'2' Çıxma\n",
    "'3' Vurma\n",
    "'4' Bölmə\n",
    "'5' Faiz\n",
    "\n",
    "\"\"\")\n",
    "\n",
    "#Proqramın tərtibatı\n",
    "\n",
    "#Əməliyyatın seçilməsi\n",
    "\n",
    "operation = input('Yuxarıdakı əməliyyatlardan birini seçin')\n",
    "\n",
    "\n",
    "result = None;\n",
    "if operation == '1':\n",
    "    num1 = float(input('Ilk ədədi yazın:'))\n",
    "    num2 = float(input('İkinci ədədi yazın:'))\n",
    "    #Toplama əməli\n",
    "    result = num1+num2\n",
    "    print('Cavab : {}'.format(result))\n",
    "\n",
    "elif operation == '2':\n",
    "    num1 = float(input('Ilk ədədi yazın:'))\n",
    "    num2 = float(input('İkinci ədədi yazın:'))\n",
    "    #Çıxma əməli\n",
    "    result = num1-num2\n",
    "    print('Cavab : {}'.format(result))\n",
    "    \n",
    "elif operation == '3':\n",
    "    num1 = float(input('Ilk ədədi yazın:'))\n",
    "    num2 = float(input('İkinci ədədi yazın:'))\n",
    "    #Vurma əməli\n",
    "    result = num1*num2\n",
    "    print('Cavab : {}'.format(result))\n",
    "    \n",
    "elif operation == '4':\n",
    "    num1 = float(input('Ilk ədədi yazın:'))\n",
    "    num2 = float(input('İkinci ədədi yazın:'))\n",
    "    #Bölmə əməli\n",
    "    result = num1/num2\n",
    "    print('Cavab : {}'.format(result))\n",
    "\n",
    "elif operation == '5':\n",
    "    #Faiz əməli\n",
    "    num1 = float(input('Faizi tapılacaq ədəd:'))\n",
    "    num2 = float(input('Faiz dərəcəsi:'))\n",
    "    result = (num1*num2)/100\n",
    "    print('Cavab : {}'.format(result))"
   ]
  },
  {
   "cell_type": "code",
   "execution_count": 16,
   "metadata": {},
   "outputs": [
    {
     "name": "stdout",
     "output_type": "stream",
     "text": [
      "\n",
      "\n",
      "###########################\n",
      "#                         #\n",
      "# Sadə Hesablama Proqramı #\n",
      "#                         #\n",
      "#                         #\n",
      "###########################\n",
      "\n",
      "'1' Toplama\n",
      "'2' Çıxma\n",
      "'3' Vurma\n",
      "'4' Bölmə\n",
      "'5' Faiz\n",
      "\n",
      "\n",
      "Yuxarıdakı əməliyyatlardan birini seçin3\n",
      "Ilk ədədi yazın:12\n",
      "İkinci ədədi yazın:6\n",
      "Cavab : 72.0\n"
     ]
    }
   ],
   "source": [
    "print(\"\"\"\n",
    "\n",
    "###########################\n",
    "#                         #\n",
    "# Sadə Hesablama Proqramı #\n",
    "#                         #\n",
    "#                         #\n",
    "###########################\n",
    "\n",
    "'1' Toplama\n",
    "'2' Çıxma\n",
    "'3' Vurma\n",
    "'4' Bölmə\n",
    "'5' Faiz\n",
    "\n",
    "\"\"\")\n",
    "\n",
    "#Proqramın tərtibatı\n",
    "\n",
    "#Əməliyyatın seçilməsi\n",
    "\n",
    "operation = input('Yuxarıdakı əməliyyatlardan birini seçin')\n",
    "\n",
    "\n",
    "result = None;\n",
    "if operation == '1':\n",
    "    num1 = float(input('Ilk ədədi yazın:'))\n",
    "    num2 = float(input('İkinci ədədi yazın:'))\n",
    "    #Toplama əməli\n",
    "    result = num1+num2\n",
    "    print('Cavab : {}'.format(result))\n",
    "\n",
    "elif operation == '2':\n",
    "    num1 = float(input('Ilk ədədi yazın:'))\n",
    "    num2 = float(input('İkinci ədədi yazın:'))\n",
    "    #Çıxma əməli\n",
    "    result = num1-num2\n",
    "    print('Cavab : {}'.format(result))\n",
    "    \n",
    "elif operation == '3':\n",
    "    num1 = float(input('Ilk ədədi yazın:'))\n",
    "    num2 = float(input('İkinci ədədi yazın:'))\n",
    "    #Vurma əməli\n",
    "    result = num1*num2\n",
    "    print('Cavab : {}'.format(result))\n",
    "    \n",
    "elif operation == '4':\n",
    "    num1 = float(input('Ilk ədədi yazın:'))\n",
    "    num2 = float(input('İkinci ədədi yazın:'))\n",
    "    #Bölmə əməli\n",
    "    result = num1/num2\n",
    "    print('Cavab : {}'.format(result))\n",
    "\n",
    "elif operation == '5':\n",
    "    #Faiz əməli\n",
    "    num1 = float(input('Faizi tapılacaq ədəd:'))\n",
    "    num2 = float(input('Faiz dərəcəsi:'))\n",
    "    result = (num1*num2)/100\n",
    "    print('Cavab : {}'.format(result))"
   ]
  },
  {
   "cell_type": "code",
   "execution_count": 37,
   "metadata": {},
   "outputs": [
    {
     "name": "stdout",
     "output_type": "stream",
     "text": [
      "Sorğuya çəkəcəyiniz ədədi qeyd edin:10\n",
      "10 ədədi siyahı daxilində yoxdur\n"
     ]
    }
   ],
   "source": [
    "siyahı = [1,2,3,4,5,6,7,8,9,0];\n",
    "data = int(input('Sorğuya çəkəcəyiniz ədədi qeyd edin:'))\n",
    "if data in siyahı:\n",
    "    print('{} ədədi siyahı daxilində var'.format(data))\n",
    "else:\n",
    "    print('{} ədədi siyahı daxilində yoxdur'.format(data))\n"
   ]
  },
  {
   "cell_type": "code",
   "execution_count": 23,
   "metadata": {},
   "outputs": [],
   "source": [
    "dictionary = {'kitab':{'Davinchi':{'Author':'Dan Brown','Year':'2005','Publisher':'BrightSummaries'},\n",
    "                      'A Life':{'Author':'Gabriel Garcia Marquez','Year':'2012','Publisher':'Bloomsbury Publishing'}}}"
   ]
  },
  {
   "cell_type": "code",
   "execution_count": 24,
   "metadata": {},
   "outputs": [
    {
     "name": "stdout",
     "output_type": "stream",
     "text": [
      "{'kitab': {'Davinchi': {'Author': 'Dan Brown', 'Year': '2005', 'Publisher': 'BrightSummaries'}, 'A Life': {'Author': 'Gabriel Garcia Marquez', 'Year': '2012', 'Publisher': 'Bloomsbury Publishing'}}}\n"
     ]
    }
   ],
   "source": [
    "print(dictionary)"
   ]
  },
  {
   "cell_type": "code",
   "execution_count": 25,
   "metadata": {},
   "outputs": [
    {
     "name": "stdout",
     "output_type": "stream",
     "text": [
      "2005\n"
     ]
    }
   ],
   "source": [
    "print(dictionary['kitab']['Davinchi']['Year'])"
   ]
  },
  {
   "cell_type": "code",
   "execution_count": 26,
   "metadata": {},
   "outputs": [
    {
     "name": "stdout",
     "output_type": "stream",
     "text": [
      "dict_values([{'Davinchi': {'Author': 'Dan Brown', 'Year': '2005', 'Publisher': 'BrightSummaries'}, 'A Life': {'Author': 'Gabriel Garcia Marquez', 'Year': '2012', 'Publisher': 'Bloomsbury Publishing'}}])\n"
     ]
    }
   ],
   "source": [
    "print(dictionary.values())"
   ]
  },
  {
   "cell_type": "code",
   "execution_count": 31,
   "metadata": {},
   "outputs": [
    {
     "data": {
      "text/plain": [
       "{'Davinchi': {'Author': 'Dan Brown',\n",
       "  'Year': '2005',\n",
       "  'Publisher': 'BrightSummaries'},\n",
       " 'A Life': {'Author': 'Gabriel Garcia Marquez',\n",
       "  'Year': '2012',\n",
       "  'Publisher': 'Bloomsbury Publishing'}}"
      ]
     },
     "execution_count": 31,
     "metadata": {},
     "output_type": "execute_result"
    }
   ],
   "source": [
    "dictionary['kitab']"
   ]
  },
  {
   "cell_type": "code",
   "execution_count": 36,
   "metadata": {},
   "outputs": [
    {
     "name": "stdout",
     "output_type": "stream",
     "text": [
      "Kitab adını qeyd edin : A Life\n",
      "\"A Life\" kitabı bazamızda var\n",
      "{'Author': 'Gabriel Garcia Marquez', 'Year': '2012', 'Publisher': 'Bloomsbury Publishing'}\n"
     ]
    }
   ],
   "source": [
    "book = input('Kitab adını qeyd edin : ')\n",
    "if book in dictionary['kitab']:\n",
    "    print('\"{}\" kitabı bazamızda var'.format(book))\n",
    "    print('{}'.format(dictionary['kitab'][book]))\n",
    "else:\n",
    "    print('Təəssüf edirik,\"{}\" kitabı bazamızda yoxdur'.format(book))"
   ]
  },
  {
   "cell_type": "code",
   "execution_count": 203,
   "metadata": {},
   "outputs": [
    {
     "name": "stdout",
     "output_type": "stream",
     "text": [
      "lütfən açar sözlərdən istifadəedin(1-meyvələr bölməsi,2-tərəvəzlər bölməsi):1\n",
      "\n",
      "Siz meyvələr bölməsində axtarış edəcəksiniz\n",
      "    \n",
      "Dükanda axtarış üçün :alma\n",
      "Bazada alma meyvəsi yoxdur\n"
     ]
    }
   ],
   "source": [
    "key = input('lütfən açar sözlərdən istifadə\\\n",
    "edin(1-meyvələr bölməsi,2-tərəvəzlər bölməsi):')\n",
    "\n",
    "\n",
    "baza = {'meyvələr':['Alma','Armud','Heyva','Nar','Gilas'],\n",
    "              'tərəvəzlər':['kartof','soğan','kələm']}\n",
    "\n",
    "if key == '1':\n",
    "    print(\"\"\"\n",
    "Siz meyvələr bölməsində axtarış edəcəksiniz\n",
    "    \"\"\")\n",
    "    search = input('Dükanda axtarış üçün :')\n",
    "    \n",
    "    if search in baza['meyvələr']:\n",
    "        print('Bazada {} meyvəsi var'.format(search))\n",
    "    else:\n",
    "        print('Bazada {} meyvəsi yoxdur'.format(search))\n",
    "   \n",
    "elif key == '2':\n",
    "    print(\"\"\"\n",
    "Siz tərəvəzlər bölməsində axtarış edəcəksiniz\n",
    "    \"\"\")\n",
    "    search = input('Dükanda axtarış üçün :')\n",
    "    \n",
    "    if search in baza['tərəvəzlər']:\n",
    "        print('Bazada {} tərəvəzi  var'.format(search))\n",
    "    else:\n",
    "        print('Təəssüf edirik,Bazada {} tərəvəzi  yoxdur'.format(search))\n",
    "else:\n",
    "    print('Daxil etdiyiniz açar söz naməlumdur')"
   ]
  },
  {
   "cell_type": "markdown",
   "metadata": {},
   "source": [
    "yuxarıdakı nümunədə 1-ci əməliyyatı seçib alma ifadəsini qeyd etdik amma meyvənin olmadığı barədə bizə mesaj verdi.Halbuki alma meyvəsi bazada var.və böyük hərflə ifadələri yazdığımız üçün bu problemdən çıxmağın yolu sətir tipi verilənlərin metodlarından istifadə etməkdir."
   ]
  },
  {
   "cell_type": "code",
   "execution_count": 204,
   "metadata": {},
   "outputs": [
    {
     "name": "stdout",
     "output_type": "stream",
     "text": [
      "lütfən açar sözlərdən istifadə edin(1-meyvələr bölməsi,2-tərəvəzlər bölməsi):1\n",
      "Dükanda axtarış üçün :alma\n",
      "\n",
      "Siz meyvələr bölməsində axtarış edəcəksiniz\n",
      "    \n",
      "Bazada Alma meyvəsi var\n"
     ]
    }
   ],
   "source": [
    "key = input('lütfən açar sözlərdən istifadə \\\n",
    "edin(1-meyvələr bölməsi,2-tərəvəzlər bölməsi):')\n",
    "\n",
    "\n",
    "baza = {'meyvələr':['Alma','Armud','Heyva','Nar','Gilas'],\n",
    "              'tərəvəzlər':['Kartof','Soğan','Kələm']}\n",
    "\n",
    "search = input('Dükanda axtarış üçün :')\n",
    "search = search.capitalize() #aldığımız sətir tipi verilənin ilk hərfini böyük hərfə çeviririk\n",
    "if key == '1':\n",
    "    print(\"\"\"\n",
    "Siz meyvələr bölməsində axtarış edəcəksiniz\n",
    "    \"\"\")\n",
    "        \n",
    "    if search in baza['meyvələr']:\n",
    "        print('Bazada {} meyvəsi var'.format(search))\n",
    "    else:\n",
    "        print('Bazada {} meyvəsi yoxdur'.format(search))\n",
    "   \n",
    "elif key == '2':\n",
    "    print(\"\"\"\n",
    "Siz tərəvəzlər bölməsində axtarış edəcəksiniz\n",
    "    \"\"\")\n",
    "    \n",
    "    \n",
    "    if search in baza['tərəvəzlər']:\n",
    "        print('Bazada {} tərəvəzi  var'.format(search))\n",
    "    else:\n",
    "        print('Təəssüf edirik,Bazada {} tərəvəzi  yoxdur'.format(search))\n",
    "else:\n",
    "    print('Daxil etdiyiniz açar söz naməlumdur')"
   ]
  },
  {
   "cell_type": "code",
   "execution_count": null,
   "metadata": {},
   "outputs": [],
   "source": []
  },
  {
   "cell_type": "code",
   "execution_count": null,
   "metadata": {},
   "outputs": [],
   "source": []
  },
  {
   "cell_type": "code",
   "execution_count": null,
   "metadata": {},
   "outputs": [],
   "source": []
  },
  {
   "cell_type": "markdown",
   "metadata": {},
   "source": [
    "# Dövr Operatorları"
   ]
  },
  {
   "cell_type": "markdown",
   "metadata": {},
   "source": [
    "Həmçinin dövr operatorları iki hissədən ibarətdir.Sayğaclı(for) Şərtli(While) "
   ]
  },
  {
   "cell_type": "markdown",
   "metadata": {},
   "source": [
    "Əgər Dövrün ilk və son dəyərləri məlumdursa sayğaclı dövr,əgər təkrar elementlərin sayı öncədən məlum deyilsə şərtli dövrlər adlanır.\n"
   ]
  },
  {
   "cell_type": "code",
   "execution_count": 41,
   "metadata": {},
   "outputs": [
    {
     "name": "stdout",
     "output_type": "stream",
     "text": [
      "[1, 2, 3, 4, 5, 6]\n",
      "1\n",
      "2\n",
      "3\n",
      "4\n",
      "5\n",
      "6\n"
     ]
    }
   ],
   "source": [
    "siyahı = [1,2,3,4,5,6];\n",
    "print(siyahı)\n",
    "for i in siyahı:\n",
    "    print(i)"
   ]
  },
  {
   "cell_type": "markdown",
   "metadata": {},
   "source": [
    "Yuxarıdakı nümunədə siyahı tərtib etdik,daha sonra i dəyişəninə siyahı elementlərini hər dövrdə mənimsədərək print() funksiyası ilə ekrana çap etdirdik"
   ]
  },
  {
   "cell_type": "markdown",
   "metadata": {},
   "source": [
    "Və 6-ədədini ekrana çap edib dövrü bitirdi.Ümumi qayda olaraq biz qeyd etdikki dövrün ilk və son dəyərləri məlumdursa sayğaclı(for) dövr adlanır.Bizim yazdığımız nümunədə də siyahı dövrün kökü olub ilk və son elementlərin qiymətləri məlum olduğu üçün (1 və 6) dövrü 6 ədədində sonlandırdı"
   ]
  },
  {
   "cell_type": "markdown",
   "metadata": {},
   "source": [
    "və ya "
   ]
  },
  {
   "cell_type": "code",
   "execution_count": 42,
   "metadata": {},
   "outputs": [
    {
     "name": "stdout",
     "output_type": "stream",
     "text": [
      "P\n",
      "y\n",
      "t\n",
      "h\n",
      "o\n",
      "n\n"
     ]
    }
   ],
   "source": [
    "string = 'Python';\n",
    "for sətir in string:\n",
    "    print(sətir)"
   ]
  },
  {
   "cell_type": "markdown",
   "metadata": {},
   "source": [
    "Sətir tipi verilənlərin dəyəri,hər biri simvolu xarakterizə etdiyindən python ifadəsi hərflərə parçalandı."
   ]
  },
  {
   "cell_type": "code",
   "execution_count": 50,
   "metadata": {},
   "outputs": [
    {
     "name": "stdout",
     "output_type": "stream",
     "text": [
      "Python Octave\n",
      "Python Rust\n",
      "Python Go\n",
      "C++ Octave\n",
      "C++ Rust\n",
      "C++ Go\n",
      "Java Octave\n",
      "Java Rust\n",
      "Java Go\n"
     ]
    }
   ],
   "source": [
    "kortej1 = ('Python','C++','Java')\n",
    "kortej2 = ('Octave','Rust','Go')\n",
    "for i in kortej1:\n",
    "    for j in kortej2:\n",
    "        print(i,j)"
   ]
  },
  {
   "cell_type": "markdown",
   "metadata": {},
   "source": [
    "Yuxarıdakı nümunədə iç içə for operatorundan istifadə edərək hər iki kortej daxilində ifadələri qarşı qarşıya çap etdik"
   ]
  },
  {
   "cell_type": "code",
   "execution_count": 56,
   "metadata": {},
   "outputs": [
    {
     "name": "stdout",
     "output_type": "stream",
     "text": [
      "1 Python\n",
      "2 C++\n",
      "3 Java\n"
     ]
    }
   ],
   "source": [
    "kortej = ('Python','C++','Java')\n",
    "sayğac = 0\n",
    "for i in kortej:\n",
    "    sayğac+=1\n",
    "    print(sayğac,i)\n",
    "    \n",
    "    \n",
    "     "
   ]
  },
  {
   "cell_type": "markdown",
   "metadata": {},
   "source": [
    "lüğətlərdən istifadə edərək"
   ]
  },
  {
   "cell_type": "code",
   "execution_count": 64,
   "metadata": {},
   "outputs": [
    {
     "name": "stdout",
     "output_type": "stream",
     "text": [
      "['Namiq', 'Arzu']\n",
      "['Mammadov', 'Garayeva']\n"
     ]
    }
   ],
   "source": [
    "dictionary = {'name':['Namiq','Arzu'],\n",
    "             'surname':['Mammadov','Garayeva']};\n",
    "\n",
    "for i in dictionary.values():\n",
    "    print(i)"
   ]
  },
  {
   "cell_type": "code",
   "execution_count": 65,
   "metadata": {},
   "outputs": [
    {
     "name": "stdout",
     "output_type": "stream",
     "text": [
      "name\n",
      "surname\n"
     ]
    }
   ],
   "source": [
    "dictionary = {'name':['Namiq','Arzu'],\n",
    "             'surname':['Mammadov','Garayeva']};\n",
    "\n",
    "for i in dictionary.keys():\n",
    "    print(i)"
   ]
  },
  {
   "cell_type": "code",
   "execution_count": 68,
   "metadata": {},
   "outputs": [
    {
     "name": "stdout",
     "output_type": "stream",
     "text": [
      "Python\n",
      "C++\n",
      "Javascript\n",
      "Php\n"
     ]
    }
   ],
   "source": [
    "siyahı = ['Python','C++','Javascript','Php']\n",
    "count=0\n",
    "for i in siyahı:\n",
    "    print(i)"
   ]
  },
  {
   "cell_type": "code",
   "execution_count": 76,
   "metadata": {},
   "outputs": [
    {
     "name": "stdout",
     "output_type": "stream",
     "text": [
      "['Java']\n",
      "['Java', 'Python']\n",
      "['Java', 'Python', 'Php']\n"
     ]
    }
   ],
   "source": [
    "listler = []\n",
    "kortej = ('Java','Python','Php')\n",
    "for i in kortej:\n",
    "    listler.append(i)\n",
    "    print(listler)"
   ]
  },
  {
   "cell_type": "markdown",
   "metadata": {},
   "source": [
    "Yuxarıdakı nümunədə hər dövr tətbiq olunduğu zaman kortej daxilindəki elementlər siyahıya əlavə olunur.print() funksiyasını dövr operatoru daxilində yerləşdirdikki,dövr təkrarlandığı müddətdə hansı proseslərin getdiyini görək."
   ]
  },
  {
   "cell_type": "code",
   "execution_count": 77,
   "metadata": {},
   "outputs": [
    {
     "name": "stdout",
     "output_type": "stream",
     "text": [
      "['Java', 'Python', 'Php']\n"
     ]
    }
   ],
   "source": [
    "listler = []\n",
    "kortej = ('Java','Python','Php')\n",
    "for i in kortej:\n",
    "    listler.append(i)\n",
    "print(listler)"
   ]
  },
  {
   "cell_type": "markdown",
   "metadata": {},
   "source": [
    "print() funksiyasını blokdan kənarda qeyd etsək ümumi nəticə ekrana çap olunacaqdır"
   ]
  },
  {
   "cell_type": "code",
   "execution_count": 84,
   "metadata": {},
   "outputs": [
    {
     "name": "stdout",
     "output_type": "stream",
     "text": [
      "Siyahıya əlavə edəcəyiniz elementi yazın:Python\n",
      "['P', 'y', 't', 'h', 'o', 'n']\n"
     ]
    }
   ],
   "source": [
    "data = input('Siyahıya əlavə edəcəyiniz elementi yazın:')\n",
    "siyahı = []\n",
    "for data in data:\n",
    "    siyahı.append(data)\n",
    "print(siyahı)"
   ]
  },
  {
   "cell_type": "code",
   "execution_count": 85,
   "metadata": {},
   "outputs": [
    {
     "name": "stdout",
     "output_type": "stream",
     "text": [
      "[1, 2, 3, 4]\n",
      "[5, 6, 7, 8]\n",
      "['AI', 'ML', 'DL']\n"
     ]
    }
   ],
   "source": [
    "siyahı = [[1,2,3,4],[5,6,7,8],['AI','ML','DL']]\n",
    "for v in siyahı:\n",
    "    print(v)"
   ]
  },
  {
   "cell_type": "markdown",
   "metadata": {},
   "source": [
    "Yuxarıdakı nümunədə əgər hər indeksdəki bütün elementləri almaq istəsək"
   ]
  },
  {
   "cell_type": "code",
   "execution_count": 90,
   "metadata": {},
   "outputs": [
    {
     "name": "stdout",
     "output_type": "stream",
     "text": [
      "1 2 3 4\n",
      "5 6 7 8\n",
      "AI ML DL SP\n"
     ]
    }
   ],
   "source": [
    "siyahı = [[1,2,3,4],[5,6,7,8],['AI','ML','DL','SP']]\n",
    "for a,b,c,d in siyahı:\n",
    "    print(a,b,c,d)"
   ]
  },
  {
   "cell_type": "markdown",
   "metadata": {},
   "source": [
    "formada yazacağıq"
   ]
  },
  {
   "cell_type": "code",
   "execution_count": 91,
   "metadata": {},
   "outputs": [],
   "source": []
  },
  {
   "cell_type": "code",
   "execution_count": 98,
   "metadata": {},
   "outputs": [
    {
     "name": "stdout",
     "output_type": "stream",
     "text": [
      "Cavab: 1\n",
      "Cavab: 3\n",
      "Cavab: 6\n",
      "Cavab: 10\n",
      "Cavab: 15\n"
     ]
    }
   ],
   "source": [
    "kortej = (1,2,3,4,5)\n",
    "summa = 0\n",
    "for i in kortej:\n",
    "    summa+=i\n",
    "    print('Cavab:',summa)\n",
    "    "
   ]
  },
  {
   "cell_type": "code",
   "execution_count": 110,
   "metadata": {},
   "outputs": [
    {
     "name": "stdout",
     "output_type": "stream",
     "text": [
      "Cavab: 15\n"
     ]
    }
   ],
   "source": [
    "kortej = (1,2,3,4,5)\n",
    "summa = 0\n",
    "for i in kortej:\n",
    "    summa+=i\n",
    "print('Cavab:',summa)"
   ]
  },
  {
   "cell_type": "markdown",
   "metadata": {},
   "source": [
    "Yuxarıdakı nümunədə siyahı daxilindəki ədədlərin hasilini əldə etmək istədik amma 0 -cavabını aldıq.Təbiki dövrü sayğac sıfırdan başladığı üçün 0 ın digər ədədlərə hasili bizə sıfır cavabını verəcəkdir.Bunun alternativ yolu,sayğacı 1dən başlamaqdır."
   ]
  },
  {
   "cell_type": "code",
   "execution_count": 112,
   "metadata": {},
   "outputs": [
    {
     "name": "stdout",
     "output_type": "stream",
     "text": [
      "Cavab: 362880\n"
     ]
    }
   ],
   "source": [
    "s = 1\n",
    "for i in [1,2,3,4,5,6,7,8,9]:\n",
    "    s *= i\n",
    "print('Cavab:',s)"
   ]
  },
  {
   "cell_type": "code",
   "execution_count": 118,
   "metadata": {},
   "outputs": [
    {
     "name": "stdout",
     "output_type": "stream",
     "text": [
      "Java\n",
      "Python\n",
      "Go\n",
      "C++\n"
     ]
    }
   ],
   "source": [
    "siyahı = set(['Python','Java','C++','Go'])\n",
    "for j in siyahı:\n",
    "    print(j)"
   ]
  },
  {
   "cell_type": "code",
   "execution_count": 123,
   "metadata": {},
   "outputs": [
    {
     "name": "stdout",
     "output_type": "stream",
     "text": [
      "{'Python'}\n",
      "{'Java', 'Python'}\n",
      "{'Java', 'Python', 'C++'}\n",
      "{'Java', 'Python', 'Go', 'C++'}\n",
      "--------------------\n",
      "{'Java', 'Python', 'Go', 'C++'}\n",
      "<class 'set'>\n"
     ]
    }
   ],
   "source": [
    "siyahı = ['Python','Java','C++','Go']\n",
    "dəst = set()\n",
    "for j in siyahı:\n",
    "    dəst.add(j)\n",
    "    print(dəst)\n",
    "print('-'*20)\n",
    "print(dəst)\n",
    "print(type(dəst))"
   ]
  },
  {
   "cell_type": "code",
   "execution_count": 141,
   "metadata": {},
   "outputs": [
    {
     "name": "stdout",
     "output_type": "stream",
     "text": [
      "['name Ramin', 'surname Aliyev', 'email example@gmail.com', 'phone +994500']\n"
     ]
    }
   ],
   "source": [
    "key = ['name','surname','email','phone']\n",
    "value = ['Ramin','Aliyev','example@gmail.com','+994500']\n",
    "siyahı = []\n",
    "for i,j in zip(key,value):\n",
    "    siyahı.append(i+' '+j)\n",
    "print(siyahı)"
   ]
  },
  {
   "cell_type": "code",
   "execution_count": 151,
   "metadata": {},
   "outputs": [
    {
     "name": "stdout",
     "output_type": "stream",
     "text": [
      "[1, 2]\n",
      "[3, 4]\n",
      "[5, 6]\n",
      "********************\n",
      "[1, 2]\n",
      "[3, 4]\n",
      "[5, 6]\n"
     ]
    }
   ],
   "source": [
    "siyahı = [[1,2],[3,4],[5,6]]\n",
    "\n",
    "for i in siyahı:\n",
    "    print(i)\n",
    "print('*'*20)\n",
    "print(siyahı[0])\n",
    "print(siyahı[1])\n",
    "print(siyahı[2])\n"
   ]
  },
  {
   "cell_type": "code",
   "execution_count": 152,
   "metadata": {},
   "outputs": [
    {
     "name": "stdout",
     "output_type": "stream",
     "text": [
      "1 2\n",
      "3 4\n",
      "5 6\n",
      "********************\n",
      "[1, 2]\n",
      "[3, 4]\n",
      "[5, 6]\n"
     ]
    }
   ],
   "source": [
    "siyahı = [[1,2],[3,4],[5,6]]\n",
    "\n",
    "for i,j in siyahı:\n",
    "    print(i,j)\n",
    "print('*'*20)\n",
    "print(siyahı[0])\n",
    "print(siyahı[1])\n",
    "print(siyahı[2])"
   ]
  },
  {
   "cell_type": "code",
   "execution_count": 158,
   "metadata": {},
   "outputs": [],
   "source": [
    "dictionary = {'lang':['Python','C++','Javascript'],\n",
    "              'library':['Opencv','Pandas','librosa'],\n",
    "              'ai':['ML','DL']}"
   ]
  },
  {
   "cell_type": "code",
   "execution_count": 159,
   "metadata": {},
   "outputs": [
    {
     "name": "stdout",
     "output_type": "stream",
     "text": [
      "lang\n",
      "library\n",
      "ai\n"
     ]
    }
   ],
   "source": [
    "for i in dictionary:\n",
    "    print(i)"
   ]
  },
  {
   "cell_type": "markdown",
   "metadata": {},
   "source": [
    "Yuxarıdakı nümunədə lüğət daxilindən sadəcə açar sözləri əldə etdik.amma dəyərləri əldə edə bilmədik."
   ]
  },
  {
   "cell_type": "code",
   "execution_count": 160,
   "metadata": {},
   "outputs": [
    {
     "name": "stdout",
     "output_type": "stream",
     "text": [
      "['Python', 'C++', 'Javascript']\n",
      "['Opencv', 'Pandas', 'librosa']\n",
      "['ML', 'DL']\n"
     ]
    }
   ],
   "source": [
    "dictionary = {'lang':['Python','C++','Javascript'],\n",
    "              'library':['Opencv','Pandas','librosa'],\n",
    "              'ai':['ML','DL']}\n",
    "for i in dictionary.values():\n",
    "    print(i)"
   ]
  },
  {
   "cell_type": "markdown",
   "metadata": {},
   "source": [
    "Dəyərləri yuxarıdakı nümunədə əldə etdik.Bütün elementləri əldə etmək üçün isə həm keys həm values elementlərini iki dəyişən ilə əvəzləsək"
   ]
  },
  {
   "cell_type": "code",
   "execution_count": 161,
   "metadata": {},
   "outputs": [
    {
     "name": "stdout",
     "output_type": "stream",
     "text": [
      "lang ['Python', 'C++', 'Javascript']\n",
      "library ['Opencv', 'Pandas', 'librosa']\n",
      "ai ['ML', 'DL']\n"
     ]
    }
   ],
   "source": [
    "dictionary = {'lang':['Python','C++','Javascript'],\n",
    "              'library':['Opencv','Pandas','librosa'],\n",
    "              'ai':['ML','DL']}\n",
    "for i,j in dictionary.items():\n",
    "    print(i,j)"
   ]
  },
  {
   "cell_type": "code",
   "execution_count": 218,
   "metadata": {},
   "outputs": [
    {
     "name": "stdout",
     "output_type": "stream",
     "text": [
      "Açar sözlər: lang | Dəyərlər: ['Python', 'C++', 'Javascript']\n",
      "Açar sözlər: library | Dəyərlər: ['Opencv', 'Pandas', 'librosa']\n",
      "Açar sözlər: ai | Dəyərlər: ['ML', 'DL']\n"
     ]
    }
   ],
   "source": [
    "dictionary = {'lang':['Python','C++','Javascript'],\n",
    "              'library':['Opencv','Pandas','librosa'],\n",
    "              'ai':['ML','DL']}\n",
    "for i,j in dictionary.items():\n",
    "    print('Açar sözlər: {} | Dəyərlər: {}'.format(i,j))"
   ]
  },
  {
   "cell_type": "code",
   "execution_count": 216,
   "metadata": {},
   "outputs": [
    {
     "name": "stdout",
     "output_type": "stream",
     "text": [
      "1 Nərmin\n",
      "2 Ziya\n",
      "3 Kəmalə\n",
      "4 Ilahə\n"
     ]
    }
   ],
   "source": [
    "siyahı = ['Nərmin','Ziya','Kəmalə','Ilahə'];\n",
    "count = 0\n",
    "for i in siyahı:\n",
    "    count +=1\n",
    "    print(count,i)\n",
    "    \n",
    "    "
   ]
  },
  {
   "cell_type": "code",
   "execution_count": null,
   "metadata": {},
   "outputs": [],
   "source": []
  },
  {
   "cell_type": "markdown",
   "metadata": {},
   "source": [
    "<h3>range()  funksiyası </h3>"
   ]
  },
  {
   "cell_type": "markdown",
   "metadata": {},
   "source": [
    "built-in function - Python dilində kök funksiyalardan olub,ədədlər diapazonu təşkil edir.Bu ədədlər bizim verdiyimiz elementlər olub,range() funksiyası elementlərin diapazonunu təşkil edir.range() funksiyası həmçinin bir siyahı tipində ədədlərin diapazonudur.Funksiya 3 arqument alaraq,range(start,stop,step) formuluna uyğun davranır."
   ]
  },
  {
   "cell_type": "code",
   "execution_count": 219,
   "metadata": {},
   "outputs": [
    {
     "name": "stdout",
     "output_type": "stream",
     "text": [
      "range(0, 20)\n"
     ]
    }
   ],
   "source": [
    "print(range(0,20))"
   ]
  },
  {
   "cell_type": "markdown",
   "metadata": {},
   "source": [
    "Funksiyanı istifadə etmək istədik amma ekrana heç bir nəticə çap olunmadı,bunun üçün ulduz(*) işarəsindən istifadə edərək"
   ]
  },
  {
   "cell_type": "code",
   "execution_count": 220,
   "metadata": {},
   "outputs": [
    {
     "name": "stdout",
     "output_type": "stream",
     "text": [
      "0 1 2 3 4 5 6 7 8 9 10 11 12 13 14 15 16 17 18 19\n"
     ]
    }
   ],
   "source": [
    "print(*range(0,20))"
   ]
  },
  {
   "cell_type": "markdown",
   "metadata": {},
   "source": [
    "ekrana elementləri çap edə bilərik"
   ]
  },
  {
   "cell_type": "markdown",
   "metadata": {},
   "source": [
    "Həmçinin elementləri dəyişənə əlavə edə bilərik"
   ]
  },
  {
   "cell_type": "code",
   "execution_count": 222,
   "metadata": {},
   "outputs": [
    {
     "name": "stdout",
     "output_type": "stream",
     "text": [
      "[0, 1, 2, 3, 4, 5, 6, 7, 8, 9]\n"
     ]
    }
   ],
   "source": [
    "var = range(0,10);\n",
    "print(list(var))"
   ]
  },
  {
   "cell_type": "code",
   "execution_count": 223,
   "metadata": {},
   "outputs": [
    {
     "name": "stdout",
     "output_type": "stream",
     "text": [
      "0\n",
      "1\n",
      "2\n",
      "3\n",
      "4\n",
      "5\n",
      "6\n",
      "7\n",
      "8\n",
      "9\n"
     ]
    }
   ],
   "source": [
    "for i in var:\n",
    "    print(i)"
   ]
  },
  {
   "cell_type": "code",
   "execution_count": 233,
   "metadata": {},
   "outputs": [
    {
     "name": "stdout",
     "output_type": "stream",
     "text": [
      "{'Ədədlər': [1, 2, 3]}\n"
     ]
    }
   ],
   "source": [
    "siyahı = ['Ədədlər']\n",
    "siyahı1 = [*range(1,4)]\n",
    "dictionary = {}\n",
    "\n",
    "dictionary = dictionary.fromkeys(siyahı,siyahı1)\n",
    "print(dictionary)"
   ]
  },
  {
   "cell_type": "code",
   "execution_count": 240,
   "metadata": {},
   "outputs": [
    {
     "name": "stdout",
     "output_type": "stream",
     "text": [
      "[0]\n",
      "[0, 1]\n",
      "[0, 1, 2]\n",
      "[0, 1, 2, 3]\n",
      "[0, 1, 2, 3, 4]\n",
      "[0, 1, 2, 3, 4, 5]\n",
      "------------------------------\n",
      "[0, 1, 2, 3, 4, 5]\n"
     ]
    }
   ],
   "source": [
    "var = []\n",
    "for i in range(0,6):\n",
    "    var.append(i)\n",
    "    print(var)\n",
    "print('-'*30);\n",
    "print(var)"
   ]
  },
  {
   "cell_type": "code",
   "execution_count": 244,
   "metadata": {},
   "outputs": [
    {
     "name": "stdout",
     "output_type": "stream",
     "text": [
      "python\n",
      "pythonpython\n",
      "pythonpythonpython\n",
      "pythonpythonpythonpython\n",
      "pythonpythonpythonpythonpython\n",
      "pythonpythonpythonpythonpythonpython\n",
      "pythonpythonpythonpythonpythonpythonpython\n",
      "pythonpythonpythonpythonpythonpythonpythonpython\n",
      "pythonpythonpythonpythonpythonpythonpythonpythonpython\n"
     ]
    }
   ],
   "source": [
    "for num in range(1,10):\n",
    "    print('python'*num)\n",
    "     "
   ]
  },
  {
   "cell_type": "markdown",
   "metadata": {},
   "source": [
    "Cüt ədədlərin təyini"
   ]
  },
  {
   "cell_type": "code",
   "execution_count": 273,
   "metadata": {},
   "outputs": [
    {
     "name": "stdout",
     "output_type": "stream",
     "text": [
      "[2, 4, 6, 8, 10, 12, 14, 16, 18, 20, 22, 24, 26, 28, 30, 32, 34, 36, 38, 40, 42, 44, 46, 48, 50]\n"
     ]
    }
   ],
   "source": [
    "count = 0\n",
    "cüt = []\n",
    "for i in range(0,50):\n",
    "    if i % 2 ==0 :\n",
    "        count+=2\n",
    "        cüt.append(count)\n",
    "        \n",
    "print(cüt)\n",
    "\n",
    "   \n",
    "       \n",
    "    "
   ]
  },
  {
   "cell_type": "markdown",
   "metadata": {},
   "source": [
    "Əgər funksiya daxilində başlanğıc dəyəri qeyd etməsək funksiya başlanğıc dəyəri sıfırdan sayacaqdır"
   ]
  },
  {
   "cell_type": "code",
   "execution_count": 275,
   "metadata": {},
   "outputs": [
    {
     "name": "stdout",
     "output_type": "stream",
     "text": [
      "0 1 2 3 4 5 6 7 8 9\n"
     ]
    }
   ],
   "source": [
    "print(*range(10))"
   ]
  },
  {
   "cell_type": "code",
   "execution_count": 277,
   "metadata": {},
   "outputs": [
    {
     "name": "stdout",
     "output_type": "stream",
     "text": [
      "Aralıq qeyd edin:30\n",
      "[0, 1, 2, 3, 4, 5, 6, 7, 8, 9, 10, 11, 12, 13, 14, 15, 16, 17, 18, 19, 20, 21, 22, 23, 24, 25, 26, 27, 28, 29]\n"
     ]
    }
   ],
   "source": [
    "var = int(input('Aralıq qeyd edin:'))\n",
    "lists = []\n",
    "for i in range(var):\n",
    "    lists.append(i)\n",
    "print(lists)"
   ]
  },
  {
   "cell_type": "markdown",
   "metadata": {},
   "source": [
    "<h4>Elementləri neqativləmə metodu</h4>"
   ]
  },
  {
   "cell_type": "code",
   "execution_count": 282,
   "metadata": {},
   "outputs": [
    {
     "name": "stdout",
     "output_type": "stream",
     "text": [
      "\n"
     ]
    }
   ],
   "source": [
    "print(*range(0,10,-1))"
   ]
  },
  {
   "cell_type": "markdown",
   "metadata": {},
   "source": [
    "Yuxarıdakı nümunədə ədədləri tərsdən yazmağa çalışdıq amma nəticə olmadı.Bunun üçün funksiya daxilində başlanğıc elementi 10 son elementini isə 0 yazmalıyıq"
   ]
  },
  {
   "cell_type": "code",
   "execution_count": 283,
   "metadata": {},
   "outputs": [
    {
     "name": "stdout",
     "output_type": "stream",
     "text": [
      "10 9 8 7 6 5 4 3 2 1\n"
     ]
    }
   ],
   "source": [
    "print(*range(10,0,-1))"
   ]
  },
  {
   "cell_type": "markdown",
   "metadata": {},
   "source": [
    "ulduz işarəsindən savayı list funksiyasından da istifadə edib siyahı daxilndə göstərə bilərik"
   ]
  },
  {
   "cell_type": "code",
   "execution_count": 284,
   "metadata": {},
   "outputs": [],
   "source": [
    "siyahı = list(range(15,1,-1))"
   ]
  },
  {
   "cell_type": "code",
   "execution_count": 285,
   "metadata": {},
   "outputs": [
    {
     "name": "stdout",
     "output_type": "stream",
     "text": [
      "[15, 14, 13, 12, 11, 10, 9, 8, 7, 6, 5, 4, 3, 2]\n"
     ]
    }
   ],
   "source": [
    "print(siyahı)"
   ]
  },
  {
   "cell_type": "markdown",
   "metadata": {},
   "source": [
    "<h3>addım sayı</h3>"
   ]
  },
  {
   "cell_type": "code",
   "execution_count": 286,
   "metadata": {},
   "outputs": [
    {
     "name": "stdout",
     "output_type": "stream",
     "text": [
      "0 2 4 6 8\n"
     ]
    }
   ],
   "source": [
    "print(*range(0,10,2))"
   ]
  },
  {
   "cell_type": "code",
   "execution_count": 287,
   "metadata": {},
   "outputs": [
    {
     "name": "stdout",
     "output_type": "stream",
     "text": [
      "[0, 2, 4, 6, 8, 10, 12, 14, 16, 18, 20, 22, 24, 26, 28, 30, 32, 34, 36, 38, 40, 42, 44, 46, 48]\n"
     ]
    }
   ],
   "source": [
    "num = [];\n",
    "for i in range(0,50,2):\n",
    "    num.append(i)\n",
    "print(num)"
   ]
  },
  {
   "cell_type": "markdown",
   "metadata": {},
   "source": [
    "Yuxarıdakı nümunədə sıfırdan əlliyə qədər bütün ədədlər və iki-iki addımlayaraq diapazonu tərtib etdik."
   ]
  },
  {
   "cell_type": "code",
   "execution_count": 289,
   "metadata": {},
   "outputs": [
    {
     "name": "stdout",
     "output_type": "stream",
     "text": [
      "[0, 3, 6, 9, 12, 15, 18]\n"
     ]
    }
   ],
   "source": [
    "print(list(range(0,20,3)))# sıfırdan 20-yə qədər  və üç-üç addımlayaraq ədədləri əldə et"
   ]
  },
  {
   "cell_type": "code",
   "execution_count": 1,
   "metadata": {},
   "outputs": [
    {
     "name": "stdout",
     "output_type": "stream",
     "text": [
      "45\n"
     ]
    }
   ],
   "source": [
    "count=0\n",
    "for i in range(0,10):\n",
    "    count+=i;\n",
    "print(count)\n",
    "    "
   ]
  },
  {
   "cell_type": "markdown",
   "metadata": {},
   "source": [
    "Yuxarıdakı nümunədə sıfırdan 10-a qədər siyahı tərtib edib,count dəyişəninə dövr təkrarlandıqca mənimsədib topladıq.Və nəticədə cavab olaraq 45 ədədi ekrana çap olundu.Deməli range(0,10) aralığında olan ədədlərin cəmi 45-ə bərabərdir."
   ]
  },
  {
   "cell_type": "markdown",
   "metadata": {},
   "source": [
    "<h3>List comprehension</h3>"
   ]
  },
  {
   "cell_type": "markdown",
   "metadata": {},
   "source": [
    "python dilində siyahı anlayışı, siyahı tərtib etmək üçün daha qısa metod təklif edir."
   ]
  },
  {
   "cell_type": "markdown",
   "metadata": {},
   "source": [
    "Aşağıdakı nümunədə biz range funksiyası ilə tərtib etdiyimiz ədədləri siyahıya daxil edək"
   ]
  },
  {
   "cell_type": "code",
   "execution_count": 2,
   "metadata": {},
   "outputs": [
    {
     "name": "stdout",
     "output_type": "stream",
     "text": [
      "[0, 1, 2, 3, 4, 5, 6, 7, 8, 9]\n"
     ]
    }
   ],
   "source": [
    "siyahı = []\n",
    "for i in range(10):\n",
    "    siyahı.append(i)\n",
    "print(siyahı)\n"
   ]
  },
  {
   "cell_type": "code",
   "execution_count": null,
   "metadata": {},
   "outputs": [],
   "source": [
    "Yuxarıdakı nümunəyə ekvivalent digər nümunə isə comprehension metodudur."
   ]
  },
  {
   "cell_type": "code",
   "execution_count": 295,
   "metadata": {},
   "outputs": [
    {
     "name": "stdout",
     "output_type": "stream",
     "text": [
      "[0, 1, 2, 3, 4, 5, 6, 7, 8, 9]\n"
     ]
    }
   ],
   "source": [
    "siyahı = [i for i in range(10)]\n",
    "print(siyahı)"
   ]
  },
  {
   "cell_type": "markdown",
   "metadata": {},
   "source": [
    "Nəticə eynidirmi!Bəli,daha qısa metod ilə ilk nümunəni yazdıq.Yeni metoda uyğunlaşmağınız biraz zaman ala bilər.Alternativ yolu bol bol nümunələr hazırlamaqdır"
   ]
  },
  {
   "cell_type": "markdown",
   "metadata": {},
   "source": [
    "İndi gəlin siyahı daxilindəki elementləri 2 -yə vuraq"
   ]
  },
  {
   "cell_type": "code",
   "execution_count": 299,
   "metadata": {},
   "outputs": [
    {
     "name": "stdout",
     "output_type": "stream",
     "text": [
      "[0, 2, 4, 6, 8, 10, 12, 14, 16, 18]\n"
     ]
    }
   ],
   "source": [
    "siyahı = []\n",
    "for i in range(10):\n",
    "    siyahı.append(i*2)\n",
    "\n",
    "print(siyahı)"
   ]
  },
  {
   "cell_type": "markdown",
   "metadata": {},
   "source": [
    "Daha qısa yoldan isə"
   ]
  },
  {
   "cell_type": "code",
   "execution_count": 301,
   "metadata": {},
   "outputs": [
    {
     "name": "stdout",
     "output_type": "stream",
     "text": [
      "[0, 2, 4, 6, 8, 10, 12, 14, 16, 18]\n"
     ]
    }
   ],
   "source": [
    "siyahı = [i*2 for i in range(10)] # i ifadəsindən sonra əməliyyatı yazırıq\n",
    "print(siyahı)"
   ]
  },
  {
   "cell_type": "code",
   "execution_count": 1,
   "metadata": {},
   "outputs": [
    {
     "name": "stdout",
     "output_type": "stream",
     "text": [
      "[1, 4, 9, 16, 25, 36, 49, 64, 81]\n"
     ]
    }
   ],
   "source": [
    "var = [i**2 for i in [1,2,3,4,5,6,7,8,9]]\n",
    "print(var)"
   ]
  },
  {
   "cell_type": "markdown",
   "metadata": {},
   "source": [
    "Yuxarıdakı nümunədə 1-dən 10-a qədər ədədlər tərtib edib siyahı daxilində hər bir ədədi qüvvətə yüksəltdik"
   ]
  },
  {
   "cell_type": "code",
   "execution_count": 21,
   "metadata": {},
   "outputs": [
    {
     "name": "stdout",
     "output_type": "stream",
     "text": [
      "[[0, 1, 2, 3], [0, 1, 2, 3], [0, 1, 2, 3], [0, 1, 2, 3]]\n"
     ]
    }
   ],
   "source": [
    "\n",
    "matrix = [] \n",
    "for i in range(4): \n",
    "    matrix.append([])\n",
    "    for j in range(4): \n",
    "        matrix[i].append(j) \n",
    "print(matrix) \n"
   ]
  },
  {
   "cell_type": "markdown",
   "metadata": {},
   "source": [
    "Yuxarıdakı nümunədə matrix adlı siyahı tərtib etdik,daha sonra 0-dan 4-ə qədər aralıqda ədədləri tərtib edib i-dəyişəninə mənimsətdik.Növbəti dövrün tətbiqində j-dəyişəninə ədəd siyahı mənimsədərək matrix siyahısına append metodu vasitəsilə\n",
    " hər biri 4-ə qədər ədədlər siyahısını əlavə etdik"
   ]
  },
  {
   "cell_type": "code",
   "execution_count": null,
   "metadata": {},
   "outputs": [],
   "source": []
  },
  {
   "cell_type": "markdown",
   "metadata": {},
   "source": [
    "### Dict comprehension"
   ]
  },
  {
   "cell_type": "markdown",
   "metadata": {},
   "source": [
    "Siyahılara tətbiq etdiyimiz \"siyahı anlayışı\"  metodunu,lüğətlərə də tətbiq edə bilərik."
   ]
  },
  {
   "cell_type": "code",
   "execution_count": null,
   "metadata": {},
   "outputs": [],
   "source": []
  },
  {
   "cell_type": "code",
   "execution_count": 67,
   "metadata": {},
   "outputs": [
    {
     "name": "stdout",
     "output_type": "stream",
     "text": [
      "{1: 'Python', 2: 'Python', 3: 'Python', 4: 'Python', 5: 'Python'}\n"
     ]
    }
   ],
   "source": [
    "dictionary = {}\n",
    "string = 'Python'\n",
    "for i in range(1, 6):\n",
    "    dictionary[i] = string\n",
    "print(dictionary)"
   ]
  },
  {
   "cell_type": "markdown",
   "metadata": {},
   "source": [
    "Yuxarıdakı ifadənin yerinə "
   ]
  },
  {
   "cell_type": "code",
   "execution_count": 68,
   "metadata": {},
   "outputs": [
    {
     "name": "stdout",
     "output_type": "stream",
     "text": [
      "{1: 'Python', 2: 'Python', 3: 'Python', 4: 'Python', 5: 'Python'}\n"
     ]
    }
   ],
   "source": [
    "dictionary = {}\n",
    "string = 'Python'\n",
    "dictionary = {i: string for i in range(1,6)}\n",
    "print(dictionary)"
   ]
  },
  {
   "cell_type": "markdown",
   "metadata": {},
   "source": [
    "kimi də yaza bilərik"
   ]
  },
  {
   "cell_type": "code",
   "execution_count": 82,
   "metadata": {},
   "outputs": [
    {
     "name": "stdout",
     "output_type": "stream",
     "text": [
      "{1: 1, 2: 2, 3: 3, 4: 4, 5: 5, 6: 6, 7: 7, 8: 8, 9: 9, 10: 10}\n"
     ]
    }
   ],
   "source": [
    "dictionary1={i:i for i in range(1, 11)};print(dictionary1)"
   ]
  },
  {
   "cell_type": "code",
   "execution_count": null,
   "metadata": {},
   "outputs": [],
   "source": []
  },
  {
   "cell_type": "code",
   "execution_count": 99,
   "metadata": {},
   "outputs": [
    {
     "name": "stdout",
     "output_type": "stream",
     "text": [
      "2\n",
      "2\n",
      "2\n",
      "1\n",
      "1\n",
      "1\n",
      "2\n"
     ]
    }
   ],
   "source": [
    "siyahı = ['Python', 'Java', 'Python', 'C++', 'Pascal', 'Fortran', 'Java']\n",
    "for i in siyahı:\n",
    "    siyahı.count(i)\n",
    "    print(siyahı.count(i))"
   ]
  },
  {
   "cell_type": "markdown",
   "metadata": {},
   "source": [
    "Yuxarıdakı nümunədə siyahı tərtib edib daxilinə elementlərdən bir neçəsini təkrar olunması şərtilə əlavə etdik.Daha sonra hər dövrdü siyahı daxilində elementlərin sayını count metodu ilə hesabladıq.elementlərin sayı bitdiyi üçün dövrdə tamamlandı"
   ]
  },
  {
   "cell_type": "markdown",
   "metadata": {},
   "source": [
    "daha qısa yoldan lüğət anlayışı metodu ilə bunu tərtib edə bilərik"
   ]
  },
  {
   "cell_type": "code",
   "execution_count": 97,
   "metadata": {},
   "outputs": [],
   "source": [
    "dict1 = {i:siyahı.count(i) for i in siyahı}"
   ]
  },
  {
   "cell_type": "code",
   "execution_count": 98,
   "metadata": {},
   "outputs": [
    {
     "name": "stdout",
     "output_type": "stream",
     "text": [
      "{'Python': 2, 'Java': 2, 'C++': 1, 'Pascal': 1, 'Fortran': 1}\n"
     ]
    }
   ],
   "source": [
    "print(dict1)"
   ]
  },
  {
   "cell_type": "code",
   "execution_count": null,
   "metadata": {},
   "outputs": [],
   "source": []
  },
  {
   "cell_type": "code",
   "execution_count": null,
   "metadata": {},
   "outputs": [],
   "source": []
  },
  {
   "cell_type": "markdown",
   "metadata": {},
   "source": [
    "### While Operatoru"
   ]
  },
  {
   "cell_type": "markdown",
   "metadata": {},
   "source": [
    "Operator for operatorundan fərqlənərək şərtin doğru və ya false olduğu ,kod bloku daxilində son sətrin dövrü kəsmədiyi müddətcə başa dönüb təkrarlanar"
   ]
  },
  {
   "cell_type": "markdown",
   "metadata": {},
   "source": [
    "Ilk başlarda operatoru for operatoru ilə eyniləşdirə bilərsiniz.Lakin nümunələr yazıldıqca hər iki operatorun harda və necə kodlara yararlı olduğuna dair beyninizdə suallar qalmayacaq."
   ]
  },
  {
   "cell_type": "markdown",
   "metadata": {},
   "source": [
    "Operatordan həm dövrü öncədən bilmədiyimiz təqdirdə istifadə edə ,həmçinin məlum bir şərt varsa operatordan istifadə edə bilərik"
   ]
  },
  {
   "cell_type": "markdown",
   "metadata": {},
   "source": [
    "misal olaraq n ədədi 1-ə bərabər olduğu halda n==1 ifadəsi həmişə True cavabını verəcək.Bu şərt məlum olduğu üçün dövrü təkrarlasaq,sonsuz dövr təkrarlanması olduğundan sadə ədədlər üzərində proqramın çökməsinə səbəb olar.İkinci bir hal isə əgər ifadəmiz həmişə doğru olduğu halda sonsuz dövrü dayandırmaq üçün dövr bloku daxilində yazılmış kod nümunələrindən bilavasitə istifadə olunur.Kod nümunəsində dövrü sonlandırmaq,digər kod nümunələrinə keçid etmək və növbəti şərtlər ilə dövrü dayandırmaq mümkündür."
   ]
  },
  {
   "cell_type": "markdown",
   "metadata": {},
   "source": [
    "Aşağıdakı while operatoruna dair diaqram göstərilmişdir."
   ]
  },
  {
   "cell_type": "code",
   "execution_count": 290,
   "metadata": {},
   "outputs": [
    {
     "data": {
      "image/jpeg": "[encoded data removed]",
      "text/plain": [
       "<IPython.core.display.Image object>"
      ]
     },
     "execution_count": 290,
     "metadata": {},
     "output_type": "execute_result"
    }
   ],
   "source": [
    "\n",
    "\n",
    "from IPython.display import Image\n",
    "Image(\"image/loop.jpg\")\n",
    "\n"
   ]
  },
  {
   "cell_type": "code",
   "execution_count": 119,
   "metadata": {},
   "outputs": [
    {
     "name": "stdout",
     "output_type": "stream",
     "text": [
      "\n",
      "\n",
      "i = 0  #i-dəyişəni hər zaman 0-dır\n",
      "\n",
      "while (i==0):\n",
      "    print(i)\n",
      "    \n",
      "\n"
     ]
    }
   ],
   "source": [
    "print(\"\"\"\n",
    "\n",
    "i = 0  #i-dəyişəni hər zaman 0-dır\n",
    "\n",
    "while (i==0):\n",
    "    print(i)\n",
    "    \n",
    "\"\"\")"
   ]
  },
  {
   "cell_type": "code",
   "execution_count": 103,
   "metadata": {},
   "outputs": [
    {
     "name": "stdout",
     "output_type": "stream",
     "text": [
      "True\n"
     ]
    }
   ],
   "source": [
    "i = 0\n",
    "if (i==0):print(True)\n",
    "else: print(False)"
   ]
  },
  {
   "cell_type": "markdown",
   "metadata": {},
   "source": [
    "Yuxarıdakı kod nümunəsi hər zaman doğru olduğu üçün sonsuz dövr təkrarlandığından,proqramın çökməsinə səbəb ola bilər"
   ]
  },
  {
   "cell_type": "code",
   "execution_count": 106,
   "metadata": {},
   "outputs": [],
   "source": [
    "i = 0  #i-dəyişəni hər zaman 0-dır\n",
    "\n",
    "while (i==True):\n",
    "    print(\"Python\")\n"
   ]
  },
  {
   "cell_type": "code",
   "execution_count": 107,
   "metadata": {},
   "outputs": [
    {
     "data": {
      "text/plain": [
       "False"
      ]
     },
     "execution_count": 107,
     "metadata": {},
     "output_type": "execute_result"
    }
   ],
   "source": [
    "0==True"
   ]
  },
  {
   "cell_type": "markdown",
   "metadata": {},
   "source": [
    "Yuxarıdakı nümunədə isə i-nin dəyəri 0 olduğu üçün True cavabına bərabər deyil.Biz bu dəyəri bolean verilən tipi bəhsindən bilirik.Və şərtimiz doğru olmadığı üçün print() funksiyası öz işini yerinə yetirə bilmədi"
   ]
  },
  {
   "cell_type": "markdown",
   "metadata": {},
   "source": [
    "Əgər"
   ]
  },
  {
   "cell_type": "code",
   "execution_count": 115,
   "metadata": {},
   "outputs": [
    {
     "name": "stdout",
     "output_type": "stream",
     "text": [
      "0\n",
      "1\n",
      "2\n",
      "3\n",
      "4\n",
      "5\n",
      "6\n",
      "7\n",
      "8\n",
      "9\n"
     ]
    }
   ],
   "source": [
    "i = 0\n",
    "while i < 10:\n",
    "    print(i)\n",
    "    i += 1 #i-nin dəyərini hər dövrdə bir vahid artırtıq\n",
    "    "
   ]
  },
  {
   "cell_type": "markdown",
   "metadata": {},
   "source": [
    "kimi yazsaq i dəyişəninin dəyəri hər dövrdə bir vahid artıb o zamana qədərki 9 olub 10 ədədinnən kiçikdir şərti doğru olub sonlanır.Qeyd edimki print() funksiyasının istifadə olunduğu yerə diqqət edin.Əgər funksiyanı ən sonda qeyd etsəydik artıq ekrana sayım 0-dan deyil birdən başlayacağı çap olunacaq.ilk öncə şərtə baxılır,i=0 10-dan kiçikdirmi bəli,keçir print() funksiyasına və dəyəri 0-ı çap edir və son kodda yazılan ifadədə sıfırın üzərinə bir əlavə ed(i = 0 + 1)ərək başa dönür.i artıq bir olduğunu bilirik və 10-dan kiçikdirmi!Bəli,şərtimiz doğrudur keçirik print() funksiyasına,i-nin dəyəri bir olduğu üçün ekrana 0-dan sonra bir çap olunur.Və son kod nümunəsində i = 1 + 1 ifadəsi hesablanaraq dövr başa keçərək yenidən təkrarlanır."
   ]
  },
  {
   "cell_type": "code",
   "execution_count": 116,
   "metadata": {},
   "outputs": [
    {
     "name": "stdout",
     "output_type": "stream",
     "text": [
      "1\n",
      "2\n",
      "3\n",
      "4\n",
      "5\n",
      "6\n",
      "7\n",
      "8\n",
      "9\n",
      "10\n"
     ]
    }
   ],
   "source": [
    "i = 0\n",
    "while i < 10:\n",
    "    i = i + 1 #i-nin dəyərini hər dövrdə bir vahid artırtıq\n",
    "    print(i)"
   ]
  },
  {
   "cell_type": "markdown",
   "metadata": {},
   "source": [
    "Yuxarıdakı nümunənin əksi olaraq print() funksiyasını sonda qeyd etdiyimiz üçün i-nin dəyəri öncə bir olduğu üçün ekrana sayım birdən başlayaraq çap olundu"
   ]
  },
  {
   "cell_type": "markdown",
   "metadata": {},
   "source": [
    "və ya "
   ]
  },
  {
   "cell_type": "code",
   "execution_count": 117,
   "metadata": {},
   "outputs": [
    {
     "name": "stdout",
     "output_type": "stream",
     "text": [
      "10\n"
     ]
    }
   ],
   "source": [
    "i = 0\n",
    "while i < 10:\n",
    "    i = i + 1 #i-nin dəyərini hər dövrdə bir vahid artırtıq\n",
    "print(i)"
   ]
  },
  {
   "cell_type": "markdown",
   "metadata": {},
   "source": [
    "print() funksiyasını sonda qeyd etsək,dövr daima təkrarlanaraq ən son i=9 olaraq üzərinə bir əlavə olunub dövr sonlandırılır.Ona görə ekrana ən son nəticə 10 ifadəsi çap olunur"
   ]
  },
  {
   "cell_type": "code",
   "execution_count": 133,
   "metadata": {},
   "outputs": [
    {
     "name": "stdout",
     "output_type": "stream",
     "text": [
      "Hello World!\n",
      "Hello World!\n",
      "Hello World!\n",
      "Hello World!\n",
      "Hello World!\n",
      "Hello World!\n",
      "Hello World!\n",
      "Hello World!\n",
      "Hello World!\n",
      "Hello World!\n",
      "******************************\n",
      "[0, 1, 2, 3, 4, 5, 6, 7, 8, 9]\n"
     ]
    }
   ],
   "source": [
    "i = 0\n",
    "lists = []\n",
    "while(i<10):\n",
    "    print('Hello World!')\n",
    "    lists.append(i)\n",
    "    i+=1\n",
    "print(\"*\"*30)\n",
    "print(lists)\n",
    "    "
   ]
  },
  {
   "cell_type": "markdown",
   "metadata": {},
   "source": [
    " Yuxarıdakı ifadədə sıfır daxil olaqla i-nin dəyərini 10-a qədər artırdıq və 10-olduğu müddətdə 10<10 dan kiçikdir ifadəsi ödənilmədiyindən dövr təkrarlanmayaraq ekrana 10 dəfə Hello World! ifadəsini çap etdi "
   ]
  },
  {
   "cell_type": "markdown",
   "metadata": {},
   "source": [
    "Kod blokunda list tərtib etməyimdə məqsədim sizin i-nin dəyərini hər dövrdə artırılmış qiymətini görməyiniz üçündür"
   ]
  },
  {
   "cell_type": "code",
   "execution_count": null,
   "metadata": {},
   "outputs": [],
   "source": []
  },
  {
   "cell_type": "code",
   "execution_count": 157,
   "metadata": {},
   "outputs": [],
   "source": [
    "siyahı = [*range(6)] #6-ə qədər başlanğıc dəyəri 0-olan siyahı elementləri tərtib etdik"
   ]
  },
  {
   "cell_type": "code",
   "execution_count": 158,
   "metadata": {},
   "outputs": [
    {
     "name": "stdout",
     "output_type": "stream",
     "text": [
      "[0, 1, 2, 3, 4, 5]\n",
      "6\n"
     ]
    }
   ],
   "source": [
    "print(siyahı)\n",
    "print(len(siyahı))"
   ]
  },
  {
   "cell_type": "markdown",
   "metadata": {},
   "source": [
    "while operatoru ilə siyahı daxilindəki elementləri alaq"
   ]
  },
  {
   "cell_type": "code",
   "execution_count": 159,
   "metadata": {},
   "outputs": [
    {
     "name": "stdout",
     "output_type": "stream",
     "text": [
      "Index: 0 Element: 0\n",
      "Index: 1 Element: 1\n",
      "Index: 2 Element: 2\n",
      "Index: 3 Element: 3\n",
      "Index: 4 Element: 4\n",
      "Index: 5 Element: 5\n"
     ]
    }
   ],
   "source": [
    "index = 0\n",
    "while (index<len(siyahı)):\n",
    "    print('Index:',index,'Element:',siyahı[index])\n",
    "    index+=1"
   ]
  },
  {
   "cell_type": "markdown",
   "metadata": {},
   "source": [
    "Yuxarıdakı nümunə sizə qarışıq gəlməsin.Çünki buna dair nümunələr öncəki bəhslərdə göstərmişdik.Kodlarımızı izah edək"
   ]
  },
  {
   "cell_type": "markdown",
   "metadata": {},
   "source": [
    "operator daxilində tərtib etdiyimiz şərtdə index sayı siyahı elementləri sayından kiçik olduğu müddətcə kodlarımızın çalışmasını tərtib etdik."
   ]
  },
  {
   "cell_type": "code",
   "execution_count": null,
   "metadata": {},
   "outputs": [],
   "source": []
  },
  {
   "cell_type": "code",
   "execution_count": 160,
   "metadata": {},
   "outputs": [
    {
     "name": "stdout",
     "output_type": "stream",
     "text": [
      "'Index:',0,'Element:',siyahı[0]\n",
      "'Index:',1,'Element:',siyahı[1]\n",
      "'Index:',2,'Element:',siyahı[2]\n",
      "'Index:',3,'Element:',siyahı[3]\n",
      "'Index:',4,'Element:',siyahı[4]\n",
      "'Index:',5,'Element:',siyahı[5]\n"
     ]
    }
   ],
   "source": [
    "print(\"\"\"'Index:',0,'Element:',siyahı[0]\"\"\") #index= 0 olduğu üçün \n",
    "print(\"\"\"'Index:',1,'Element:',siyahı[1]\"\"\") #index= 1 olduğu üçün\n",
    "print(\"\"\"'Index:',2,'Element:',siyahı[2]\"\"\") #index= 2 olduğu üçün\n",
    "print(\"\"\"'Index:',3,'Element:',siyahı[3]\"\"\") #index= 3 olduğu üçün\n",
    "print(\"\"\"'Index:',4,'Element:',siyahı[4]\"\"\") #index= 4 olduğu üçün\n",
    "print(\"\"\"'Index:',5,'Element:',siyahı[5]\"\"\") #index= 5 olduğu üçün"
   ]
  },
  {
   "cell_type": "markdown",
   "metadata": {},
   "source": [
    "və son olaraq index = 5+1 <6 şərti ödənilmədiyindən dövr sonlanır"
   ]
  },
  {
   "cell_type": "code",
   "execution_count": null,
   "metadata": {},
   "outputs": [],
   "source": []
  },
  {
   "cell_type": "markdown",
   "metadata": {},
   "source": [
    "Əgər xatırlayırsınızsa əvvəlki bəhslərdə meyvə və tərəvəz bazasında axtarış proqramı yazmışdıq.açar sözü daxil etdikdə bazada olub-olmadığını sorğuya çəkib daha sonra proqram bitirdi."
   ]
  },
  {
   "cell_type": "code",
   "execution_count": 173,
   "metadata": {},
   "outputs": [
    {
     "name": "stdout",
     "output_type": "stream",
     "text": [
      "lütfən açar sözlərdən istifadə     edin(1-meyvələr bölməsi,2-tərəvəzlər bölməsi):1\n",
      "Dükanda axtarış üçün :alma\n",
      "\n",
      "    Siz meyvələr bölməsində axtarış edəcəksiniz\n",
      "        \n",
      "Bazada Alma meyvəsi var\n",
      "lütfən açar sözlərdən istifadə     edin(1-meyvələr bölməsi,2-tərəvəzlər bölməsi):2\n",
      "Dükanda axtarış üçün :soğan\n",
      "\n",
      "    Siz tərəvəzlər bölməsində axtarış edəcəksiniz\n",
      "        \n",
      "Bazada Soğan tərəvəzi  var\n"
     ]
    },
    {
     "ename": "KeyboardInterrupt",
     "evalue": "",
     "output_type": "error",
     "traceback": [
      "\u001b[0;31m---------------------------------------------------------------------------\u001b[0m",
      "\u001b[0;31mKeyboardInterrupt\u001b[0m                         Traceback (most recent call last)",
      "\u001b[0;32m~/.local/lib/python3.7/site-packages/ipykernel/kernelbase.py\u001b[0m in \u001b[0;36m_input_request\u001b[0;34m(self, prompt, ident, parent, password)\u001b[0m\n\u001b[1;32m    883\u001b[0m             \u001b[0;32mtry\u001b[0m\u001b[0;34m:\u001b[0m\u001b[0;34m\u001b[0m\u001b[0;34m\u001b[0m\u001b[0m\n\u001b[0;32m--> 884\u001b[0;31m                 \u001b[0mident\u001b[0m\u001b[0;34m,\u001b[0m \u001b[0mreply\u001b[0m \u001b[0;34m=\u001b[0m \u001b[0mself\u001b[0m\u001b[0;34m.\u001b[0m\u001b[0msession\u001b[0m\u001b[0;34m.\u001b[0m\u001b[0mrecv\u001b[0m\u001b[0;34m(\u001b[0m\u001b[0mself\u001b[0m\u001b[0;34m.\u001b[0m\u001b[0mstdin_socket\u001b[0m\u001b[0;34m,\u001b[0m \u001b[0;36m0\u001b[0m\u001b[0;34m)\u001b[0m\u001b[0;34m\u001b[0m\u001b[0;34m\u001b[0m\u001b[0m\n\u001b[0m\u001b[1;32m    885\u001b[0m             \u001b[0;32mexcept\u001b[0m \u001b[0mException\u001b[0m\u001b[0;34m:\u001b[0m\u001b[0;34m\u001b[0m\u001b[0;34m\u001b[0m\u001b[0m\n",
      "\u001b[0;32m~/.local/lib/python3.7/site-packages/jupyter_client/session.py\u001b[0m in \u001b[0;36mrecv\u001b[0;34m(self, socket, mode, content, copy)\u001b[0m\n\u001b[1;32m    802\u001b[0m         \u001b[0;32mtry\u001b[0m\u001b[0;34m:\u001b[0m\u001b[0;34m\u001b[0m\u001b[0;34m\u001b[0m\u001b[0m\n\u001b[0;32m--> 803\u001b[0;31m             \u001b[0mmsg_list\u001b[0m \u001b[0;34m=\u001b[0m \u001b[0msocket\u001b[0m\u001b[0;34m.\u001b[0m\u001b[0mrecv_multipart\u001b[0m\u001b[0;34m(\u001b[0m\u001b[0mmode\u001b[0m\u001b[0;34m,\u001b[0m \u001b[0mcopy\u001b[0m\u001b[0;34m=\u001b[0m\u001b[0mcopy\u001b[0m\u001b[0;34m)\u001b[0m\u001b[0;34m\u001b[0m\u001b[0;34m\u001b[0m\u001b[0m\n\u001b[0m\u001b[1;32m    804\u001b[0m         \u001b[0;32mexcept\u001b[0m \u001b[0mzmq\u001b[0m\u001b[0;34m.\u001b[0m\u001b[0mZMQError\u001b[0m \u001b[0;32mas\u001b[0m \u001b[0me\u001b[0m\u001b[0;34m:\u001b[0m\u001b[0;34m\u001b[0m\u001b[0;34m\u001b[0m\u001b[0m\n",
      "\u001b[0;32m~/.local/lib/python3.7/site-packages/zmq/sugar/socket.py\u001b[0m in \u001b[0;36mrecv_multipart\u001b[0;34m(self, flags, copy, track)\u001b[0m\n\u001b[1;32m    474\u001b[0m         \"\"\"\n\u001b[0;32m--> 475\u001b[0;31m         \u001b[0mparts\u001b[0m \u001b[0;34m=\u001b[0m \u001b[0;34m[\u001b[0m\u001b[0mself\u001b[0m\u001b[0;34m.\u001b[0m\u001b[0mrecv\u001b[0m\u001b[0;34m(\u001b[0m\u001b[0mflags\u001b[0m\u001b[0;34m,\u001b[0m \u001b[0mcopy\u001b[0m\u001b[0;34m=\u001b[0m\u001b[0mcopy\u001b[0m\u001b[0;34m,\u001b[0m \u001b[0mtrack\u001b[0m\u001b[0;34m=\u001b[0m\u001b[0mtrack\u001b[0m\u001b[0;34m)\u001b[0m\u001b[0;34m]\u001b[0m\u001b[0;34m\u001b[0m\u001b[0;34m\u001b[0m\u001b[0m\n\u001b[0m\u001b[1;32m    476\u001b[0m         \u001b[0;31m# have first part already, only loop while more to receive\u001b[0m\u001b[0;34m\u001b[0m\u001b[0;34m\u001b[0m\u001b[0;34m\u001b[0m\u001b[0m\n",
      "\u001b[0;32mzmq/backend/cython/socket.pyx\u001b[0m in \u001b[0;36mzmq.backend.cython.socket.Socket.recv\u001b[0;34m()\u001b[0m\n",
      "\u001b[0;32mzmq/backend/cython/socket.pyx\u001b[0m in \u001b[0;36mzmq.backend.cython.socket.Socket.recv\u001b[0;34m()\u001b[0m\n",
      "\u001b[0;32mzmq/backend/cython/socket.pyx\u001b[0m in \u001b[0;36mzmq.backend.cython.socket._recv_copy\u001b[0;34m()\u001b[0m\n",
      "\u001b[0;32m~/.local/lib/python3.7/site-packages/zmq/backend/cython/checkrc.pxd\u001b[0m in \u001b[0;36mzmq.backend.cython.checkrc._check_rc\u001b[0;34m()\u001b[0m\n",
      "\u001b[0;31mKeyboardInterrupt\u001b[0m: ",
      "\nDuring handling of the above exception, another exception occurred:\n",
      "\u001b[0;31mKeyboardInterrupt\u001b[0m                         Traceback (most recent call last)",
      "\u001b[0;32m<ipython-input-173-81199843056e>\u001b[0m in \u001b[0;36m<module>\u001b[0;34m\u001b[0m\n\u001b[1;32m      1\u001b[0m \u001b[0;32mwhile\u001b[0m \u001b[0;34m(\u001b[0m\u001b[0;32mTrue\u001b[0m\u001b[0;34m)\u001b[0m\u001b[0;34m:\u001b[0m\u001b[0;34m\u001b[0m\u001b[0;34m\u001b[0m\u001b[0m\n\u001b[1;32m      2\u001b[0m     key = input('lütfən açar sözlərdən istifadə \\\n\u001b[0;32m----> 3\u001b[0;31m     edin(1-meyvələr bölməsi,2-tərəvəzlər bölməsi):')\n\u001b[0m\u001b[1;32m      4\u001b[0m \u001b[0;34m\u001b[0m\u001b[0m\n\u001b[1;32m      5\u001b[0m \u001b[0;34m\u001b[0m\u001b[0m\n",
      "\u001b[0;32m~/.local/lib/python3.7/site-packages/ipykernel/kernelbase.py\u001b[0m in \u001b[0;36mraw_input\u001b[0;34m(self, prompt)\u001b[0m\n\u001b[1;32m    857\u001b[0m             \u001b[0mself\u001b[0m\u001b[0;34m.\u001b[0m\u001b[0m_parent_ident\u001b[0m\u001b[0;34m,\u001b[0m\u001b[0;34m\u001b[0m\u001b[0;34m\u001b[0m\u001b[0m\n\u001b[1;32m    858\u001b[0m             \u001b[0mself\u001b[0m\u001b[0;34m.\u001b[0m\u001b[0m_parent_header\u001b[0m\u001b[0;34m,\u001b[0m\u001b[0;34m\u001b[0m\u001b[0;34m\u001b[0m\u001b[0m\n\u001b[0;32m--> 859\u001b[0;31m             \u001b[0mpassword\u001b[0m\u001b[0;34m=\u001b[0m\u001b[0;32mFalse\u001b[0m\u001b[0;34m,\u001b[0m\u001b[0;34m\u001b[0m\u001b[0;34m\u001b[0m\u001b[0m\n\u001b[0m\u001b[1;32m    860\u001b[0m         )\n\u001b[1;32m    861\u001b[0m \u001b[0;34m\u001b[0m\u001b[0m\n",
      "\u001b[0;32m~/.local/lib/python3.7/site-packages/ipykernel/kernelbase.py\u001b[0m in \u001b[0;36m_input_request\u001b[0;34m(self, prompt, ident, parent, password)\u001b[0m\n\u001b[1;32m    887\u001b[0m             \u001b[0;32mexcept\u001b[0m \u001b[0mKeyboardInterrupt\u001b[0m\u001b[0;34m:\u001b[0m\u001b[0;34m\u001b[0m\u001b[0;34m\u001b[0m\u001b[0m\n\u001b[1;32m    888\u001b[0m                 \u001b[0;31m# re-raise KeyboardInterrupt, to truncate traceback\u001b[0m\u001b[0;34m\u001b[0m\u001b[0;34m\u001b[0m\u001b[0;34m\u001b[0m\u001b[0m\n\u001b[0;32m--> 889\u001b[0;31m                 \u001b[0;32mraise\u001b[0m \u001b[0mKeyboardInterrupt\u001b[0m\u001b[0;34m\u001b[0m\u001b[0;34m\u001b[0m\u001b[0m\n\u001b[0m\u001b[1;32m    890\u001b[0m             \u001b[0;32melse\u001b[0m\u001b[0;34m:\u001b[0m\u001b[0;34m\u001b[0m\u001b[0;34m\u001b[0m\u001b[0m\n\u001b[1;32m    891\u001b[0m                 \u001b[0;32mbreak\u001b[0m\u001b[0;34m\u001b[0m\u001b[0;34m\u001b[0m\u001b[0m\n",
      "\u001b[0;31mKeyboardInterrupt\u001b[0m: "
     ]
    }
   ],
   "source": [
    "\n",
    "while (True):\n",
    "    key = input('lütfən açar sözlərdən istifadə \\\n",
    "    edin(1-meyvələr bölməsi,2-tərəvəzlər bölməsi):')\n",
    "\n",
    "\n",
    "    baza = {'meyvələr':['Alma','Armud','Heyva','Nar','Gilas'],\n",
    "              'tərəvəzlər':['Kartof','Soğan','Kələm']}\n",
    "\n",
    "    search = input('Dükanda axtarış üçün :')\n",
    "    search = search.capitalize() #aldığımız sətir tipi verilənin ilk hərfini böyük hərfə çeviririk\n",
    "    if key == '1':\n",
    "        print(\"\"\"\n",
    "    Siz meyvələr bölməsində axtarış edəcəksiniz\n",
    "        \"\"\")\n",
    "        \n",
    "        if search in baza['meyvələr']:\n",
    "            print('Bazada {} meyvəsi var'.format(search))\n",
    "        else:\n",
    "            print('Bazada {} meyvəsi yoxdur'.format(search))\n",
    "   \n",
    "    elif key == '2':\n",
    "        print(\"\"\"\n",
    "    Siz tərəvəzlər bölməsində axtarış edəcəksiniz\n",
    "        \"\"\")\n",
    "    \n",
    "    \n",
    "        if search in baza['tərəvəzlər']:\n",
    "            print('Bazada {} tərəvəzi  var'.format(search))\n",
    "        else:\n",
    "            print('Təəssüf edirik,Bazada {} tərəvəzi  yoxdur'.format(search))\n",
    "    \n",
    "    else:\n",
    "        print('Daxil etdiyiniz açar söz naməlumdur')"
   ]
  },
  {
   "cell_type": "markdown",
   "metadata": {},
   "source": [
    "Yuxarıda operator daxilində hər zaman True şərtini yazaraq proqramın davamlı çalışmasını təmin etdik.Amma sonda proqramdan çıxış üçün parametr əlavə etmədiyimizdən dolayı proqramı interrupt düyməsini sıxaraq çökdürdük.Proqramdan çıxış üçün irəliləyən bəhslərdə ətraflı keçəcəyimiz sys modulundan istifadə edərək təmin edə bilərik."
   ]
  },
  {
   "cell_type": "code",
   "execution_count": 170,
   "metadata": {},
   "outputs": [
    {
     "name": "stdout",
     "output_type": "stream",
     "text": [
      "lütfən açar sözlərdən istifadə     edin(1-meyvələr bölməsi,2-tərəvəzlər bölməsi):1\n",
      "Dükanda axtarış üçün :alma\n",
      "\n",
      "        Siz meyvələr bölməsində axtarış edəcəksiniz\n",
      "        \n",
      "Bazada Alma meyvəsi var\n",
      "lütfən açar sözlərdən istifadə     edin(1-meyvələr bölməsi,2-tərəvəzlər bölməsi):2\n",
      "Dükanda axtarış üçün :kartof\n",
      "\n",
      "        Siz tərəvəzlər bölməsində axtarış edəcəksiniz\n",
      "        \n",
      "Bazada Kartof tərəvəzi  var\n",
      "lütfən açar sözlərdən istifadə     edin(1-meyvələr bölməsi,2-tərəvəzlər bölməsi):2\n",
      "Dükanda axtarış üçün :soğan\n",
      "\n",
      "        Siz tərəvəzlər bölməsində axtarış edəcəksiniz\n",
      "        \n",
      "Bazada Soğan tərəvəzi  var\n",
      "lütfən açar sözlərdən istifadə     edin(1-meyvələr bölməsi,2-tərəvəzlər bölməsi):q\n",
      "Dükanda axtarış üçün :q\n"
     ]
    },
    {
     "ename": "SystemExit",
     "evalue": "0",
     "output_type": "error",
     "traceback": [
      "An exception has occurred, use %tb to see the full traceback.\n",
      "\u001b[0;31mSystemExit\u001b[0m\u001b[0;31m:\u001b[0m 0\n"
     ]
    }
   ],
   "source": [
    "import sys\n",
    "while (True):\n",
    "    key = input('lütfən açar sözlərdən istifadə \\\n",
    "    edin(1-meyvələr bölməsi,2-tərəvəzlər bölməsi):')\n",
    "\n",
    "\n",
    "    baza = {'meyvələr':['Alma','Armud','Heyva','Nar','Gilas'],\n",
    "              'tərəvəzlər':['Kartof','Soğan','Kələm']}\n",
    "\n",
    "    search = input('Dükanda axtarış üçün :')\n",
    "    search = search.capitalize() #aldığımız sətir tipi verilənin ilk hərfini böyük hərfə çeviririk\n",
    "    if key == '1':\n",
    "        print(\"\"\"\n",
    "        Siz meyvələr bölməsində axtarış edəcəksiniz\n",
    "        \"\"\")\n",
    "        \n",
    "        if search in baza['meyvələr']:\n",
    "            print('Bazada {} meyvəsi var'.format(search))\n",
    "        else:\n",
    "            print('Bazada {} meyvəsi yoxdur'.format(search))\n",
    "   \n",
    "    elif key == '2':\n",
    "        print(\"\"\"\n",
    "        Siz tərəvəzlər bölməsində axtarış edəcəksiniz\n",
    "        \"\"\")\n",
    "    \n",
    "    \n",
    "        if search in baza['tərəvəzlər']:\n",
    "            print('Bazada {} tərəvəzi  var'.format(search))\n",
    "        else:\n",
    "            print('Təəssüf edirik,Bazada {} tərəvəzi  yoxdur'.format(search))\n",
    "    elif key == 'q':\n",
    "        sys.exit(0)\n",
    "    else:\n",
    "        print('Daxil etdiyiniz açar söz naməlumdur')"
   ]
  },
  {
   "cell_type": "code",
   "execution_count": null,
   "metadata": {},
   "outputs": [],
   "source": []
  },
  {
   "cell_type": "code",
   "execution_count": null,
   "metadata": {},
   "outputs": [],
   "source": []
  },
  {
   "cell_type": "code",
   "execution_count": null,
   "metadata": {},
   "outputs": [],
   "source": []
  },
  {
   "cell_type": "markdown",
   "metadata": {},
   "source": [
    "<h3> Break , Continue və Pass ifadələri </h3>"
   ]
  }
 ],
 "metadata": {
  "kernelspec": {
   "display_name": "Python 3",
   "language": "python",
   "name": "python3"
  },
  "language_info": {
   "codemirror_mode": {
    "name": "ipython",
    "version": 3
   },
   "file_extension": ".py",
   "mimetype": "text/x-python",
   "name": "python",
   "nbconvert_exporter": "python",
   "pygments_lexer": "ipython3",
   "version": "3.7.5"
  }
 },
 "nbformat": 4,
 "nbformat_minor": 2
}
