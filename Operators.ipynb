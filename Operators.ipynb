{
 "cells": [
  {
   "cell_type": "markdown",
   "metadata": {},
   "source": [
    "# Python Conditions and If statements"
   ]
  },
  {
   "cell_type": "markdown",
   "metadata": {},
   "source": [
    "Pythonda Şərt operatorları (if else elif)"
   ]
  },
  {
   "cell_type": "markdown",
   "metadata": {},
   "source": [
    "Hər bir dildə olduğu kimi python dilində də şərt operatorları var.Şərt operatorları verilmiş arqumentlərə qarşı şərt qoyaraq kod blokunu təşkil edir.Bura qədər öyrəndiyimiz ümumi girişdən savayı data tipləri mövzusu necə vacibdirsə şərt operatorları da bir o qədər vacib nüans sayılır.Demək olarki şərt operatorlarını öyrəndiyiniz müddətdə kod sətirləri asta-asta mürəkkəbləşəcək və beyninizdə sual yaradacaq bəzi suallar daha da aydınlaşacaq.Şərt operatorları istifadəsi zamanı dil özünəməxsus abzas(indentation) xüsusiyyəti ilə operatora daxil olan ifadələri həmin abzasdan yazılma məcburiyyətini tələb edir.abzas 4 dəfə boşluq (space) düyməsinə və ya bir tab düyməsi qədər məsafədə olub ifadələrin yazılmasını o nöqtədən hesaba alır.if Operatoru həmçinin dildə açar söz olub tətbiq edilməsində, məntiq operatorlarını təşkil edə bilir .Şərt operatorlarını öyrəndiyiniz müddətdə həmçinin əvvəlki mövzuları da təkrarlamış olacaqsınız.Odurki nəzəri hissəni çox uzatmayıb if operatoruna nəzər yetirək"
   ]
  },
  {
   "cell_type": "code",
   "execution_count": 1,
   "metadata": {},
   "outputs": [
    {
     "name": "stdout",
     "output_type": "stream",
     "text": [
      "\n",
      "\n",
      "if arqument:\n",
      "    kodlar;\n",
      "if arqument1:\n",
      "    kodlar;\n",
      "\n",
      "\n",
      "\n",
      "\n",
      "\n"
     ]
    }
   ],
   "source": [
    "print(\"\"\"\n",
    "\n",
    "if arqument:\n",
    "    kodlar;\n",
    "if arqument1:\n",
    "    kodlar;\n",
    "\n",
    "\n",
    "\n",
    "\n",
    "\"\"\")"
   ]
  },
  {
   "cell_type": "markdown",
   "metadata": {},
   "source": [
    "Formasında ifadə olunur.Nümunələrə baxaq"
   ]
  },
  {
   "cell_type": "code",
   "execution_count": 2,
   "metadata": {},
   "outputs": [
    {
     "data": {
      "text/plain": [
       "True"
      ]
     },
     "execution_count": 2,
     "metadata": {},
     "output_type": "execute_result"
    }
   ],
   "source": [
    "siyahı = ['Python','Java','C++']\n",
    "'Python' in siyahı"
   ]
  },
  {
   "cell_type": "markdown",
   "metadata": {},
   "source": [
    "ifadəsinin yerinə if operatorundan istifadə edərək"
   ]
  },
  {
   "cell_type": "code",
   "execution_count": 3,
   "metadata": {},
   "outputs": [
    {
     "name": "stdout",
     "output_type": "stream",
     "text": [
      "Bəli \"Python\" ifadəsi lüğət daxilində var!\n"
     ]
    }
   ],
   "source": [
    "siyahı = ['Python','Java','C++']\n",
    "if 'Python' in siyahı:\n",
    "    print('Bəli \"Python\" ifadəsi lüğət daxilində var!')"
   ]
  },
  {
   "cell_type": "markdown",
   "metadata": {},
   "source": [
    "Yuxarıdakı nümunədə lüğət tərtib edib Python ifadəsinin lüğət daxilində var olub-olmadığını sorğuya çəkdik.Əgər Python ifadəsi siyahı daxilində varsa ekrana ......... ifadələr yaz əmrini verdik."
   ]
  },
  {
   "cell_type": "markdown",
   "metadata": {},
   "source": [
    "Biz bilirikki verdiyimiz ifadə siyahı daxilində mövcuddur,bunun əksi olaraq sorğuya çəkdiyimiz ifadə əgər olmasa necə!"
   ]
  },
  {
   "cell_type": "code",
   "execution_count": 4,
   "metadata": {},
   "outputs": [],
   "source": [
    "siyahı = ['Python','Java','C++']\n",
    "if 'Rust' in siyahı:\n",
    "    print('Bəli \"Python\" ifadəsi lüğət daxilində var!')"
   ]
  },
  {
   "cell_type": "markdown",
   "metadata": {},
   "source": [
    "Yuxarıdakı nümunədə Rust ifadəsini sorğuya çəkdim və bilirikki bu ifadə siyahı daxilində mövcud deyil.Bu ifadələri biz şərti olaraq qeyd edirik,proqramları biz yönəldə bilmərik hər zaman.İfadəni istifadəçidən alsaq istifadəçi toplama işarəsi girərsə ekrana heç bir ifadə çap olunmayaraq proqram bitəcəkdir.Bunun alternativi else operatorudur.if ifadəsinin əksinə olan məqamlarda dövrəyə girərək daxilində məlumatları çalışdırır."
   ]
  },
  {
   "cell_type": "code",
   "execution_count": 5,
   "metadata": {},
   "outputs": [
    {
     "name": "stdout",
     "output_type": "stream",
     "text": [
      "Siyahı daxilində axtarış üçün ifadə yazın : Rust\n",
      "********************\n",
      "Bəli \"Rust\" ifadəsi lüğət daxilində var!\n"
     ]
    }
   ],
   "source": [
    "siyahı = ['Python','Java','C++','Rust']\n",
    "data = input('Siyahı daxilində axtarış üçün ifadə yazın : ')\n",
    "if data in siyahı:\n",
    "    print('*'*20)\n",
    "    print('Bəli \"{}\" ifadəsi lüğət daxilində var!'.format(data))\n",
    "else:\n",
    "    print('Xeyr \"{}\" ifadəsi lüğət daxilində yoxdur!'.format(data))"
   ]
  },
  {
   "cell_type": "code",
   "execution_count": 6,
   "metadata": {},
   "outputs": [
    {
     "name": "stdout",
     "output_type": "stream",
     "text": [
      "Siyahı daxilində axtarış üçün ifadə yazın : Go\n",
      "Xeyr \"Go\" ifadəsi lüğət daxilində yoxdur!\n"
     ]
    }
   ],
   "source": [
    "siyahı = ['Python','Java','C++','Rust']\n",
    "data = input('Siyahı daxilində axtarış üçün ifadə yazın : ')\n",
    "if data in siyahı:\n",
    "    print('*'*20)\n",
    "    print('Bəli \"{}\" ifadəsi lüğət daxilində var!'.format(data))\n",
    "else:\n",
    "    print('Xeyr \"{}\" ifadəsi lüğət daxilində yoxdur!'.format(data))"
   ]
  },
  {
   "cell_type": "markdown",
   "metadata": {},
   "source": [
    "Digər nümunələrə baxaq"
   ]
  },
  {
   "cell_type": "code",
   "execution_count": 7,
   "metadata": {},
   "outputs": [
    {
     "name": "stdout",
     "output_type": "stream",
     "text": [
      "Number:12\n",
      "Number:5\n",
      "Cavab:2.4\n",
      "Bölmə əməlini yerinə yetirdik\n"
     ]
    }
   ],
   "source": [
    "num1 = float(input('Number:'))\n",
    "num2 = float(input('Number:'))\n",
    "result = None;\n",
    "if num1>num2:\n",
    "    result = num1/num2\n",
    "    print('Cavab:{}'.format(result))\n",
    "else:\n",
    "    result = num2/num1;\n",
    "    print('Cavab:{}'.format(result))\n",
    "print('Bölmə əməlini yerinə yetirdik')\n",
    "    \n",
    "    "
   ]
  },
  {
   "cell_type": "code",
   "execution_count": 8,
   "metadata": {},
   "outputs": [
    {
     "name": "stdout",
     "output_type": "stream",
     "text": [
      "Number:4\n",
      "Number:7\n",
      "Cavab:1.75\n",
      "Bölmə əməlini yerinə yetirdik\n"
     ]
    }
   ],
   "source": [
    "num1 = float(input('Number:'))\n",
    "num2 = float(input('Number:'))\n",
    "result = None;\n",
    "if num1>num2:\n",
    "    result = num1/num2\n",
    "    print('Cavab:{}'.format(result))\n",
    "else:\n",
    "    result = num2/num1;\n",
    "    print('Cavab:{}'.format(result))\n",
    "print('Bölmə əməlini yerinə yetirdik')"
   ]
  },
  {
   "cell_type": "markdown",
   "metadata": {},
   "source": [
    "Yuxarıdakı nümunədə istifadəçidən aldığımız iki ədədi müqayisə edib bölmə əməlini yerinə yetirdik"
   ]
  },
  {
   "cell_type": "code",
   "execution_count": 9,
   "metadata": {},
   "outputs": [
    {
     "name": "stdout",
     "output_type": "stream",
     "text": [
      "Yaşınızı qeyd edin:18\n",
      "Siz yaş məhdudiyyətini keçmisiniz.Filmi izləyə bilərsiniz!\n"
     ]
    }
   ],
   "source": [
    "yaş = int(input('Yaşınızı qeyd edin:'));\n",
    "limit = 18;\n",
    "if yaş >= limit :\n",
    "    print('Siz yaş məhdudiyyətini keçmisiniz.Filmi izləyə bilərsiniz!')\n",
    "else:\n",
    "    print('Yaşınız 18-dən kiçikdir.Filmi izləmək sizə qadağandır.')"
   ]
  },
  {
   "cell_type": "code",
   "execution_count": 10,
   "metadata": {},
   "outputs": [
    {
     "name": "stdout",
     "output_type": "stream",
     "text": [
      "Yaşınızı qeyd edin:16\n",
      "Yaşınız 18-dən kiçikdir.Filmi izləmək sizə qadağandır.\n"
     ]
    }
   ],
   "source": [
    "yaş = int(input('Yaşınızı qeyd edin:'));\n",
    "limit = 18;\n",
    "if yaş >= limit :\n",
    "    print('Siz yaş məhdudiyyətini keçmisiniz.Filmi izləyə bilərsiniz!')\n",
    "else:\n",
    "    print('Yaşınız 18-dən kiçikdir.Filmi izləmək sizə qadağandır.')"
   ]
  },
  {
   "cell_type": "markdown",
   "metadata": {},
   "source": []
  },
  {
   "cell_type": "code",
   "execution_count": 11,
   "metadata": {},
   "outputs": [
    {
     "name": "stdout",
     "output_type": "stream",
     "text": [
      "Şifrənizi yazın:abc12\n",
      "Şifrəniz 6 sayda olmalıdır.\n"
     ]
    }
   ],
   "source": [
    "password = input('Şifrənizi yazın:');\n",
    "limit = 6\n",
    "if len(password)<limit :\n",
    "    print('Şifrəniz {} sayda olmalıdır.'.format(limit))\n"
   ]
  },
  {
   "cell_type": "code",
   "execution_count": 12,
   "metadata": {},
   "outputs": [
    {
     "name": "stdout",
     "output_type": "stream",
     "text": [
      "Şifrənizi yazın:abc123\n"
     ]
    }
   ],
   "source": [
    "password = input('Şifrənizi yazın:');\n",
    "limit = 6\n",
    "if len(password)<limit :\n",
    "    print('Şifrəniz {} sayda olmalıdır.'.format(limit))"
   ]
  },
  {
   "cell_type": "code",
   "execution_count": 13,
   "metadata": {},
   "outputs": [
    {
     "name": "stdout",
     "output_type": "stream",
     "text": [
      "Şifrənizi yazın:abc123\n",
      "Şifrəniz 6 qəbul olundu.\n",
      "Şifrəniz :abc123\n"
     ]
    }
   ],
   "source": [
    "password = input('Şifrənizi yazın:');\n",
    "limit = 6\n",
    "if len(password)<limit :\n",
    "    print('Şifrəniz {} sayda olmalıdır.'.format(limit))\n",
    "if len(password)==limit:\n",
    "    print('Şifrəniz {} qəbul olundu.'.format(limit))\n",
    "    print('Şifrəniz :{}'.format(password))"
   ]
  },
  {
   "cell_type": "code",
   "execution_count": 14,
   "metadata": {},
   "outputs": [
    {
     "name": "stdout",
     "output_type": "stream",
     "text": [
      "Şifrənizi yazın:abc1\n",
      "Şifrəniz 6 sayda olmalıdır.\n"
     ]
    }
   ],
   "source": [
    "password = input('Şifrənizi yazın:');\n",
    "limit = 6\n",
    "if len(password)<limit :\n",
    "    print('Şifrəniz {} sayda olmalıdır.'.format(limit))\n",
    "if len(password)==limit:\n",
    "    print('Şifrəniz \"{}\" qəbul olundu.'.format(password))\n",
    "    print('Şifrəniz :{}'.format(password))"
   ]
  },
  {
   "cell_type": "markdown",
   "metadata": {},
   "source": [
    "elif Operatoru"
   ]
  },
  {
   "cell_type": "markdown",
   "metadata": {},
   "source": [
    "birdən çox seçimlər qarşısında elif operatorundan istifadə etmək daha məqsədəuyğundur"
   ]
  },
  {
   "cell_type": "markdown",
   "metadata": {},
   "source": [
    "Riyazi əməlləri yerinə yetirən proqram hazırlayaq"
   ]
  },
  {
   "cell_type": "code",
   "execution_count": 15,
   "metadata": {},
   "outputs": [
    {
     "name": "stdout",
     "output_type": "stream",
     "text": [
      "\n",
      "\n",
      "###########################\n",
      "#                         #\n",
      "# Sadə Hesablama Proqramı #\n",
      "#                         #\n",
      "#                         #\n",
      "###########################\n",
      "\n",
      "'1' Toplama\n",
      "'2' Çıxma\n",
      "'3' Vurma\n",
      "'4' Bölmə\n",
      "'5' Faiz\n",
      "\n",
      "\n",
      "Yuxarıdakı əməliyyatlardan birini seçin5\n",
      "Faizi tapılacaq ədəd:1000\n",
      "Faiz dərəcəsi:30\n",
      "Cavab : 300.0\n"
     ]
    }
   ],
   "source": [
    "print(\"\"\"\n",
    "\n",
    "###########################\n",
    "#                         #\n",
    "# Sadə Hesablama Proqramı #\n",
    "#                         #\n",
    "#                         #\n",
    "###########################\n",
    "\n",
    "'1' Toplama\n",
    "'2' Çıxma\n",
    "'3' Vurma\n",
    "'4' Bölmə\n",
    "'5' Faiz\n",
    "\n",
    "\"\"\")\n",
    "\n",
    "#Proqramın tərtibatı\n",
    "\n",
    "#Əməliyyatın seçilməsi\n",
    "\n",
    "operation = input('Yuxarıdakı əməliyyatlardan birini seçin')\n",
    "\n",
    "\n",
    "result = None;\n",
    "if operation == '1':\n",
    "    num1 = float(input('Ilk ədədi yazın:'))\n",
    "    num2 = float(input('İkinci ədədi yazın:'))\n",
    "    #Toplama əməli\n",
    "    result = num1+num2\n",
    "    print('Cavab : {}'.format(result))\n",
    "\n",
    "elif operation == '2':\n",
    "    num1 = float(input('Ilk ədədi yazın:'))\n",
    "    num2 = float(input('İkinci ədədi yazın:'))\n",
    "    #Çıxma əməli\n",
    "    result = num1-num2\n",
    "    print('Cavab : {}'.format(result))\n",
    "    \n",
    "elif operation == '3':\n",
    "    num1 = float(input('Ilk ədədi yazın:'))\n",
    "    num2 = float(input('İkinci ədədi yazın:'))\n",
    "    #Vurma əməli\n",
    "    result = num1*num2\n",
    "    print('Cavab : {}'.format(result))\n",
    "    \n",
    "elif operation == '4':\n",
    "    num1 = float(input('Ilk ədədi yazın:'))\n",
    "    num2 = float(input('İkinci ədədi yazın:'))\n",
    "    #Bölmə əməli\n",
    "    result = num1/num2\n",
    "    print('Cavab : {}'.format(result))\n",
    "\n",
    "elif operation == '5':\n",
    "    #Faiz əməli\n",
    "    num1 = float(input('Faizi tapılacaq ədəd:'))\n",
    "    num2 = float(input('Faiz dərəcəsi:'))\n",
    "    result = (num1*num2)/100\n",
    "    print('Cavab : {}'.format(result))"
   ]
  },
  {
   "cell_type": "code",
   "execution_count": 16,
   "metadata": {},
   "outputs": [
    {
     "name": "stdout",
     "output_type": "stream",
     "text": [
      "\n",
      "\n",
      "###########################\n",
      "#                         #\n",
      "# Sadə Hesablama Proqramı #\n",
      "#                         #\n",
      "#                         #\n",
      "###########################\n",
      "\n",
      "'1' Toplama\n",
      "'2' Çıxma\n",
      "'3' Vurma\n",
      "'4' Bölmə\n",
      "'5' Faiz\n",
      "\n",
      "\n",
      "Yuxarıdakı əməliyyatlardan birini seçin3\n",
      "Ilk ədədi yazın:12\n",
      "İkinci ədədi yazın:6\n",
      "Cavab : 72.0\n"
     ]
    }
   ],
   "source": [
    "print(\"\"\"\n",
    "\n",
    "###########################\n",
    "#                         #\n",
    "# Sadə Hesablama Proqramı #\n",
    "#                         #\n",
    "#                         #\n",
    "###########################\n",
    "\n",
    "'1' Toplama\n",
    "'2' Çıxma\n",
    "'3' Vurma\n",
    "'4' Bölmə\n",
    "'5' Faiz\n",
    "\n",
    "\"\"\")\n",
    "\n",
    "#Proqramın tərtibatı\n",
    "\n",
    "#Əməliyyatın seçilməsi\n",
    "\n",
    "operation = input('Yuxarıdakı əməliyyatlardan birini seçin')\n",
    "\n",
    "\n",
    "result = None;\n",
    "if operation == '1':\n",
    "    num1 = float(input('Ilk ədədi yazın:'))\n",
    "    num2 = float(input('İkinci ədədi yazın:'))\n",
    "    #Toplama əməli\n",
    "    result = num1+num2\n",
    "    print('Cavab : {}'.format(result))\n",
    "\n",
    "elif operation == '2':\n",
    "    num1 = float(input('Ilk ədədi yazın:'))\n",
    "    num2 = float(input('İkinci ədədi yazın:'))\n",
    "    #Çıxma əməli\n",
    "    result = num1-num2\n",
    "    print('Cavab : {}'.format(result))\n",
    "    \n",
    "elif operation == '3':\n",
    "    num1 = float(input('Ilk ədədi yazın:'))\n",
    "    num2 = float(input('İkinci ədədi yazın:'))\n",
    "    #Vurma əməli\n",
    "    result = num1*num2\n",
    "    print('Cavab : {}'.format(result))\n",
    "    \n",
    "elif operation == '4':\n",
    "    num1 = float(input('Ilk ədədi yazın:'))\n",
    "    num2 = float(input('İkinci ədədi yazın:'))\n",
    "    #Bölmə əməli\n",
    "    result = num1/num2\n",
    "    print('Cavab : {}'.format(result))\n",
    "\n",
    "elif operation == '5':\n",
    "    #Faiz əməli\n",
    "    num1 = float(input('Faizi tapılacaq ədəd:'))\n",
    "    num2 = float(input('Faiz dərəcəsi:'))\n",
    "    result = (num1*num2)/100\n",
    "    print('Cavab : {}'.format(result))"
   ]
  },
  {
   "cell_type": "code",
   "execution_count": 18,
   "metadata": {},
   "outputs": [
    {
     "name": "stdout",
     "output_type": "stream",
     "text": [
      "Sorğuya çəkəcəyiniz ədədi qeyd edin:10\n",
      "10 ədədi siyahı daxilində yoxdur\n"
     ]
    }
   ],
   "source": [
    "siyahı = [1,2,3,4,5,6,7,8,9,0];\n",
    "data = int(input('Sorğuya çəkəcəyiniz ədədi qeyd edin:'))\n",
    "if data in siyahı:\n",
    "    print('{} ədədi siyahı daxilində'.format(data))\n",
    "else:\n",
    "    print('{} ədədi siyahı daxilində yoxdur'.format(data))\n"
   ]
  },
  {
   "cell_type": "code",
   "execution_count": 23,
   "metadata": {},
   "outputs": [],
   "source": [
    "dictionary = {'kitab':{'Davinchi':{'Author':'Dan Brown','Year':'2005','Publisher':'BrightSummaries'},\n",
    "                      'A Life':{'Author':'Gabriel Garcia Marquez','Year':'2012','Publisher':'Bloomsbury Publishing'}}}"
   ]
  },
  {
   "cell_type": "code",
   "execution_count": 24,
   "metadata": {},
   "outputs": [
    {
     "name": "stdout",
     "output_type": "stream",
     "text": [
      "{'kitab': {'Davinchi': {'Author': 'Dan Brown', 'Year': '2005', 'Publisher': 'BrightSummaries'}, 'A Life': {'Author': 'Gabriel Garcia Marquez', 'Year': '2012', 'Publisher': 'Bloomsbury Publishing'}}}\n"
     ]
    }
   ],
   "source": [
    "print(dictionary)"
   ]
  },
  {
   "cell_type": "code",
   "execution_count": 25,
   "metadata": {},
   "outputs": [
    {
     "name": "stdout",
     "output_type": "stream",
     "text": [
      "2005\n"
     ]
    }
   ],
   "source": [
    "print(dictionary['kitab']['Davinchi']['Year'])"
   ]
  },
  {
   "cell_type": "code",
   "execution_count": 26,
   "metadata": {},
   "outputs": [
    {
     "name": "stdout",
     "output_type": "stream",
     "text": [
      "dict_values([{'Davinchi': {'Author': 'Dan Brown', 'Year': '2005', 'Publisher': 'BrightSummaries'}, 'A Life': {'Author': 'Gabriel Garcia Marquez', 'Year': '2012', 'Publisher': 'Bloomsbury Publishing'}}])\n"
     ]
    }
   ],
   "source": [
    "print(dictionary.values())"
   ]
  },
  {
   "cell_type": "code",
   "execution_count": 31,
   "metadata": {},
   "outputs": [
    {
     "data": {
      "text/plain": [
       "{'Davinchi': {'Author': 'Dan Brown',\n",
       "  'Year': '2005',\n",
       "  'Publisher': 'BrightSummaries'},\n",
       " 'A Life': {'Author': 'Gabriel Garcia Marquez',\n",
       "  'Year': '2012',\n",
       "  'Publisher': 'Bloomsbury Publishing'}}"
      ]
     },
     "execution_count": 31,
     "metadata": {},
     "output_type": "execute_result"
    }
   ],
   "source": [
    "dictionary['kitab']"
   ]
  },
  {
   "cell_type": "code",
   "execution_count": 36,
   "metadata": {},
   "outputs": [
    {
     "name": "stdout",
     "output_type": "stream",
     "text": [
      "Kitab adını qeyd edin : A Life\n",
      "\"A Life\" kitabı bazamızda var\n",
      "{'Author': 'Gabriel Garcia Marquez', 'Year': '2012', 'Publisher': 'Bloomsbury Publishing'}\n"
     ]
    }
   ],
   "source": [
    "book = input('Kitab adını qeyd edin : ')\n",
    "if book in dictionary['kitab']:\n",
    "    print('\"{}\" kitabı bazamızda var'.format(book))\n",
    "    print('{}'.format(dictionary['kitab'][book]))\n",
    "else:\n",
    "    print('Təəssüf edirik,\"{}\" kitabı bazamızda yoxdur'.format(book))"
   ]
  },
  {
   "cell_type": "code",
   "execution_count": null,
   "metadata": {},
   "outputs": [],
   "source": []
  }
 ],
 "metadata": {
  "kernelspec": {
   "display_name": "Python 3",
   "language": "python",
   "name": "python3"
  },
  "language_info": {
   "codemirror_mode": {
    "name": "ipython",
    "version": 3
   },
   "file_extension": ".py",
   "mimetype": "text/x-python",
   "name": "python",
   "nbconvert_exporter": "python",
   "pygments_lexer": "ipython3",
   "version": "3.7.5"
  }
 },
 "nbformat": 4,
 "nbformat_minor": 2
}
