{
 "cells": [
  {
   "cell_type": "markdown",
   "metadata": {},
   "source": [
    "# Funksiyalar"
   ]
  },
  {
   "cell_type": "markdown",
   "metadata": {},
   "source": [
    "### Öncəki bəhslərdə qeyd etdiyim kimi şərt və dövr operatorları bir proqramlaşdırma dilinin özəyini təşkil etdiyimi kimi funksiyalar da istənilən dildə əsas mövzulardan biridir.Funksiyaları təsnifatlandırsaq,iki yerə bölə bilərik"
   ]
  },
  {
   "cell_type": "markdown",
   "metadata": {},
   "source": [
    "### 1. Built-in Function (Kök Funksiyalar)\n",
    "\n",
    "### 2. User-defined Functions ( İstifadəçi tərəfindən hazırlanmış Funksiyalar)"
   ]
  },
  {
   "cell_type": "markdown",
   "metadata": {},
   "source": [
    "Bura qədər istifadə etdiyimiz print() funksiyası list() tuple() funksiyaları dil ilə bərabər gələr kök funksiyalardır.Və növbəti bəhslərdə daha geniş formada digər kök funksiyaları öyrənəcəyik.Bu bəhsdə isə istifadəçi tərəfindən hazırlanmış yəni bizim hazırladığımız funksiyaları nəzərdən keçirəcəyikki,funksiyaların nə olduğuna dair təsəvvürümüz olsun.Riyaziyyatda öyrəndiyimiz funksiyalar,dil daxilində də eyni mənanı kəsb edir.f(n)=n+8 funksiydır.n-ə qiymət verməklə funksiyanı həll edə bilərik.Biz isə bu funksiyanı Python dili ilə ifadə edəcəyik.Bəs funksiyaları niyə öyrənirik?\n",
    "Çünki funksiyalar bizim işimizi asanlaşdırır,təkrar kod nümunələri yazmamağımıza yardım edir.Kod blokları artdıqca başda qeyd etdiyimiz iki nöqtə arasında məsafənin tapılması düsturu növbəti sətirlərdə istifadəsi üçün çətinlik törədəcək və dəyişənləri yenidən qeyd etməyimizə ehtiyac olacaqdır.Bunun alternativ yolu funksiya təyin edib daxilində parametrləri verib düsturu təşkil edirik və istənilən kod bloku daxilində funksiyamızı çağırıb hesabatı apara bilərik"
   ]
  },
  {
   "cell_type": "markdown",
   "metadata": {},
   "source": [
    "Funksiyaları təyin etməyimizin məqsədi müəyyən tapşırıqları yerinə yetirmək üçün istifadə olunur.Özümüz yazdığımız bütün digər funksiyalar istifadəçi tərəfindən təyin olunan funksiyaların altına düşür. Beləliklə, istifadəçi tərəfindən təyin olunan bir funksiya başqasına kitabxana funksiyası ola bilər.\n",
    "Bir proqramda təkrar kod varsa,Funksiya həmin kodları daxil etmək üçün istifadə oluna bilər və  funksiyalar çağırıldığı zaman icra olunur.\n",
    "Böyük layihə üzərində işləyən proqramçılar müxtəlif funksiyaları yerinə yetirərək, iş yükünü bölüşə bilər.\n"
   ]
  },
  {
   "cell_type": "markdown",
   "metadata": {},
   "source": [
    "Bir funksiya yalnız çağırıldıqda işləyən kod blokudur.\n",
    "Aşağıda qeyd olunan kök funksiyaların bir qismidir.Və dil ilə bərabər gəlir.Biz də kod bloklarında istifadə edirik."
   ]
  },
  {
   "cell_type": "code",
   "execution_count": 3,
   "metadata": {},
   "outputs": [],
   "source": [
    "from stdlib_list import stdlib_list"
   ]
  },
  {
   "cell_type": "code",
   "execution_count": 5,
   "metadata": {},
   "outputs": [],
   "source": [
    "libraries = stdlib_list(\"3.7\")"
   ]
  },
  {
   "cell_type": "code",
   "execution_count": 11,
   "metadata": {},
   "outputs": [
    {
     "data": {
      "text/plain": [
       "['abc',\n",
       " 'aifc',\n",
       " 'argparse',\n",
       " 'array',\n",
       " 'ast',\n",
       " 'asynchat',\n",
       " 'asyncio',\n",
       " 'asyncore',\n",
       " 'atexit',\n",
       " 'audioop',\n",
       " 'base64',\n",
       " 'bdb',\n",
       " 'binascii',\n",
       " 'binhex',\n",
       " 'bisect',\n",
       " 'builtins',\n",
       " 'bz2',\n",
       " 'cProfile',\n",
       " 'calendar',\n",
       " 'cgi',\n",
       " 'cgitb',\n",
       " 'chunk',\n",
       " 'cmath',\n",
       " 'cmd',\n",
       " 'code',\n",
       " 'codecs',\n",
       " 'codeop',\n",
       " 'collections',\n",
       " 'collections.abc',\n",
       " 'colorsys',\n",
       " 'compileall',\n",
       " 'concurrent.futures',\n",
       " 'configparser',\n",
       " 'contextlib',\n",
       " 'contextvars',\n",
       " 'copy',\n",
       " 'copyreg',\n",
       " 'crypt',\n",
       " 'csv',\n",
       " 'ctypes',\n",
       " 'curses',\n",
       " 'curses.ascii',\n",
       " 'curses.panel',\n",
       " 'curses.textpad',\n",
       " 'dataclasses',\n",
       " 'datetime']"
      ]
     },
     "execution_count": 11,
     "metadata": {},
     "output_type": "execute_result"
    }
   ],
   "source": [
    "libraries[4:50]"
   ]
  },
  {
   "cell_type": "markdown",
   "metadata": {},
   "source": [
    "İndi isə istifadəçi tərəfi hazırlanan funksiyaların yazılış qaydasına baxaq.Biz ilk dərslərdə Python daxilində açar sözlərin olduğunu qeyd etmişdik.Əgər nəzər yetirsəniz def (define) adlı açar söz var idi.Funksiyaları təyin etmək üçün bu ifadədən istifadə edəcəyik.Aşağıda ümumi halda funksiyanın yazılış metodikası göstərilmişdir"
   ]
  },
  {
   "cell_type": "code",
   "execution_count": 12,
   "metadata": {},
   "outputs": [
    {
     "name": "stdout",
     "output_type": "stream",
     "text": [
      "\n",
      "\n",
      "\n",
      "        def funksiya_adi (parametr1,parametr2,......):\n",
      "            #funksiya bloku\n",
      "            #docstring\n",
      "            Kodlar\n",
      "            #geri dönüş dəyəri\n",
      "            \n",
      "\n",
      "\n"
     ]
    }
   ],
   "source": [
    "print(\"\"\"\n",
    "\n",
    "\n",
    "        def funksiya_adi (parametr1,parametr2,......):\n",
    "            #funksiya bloku\n",
    "            #docstring\n",
    "            Kodlar\n",
    "            #geri dönüş dəyəri\n",
    "            \n",
    "\n",
    "\"\"\")"
   ]
  },
  {
   "cell_type": "markdown",
   "metadata": {},
   "source": [
    "Asta-asta ilk funksiyamızı tərtib edək"
   ]
  },
  {
   "cell_type": "code",
   "execution_count": 13,
   "metadata": {},
   "outputs": [],
   "source": [
    "def funksiya():\n",
    "    print('Salam')"
   ]
  },
  {
   "cell_type": "markdown",
   "metadata": {},
   "source": [
    "shift+enter düyməsini sıxdıq aşağı sətrə xətasız keçid etdik"
   ]
  },
  {
   "cell_type": "markdown",
   "metadata": {},
   "source": [
    "ilk funksiyamızın adını funksiya olaraq qeyd etdik.tipini sorğuya çəkək"
   ]
  },
  {
   "cell_type": "code",
   "execution_count": 14,
   "metadata": {},
   "outputs": [
    {
     "data": {
      "text/plain": [
       "function"
      ]
     },
     "execution_count": 14,
     "metadata": {},
     "output_type": "execute_result"
    }
   ],
   "source": [
    "type(funksiya)"
   ]
  },
  {
   "cell_type": "markdown",
   "metadata": {},
   "source": [
    "Və tipini soruşduqda bizə function(funksiya) olduğunu bildirdi.Biz funksiyanı tərtib etdik.Amma icra olunmadı.dərsə girişdə də qeyd etdiyim kimi funksiyalar çağırılmadığı müddətcə icra olunmur.İndi gəlin funksiyamızı çağıraq"
   ]
  },
  {
   "cell_type": "code",
   "execution_count": 15,
   "metadata": {},
   "outputs": [
    {
     "name": "stdout",
     "output_type": "stream",
     "text": [
      "Salam\n"
     ]
    }
   ],
   "source": [
    "funksiya()"
   ]
  },
  {
   "cell_type": "markdown",
   "metadata": {},
   "source": [
    "funksiyamız daxilində print() funksiyasından istifadə edərək ekrana Salam ifadəsini çap etdik."
   ]
  },
  {
   "cell_type": "code",
   "execution_count": 17,
   "metadata": {},
   "outputs": [
    {
     "name": "stdout",
     "output_type": "stream",
     "text": [
      "Salam\n",
      "Dünya\n"
     ]
    }
   ],
   "source": [
    "def salam():\n",
    "    \"\"\"\n",
    "    funksiya haqqında məlumat \n",
    "    ekrana salam ifadəsi çap olunur\n",
    "    \"\"\"\n",
    "    print('Salam')\n",
    "    print('Dünya')\n",
    "salam()"
   ]
  },
  {
   "cell_type": "markdown",
   "metadata": {},
   "source": [
    "Yuxarıdakı funksiyamız sadəcə ekrana məlumatları göstərir,heç bir riyazi funksiyası yoxdur."
   ]
  },
  {
   "cell_type": "markdown",
   "metadata": {},
   "source": [
    "Funksiyaların təşkilində iki əsas ifadə : Parametr və Argumentlər istifadə olunur.Nümunə ilə bu ifadələrlə tanış olaq"
   ]
  },
  {
   "cell_type": "code",
   "execution_count": 25,
   "metadata": {},
   "outputs": [],
   "source": [
    "def salam(param):\n",
    "    print(param)\n"
   ]
  },
  {
   "cell_type": "markdown",
   "metadata": {},
   "source": [
    "salam funksiyasına param adlı,parametr əlavə etdik.funksiya blokunda print() funksiyası ilə bu parametrə verilən arqumenti çap etmək istəyirik.Aşağıda funksiyanı çağıraq"
   ]
  },
  {
   "cell_type": "code",
   "execution_count": 26,
   "metadata": {},
   "outputs": [
    {
     "ename": "TypeError",
     "evalue": "salam() missing 1 required positional argument: 'param'",
     "output_type": "error",
     "traceback": [
      "\u001b[0;31m---------------------------------------------------------------------------\u001b[0m",
      "\u001b[0;31mTypeError\u001b[0m                                 Traceback (most recent call last)",
      "\u001b[0;32m<ipython-input-26-5e16eb799c18>\u001b[0m in \u001b[0;36m<module>\u001b[0;34m\u001b[0m\n\u001b[0;32m----> 1\u001b[0;31m \u001b[0msalam\u001b[0m\u001b[0;34m(\u001b[0m\u001b[0;34m)\u001b[0m\u001b[0;34m\u001b[0m\u001b[0;34m\u001b[0m\u001b[0m\n\u001b[0m",
      "\u001b[0;31mTypeError\u001b[0m: salam() missing 1 required positional argument: 'param'"
     ]
    }
   ],
   "source": [
    "salam()"
   ]
  },
  {
   "cell_type": "markdown",
   "metadata": {},
   "source": [
    "Və xəta aldıq.Xətada deyildiyi tələb olunan mövqeydə arqument yoxdur.param - parametr,arqument isə parametrə verilən dəyərdir"
   ]
  },
  {
   "cell_type": "code",
   "execution_count": 27,
   "metadata": {},
   "outputs": [
    {
     "name": "stdout",
     "output_type": "stream",
     "text": [
      "Arqument\n"
     ]
    }
   ],
   "source": [
    "def salam(param):\n",
    "    print(param)\n",
    "salam('Arqument')"
   ]
  },
  {
   "cell_type": "markdown",
   "metadata": {},
   "source": [
    "Və ekrana arqument ifadəsi çap olundu.salam funksiyasını çağırdıqda yazdığımız Arqument ifadəsi ilk başda qeyd etdiyimiz param ifadəsinin dəyəridir(Arqumentidir)."
   ]
  },
  {
   "cell_type": "markdown",
   "metadata": {},
   "source": [
    "Funksiyamıza bəzi əlavələr edək"
   ]
  },
  {
   "cell_type": "code",
   "execution_count": 28,
   "metadata": {},
   "outputs": [],
   "source": [
    "def salam(ad):\n",
    "    print('Salam {}'.format(ad))\n"
   ]
  },
  {
   "cell_type": "code",
   "execution_count": 29,
   "metadata": {},
   "outputs": [
    {
     "name": "stdout",
     "output_type": "stream",
     "text": [
      "Salam Eldar\n"
     ]
    }
   ],
   "source": [
    "salam('Eldar')"
   ]
  },
  {
   "cell_type": "markdown",
   "metadata": {},
   "source": [
    "Əgər funksiyamıza iki arqument versək necə nəticələnəcək!"
   ]
  },
  {
   "cell_type": "code",
   "execution_count": 31,
   "metadata": {},
   "outputs": [
    {
     "ename": "TypeError",
     "evalue": "salam() takes 1 positional argument but 2 were given",
     "output_type": "error",
     "traceback": [
      "\u001b[0;31m---------------------------------------------------------------------------\u001b[0m",
      "\u001b[0;31mTypeError\u001b[0m                                 Traceback (most recent call last)",
      "\u001b[0;32m<ipython-input-31-f5f5887a71f3>\u001b[0m in \u001b[0;36m<module>\u001b[0;34m\u001b[0m\n\u001b[0;32m----> 1\u001b[0;31m \u001b[0msalam\u001b[0m\u001b[0;34m(\u001b[0m\u001b[0;34m'Eldar'\u001b[0m\u001b[0;34m,\u001b[0m\u001b[0;34m'Arzu'\u001b[0m\u001b[0;34m)\u001b[0m\u001b[0;34m\u001b[0m\u001b[0;34m\u001b[0m\u001b[0m\n\u001b[0m",
      "\u001b[0;31mTypeError\u001b[0m: salam() takes 1 positional argument but 2 were given"
     ]
    }
   ],
   "source": [
    "salam('Eldar','Arzu')"
   ]
  },
  {
   "cell_type": "markdown",
   "metadata": {},
   "source": [
    "TypeError: salam() takes 1 positional argument but 2 were given  və xəta aldıq.Xətada da deyildiyi kimi funksiyamız bir arqument aldığı halda biz iki arqument əlavə etmişik.Zatən başda funksiyanın parametr sayından ala bildiyi arqument sayı məlumdur"
   ]
  },
  {
   "cell_type": "markdown",
   "metadata": {},
   "source": [
    "#### İki və daha çox arumentlər"
   ]
  },
  {
   "cell_type": "code",
   "execution_count": 36,
   "metadata": {},
   "outputs": [],
   "source": [
    "def funksiya(param1,param2):\n",
    "    print('{} və {} eyni sinifdə oxuyurlar.'.format(param1,param2))\n"
   ]
  },
  {
   "cell_type": "code",
   "execution_count": 37,
   "metadata": {},
   "outputs": [
    {
     "ename": "TypeError",
     "evalue": "funksiya() missing 1 required positional argument: 'param2'",
     "output_type": "error",
     "traceback": [
      "\u001b[0;31m---------------------------------------------------------------------------\u001b[0m",
      "\u001b[0;31mTypeError\u001b[0m                                 Traceback (most recent call last)",
      "\u001b[0;32m<ipython-input-37-23a0cc47778a>\u001b[0m in \u001b[0;36m<module>\u001b[0;34m\u001b[0m\n\u001b[0;32m----> 1\u001b[0;31m \u001b[0mfunksiya\u001b[0m\u001b[0;34m(\u001b[0m\u001b[0;34m'Arzu'\u001b[0m\u001b[0;34m)\u001b[0m\u001b[0;34m\u001b[0m\u001b[0;34m\u001b[0m\u001b[0m\n\u001b[0m",
      "\u001b[0;31mTypeError\u001b[0m: funksiya() missing 1 required positional argument: 'param2'"
     ]
    }
   ],
   "source": [
    "funksiya('Arzu')"
   ]
  },
  {
   "cell_type": "markdown",
   "metadata": {},
   "source": [
    "xəta aldıq TypeError: funksiya() missing 1 required positional argument: 'param2' iki parametr təyin etdiyimiz halda bir arqument əlavə etdik"
   ]
  },
  {
   "cell_type": "code",
   "execution_count": 38,
   "metadata": {},
   "outputs": [
    {
     "name": "stdout",
     "output_type": "stream",
     "text": [
      "Arzu və Ilqar eyni sinifdə oxuyurlar.\n"
     ]
    }
   ],
   "source": [
    "def funksiya(param1,param2):\n",
    "    print('{} və {} eyni sinifdə oxuyurlar.'.format(param1,param2))\n",
    "funksiya('Arzu','Ilqar')"
   ]
  },
  {
   "cell_type": "code",
   "execution_count": 39,
   "metadata": {},
   "outputs": [
    {
     "name": "stdout",
     "output_type": "stream",
     "text": [
      "country: Azerbaijan\n",
      "city: Ganja\n",
      "avenu: H.Zardabi\n",
      "home: ev/1\n"
     ]
    }
   ],
   "source": [
    "def country(country,city,avenu,home):\n",
    "    print('country:',country)\n",
    "    print('city:',city)\n",
    "    print('avenu:',avenu)\n",
    "    print('home:',home)\n",
    "country('Azerbaijan','Ganja','H.Zardabi','ev/1')"
   ]
  },
  {
   "cell_type": "markdown",
   "metadata": {},
   "source": [
    "Yuxarıdakı nümunədə isə dörd sayda parametr yazıb,country funksiyasını çağırdıqda isə 4ədəd arqument yazaraq ifadələri ekranda göstərdik"
   ]
  },
  {
   "cell_type": "markdown",
   "metadata": {},
   "source": [
    "Cüt və tək ədədlərin təyini üçün funksiya tərtib edək"
   ]
  },
  {
   "cell_type": "code",
   "execution_count": 51,
   "metadata": {},
   "outputs": [
    {
     "name": "stdout",
     "output_type": "stream",
     "text": [
      "ədəd yazın(Proqramdan çıxmaq üçün 'q' düyməsini sıxın.):12\n",
      "12 ədədi cüt ədəddir\n",
      "ədəd yazın(Proqramdan çıxmaq üçün 'q' düyməsini sıxın.):5\n",
      "5 ədədi tək ədəddir\n",
      "ədəd yazın(Proqramdan çıxmaq üçün 'q' düyməsini sıxın.):6\n",
      "6 ədədi cüt ədəddir\n",
      "ədəd yazın(Proqramdan çıxmaq üçün 'q' düyməsini sıxın.):3\n",
      "3 ədədi tək ədəddir\n",
      "ədəd yazın(Proqramdan çıxmaq üçün 'q' düyməsini sıxın.):Q\n",
      "Proqramdan çıxılır......\n"
     ]
    }
   ],
   "source": [
    "def Num():\n",
    "    \n",
    "    while True:\n",
    "        i=input('ədəd yazın(Proqramdan çıxmaq üçün \\'q\\' düyməsini sıxın.):')\n",
    "        if i == 'q' or i == 'Q':\n",
    "            print('Proqramdan çıxılır......')\n",
    "            break;\n",
    "        elif int(i)%2==0:\n",
    "            print('{} ədədi cüt ədəddir'.format(i))\n",
    "        else:\n",
    "            print('{} ədədi tək ədəddir'.format(i))\n",
    "        \n",
    "Num()"
   ]
  },
  {
   "cell_type": "code",
   "execution_count": 52,
   "metadata": {},
   "outputs": [
    {
     "name": "stdout",
     "output_type": "stream",
     "text": [
      "ədəd yazın(Proqramdan çıxmaq üçün 'q' düyməsini sıxın.):q\n",
      "Proqramdan çıxılır......\n"
     ]
    }
   ],
   "source": [
    "Num()"
   ]
  },
  {
   "cell_type": "code",
   "execution_count": 57,
   "metadata": {},
   "outputs": [
    {
     "name": "stdout",
     "output_type": "stream",
     "text": [
      "əmr daxil edin:[qe]: e\n",
      "Xoş gəlmisiniz....\n",
      "əmr daxil edin:[qe]: e\n",
      "Xoş gəlmisiniz....\n",
      "əmr daxil edin:[qe]: q\n"
     ]
    }
   ],
   "source": [
    "def func():\n",
    "    while True:\n",
    "        command = input('əmr daxil edin:[qe]: ')\n",
    "        #print(type(command)) -string sətir tipi verilən  \n",
    "        if 'q' in command.lower(): #input funksiyası dəyəri hər zaman sətir tipində olduğu üçün sətir /tipi verilənlərin metodlarını istifadə edə bilərik\n",
    "            break\n",
    "        if command.lower() == 'e':\n",
    "            print('Xoş gəlmisiniz....')\n",
    "        else:\n",
    "            print('Invalid command, try again')\n",
    "func()"
   ]
  },
  {
   "cell_type": "markdown",
   "metadata": {},
   "source": [
    "Funksiyalara əlavə etdiyimiz parametrləri birbaşa arqumentlərlə əlaqələndirə bilərik"
   ]
  },
  {
   "cell_type": "code",
   "execution_count": 59,
   "metadata": {},
   "outputs": [
    {
     "name": "stdout",
     "output_type": "stream",
     "text": [
      "Python\n"
     ]
    }
   ],
   "source": [
    "def params( str ):\n",
    "    \"Funksiya və parametrlər\"\n",
    "    print (str)\n",
    "params(str = \"Python\")"
   ]
  },
  {
   "cell_type": "code",
   "execution_count": 62,
   "metadata": {},
   "outputs": [
    {
     "name": "stdout",
     "output_type": "stream",
     "text": [
      "Nazim Almammadov\n"
     ]
    }
   ],
   "source": [
    "def params (name,surname):\n",
    "    \"\"\"  \"\"\"\n",
    "    print(name+' '+surname)\n",
    "params(name='Nazim',surname='Almammadov')"
   ]
  },
  {
   "cell_type": "code",
   "execution_count": null,
   "metadata": {},
   "outputs": [],
   "source": []
  }
 ],
 "metadata": {
  "kernelspec": {
   "display_name": "Python 3",
   "language": "python",
   "name": "python3"
  },
  "language_info": {
   "codemirror_mode": {
    "name": "ipython",
    "version": 3
   },
   "file_extension": ".py",
   "mimetype": "text/x-python",
   "name": "python",
   "nbconvert_exporter": "python",
   "pygments_lexer": "ipython3",
   "version": "3.6.9"
  }
 },
 "nbformat": 4,
 "nbformat_minor": 4
}
