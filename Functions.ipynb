{
 "cells": [
  {
   "cell_type": "markdown",
   "metadata": {},
   "source": [
    "# Funksiyalar"
   ]
  },
  {
   "cell_type": "markdown",
   "metadata": {},
   "source": [
    "### Öncəki bəhslərdə qeyd etdiyim kimi şərt və dövr operatorları bir proqramlaşdırma dilinin özəyini təşkil etdiyimi kimi funksiyalar da istənilən dildə əsas mövzulardan biridir.Funksiyaları təsnifatlandırsaq,iki yerə bölə bilərik"
   ]
  },
  {
   "cell_type": "markdown",
   "metadata": {},
   "source": [
    "### 1. Built-in Function (Kök Funksiyalar)\n",
    "\n",
    "### 2. User-defined Functions ( İstifadəçi tərəfindən hazırlanmış Funksiyalar)"
   ]
  },
  {
   "cell_type": "markdown",
   "metadata": {},
   "source": [
    "Bura qədər istifadə etdiyimiz print() funksiyası list() tuple() funksiyaları dil ilə bərabər gələr kök funksiyalardır.Və növbəti bəhslərdə daha geniş formada digər kök funksiyaları öyrənəcəyik.Bu bəhsdə isə istifadəçi tərəfindən hazırlanmış yəni bizim hazırladığımız funksiyaları nəzərdən keçirəcəyikki,funksiyaların nə olduğuna dair təsəvvürümüz olsun.Riyaziyyatda öyrəndiyimiz funksiyalar,dil daxilində də eyni mənanı kəsb edir.f(n)=n+8 funksiydır.n-ə qiymət verməklə funksiyanı həll edə bilərik.Biz isə bu funksiyanı Python dili ilə ifadə edəcəyik.Bəs funksiyaları niyə öyrənirik?\n",
    "Çünki funksiyalar bizim işimizi asanlaşdırır,təkrar kod nümunələri yazmamağımıza yardım edir.Kod blokları artdıqca başda qeyd etdiyimiz iki nöqtə arasında məsafənin tapılması düsturu növbəti sətirlərdə istifadəsi üçün çətinlik törədəcək və dəyişənləri yenidən qeyd etməyimizə ehtiyac olacaqdır.Bunun alternativ yolu funksiya təyin edib daxilində parametrləri verib düsturu təşkil edirik və istənilən kod bloku daxilində funksiyamızı çağırıb hesabatı apara bilərik"
   ]
  },
  {
   "cell_type": "markdown",
   "metadata": {},
   "source": [
    "Funksiyaları təyin etməyimizin məqsədi müəyyən tapşırıqları yerinə yetirmək üçün istifadə olunur.Özümüz yazdığımız bütün digər funksiyalar istifadəçi tərəfindən təyin olunan funksiyaların altına düşür. Beləliklə, istifadəçi tərəfindən təyin olunan bir funksiya başqasına kitabxana funksiyası ola bilər.\n",
    "Bir proqramda təkrar kod varsa,Funksiya həmin kodları daxil etmək üçün istifadə oluna bilər və  funksiyalar çağırıldığı zaman icra olunur.\n",
    "Böyük layihə üzərində işləyən proqramçılar müxtəlif funksiyaları yerinə yetirərək, iş yükünü bölüşə bilər.\n"
   ]
  },
  {
   "cell_type": "markdown",
   "metadata": {},
   "source": [
    "Bir funksiya yalnız çağırıldıqda işləyən kod blokudur.\n",
    "Aşağıda qeyd olunan kök funksiyaların bir qismidir.Və dil ilə bərabər gəlir.Biz də kod bloklarında istifadə edirik."
   ]
  },
  {
   "cell_type": "code",
   "execution_count": 3,
   "metadata": {},
   "outputs": [],
   "source": [
    "from stdlib_list import stdlib_list"
   ]
  },
  {
   "cell_type": "code",
   "execution_count": 5,
   "metadata": {},
   "outputs": [],
   "source": [
    "libraries = stdlib_list(\"3.7\")"
   ]
  },
  {
   "cell_type": "code",
   "execution_count": 11,
   "metadata": {},
   "outputs": [
    {
     "data": {
      "text/plain": [
       "['abc',\n",
       " 'aifc',\n",
       " 'argparse',\n",
       " 'array',\n",
       " 'ast',\n",
       " 'asynchat',\n",
       " 'asyncio',\n",
       " 'asyncore',\n",
       " 'atexit',\n",
       " 'audioop',\n",
       " 'base64',\n",
       " 'bdb',\n",
       " 'binascii',\n",
       " 'binhex',\n",
       " 'bisect',\n",
       " 'builtins',\n",
       " 'bz2',\n",
       " 'cProfile',\n",
       " 'calendar',\n",
       " 'cgi',\n",
       " 'cgitb',\n",
       " 'chunk',\n",
       " 'cmath',\n",
       " 'cmd',\n",
       " 'code',\n",
       " 'codecs',\n",
       " 'codeop',\n",
       " 'collections',\n",
       " 'collections.abc',\n",
       " 'colorsys',\n",
       " 'compileall',\n",
       " 'concurrent.futures',\n",
       " 'configparser',\n",
       " 'contextlib',\n",
       " 'contextvars',\n",
       " 'copy',\n",
       " 'copyreg',\n",
       " 'crypt',\n",
       " 'csv',\n",
       " 'ctypes',\n",
       " 'curses',\n",
       " 'curses.ascii',\n",
       " 'curses.panel',\n",
       " 'curses.textpad',\n",
       " 'dataclasses',\n",
       " 'datetime']"
      ]
     },
     "execution_count": 11,
     "metadata": {},
     "output_type": "execute_result"
    }
   ],
   "source": [
    "libraries[4:50]"
   ]
  },
  {
   "cell_type": "markdown",
   "metadata": {},
   "source": [
    "İndi isə istifadəçi tərəfi hazırlanan funksiyaların yazılış qaydasına baxaq.Biz ilk dərslərdə Python daxilində açar sözlərin olduğunu qeyd etmişdik.Əgər nəzər yetirsəniz def (define) adlı açar söz var idi.Funksiyaları təyin etmək üçün bu ifadədən istifadə edəcəyik.Aşağıda ümumi halda funksiyanın yazılış metodikası göstərilmişdir"
   ]
  },
  {
   "cell_type": "code",
   "execution_count": 12,
   "metadata": {},
   "outputs": [
    {
     "name": "stdout",
     "output_type": "stream",
     "text": [
      "\n",
      "\n",
      "\n",
      "        def funksiya_adi (parametr1,parametr2,......):\n",
      "            #funksiya bloku\n",
      "            #docstring\n",
      "            Kodlar\n",
      "            #geri dönüş dəyəri\n",
      "            \n",
      "\n",
      "\n"
     ]
    }
   ],
   "source": [
    "print(\"\"\"\n",
    "\n",
    "\n",
    "        def funksiya_adi (parametr1,parametr2,......):\n",
    "            #funksiya bloku\n",
    "            #docstring\n",
    "            Kodlar\n",
    "            #geri dönüş dəyəri\n",
    "            \n",
    "\n",
    "\"\"\")"
   ]
  },
  {
   "cell_type": "markdown",
   "metadata": {},
   "source": [
    "Asta-asta ilk funksiyamızı tərtib edək"
   ]
  },
  {
   "cell_type": "code",
   "execution_count": 13,
   "metadata": {},
   "outputs": [],
   "source": [
    "def funksiya():\n",
    "    print('Salam')"
   ]
  },
  {
   "cell_type": "markdown",
   "metadata": {},
   "source": [
    "shift+enter düyməsini sıxdıq aşağı sətrə xətasız keçid etdik"
   ]
  },
  {
   "cell_type": "markdown",
   "metadata": {},
   "source": [
    "ilk funksiyamızın adını funksiya olaraq qeyd etdik.tipini sorğuya çəkək"
   ]
  },
  {
   "cell_type": "code",
   "execution_count": 14,
   "metadata": {},
   "outputs": [
    {
     "data": {
      "text/plain": [
       "function"
      ]
     },
     "execution_count": 14,
     "metadata": {},
     "output_type": "execute_result"
    }
   ],
   "source": [
    "type(funksiya)"
   ]
  },
  {
   "cell_type": "markdown",
   "metadata": {},
   "source": [
    "Və tipini soruşduqda bizə function(funksiya) olduğunu bildirdi.Biz funksiyanı tərtib etdik.Amma icra olunmadı.dərsə girişdə də qeyd etdiyim kimi funksiyalar çağırılmadığı müddətcə icra olunmur.İndi gəlin funksiyamızı çağıraq"
   ]
  },
  {
   "cell_type": "code",
   "execution_count": null,
   "metadata": {},
   "outputs": [],
   "source": []
  }
 ],
 "metadata": {
  "kernelspec": {
   "display_name": "Python 3",
   "language": "python",
   "name": "python3"
  },
  "language_info": {
   "codemirror_mode": {
    "name": "ipython",
    "version": 3
   },
   "file_extension": ".py",
   "mimetype": "text/x-python",
   "name": "python",
   "nbconvert_exporter": "python",
   "pygments_lexer": "ipython3",
   "version": "3.6.9"
  }
 },
 "nbformat": 4,
 "nbformat_minor": 4
}
