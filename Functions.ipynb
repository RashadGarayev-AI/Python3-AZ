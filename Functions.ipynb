{
 "cells": [
  {
   "cell_type": "markdown",
   "metadata": {},
   "source": [
    "# Funksiyalar"
   ]
  },
  {
   "cell_type": "markdown",
   "metadata": {},
   "source": [
    "### Öncəki bəhslərdə qeyd etdiyim kimi şərt və dövr operatorları bir proqramlaşdırma dilinin özəyini təşkil etdiyimi kimi funksiyalar da istənilən dildə əsas mövzulardan biridir.Funksiyaları təsnifatlandırsaq,iki yerə bölə bilərik"
   ]
  },
  {
   "cell_type": "markdown",
   "metadata": {},
   "source": [
    "### 1. Built-in Function (Kök Funksiyalar)\n",
    "\n",
    "### 2. User-defined Functions ( İstifadəçi tərəfindən hazırlanmış Funksiyalar)"
   ]
  },
  {
   "cell_type": "markdown",
   "metadata": {},
   "source": [
    "Bura qədər istifadə etdiyimiz print() funksiyası list() tuple() funksiyaları dil ilə bərabər gələr kök funksiyalardır.Və növbəti bəhslərdə daha geniş formada digər kök funksiyaları öyrənəcəyik.Bu bəhsdə isə istifadəçi tərəfindən hazırlanmış yəni bizim hazırladığımız funksiyaları nəzərdən keçirəcəyikki,funksiyaların nə olduğuna dair təsəvvürümüz olsun.Riyaziyyatda öyrəndiyimiz funksiyalar,dil daxilində də eyni mənanı kəsb edir.f(n)=n+8 funksiydır.n-ə qiymət verməklə funksiyanı həll edə bilərik.Biz isə bu funksiyanı Python dili ilə ifadə edəcəyik.Bəs funksiyaları niyə öyrənirik?\n",
    "Çünki funksiyalar bizim işimizi asanlaşdırır,təkrar kod nümunələri yazmamağımıza yardım edir.Kod blokları artdıqca başda qeyd etdiyimiz iki nöqtə arasında məsafənin tapılması düsturu növbəti sətirlərdə istifadəsi üçün çətinlik törədəcək və dəyişənləri yenidən qeyd etməyimizə ehtiyac olacaqdır.Bunun alternativ yolu funksiya təyin edib daxilində parametrləri verib düsturu təşkil edirik və istənilən kod bloku daxilində funksiyamızı çağırıb hesabatı apara bilərik"
   ]
  },
  {
   "cell_type": "markdown",
   "metadata": {},
   "source": [
    "Funksiyaları təyin etməyimizin məqsədi müəyyən tapşırıqları yerinə yetirmək üçün istifadə olunur.Özümüz yazdığımız bütün digər funksiyalar istifadəçi tərəfindən təyin olunan funksiyaların altına düşür. Beləliklə, istifadəçi tərəfindən təyin olunan bir funksiya başqasına kitabxana funksiyası ola bilər.\n",
    "Bir proqramda təkrar kod varsa,Funksiya həmin kodları daxil etmək üçün istifadə oluna bilər və  funksiyalar çağırıldığı zaman icra olunur.\n",
    "Böyük layihə üzərində işləyən proqramçılar müxtəlif funksiyaları yerinə yetirərək, iş yükünü bölüşə bilər.\n"
   ]
  },
  {
   "cell_type": "markdown",
   "metadata": {},
   "source": [
    "Bir funksiya yalnız çağırıldıqda işləyən kod blokudur.\n",
    "Aşağıda qeyd olunan kök funksiyaların bir qismidir.Və dil ilə bərabər gəlir.Biz də kod bloklarında istifadə edirik."
   ]
  },
  {
   "cell_type": "code",
   "execution_count": 1,
   "metadata": {},
   "outputs": [],
   "source": [
    "from stdlib_list import stdlib_list"
   ]
  },
  {
   "cell_type": "code",
   "execution_count": 2,
   "metadata": {},
   "outputs": [],
   "source": [
    "libraries = stdlib_list(\"3.7\")"
   ]
  },
  {
   "cell_type": "code",
   "execution_count": 3,
   "metadata": {},
   "outputs": [
    {
     "data": {
      "text/plain": [
       "['abc',\n",
       " 'aifc',\n",
       " 'argparse',\n",
       " 'array',\n",
       " 'ast',\n",
       " 'asynchat',\n",
       " 'asyncio',\n",
       " 'asyncore',\n",
       " 'atexit',\n",
       " 'audioop',\n",
       " 'base64',\n",
       " 'bdb',\n",
       " 'binascii',\n",
       " 'binhex',\n",
       " 'bisect',\n",
       " 'builtins',\n",
       " 'bz2',\n",
       " 'cProfile',\n",
       " 'calendar',\n",
       " 'cgi',\n",
       " 'cgitb',\n",
       " 'chunk',\n",
       " 'cmath',\n",
       " 'cmd',\n",
       " 'code',\n",
       " 'codecs',\n",
       " 'codeop',\n",
       " 'collections',\n",
       " 'collections.abc',\n",
       " 'colorsys',\n",
       " 'compileall',\n",
       " 'concurrent.futures',\n",
       " 'configparser',\n",
       " 'contextlib',\n",
       " 'contextvars',\n",
       " 'copy',\n",
       " 'copyreg',\n",
       " 'crypt',\n",
       " 'csv',\n",
       " 'ctypes',\n",
       " 'curses',\n",
       " 'curses.ascii',\n",
       " 'curses.panel',\n",
       " 'curses.textpad',\n",
       " 'dataclasses',\n",
       " 'datetime']"
      ]
     },
     "execution_count": 3,
     "metadata": {},
     "output_type": "execute_result"
    }
   ],
   "source": [
    "libraries[4:50]"
   ]
  },
  {
   "cell_type": "markdown",
   "metadata": {},
   "source": [
    "İndi isə istifadəçi tərəfi hazırlanan funksiyaların yazılış qaydasına baxaq.Biz ilk dərslərdə Python daxilində açar sözlərin olduğunu qeyd etmişdik.Əgər nəzər yetirsəniz def (define) adlı açar söz var idi.Funksiyaları təyin etmək üçün bu ifadədən istifadə edəcəyik.Aşağıda ümumi halda funksiyanın yazılış metodikası göstərilmişdir"
   ]
  },
  {
   "cell_type": "code",
   "execution_count": 4,
   "metadata": {},
   "outputs": [
    {
     "name": "stdout",
     "output_type": "stream",
     "text": [
      "\n",
      "\n",
      "\n",
      "        def funksiya_adi (parametr1,parametr2,......):\n",
      "            #funksiya bloku\n",
      "            #docstring\n",
      "            Kodlar\n",
      "            #geri dönüş dəyəri\n",
      "            \n",
      "\n",
      "\n"
     ]
    }
   ],
   "source": [
    "print(\"\"\"\n",
    "\n",
    "\n",
    "        def funksiya_adi (parametr1,parametr2,......):\n",
    "            #funksiya bloku\n",
    "            #docstring\n",
    "            Kodlar\n",
    "            #geri dönüş dəyəri\n",
    "            \n",
    "\n",
    "\"\"\")"
   ]
  },
  {
   "cell_type": "markdown",
   "metadata": {},
   "source": [
    "Asta-asta ilk funksiyamızı tərtib edək"
   ]
  },
  {
   "cell_type": "code",
   "execution_count": 5,
   "metadata": {},
   "outputs": [],
   "source": [
    "def funksiya():\n",
    "    print('Salam')"
   ]
  },
  {
   "cell_type": "markdown",
   "metadata": {},
   "source": [
    "shift+enter düyməsini sıxdıq aşağı sətrə xətasız keçid etdik"
   ]
  },
  {
   "cell_type": "markdown",
   "metadata": {},
   "source": [
    "ilk funksiyamızın adını funksiya olaraq qeyd etdik.tipini sorğuya çəkək"
   ]
  },
  {
   "cell_type": "code",
   "execution_count": 6,
   "metadata": {},
   "outputs": [
    {
     "data": {
      "text/plain": [
       "function"
      ]
     },
     "execution_count": 6,
     "metadata": {},
     "output_type": "execute_result"
    }
   ],
   "source": [
    "type(funksiya)"
   ]
  },
  {
   "cell_type": "markdown",
   "metadata": {},
   "source": [
    "Və tipini soruşduqda bizə function(funksiya) olduğunu bildirdi.Biz funksiyanı tərtib etdik.Amma icra olunmadı.dərsə girişdə də qeyd etdiyim kimi funksiyalar çağırılmadığı müddətcə icra olunmur.İndi gəlin funksiyamızı çağıraq"
   ]
  },
  {
   "cell_type": "code",
   "execution_count": 7,
   "metadata": {},
   "outputs": [
    {
     "name": "stdout",
     "output_type": "stream",
     "text": [
      "Salam\n"
     ]
    }
   ],
   "source": [
    "funksiya()"
   ]
  },
  {
   "cell_type": "markdown",
   "metadata": {},
   "source": [
    "funksiyamız daxilində print() funksiyasından istifadə edərək ekrana Salam ifadəsini çap etdik."
   ]
  },
  {
   "cell_type": "code",
   "execution_count": 8,
   "metadata": {},
   "outputs": [
    {
     "name": "stdout",
     "output_type": "stream",
     "text": [
      "Salam\n",
      "Dünya\n"
     ]
    }
   ],
   "source": [
    "def salam():\n",
    "    \"\"\"\n",
    "    funksiya haqqında məlumat \n",
    "    ekrana salam ifadəsi çap olunur\n",
    "    \"\"\"\n",
    "    print('Salam')\n",
    "    print('Dünya')\n",
    "salam()"
   ]
  },
  {
   "cell_type": "markdown",
   "metadata": {},
   "source": [
    "Yuxarıdakı funksiyamız sadəcə ekrana məlumatları göstərir,heç bir riyazi funksiyası yoxdur."
   ]
  },
  {
   "cell_type": "markdown",
   "metadata": {},
   "source": [
    "Funksiyaların təşkilində iki əsas ifadə : Parametr və Argumentlər istifadə olunur.Nümunə ilə bu ifadələrlə tanış olaq"
   ]
  },
  {
   "cell_type": "code",
   "execution_count": 9,
   "metadata": {},
   "outputs": [],
   "source": [
    "def salam(param):\n",
    "    print(param)\n"
   ]
  },
  {
   "cell_type": "markdown",
   "metadata": {},
   "source": [
    "salam funksiyasına param adlı,parametr əlavə etdik.funksiya blokunda print() funksiyası ilə bu parametrə verilən arqumenti çap etmək istəyirik.Aşağıda funksiyanı çağıraq"
   ]
  },
  {
   "cell_type": "code",
   "execution_count": 10,
   "metadata": {},
   "outputs": [
    {
     "ename": "TypeError",
     "evalue": "salam() missing 1 required positional argument: 'param'",
     "output_type": "error",
     "traceback": [
      "\u001b[0;31m---------------------------------------------------------------------------\u001b[0m",
      "\u001b[0;31mTypeError\u001b[0m                                 Traceback (most recent call last)",
      "\u001b[0;32m<ipython-input-10-5e16eb799c18>\u001b[0m in \u001b[0;36m<module>\u001b[0;34m\u001b[0m\n\u001b[0;32m----> 1\u001b[0;31m \u001b[0msalam\u001b[0m\u001b[0;34m(\u001b[0m\u001b[0;34m)\u001b[0m\u001b[0;34m\u001b[0m\u001b[0;34m\u001b[0m\u001b[0m\n\u001b[0m",
      "\u001b[0;31mTypeError\u001b[0m: salam() missing 1 required positional argument: 'param'"
     ]
    }
   ],
   "source": [
    "salam()"
   ]
  },
  {
   "cell_type": "markdown",
   "metadata": {},
   "source": [
    "Və xəta aldıq.Xətada deyildiyi tələb olunan mövqeydə arqument yoxdur.param - parametr,arqument isə parametrə verilən dəyərdir"
   ]
  },
  {
   "cell_type": "code",
   "execution_count": 11,
   "metadata": {},
   "outputs": [
    {
     "name": "stdout",
     "output_type": "stream",
     "text": [
      "Arqument\n"
     ]
    }
   ],
   "source": [
    "def salam(param):\n",
    "    print(param)\n",
    "salam('Arqument')"
   ]
  },
  {
   "cell_type": "markdown",
   "metadata": {},
   "source": [
    "Və ekrana arqument ifadəsi çap olundu.salam funksiyasını çağırdıqda yazdığımız Arqument ifadəsi ilk başda qeyd etdiyimiz param ifadəsinin dəyəridir(Arqumentidir)."
   ]
  },
  {
   "cell_type": "markdown",
   "metadata": {},
   "source": [
    "Funksiyamıza bəzi əlavələr edək"
   ]
  },
  {
   "cell_type": "code",
   "execution_count": 12,
   "metadata": {},
   "outputs": [],
   "source": [
    "def salam(ad):\n",
    "    print('Salam {}'.format(ad))\n"
   ]
  },
  {
   "cell_type": "code",
   "execution_count": 13,
   "metadata": {},
   "outputs": [
    {
     "name": "stdout",
     "output_type": "stream",
     "text": [
      "Salam Eldar\n"
     ]
    }
   ],
   "source": [
    "salam('Eldar')"
   ]
  },
  {
   "cell_type": "markdown",
   "metadata": {},
   "source": [
    "Əgər funksiyamıza iki arqument versək necə nəticələnəcək!"
   ]
  },
  {
   "cell_type": "code",
   "execution_count": 14,
   "metadata": {},
   "outputs": [
    {
     "ename": "TypeError",
     "evalue": "salam() takes 1 positional argument but 2 were given",
     "output_type": "error",
     "traceback": [
      "\u001b[0;31m---------------------------------------------------------------------------\u001b[0m",
      "\u001b[0;31mTypeError\u001b[0m                                 Traceback (most recent call last)",
      "\u001b[0;32m<ipython-input-14-f5f5887a71f3>\u001b[0m in \u001b[0;36m<module>\u001b[0;34m\u001b[0m\n\u001b[0;32m----> 1\u001b[0;31m \u001b[0msalam\u001b[0m\u001b[0;34m(\u001b[0m\u001b[0;34m'Eldar'\u001b[0m\u001b[0;34m,\u001b[0m\u001b[0;34m'Arzu'\u001b[0m\u001b[0;34m)\u001b[0m\u001b[0;34m\u001b[0m\u001b[0;34m\u001b[0m\u001b[0m\n\u001b[0m",
      "\u001b[0;31mTypeError\u001b[0m: salam() takes 1 positional argument but 2 were given"
     ]
    }
   ],
   "source": [
    "salam('Eldar','Arzu')"
   ]
  },
  {
   "cell_type": "markdown",
   "metadata": {},
   "source": [
    "TypeError: salam() takes 1 positional argument but 2 were given  və xəta aldıq.Xətada da deyildiyi kimi funksiyamız bir arqument aldığı halda biz iki arqument əlavə etmişik.Zatən başda funksiyanın parametr sayından ala bildiyi arqument sayı məlumdur"
   ]
  },
  {
   "cell_type": "markdown",
   "metadata": {},
   "source": [
    "#### İki və daha çox arumentlər"
   ]
  },
  {
   "cell_type": "code",
   "execution_count": 15,
   "metadata": {},
   "outputs": [],
   "source": [
    "def funksiya(param1,param2):\n",
    "    print('{} və {} eyni sinifdə oxuyurlar.'.format(param1,param2))\n"
   ]
  },
  {
   "cell_type": "code",
   "execution_count": 16,
   "metadata": {},
   "outputs": [
    {
     "ename": "TypeError",
     "evalue": "funksiya() missing 1 required positional argument: 'param2'",
     "output_type": "error",
     "traceback": [
      "\u001b[0;31m---------------------------------------------------------------------------\u001b[0m",
      "\u001b[0;31mTypeError\u001b[0m                                 Traceback (most recent call last)",
      "\u001b[0;32m<ipython-input-16-23a0cc47778a>\u001b[0m in \u001b[0;36m<module>\u001b[0;34m\u001b[0m\n\u001b[0;32m----> 1\u001b[0;31m \u001b[0mfunksiya\u001b[0m\u001b[0;34m(\u001b[0m\u001b[0;34m'Arzu'\u001b[0m\u001b[0;34m)\u001b[0m\u001b[0;34m\u001b[0m\u001b[0;34m\u001b[0m\u001b[0m\n\u001b[0m",
      "\u001b[0;31mTypeError\u001b[0m: funksiya() missing 1 required positional argument: 'param2'"
     ]
    }
   ],
   "source": [
    "funksiya('Arzu')"
   ]
  },
  {
   "cell_type": "markdown",
   "metadata": {},
   "source": [
    "xəta aldıq TypeError: funksiya() missing 1 required positional argument: 'param2' iki parametr təyin etdiyimiz halda bir arqument əlavə etdik"
   ]
  },
  {
   "cell_type": "code",
   "execution_count": 17,
   "metadata": {},
   "outputs": [
    {
     "name": "stdout",
     "output_type": "stream",
     "text": [
      "Arzu və Ilqar eyni sinifdə oxuyurlar.\n"
     ]
    }
   ],
   "source": [
    "def funksiya(param1,param2):\n",
    "    print('{} və {} eyni sinifdə oxuyurlar.'.format(param1,param2))\n",
    "funksiya('Arzu','Ilqar')"
   ]
  },
  {
   "cell_type": "code",
   "execution_count": 18,
   "metadata": {},
   "outputs": [
    {
     "name": "stdout",
     "output_type": "stream",
     "text": [
      "country: Azerbaijan\n",
      "city: Ganja\n",
      "avenu: H.Zardabi\n",
      "home: ev/1\n"
     ]
    }
   ],
   "source": [
    "def country(country,city,avenu,home):\n",
    "    print('country:',country)\n",
    "    print('city:',city)\n",
    "    print('avenu:',avenu)\n",
    "    print('home:',home)\n",
    "country('Azerbaijan','Ganja','H.Zardabi','ev/1')"
   ]
  },
  {
   "cell_type": "markdown",
   "metadata": {},
   "source": [
    "Yuxarıdakı nümunədə isə dörd sayda parametr yazıb,country funksiyasını çağırdıqda isə 4ədəd arqument yazaraq ifadələri ekranda göstərdik"
   ]
  },
  {
   "cell_type": "markdown",
   "metadata": {},
   "source": [
    "Cüt və tək ədədlərin təyini üçün funksiya tərtib edək"
   ]
  },
  {
   "cell_type": "code",
   "execution_count": 123,
   "metadata": {},
   "outputs": [
    {
     "name": "stdout",
     "output_type": "stream",
     "text": [
      "ədəd yazın(Proqramdan çıxmaq üçün 'q' düyməsini sıxın.):12\n",
      "12 ədədi cüt ədəddir\n",
      "ədəd yazın(Proqramdan çıxmaq üçün 'q' düyməsini sıxın.):5\n",
      "5 ədədi tək ədəddir\n",
      "ədəd yazın(Proqramdan çıxmaq üçün 'q' düyməsini sıxın.):7\n",
      "7 ədədi tək ədəddir\n",
      "ədəd yazın(Proqramdan çıxmaq üçün 'q' düyməsini sıxın.):q\n",
      "Proqramdan çıxılır......\n"
     ]
    }
   ],
   "source": [
    "def Num():\n",
    "    \n",
    "    while True:\n",
    "        i=input('ədəd yazın(Proqramdan çıxmaq üçün \\'q\\' düyməsini sıxın.):')\n",
    "        if i == 'q' or i == 'Q':\n",
    "            print('Proqramdan çıxılır......')\n",
    "            break;\n",
    "        elif int(i)%2==0:\n",
    "            print('{} ədədi cüt ədəddir'.format(i))\n",
    "        else:\n",
    "            print('{} ədədi tək ədəddir'.format(i))\n",
    "        \n",
    "Num()"
   ]
  },
  {
   "cell_type": "code",
   "execution_count": 124,
   "metadata": {},
   "outputs": [
    {
     "name": "stdout",
     "output_type": "stream",
     "text": [
      "ədəd yazın(Proqramdan çıxmaq üçün 'q' düyməsini sıxın.):12\n",
      "12 ədədi cüt ədəddir\n",
      "ədəd yazın(Proqramdan çıxmaq üçün 'q' düyməsini sıxın.):6\n",
      "6 ədədi cüt ədəddir\n",
      "ədəd yazın(Proqramdan çıxmaq üçün 'q' düyməsini sıxın.):9\n",
      "9 ədədi tək ədəddir\n",
      "ədəd yazın(Proqramdan çıxmaq üçün 'q' düyməsini sıxın.):Q\n",
      "Proqramdan çıxılır......\n"
     ]
    }
   ],
   "source": [
    "Num()"
   ]
  },
  {
   "cell_type": "code",
   "execution_count": 21,
   "metadata": {},
   "outputs": [
    {
     "name": "stdout",
     "output_type": "stream",
     "text": [
      "əmr daxil edin:[qe]: e\n",
      "Xoş gəlmisiniz....\n",
      "əmr daxil edin:[qe]: e\n",
      "Xoş gəlmisiniz....\n",
      "əmr daxil edin:[qe]: q\n"
     ]
    }
   ],
   "source": [
    "def func():\n",
    "    while True:\n",
    "        command = input('əmr daxil edin:[qe]: ')\n",
    "        #print(type(command)) -string sətir tipi verilən  \n",
    "        if 'q' in command.lower(): #input funksiyası dəyəri hər zaman sətir tipində olduğu üçün sətir /tipi verilənlərin metodlarını istifadə edə bilərik\n",
    "            break\n",
    "        if command.lower() == 'e':\n",
    "            print('Xoş gəlmisiniz....')\n",
    "        else:\n",
    "            print('Invalid command, try again')\n",
    "func()"
   ]
  },
  {
   "cell_type": "markdown",
   "metadata": {},
   "source": [
    "Funksiyalara əlavə etdiyimiz parametrləri birbaşa arqumentlərlə əlaqələndirə bilərik"
   ]
  },
  {
   "cell_type": "code",
   "execution_count": 22,
   "metadata": {},
   "outputs": [
    {
     "name": "stdout",
     "output_type": "stream",
     "text": [
      "Python\n"
     ]
    }
   ],
   "source": [
    "def params(string):\n",
    "    \"Funksiya və parametrlər\"\n",
    "    print (string)\n",
    "params(string = \"Python\")"
   ]
  },
  {
   "cell_type": "code",
   "execution_count": 23,
   "metadata": {},
   "outputs": [
    {
     "name": "stdout",
     "output_type": "stream",
     "text": [
      "Nazim Almammadov\n"
     ]
    }
   ],
   "source": [
    "def params (name,surname):\n",
    "    \"\"\"  \"\"\"\n",
    "    print(name+' '+surname)\n",
    "params(name='Nazim',surname='Almammadov')"
   ]
  },
  {
   "cell_type": "code",
   "execution_count": 24,
   "metadata": {},
   "outputs": [
    {
     "name": "stdout",
     "output_type": "stream",
     "text": [
      "[0, 1, 2, 3, 4, 5, 6, 7, 8, 9, 10]\n",
      "*********************************\n",
      "1\n",
      "3\n",
      "5\n",
      "7\n",
      "9\n"
     ]
    }
   ],
   "source": [
    "def siyahı(arg):\n",
    "    \"\"\"\n",
    "    Siyahı tərtibatı\n",
    "    \n",
    "    \"\"\"\n",
    "    arg = [i for i in range(arg)]\n",
    "    print(arg)\n",
    "    print('*'*33)\n",
    "    for j in arg:\n",
    "        if j%2 != 0:\n",
    "            print(j)\n",
    "siyahı(11)\n",
    "    "
   ]
  },
  {
   "cell_type": "markdown",
   "metadata": {},
   "source": [
    "Yuxarıdakı funksiya daxilində siyahı tərtib etdik,daha sonra siyahı elementlərini for operatoru vasitəsilə hər dövrdə j dəyişəninə mənimsətdik,dövr təkrarlandıqca növbəti if operatoru ilə j-dəyərinin 2-yə bölünməsindən əldə olunan qalıq 0-dan fərqlidirsə(bərabər deyilsə) ekrana tək ədədləri çap etdiririk"
   ]
  },
  {
   "cell_type": "code",
   "execution_count": 25,
   "metadata": {},
   "outputs": [
    {
     "name": "stdout",
     "output_type": "stream",
     "text": [
      "Parametr: 10\n"
     ]
    }
   ],
   "source": [
    "def funksiya(params = 10):\n",
    "    print('Parametr:',params)\n",
    "funksiya()"
   ]
  },
  {
   "cell_type": "markdown",
   "metadata": {},
   "source": [
    "Yuxarıdakı nümunədə parametr olaraq qeyd etdiyimiz params ifadəsinə 10 dəyərini verdik,amma funksiyanı çağırdıqda heç bir arqument əlavə etmədik.Funksiyanı təyin edərkən parametrə 10 dəyərini mənimsətdiyimiz üçün default olaraq params arqumentini qiymətləndirir.Əgər funksiyanı çağırdığımız zaman arqument versək,funksiya default dəyərini deyil növbəti qeyd olunan dəyərə uyğun davranacaq"
   ]
  },
  {
   "cell_type": "code",
   "execution_count": 26,
   "metadata": {},
   "outputs": [
    {
     "name": "stdout",
     "output_type": "stream",
     "text": [
      "Parametr: 30\n"
     ]
    }
   ],
   "source": [
    "def funksiya(params = 10):\n",
    "    print('Parametr:',params)\n",
    "funksiya(30)"
   ]
  },
  {
   "cell_type": "markdown",
   "metadata": {},
   "source": [
    "Və nəticə etibarı ilə ekrana 30 dəyəri çap olundu."
   ]
  },
  {
   "cell_type": "code",
   "execution_count": 27,
   "metadata": {},
   "outputs": [
    {
     "ename": "SyntaxError",
     "evalue": "invalid syntax (<ipython-input-27-8bc3cdda3405>, line 1)",
     "output_type": "error",
     "traceback": [
      "\u001b[0;36m  File \u001b[0;32m\"<ipython-input-27-8bc3cdda3405>\"\u001b[0;36m, line \u001b[0;32m1\u001b[0m\n\u001b[0;31m    default dəyərə uyğun növbəti funksiya nümunəsi yazaq\u001b[0m\n\u001b[0m                 ^\u001b[0m\n\u001b[0;31mSyntaxError\u001b[0m\u001b[0;31m:\u001b[0m invalid syntax\n"
     ]
    }
   ],
   "source": [
    "default dəyərə uyğun növbəti funksiya nümunəsi yazaq"
   ]
  },
  {
   "cell_type": "code",
   "execution_count": 28,
   "metadata": {},
   "outputs": [
    {
     "name": "stdout",
     "output_type": "stream",
     "text": [
      "Name:Rashad \n",
      "Surname:Garayev \n",
      "Email:Empty \n",
      "Mobile:Empty\n"
     ]
    }
   ],
   "source": [
    "def info(name='Empty',surname='Empty',email='Empty',mobile='Empty'):\n",
    "    print('Name:{} \\nSurname:{} \\nEmail:{} \\nMobile:{}'.format(name,surname,email,mobile))\n",
    "info('Rashad','Garayev')"
   ]
  },
  {
   "cell_type": "code",
   "execution_count": 29,
   "metadata": {},
   "outputs": [
    {
     "name": "stdout",
     "output_type": "stream",
     "text": [
      "Name:Rashad \n",
      "Surname:Garayev \n",
      "Email:example@gmail.com \n",
      "Mobile:+99455100\n"
     ]
    }
   ],
   "source": [
    "info('Rashad','Garayev','example@gmail.com','+99455100')"
   ]
  },
  {
   "cell_type": "markdown",
   "metadata": {},
   "source": [
    "Kod nümunələrində parametrlərin sayı məlum olduğundan biz arqumentləri yaza bilir.Bu parametrlərin sayı limitsiz deyil 256-saya qədər limit təşkil edir.Hər dəfə funksiyamıza parametr adını qeyd etmək yerinə,daha alternetiv yolu mövcuddur.Bu sintaksis *args ifadəsilə yazılır.Nümunələrə nəzər yetirək"
   ]
  },
  {
   "cell_type": "markdown",
   "metadata": {},
   "source": [
    "### *Args ifadəsi"
   ]
  },
  {
   "cell_type": "code",
   "execution_count": 30,
   "metadata": {},
   "outputs": [
    {
     "name": "stdout",
     "output_type": "stream",
     "text": [
      "Result: 14\n"
     ]
    }
   ],
   "source": [
    "def adder(x, y, z):\n",
    "    print(\"Result:\",x + y + z)\n",
    "\n",
    "adder(4,2,8)"
   ]
  },
  {
   "cell_type": "markdown",
   "metadata": {},
   "source": [
    "Yuxarıda 3 parametr(x,y,z) qeyd edib daha sonra hər üç parametrin arqumentlərini topladıq,nəticə ekrana çap olundu"
   ]
  },
  {
   "cell_type": "code",
   "execution_count": 31,
   "metadata": {},
   "outputs": [
    {
     "ename": "TypeError",
     "evalue": "adder() takes 3 positional arguments but 4 were given",
     "output_type": "error",
     "traceback": [
      "\u001b[0;31m---------------------------------------------------------------------------\u001b[0m",
      "\u001b[0;31mTypeError\u001b[0m                                 Traceback (most recent call last)",
      "\u001b[0;32m<ipython-input-31-66f81e215768>\u001b[0m in \u001b[0;36m<module>\u001b[0;34m\u001b[0m\n\u001b[1;32m      2\u001b[0m     \u001b[0mprint\u001b[0m\u001b[0;34m(\u001b[0m\u001b[0;34m\"Result:\"\u001b[0m\u001b[0;34m,\u001b[0m\u001b[0mx\u001b[0m \u001b[0;34m+\u001b[0m \u001b[0my\u001b[0m \u001b[0;34m+\u001b[0m \u001b[0mz\u001b[0m\u001b[0;34m)\u001b[0m\u001b[0;34m\u001b[0m\u001b[0;34m\u001b[0m\u001b[0m\n\u001b[1;32m      3\u001b[0m \u001b[0;34m\u001b[0m\u001b[0m\n\u001b[0;32m----> 4\u001b[0;31m \u001b[0madder\u001b[0m\u001b[0;34m(\u001b[0m\u001b[0;36m4\u001b[0m\u001b[0;34m,\u001b[0m\u001b[0;36m2\u001b[0m\u001b[0;34m,\u001b[0m\u001b[0;36m8\u001b[0m\u001b[0;34m,\u001b[0m\u001b[0;36m5\u001b[0m\u001b[0;34m)\u001b[0m\u001b[0;34m\u001b[0m\u001b[0;34m\u001b[0m\u001b[0m\n\u001b[0m",
      "\u001b[0;31mTypeError\u001b[0m: adder() takes 3 positional arguments but 4 were given"
     ]
    }
   ],
   "source": [
    "def adder(x, y, z):\n",
    "    print(\"Result:\",x + y + z)\n",
    "\n",
    "adder(4,2,8,5)"
   ]
  },
  {
   "cell_type": "markdown",
   "metadata": {},
   "source": [
    "Xəta alacağımızı zatən bilirdik.artıq 4-cü elementi ala bilmədi."
   ]
  },
  {
   "cell_type": "code",
   "execution_count": 32,
   "metadata": {},
   "outputs": [
    {
     "name": "stdout",
     "output_type": "stream",
     "text": [
      "Result 6\n"
     ]
    }
   ],
   "source": [
    "def toplama (*args):\n",
    "    sums = 0;\n",
    "    for i in args:\n",
    "        sums+=i\n",
    "    print(\"Result\",sums)\n",
    "toplama(2,4)"
   ]
  },
  {
   "cell_type": "markdown",
   "metadata": {},
   "source": [
    "*args - ifadəsi elementləri kortej daxilində tutduğundan dolayı,for operatoru ilə hər dövrdə i dəyişəninə mənimsədirik"
   ]
  },
  {
   "cell_type": "code",
   "execution_count": 33,
   "metadata": {},
   "outputs": [
    {
     "name": "stdout",
     "output_type": "stream",
     "text": [
      "2\n",
      "3\n",
      "4\n",
      "5\n",
      "7\n"
     ]
    }
   ],
   "source": [
    "kortej = (2,3,4,5,7)\n",
    "for i in kortej:\n",
    "    print(i)"
   ]
  },
  {
   "cell_type": "markdown",
   "metadata": {},
   "source": [
    "kortej olduğuna dair əyani nümunə ilə görmək istəsək"
   ]
  },
  {
   "cell_type": "code",
   "execution_count": 34,
   "metadata": {},
   "outputs": [
    {
     "name": "stdout",
     "output_type": "stream",
     "text": [
      "(1, 2, 3, 4)\n",
      "<class 'tuple'>\n"
     ]
    }
   ],
   "source": [
    "def printf(*args):\n",
    "    print(args)\n",
    "    print(type(args))\n",
    "printf(1,2,3,4)"
   ]
  },
  {
   "cell_type": "markdown",
   "metadata": {},
   "source": [
    "kimi yaza bilərik"
   ]
  },
  {
   "cell_type": "code",
   "execution_count": 35,
   "metadata": {},
   "outputs": [
    {
     "name": "stdout",
     "output_type": "stream",
     "text": [
      "Result 32\n"
     ]
    }
   ],
   "source": [
    "def toplama (*args):\n",
    "    sums = 0;\n",
    "    for i in args:\n",
    "        sums+=i\n",
    "    print(\"Result\",sums)\n",
    "toplama(2,4,5,6,7,8)"
   ]
  },
  {
   "cell_type": "markdown",
   "metadata": {},
   "source": [
    "### ** Args ifadəsi"
   ]
  },
  {
   "cell_type": "markdown",
   "metadata": {},
   "source": [
    "*args ifadəsindən dönən dəyərlər kortej daxilində göstərilirdisə, **args ifadəsindən dönən dəyərlər lüğət  data (verilən)tiplərini ifadə edə bilir"
   ]
  },
  {
   "cell_type": "code",
   "execution_count": 36,
   "metadata": {},
   "outputs": [
    {
     "name": "stdout",
     "output_type": "stream",
     "text": [
      "{'Ad': 'Arzu', 'Soyad': 'Nəcəfov', 'Yaş': 40, 'Mobil': '+99455200'}\n"
     ]
    }
   ],
   "source": [
    "def info(**data):\n",
    "    print(\"{}\".format(data))\n",
    "info(Ad=\"Arzu\", Soyad=\"Nəcəfov\", Yaş=40, Mobil='+99455200')"
   ]
  },
  {
   "cell_type": "markdown",
   "metadata": {},
   "source": [
    "Yuxarıdakı nümunəyə diqqət edin.qeyd etdiyimiz args ifadəsini data ifadəsi ilə əvəzlədik.fərq etmir siz args əvəzinə istənilən ifadə yaza bilərsiniz.** iki ulduz işarəsi ilə ifadə etdiyimiz arqumentlər dictionary lüğət tipi verilənlərdir.arqumentlər lüğətin açar sözləri,arqument dəyərləri isə həmin açar sözlərin dəyərləridir."
   ]
  },
  {
   "cell_type": "markdown",
   "metadata": {},
   "source": [
    "Əgər lüğət tipində verilən əldə edə biliriksə,deməli lüğət metodlarından istifadə edərək açar söz və dəyərləri rahatlıqla əldə edə bilərik"
   ]
  },
  {
   "cell_type": "code",
   "execution_count": 37,
   "metadata": {},
   "outputs": [
    {
     "name": "stdout",
     "output_type": "stream",
     "text": [
      "{'a': 'Arzu', 'b': 'Nəcəfov'}\n"
     ]
    }
   ],
   "source": [
    "def info(**data):\n",
    "    print(\"{}\".format(data))\n",
    "info(a=\"Arzu\",b=\"Nəcəfov\")"
   ]
  },
  {
   "cell_type": "code",
   "execution_count": 38,
   "metadata": {},
   "outputs": [
    {
     "name": "stdout",
     "output_type": "stream",
     "text": [
      "\n",
      "Data type of argument:  <class 'dict'>\n",
      "Ad : Arzu\n",
      "Soyad : Nəcəfov\n",
      "Yaş : 40\n",
      "Mobil : +99455200\n",
      "\n",
      "Data type of argument:  <class 'dict'>\n",
      "Ad : Sahilə\n",
      "Soyad : Məmmədova\n",
      "Poçt : example@gmail.com\n",
      "Ölkə : Azərbaycan\n",
      "Yaş : 25\n",
      "Mobil : +9945520\n"
     ]
    }
   ],
   "source": [
    "def info(**data):\n",
    "    print(\"\\nData type of argument: \",type(data))\n",
    "\n",
    "    for key, value in data.items():\n",
    "        print(\"{} : {}\".format(key, value))\n",
    "\n",
    "info(Ad=\"Arzu\", Soyad=\"Nəcəfov\", Yaş=40, Mobil='+99455200')\n",
    "info(Ad=\"Sahilə\", Soyad=\"Məmmədova\", Poçt=\"example@gmail.com\", Ölkə=\"Azərbaycan\", Yaş=25, Mobil='+9945520')"
   ]
  },
  {
   "cell_type": "code",
   "execution_count": null,
   "metadata": {},
   "outputs": [],
   "source": []
  },
  {
   "cell_type": "code",
   "execution_count": 39,
   "metadata": {},
   "outputs": [],
   "source": [
    "# *args və **args ifadələrini arqument olaraq birbaşa funksiyaya daxil edə bilərik"
   ]
  },
  {
   "cell_type": "code",
   "execution_count": 40,
   "metadata": {},
   "outputs": [
    {
     "name": "stdout",
     "output_type": "stream",
     "text": [
      "arg_1: Arqument1\n",
      "arg_2: Arqument2\n",
      "arg_3: Arqument3\n"
     ]
    }
   ],
   "source": [
    "def arqument(arg_1, arg_2,arg_3):\n",
    "    print(\"arg_1:\", arg_1)\n",
    "    print(\"arg_2:\", arg_2)\n",
    "    print(\"arg_3:\", arg_3)\n",
    "args = (\"Arqument1\", \"Arqument2\", \"Arqument3\")\n",
    "arqument(*args)"
   ]
  },
  {
   "cell_type": "markdown",
   "metadata": {},
   "source": [
    "Yuxarıdakı nümunədə 3 parametr qeyd edib args - kortej verilən  tipinə 3 element əlavə etdik.Daha sonra funksiyaya *args arqumentini əlavə edərək funksiyanı çalışdırdıq.Nəticədə hər üç element ekrana çap olundu"
   ]
  },
  {
   "cell_type": "markdown",
   "metadata": {},
   "source": [
    "*args elementləri kortej ilə göstərməsi o demək deyilki biz bunu siyahılara tətbiq edə bilmərik.Nümunələrə baxaq"
   ]
  },
  {
   "cell_type": "code",
   "execution_count": 41,
   "metadata": {},
   "outputs": [
    {
     "name": "stdout",
     "output_type": "stream",
     "text": [
      "(1, 2, 3, 4, 5, 6, 7, 8)\n"
     ]
    }
   ],
   "source": [
    "def siyahılar(*args):\n",
    "    my_list = []\n",
    "    for i in my_list:\n",
    "        i.append(args)\n",
    "    print(args)\n",
    "    \n",
    "siyahılar(1,2,3,4,5,6,7,8)"
   ]
  },
  {
   "cell_type": "code",
   "execution_count": 48,
   "metadata": {},
   "outputs": [
    {
     "name": "stdout",
     "output_type": "stream",
     "text": [
      "[0, 1, 2]\n"
     ]
    }
   ],
   "source": [
    "def lists(arg1,arg2,arg3):\n",
    "    print(listlər)\n",
    "listlər = [*range(3)]\n",
    "lists(*listlər)"
   ]
  },
  {
   "cell_type": "markdown",
   "metadata": {},
   "source": [
    "və ya 3-cü elementi biz daxil edə bilərik"
   ]
  },
  {
   "cell_type": "code",
   "execution_count": 74,
   "metadata": {},
   "outputs": [
    {
     "name": "stdout",
     "output_type": "stream",
     "text": [
      "1\n",
      "2\n",
      "3\n"
     ]
    }
   ],
   "source": [
    "def lists(arg1,arg2,arg3):\n",
    "    print(arg1)\n",
    "    print(arg2)\n",
    "    print(arg3)\n",
    "listlər = [2,3]\n",
    "lists(1, *listlər)"
   ]
  },
  {
   "cell_type": "code",
   "execution_count": 75,
   "metadata": {},
   "outputs": [
    {
     "name": "stdout",
     "output_type": "stream",
     "text": [
      "[1, 0.5, 'C++', 'Python']\n"
     ]
    }
   ],
   "source": [
    "\n",
    "def funksiya(*args):\n",
    "    for i in args:\n",
    "        print(i)\n",
    "lists = [1, 0.5, 'C++','Python']\n",
    "funksiya(lists)"
   ]
  },
  {
   "cell_type": "code",
   "execution_count": 2,
   "metadata": {},
   "outputs": [
    {
     "ename": "TypeError",
     "evalue": "must be str, not int",
     "output_type": "error",
     "traceback": [
      "\u001b[0;31m---------------------------------------------------------------------------\u001b[0m",
      "\u001b[0;31mTypeError\u001b[0m                                 Traceback (most recent call last)",
      "\u001b[0;32m<ipython-input-2-568ecda5bd97>\u001b[0m in \u001b[0;36m<module>\u001b[0;34m\u001b[0m\n\u001b[1;32m      1\u001b[0m \u001b[0;32mdef\u001b[0m \u001b[0mtopla\u001b[0m\u001b[0;34m(\u001b[0m\u001b[0marg1\u001b[0m\u001b[0;34m,\u001b[0m\u001b[0marg2\u001b[0m\u001b[0;34m)\u001b[0m\u001b[0;34m:\u001b[0m\u001b[0;34m\u001b[0m\u001b[0;34m\u001b[0m\u001b[0m\n\u001b[1;32m      2\u001b[0m     \u001b[0mprint\u001b[0m\u001b[0;34m(\u001b[0m\u001b[0;34m'Salam'\u001b[0m\u001b[0;34m+\u001b[0m\u001b[0marg1\u001b[0m\u001b[0;34m+\u001b[0m\u001b[0marg2\u001b[0m\u001b[0;34m)\u001b[0m\u001b[0;34m\u001b[0m\u001b[0;34m\u001b[0m\u001b[0m\n\u001b[0;32m----> 3\u001b[0;31m \u001b[0mtopla\u001b[0m\u001b[0;34m(\u001b[0m\u001b[0;36m10\u001b[0m\u001b[0;34m,\u001b[0m\u001b[0;34m'Elşən'\u001b[0m\u001b[0;34m)\u001b[0m\u001b[0;34m\u001b[0m\u001b[0;34m\u001b[0m\u001b[0m\n\u001b[0m",
      "\u001b[0;32m<ipython-input-2-568ecda5bd97>\u001b[0m in \u001b[0;36mtopla\u001b[0;34m(arg1, arg2)\u001b[0m\n\u001b[1;32m      1\u001b[0m \u001b[0;32mdef\u001b[0m \u001b[0mtopla\u001b[0m\u001b[0;34m(\u001b[0m\u001b[0marg1\u001b[0m\u001b[0;34m,\u001b[0m\u001b[0marg2\u001b[0m\u001b[0;34m)\u001b[0m\u001b[0;34m:\u001b[0m\u001b[0;34m\u001b[0m\u001b[0;34m\u001b[0m\u001b[0m\n\u001b[0;32m----> 2\u001b[0;31m     \u001b[0mprint\u001b[0m\u001b[0;34m(\u001b[0m\u001b[0;34m'Salam'\u001b[0m\u001b[0;34m+\u001b[0m\u001b[0marg1\u001b[0m\u001b[0;34m+\u001b[0m\u001b[0marg2\u001b[0m\u001b[0;34m)\u001b[0m\u001b[0;34m\u001b[0m\u001b[0;34m\u001b[0m\u001b[0m\n\u001b[0m\u001b[1;32m      3\u001b[0m \u001b[0mtopla\u001b[0m\u001b[0;34m(\u001b[0m\u001b[0;36m10\u001b[0m\u001b[0;34m,\u001b[0m\u001b[0;34m'Elşən'\u001b[0m\u001b[0;34m)\u001b[0m\u001b[0;34m\u001b[0m\u001b[0;34m\u001b[0m\u001b[0m\n",
      "\u001b[0;31mTypeError\u001b[0m: must be str, not int"
     ]
    }
   ],
   "source": [
    "def topla(arg1,arg2):\n",
    "    print('Salam'+arg1+arg2)\n",
    "topla(10,'Elşən')"
   ]
  },
  {
   "cell_type": "markdown",
   "metadata": {},
   "source": [
    "Yuxarıdakı ifadədə xəta aldıq. TypeError: must be str, not int  - xətadanda göründüyü kimi verilən tipi xətası.Bilirikki sətir tipi verilən ilə ədəd tipi veriləni toplaya bilmərik"
   ]
  },
  {
   "cell_type": "code",
   "execution_count": 3,
   "metadata": {},
   "outputs": [
    {
     "ename": "TypeError",
     "evalue": "must be str, not int",
     "output_type": "error",
     "traceback": [
      "\u001b[0;31m---------------------------------------------------------------------------\u001b[0m",
      "\u001b[0;31mTypeError\u001b[0m                                 Traceback (most recent call last)",
      "\u001b[0;32m<ipython-input-3-28a23c9b33ad>\u001b[0m in \u001b[0;36m<module>\u001b[0;34m\u001b[0m\n\u001b[0;32m----> 1\u001b[0;31m \u001b[0;34m'python'\u001b[0m\u001b[0;34m+\u001b[0m\u001b[0;36m10\u001b[0m\u001b[0;34m\u001b[0m\u001b[0;34m\u001b[0m\u001b[0m\n\u001b[0m",
      "\u001b[0;31mTypeError\u001b[0m: must be str, not int"
     ]
    }
   ],
   "source": [
    "'python'+10"
   ]
  },
  {
   "cell_type": "markdown",
   "metadata": {},
   "source": [
    "Yuxarıdakı nümunə funksiyada aldığımız eyni xətadır."
   ]
  },
  {
   "cell_type": "markdown",
   "metadata": {},
   "source": [
    "tip çevirmələri və ya type funksiyası ilə verilənin tipini müəyyən edə bilərik"
   ]
  },
  {
   "cell_type": "code",
   "execution_count": 7,
   "metadata": {},
   "outputs": [
    {
     "name": "stdout",
     "output_type": "stream",
     "text": [
      "Salam 10\n"
     ]
    }
   ],
   "source": [
    "def topla(arg1):\n",
    "    if type(arg1) == str:\n",
    "        print('Salam'+arg1)\n",
    "    else:\n",
    "        print('Salam '+str(arg1))\n",
    "topla(10)"
   ]
  },
  {
   "cell_type": "code",
   "execution_count": 10,
   "metadata": {},
   "outputs": [
    {
     "name": "stdout",
     "output_type": "stream",
     "text": [
      "Salam Nizami\n"
     ]
    }
   ],
   "source": [
    "def topla(arg1):\n",
    "    if type(arg1) == str:\n",
    "        print('Salam ' + arg1)\n",
    "    else:\n",
    "        print('Salam '+ str(arg1))\n",
    "topla('Nizami')"
   ]
  },
  {
   "cell_type": "markdown",
   "metadata": {},
   "source": [
    "### Funksiyalarda Return ifadəsi"
   ]
  },
  {
   "cell_type": "markdown",
   "metadata": {},
   "source": [
    "Riyazi əməllərin hesablanmasında nəticə etibarı ilə bir dəyər əldə edirik.Daha sonra bu dəyərdin digər kod bloklarında istifadə etmək üçün məhz funksiyalara üz tuturuq.Amma həmin dəyər funksiya daxilində hesablama əməliyyatından sonra nonetype olaraq qalacaq.Bu nonetype olduğu üçün biz həmin dəyər tipi üzərində digər əməliyyatları apara bilmərik.Bunun üçün dəyəri geri döndürüb nəticəni ədəd tipində əldə edə bilərik.Bunun üçün funksiyalarda return ifadəsi istifadə olunur."
   ]
  },
  {
   "cell_type": "code",
   "execution_count": 106,
   "metadata": {},
   "outputs": [],
   "source": [
    "def square(x):\n",
    "    y = x * x\n",
    "    print(y)"
   ]
  },
  {
   "cell_type": "code",
   "execution_count": 109,
   "metadata": {},
   "outputs": [
    {
     "name": "stdout",
     "output_type": "stream",
     "text": [
      "100\n"
     ]
    }
   ],
   "source": [
    "S = square(10)"
   ]
  },
  {
   "cell_type": "code",
   "execution_count": 110,
   "metadata": {},
   "outputs": [
    {
     "data": {
      "text/plain": [
       "NoneType"
      ]
     },
     "execution_count": 110,
     "metadata": {},
     "output_type": "execute_result"
    }
   ],
   "source": [
    "type(S)"
   ]
  },
  {
   "cell_type": "markdown",
   "metadata": {},
   "source": [
    "Yuxarıdakı nümunədə yeni olan kod yoxdur,Verilmiş ədədin özünə hasilini əldə etdik.Daha sonra square funksiyasını bir dəyişənə mənimsətdik və tipini soruşduqda noneType ekrana çap olundu.verilənin tipi yoxdur kimi səsləndirək"
   ]
  },
  {
   "cell_type": "code",
   "execution_count": 113,
   "metadata": {},
   "outputs": [
    {
     "name": "stdout",
     "output_type": "stream",
     "text": [
      "100\n"
     ]
    }
   ],
   "source": [
    "def square(x):\n",
    "    y = x * x\n",
    "    return y\n",
    "S = square(10)\n",
    "print(S)"
   ]
  },
  {
   "cell_type": "code",
   "execution_count": 114,
   "metadata": {},
   "outputs": [
    {
     "name": "stdout",
     "output_type": "stream",
     "text": [
      "<class 'int'>\n"
     ]
    }
   ],
   "source": [
    "print(type(S))"
   ]
  },
  {
   "cell_type": "code",
   "execution_count": null,
   "metadata": {},
   "outputs": [],
   "source": []
  },
  {
   "cell_type": "markdown",
   "metadata": {},
   "source": [
    "Və return ifadəsini istifadə etməklə funksiyadan dönən dəyəri əldə etdik."
   ]
  },
  {
   "cell_type": "code",
   "execution_count": null,
   "metadata": {},
   "outputs": [],
   "source": []
  },
  {
   "cell_type": "code",
   "execution_count": 118,
   "metadata": {},
   "outputs": [
    {
     "name": "stdout",
     "output_type": "stream",
     "text": [
      "Result: 50\n"
     ]
    }
   ],
   "source": [
    "def minus(n):\n",
    "    print('Result:',n-50)\n",
    "minus(S)"
   ]
  },
  {
   "cell_type": "markdown",
   "metadata": {},
   "source": [
    "#### Funksiyalar vasitəsilə faktorial hesablanması"
   ]
  },
  {
   "cell_type": "code",
   "execution_count": 11,
   "metadata": {},
   "outputs": [],
   "source": [
    "#### Faktorial nədir!"
   ]
  },
  {
   "cell_type": "markdown",
   "metadata": {},
   "source": [
    "### 1-dən n-ə qədər olan natural ədədlərin hasilinə n- faktorial n-faktorial deyilir. n! kimi işarə olunur."
   ]
  },
  {
   "cell_type": "code",
   "execution_count": 13,
   "metadata": {},
   "outputs": [
    {
     "name": "stdout",
     "output_type": "stream",
     "text": [
      "\n",
      "\n",
      "        1! = 1\n",
      "        2! = 1*2 = 2\n",
      "        3! = 1*2*3 = 6\n",
      "        4! = 1*2*3*4 = 24\n",
      "\n",
      "\n"
     ]
    }
   ],
   "source": [
    "print(\"\"\"\n",
    "\n",
    "        1! = 1\n",
    "        2! = 1*2 = 2\n",
    "        3! = 1*2*3 = 6\n",
    "        4! = 1*2*3*4 = 24\n",
    "\n",
    "\"\"\")"
   ]
  },
  {
   "cell_type": "markdown",
   "metadata": {},
   "source": [
    "Faktorialın hesablanması və iki faktorial ədədin bölünməsi vurulması kimi metodlardan da istifadə etmək olur"
   ]
  },
  {
   "cell_type": "code",
   "execution_count": 15,
   "metadata": {},
   "outputs": [],
   "source": [
    "#  3! + 2! = 8"
   ]
  },
  {
   "cell_type": "code",
   "execution_count": null,
   "metadata": {},
   "outputs": [],
   "source": []
  },
  {
   "cell_type": "code",
   "execution_count": 121,
   "metadata": {},
   "outputs": [
    {
     "data": {
      "text/plain": [
       "1"
      ]
     },
     "execution_count": 121,
     "metadata": {},
     "output_type": "execute_result"
    }
   ],
   "source": [
    "def fact(n):\n",
    "    i=1 # başlanğıc dəyərini 0-dan fərqli dəyər.İstənilən ədədin 0-a hasili 0 ədədini verdiyi üçün \n",
    "    result=1 #\n",
    "    while i<=n:\n",
    "        result*=i\n",
    "        i+=1\n",
    "    return result\n",
    "fact(0)\n",
    "    "
   ]
  },
  {
   "cell_type": "code",
   "execution_count": 122,
   "metadata": {},
   "outputs": [
    {
     "data": {
      "text/plain": [
       "120"
      ]
     },
     "execution_count": 122,
     "metadata": {},
     "output_type": "execute_result"
    }
   ],
   "source": [
    "def fact(n):\n",
    "    i=1 # başlanğıc dəyərini 0-dan fərqli dəyər.İstənilən ədədin 0-a hasili 0 ədədini verdiyi üçün \n",
    "    result=1 #\n",
    "    while i<=n:\n",
    "        result*=i\n",
    "        i+=1\n",
    "    return result\n",
    "fact(5)"
   ]
  },
  {
   "cell_type": "markdown",
   "metadata": {},
   "source": [
    "### Recursive Funksiyalar"
   ]
  },
  {
   "cell_type": "markdown",
   "metadata": {},
   "source": [
    "Funksiya özünü təkrar olaraq çağırırsa recursive funksiyalar adlanır,yəni özünü təkrarlayan funksiyalar. Rekursiv funksiyalar həmçinin dövrlərin əvəzedicisidir"
   ]
  },
  {
   "cell_type": "code",
   "execution_count": 132,
   "metadata": {},
   "outputs": [],
   "source": [
    "def topla(sayi):\n",
    "    if sayi == 1:\n",
    "        return 1\n",
    "    # Recursive Case\n",
    "    else:\n",
    "        return sayi + topla(sayi - 1)"
   ]
  },
  {
   "cell_type": "code",
   "execution_count": 133,
   "metadata": {},
   "outputs": [
    {
     "data": {
      "text/plain": [
       "28"
      ]
     },
     "execution_count": 133,
     "metadata": {},
     "output_type": "execute_result"
    }
   ],
   "source": [
    "topla(7)"
   ]
  },
  {
   "cell_type": "markdown",
   "metadata": {},
   "source": [
    "Funksiya necə işlədi!"
   ]
  },
  {
   "cell_type": "code",
   "execution_count": 134,
   "metadata": {},
   "outputs": [
    {
     "name": "stdout",
     "output_type": "stream",
     "text": [
      "\n",
      "        topla(7)\n",
      "            return 7 + topla(6)\n",
      "                return 6 + topla(5)\n",
      "                      return 5 + topla(4)\n",
      "                            return 4 + topla(3)\n",
      "                                return 3 + topla(2)\n",
      "                                    return 2 + topla(1)\n",
      "                                           return 1\n",
      "\n",
      "\n",
      "\n"
     ]
    }
   ],
   "source": [
    "print(\"\"\"\n",
    "        topla(7)\n",
    "            return 7 + topla(6)\n",
    "                return 6 + topla(5)\n",
    "                      return 5 + topla(4)\n",
    "                            return 4 + topla(3)\n",
    "                                return 3 + topla(2)\n",
    "                                    return 2 + topla(1)\n",
    "                                           return 1\n",
    "\n",
    "\n",
    "\"\"\")"
   ]
  },
  {
   "cell_type": "markdown",
   "metadata": {},
   "source": [
    "Rekursiv funksiyalara baris nümunə ədədin faktorialını funksiyaya daşımaqdır.Yuxarıda yazdığımız faktorial funksiyasını rekursiv olaraq yazaq. Recursive case: n! = n * (n-1)!"
   ]
  },
  {
   "cell_type": "code",
   "execution_count": 147,
   "metadata": {},
   "outputs": [
    {
     "data": {
      "text/plain": [
       "1"
      ]
     },
     "execution_count": 147,
     "metadata": {},
     "output_type": "execute_result"
    }
   ],
   "source": [
    "def factorial_recursive(n):\n",
    "    if n == 1:\n",
    "        return 1\n",
    "    else:\n",
    "        return n * factorial_recursive(n-1)\n",
    "factorial_recursive(1)"
   ]
  },
  {
   "cell_type": "markdown",
   "metadata": {},
   "source": [
    "Düstura əsasən n! = n * (n-1)! 5 in faktorialı tapılır, 5-1= n olduğu üçün 4-ün faktorialı tapılır 4-1 =n 3 olduğu üçün üçün faktorialı tapılır 3-1=n 2 olduğu üçün ikinin faktorialı tapılır və 2-1=n 1 olduqda if bloku çalışır və geri dəyər 1 döndürülür blok burara sonlandırılır."
   ]
  },
  {
   "cell_type": "code",
   "execution_count": 149,
   "metadata": {},
   "outputs": [
    {
     "name": "stdout",
     "output_type": "stream",
     "text": [
      "\n",
      "\n",
      "4! = 24\n",
      "3! = 6\n",
      "2! = 2\n",
      "1! = 1\n",
      "\n",
      "\n",
      "\n"
     ]
    }
   ],
   "source": [
    "print(\"\"\"\n",
    "\n",
    "4! = 24\n",
    "3! = 6\n",
    "2! = 2\n",
    "1! = 1\n",
    "\n",
    "\n",
    "\"\"\")"
   ]
  },
  {
   "cell_type": "markdown",
   "metadata": {},
   "source": [
    "#### 5! = 5* 24 = 120 "
   ]
  },
  {
   "cell_type": "code",
   "execution_count": null,
   "metadata": {},
   "outputs": [],
   "source": []
  }
 ],
 "metadata": {
  "kernelspec": {
   "display_name": "Python 3",
   "language": "python",
   "name": "python3"
  },
  "language_info": {
   "codemirror_mode": {
    "name": "ipython",
    "version": 3
   },
   "file_extension": ".py",
   "mimetype": "text/x-python",
   "name": "python",
   "nbconvert_exporter": "python",
   "pygments_lexer": "ipython3",
   "version": "3.6.9"
  }
 },
 "nbformat": 4,
 "nbformat_minor": 4
}
