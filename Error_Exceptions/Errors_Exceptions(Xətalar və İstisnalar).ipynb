{
 "cells": [
  {
   "cell_type": "markdown",
   "metadata": {},
   "source": [
    "## Errors and Exceptions(Xətalar və İstisnalar)\n"
   ]
  },
  {
   "cell_type": "markdown",
   "metadata": {},
   "source": [
    "Python proqramlaşdırma dilində yazılan kod nümunələrində az-çox hər kəs səhv edərək öyrənir.Python dilində bu səhvlər əsasən iki qismdə 1.sintaksis səhvlər 2.istisnalar olaraq iki yerə ayrılır.Məsələn input funksiyası bilirikki istifadəçidən aldığı parametri sətir tipində saxlayır və biz bunu riyazi əməllərdə istifadə etdiyimiz zaman məcburi həqiqi və ya tam ədəd tipinə çeviririk.Və istifadəçi xüsusi işarələr yaza bilməsi ehtimalı olduğundan biz xəta ilə üzləşəcik və bu da proqramın sonlandırılması deməkdir.Bunun üçün biz proqramı davamlı çalışdırıb çıxış əmri əlavə edərək həmçinin baş verəcək xətaları özəlləşdirərək istifadəçiyə bildiriş göndərib yenidən ədəd tipində dəyər yazmasını tələb edə bilərik.Bu bəhsdə məhz biz bu xətaların tiplərini və özəlləşdirmə üsullarını nəzərdən keçirəcəyik .Misallardan bu daha aydın olacaq"
   ]
  },
  {
   "cell_type": "code",
   "execution_count": 2,
   "metadata": {},
   "outputs": [
    {
     "name": "stdout",
     "output_type": "stream",
     "text": [
      "Ədəd yazın:12\n",
      "**************************************************\n"
     ]
    },
    {
     "ename": "TypeError",
     "evalue": "must be str, not int",
     "output_type": "error",
     "traceback": [
      "\u001b[1;31m---------------------------------------------------------------------------\u001b[0m",
      "\u001b[1;31mTypeError\u001b[0m                                 Traceback (most recent call last)",
      "\u001b[1;32m<ipython-input-2-15798c81f55c>\u001b[0m in \u001b[0;36m<module>\u001b[1;34m()\u001b[0m\n\u001b[0;32m      1\u001b[0m \u001b[0mvar\u001b[0m \u001b[1;33m=\u001b[0m \u001b[0minput\u001b[0m\u001b[1;33m(\u001b[0m\u001b[1;34m'Ədəd yazın:'\u001b[0m\u001b[1;33m)\u001b[0m\u001b[1;33m\u001b[0m\u001b[1;33m\u001b[0m\u001b[0m\n\u001b[0;32m      2\u001b[0m \u001b[0mprint\u001b[0m\u001b[1;33m(\u001b[0m\u001b[1;34m'*'\u001b[0m\u001b[1;33m*\u001b[0m\u001b[1;36m50\u001b[0m\u001b[1;33m)\u001b[0m\u001b[1;33m\u001b[0m\u001b[1;33m\u001b[0m\u001b[0m\n\u001b[1;32m----> 3\u001b[1;33m \u001b[0mprint\u001b[0m\u001b[1;33m(\u001b[0m\u001b[1;34m'Cavab:'\u001b[0m\u001b[1;33m,\u001b[0m\u001b[0mvar\u001b[0m\u001b[1;33m+\u001b[0m\u001b[1;36m12\u001b[0m\u001b[1;33m)\u001b[0m\u001b[1;33m\u001b[0m\u001b[1;33m\u001b[0m\u001b[0m\n\u001b[0m",
      "\u001b[1;31mTypeError\u001b[0m: must be str, not int"
     ]
    }
   ],
   "source": [
    "var = input('Ədəd yazın:')\n",
    "print('*'*50)\n",
    "print('Cavab:',var+12)"
   ]
  },
  {
   "cell_type": "markdown",
   "metadata": {},
   "source": [
    "Nə oldu! xəta aldıq.TypeError: must be str, not int sətri xəta sətri olub xəta tipi TypeError adlanır.sətir tipi ilə tam ədəd tipini toplaya bilmərik."
   ]
  },
  {
   "cell_type": "markdown",
   "metadata": {},
   "source": [
    "Bu tip xətalardan başqa python dilində digər xətalar da mövcuddur.Məsələn"
   ]
  },
  {
   "cell_type": "code",
   "execution_count": 3,
   "metadata": {},
   "outputs": [
    {
     "ename": "ZeroDivisionError",
     "evalue": "division by zero",
     "output_type": "error",
     "traceback": [
      "\u001b[1;31m---------------------------------------------------------------------------\u001b[0m",
      "\u001b[1;31mZeroDivisionError\u001b[0m                         Traceback (most recent call last)",
      "\u001b[1;32m<ipython-input-3-9e1622b385b6>\u001b[0m in \u001b[0;36m<module>\u001b[1;34m()\u001b[0m\n\u001b[1;32m----> 1\u001b[1;33m \u001b[1;36m1\u001b[0m\u001b[1;33m/\u001b[0m\u001b[1;36m0\u001b[0m\u001b[1;33m\u001b[0m\u001b[1;33m\u001b[0m\u001b[0m\n\u001b[0m",
      "\u001b[1;31mZeroDivisionError\u001b[0m: division by zero"
     ]
    }
   ],
   "source": [
    "1/0"
   ]
  },
  {
   "cell_type": "code",
   "execution_count": 4,
   "metadata": {},
   "outputs": [
    {
     "ename": "NameError",
     "evalue": "name 'num' is not defined",
     "output_type": "error",
     "traceback": [
      "\u001b[1;31m---------------------------------------------------------------------------\u001b[0m",
      "\u001b[1;31mNameError\u001b[0m                                 Traceback (most recent call last)",
      "\u001b[1;32m<ipython-input-4-d5d588e5d103>\u001b[0m in \u001b[0;36m<module>\u001b[1;34m()\u001b[0m\n\u001b[1;32m----> 1\u001b[1;33m \u001b[1;36m4\u001b[0m \u001b[1;33m+\u001b[0m \u001b[0mnum\u001b[0m\u001b[1;33m*\u001b[0m\u001b[1;36m3\u001b[0m\u001b[1;33m\u001b[0m\u001b[1;33m\u001b[0m\u001b[0m\n\u001b[0m",
      "\u001b[1;31mNameError\u001b[0m: name 'num' is not defined"
     ]
    }
   ],
   "source": [
    "4 + num*3"
   ]
  },
  {
   "cell_type": "markdown",
   "metadata": {},
   "source": [
    "Və digərləri.Bu xətaları əzbərləməyinizə ehtiyyac yoxdur.Bir neçə xətalara dair nümunələr hazırladığımdan dolayı mövzunu mənimsəyəcəksiniz."
   ]
  },
  {
   "cell_type": "code",
   "execution_count": 5,
   "metadata": {},
   "outputs": [
    {
     "name": "stdout",
     "output_type": "stream",
     "text": [
      "\n",
      "\n",
      "try:\n",
      "   kodlar.......\n",
      "except:\n",
      "   print(istifadəçiyə mesaj göndər.....)\n",
      "\n",
      "\n"
     ]
    }
   ],
   "source": [
    "print(\"\"\"\n",
    "\n",
    "try:\n",
    "   kodlar.......\n",
    "except:\n",
    "   print(istifadəçiyə mesaj göndər.....)\n",
    "\n",
    "\"\"\")"
   ]
  },
  {
   "cell_type": "markdown",
   "metadata": {},
   "source": [
    "Yuxarıda nümunə üçün xəta və istisnaların yazılış qaydasını göstərdim.Prinsip etibarı ilə iki hissədən try bloku daxilində çalışacaq kodlarımız və müstəsna halda baş verəcək xəta,digəri exception bloku daxilinə baş verəcək xətaları istifadəçiyə bildiriş formasında göndərmək.İrəliləyən dərslərdə digər yazılış sintaksislərini göstərəcəm"
   ]
  },
  {
   "cell_type": "code",
   "execution_count": 23,
   "metadata": {},
   "outputs": [
    {
     "name": "stdout",
     "output_type": "stream",
     "text": [
      "Celsium:12\n"
     ]
    },
    {
     "ename": "TypeError",
     "evalue": "unsupported operand type(s) for /: 'str' and 'int'",
     "output_type": "error",
     "traceback": [
      "\u001b[1;31m---------------------------------------------------------------------------\u001b[0m",
      "\u001b[1;31mTypeError\u001b[0m                                 Traceback (most recent call last)",
      "\u001b[1;32m<ipython-input-23-2822a7fea8f7>\u001b[0m in \u001b[0;36m<module>\u001b[1;34m()\u001b[0m\n\u001b[0;32m      5\u001b[0m     \u001b[0mF\u001b[0m \u001b[1;33m=\u001b[0m \u001b[1;33m(\u001b[0m\u001b[0mtemprature\u001b[0m \u001b[1;33m*\u001b[0m \u001b[1;36m9\u001b[0m\u001b[1;33m/\u001b[0m\u001b[1;36m5\u001b[0m\u001b[1;33m)\u001b[0m \u001b[1;33m+\u001b[0m \u001b[1;36m32\u001b[0m\u001b[1;33m\u001b[0m\u001b[1;33m\u001b[0m\u001b[0m\n\u001b[0;32m      6\u001b[0m     \u001b[1;32mreturn\u001b[0m \u001b[1;33m(\u001b[0m\u001b[1;34m'Converted :{:.2f}F'\u001b[0m\u001b[1;33m.\u001b[0m\u001b[0mformat\u001b[0m\u001b[1;33m(\u001b[0m\u001b[0mF\u001b[0m\u001b[1;33m)\u001b[0m\u001b[1;33m)\u001b[0m\u001b[1;33m\u001b[0m\u001b[1;33m\u001b[0m\u001b[0m\n\u001b[1;32m----> 7\u001b[1;33m \u001b[0mFahrenheit\u001b[0m\u001b[1;33m(\u001b[0m\u001b[1;33m)\u001b[0m\u001b[1;33m\u001b[0m\u001b[1;33m\u001b[0m\u001b[0m\n\u001b[0m\u001b[0;32m      8\u001b[0m \u001b[1;33m\u001b[0m\u001b[0m\n",
      "\u001b[1;32m<ipython-input-23-2822a7fea8f7>\u001b[0m in \u001b[0;36mFahrenheit\u001b[1;34m(temprature)\u001b[0m\n\u001b[0;32m      3\u001b[0m     \u001b[0mfunksiya\u001b[0m \u001b[0mselsi\u001b[0m \u001b[0mcinsindən\u001b[0m \u001b[0mtemperaturu\u001b[0m \u001b[0mfarnheyt\u001b[0m \u001b[0mcinsinə\u001b[0m \u001b[0mçevirir\u001b[0m\u001b[1;33m\u001b[0m\u001b[1;33m\u001b[0m\u001b[0m\n\u001b[0;32m      4\u001b[0m     \"\"\"\n\u001b[1;32m----> 5\u001b[1;33m     \u001b[0mF\u001b[0m \u001b[1;33m=\u001b[0m \u001b[1;33m(\u001b[0m\u001b[0mtemprature\u001b[0m \u001b[1;33m*\u001b[0m \u001b[1;36m9\u001b[0m\u001b[1;33m/\u001b[0m\u001b[1;36m5\u001b[0m\u001b[1;33m)\u001b[0m \u001b[1;33m+\u001b[0m \u001b[1;36m32\u001b[0m\u001b[1;33m\u001b[0m\u001b[1;33m\u001b[0m\u001b[0m\n\u001b[0m\u001b[0;32m      6\u001b[0m     \u001b[1;32mreturn\u001b[0m \u001b[1;33m(\u001b[0m\u001b[1;34m'Converted :{:.2f}F'\u001b[0m\u001b[1;33m.\u001b[0m\u001b[0mformat\u001b[0m\u001b[1;33m(\u001b[0m\u001b[0mF\u001b[0m\u001b[1;33m)\u001b[0m\u001b[1;33m)\u001b[0m\u001b[1;33m\u001b[0m\u001b[1;33m\u001b[0m\u001b[0m\n\u001b[0;32m      7\u001b[0m \u001b[0mFahrenheit\u001b[0m\u001b[1;33m(\u001b[0m\u001b[1;33m)\u001b[0m\u001b[1;33m\u001b[0m\u001b[1;33m\u001b[0m\u001b[0m\n",
      "\u001b[1;31mTypeError\u001b[0m: unsupported operand type(s) for /: 'str' and 'int'"
     ]
    }
   ],
   "source": [
    "def Fahrenheit(temprature=input('Celsium:')):\n",
    "    \"\"\"\n",
    "    funksiya selsi cinsindən temperaturu farnheyt cinsinə çevirir\n",
    "    \"\"\"\n",
    "    F = (temprature * 9/5) + 32\n",
    "    return ('Converted :{:.2f}F'.format(F))\n",
    "Fahrenheit()\n",
    "    \n"
   ]
  },
  {
   "cell_type": "markdown",
   "metadata": {},
   "source": [
    "Yuxarıda funksiya tərtib etdik və xəta aldıq.Bilirikki input funksiyasından geri dönən dəyərlər sətir tipində(string) olduğu üçün hesablama doğru aparılmadı"
   ]
  },
  {
   "cell_type": "code",
   "execution_count": 24,
   "metadata": {},
   "outputs": [
    {
     "name": "stdout",
     "output_type": "stream",
     "text": [
      "Celsium:12\n",
      "Xəta\n"
     ]
    }
   ],
   "source": [
    "def Fahrenheit(temprature=input('Celsium:')):\n",
    "    \"\"\"\n",
    "    funksiya selsi cinsindən temperaturu farnheyt cinsinə çevirir\n",
    "    \"\"\"\n",
    "    try:\n",
    "        F = (temprature * 9/5) + 32\n",
    "        return ('Converted :{:.2f}F'.format(F))\n",
    "    except:\n",
    "        print('Xəta')\n",
    "Fahrenheit()"
   ]
  },
  {
   "cell_type": "markdown",
   "metadata": {},
   "source": [
    "Nəticədə funksiyamız daxilində try bloku hazırladıq.Və ardından except blokuna əgər xəta baş verərsə print() funksiyası ilə istifadəçiyə bildiriş göndərdik"
   ]
  },
  {
   "cell_type": "markdown",
   "metadata": {},
   "source": [
    "və ya"
   ]
  },
  {
   "cell_type": "code",
   "execution_count": 30,
   "metadata": {},
   "outputs": [
    {
     "name": "stdout",
     "output_type": "stream",
     "text": [
      "Celsium:!!!!--as\n",
      "Xəta.....\n"
     ]
    }
   ],
   "source": [
    "def Fahrenheit(temprature):\n",
    "    \"\"\"\n",
    "    funksiya selsi cinsindən temperaturu farnheyt cinsinə çevirir\n",
    "    \"\"\"\n",
    "    try:\n",
    "        F = (int(temprature) * 9/5) + 32\n",
    "        return ('Converted :{:.2f}F'.format(F))\n",
    "    except ValueError:\n",
    "        print('Xəta.....')\n",
    "Fahrenheit(input('Celsium:'))"
   ]
  },
  {
   "cell_type": "code",
   "execution_count": 31,
   "metadata": {},
   "outputs": [
    {
     "ename": "ZeroDivisionError",
     "evalue": "division by zero",
     "output_type": "error",
     "traceback": [
      "\u001b[1;31m---------------------------------------------------------------------------\u001b[0m",
      "\u001b[1;31mZeroDivisionError\u001b[0m                         Traceback (most recent call last)",
      "\u001b[1;32m<ipython-input-31-9e1622b385b6>\u001b[0m in \u001b[0;36m<module>\u001b[1;34m()\u001b[0m\n\u001b[1;32m----> 1\u001b[1;33m \u001b[1;36m1\u001b[0m\u001b[1;33m/\u001b[0m\u001b[1;36m0\u001b[0m\u001b[1;33m\u001b[0m\u001b[1;33m\u001b[0m\u001b[0m\n\u001b[0m",
      "\u001b[1;31mZeroDivisionError\u001b[0m: division by zero"
     ]
    }
   ],
   "source": [
    "1/0"
   ]
  },
  {
   "cell_type": "markdown",
   "metadata": {},
   "source": [
    "Yuxarıdakı xətanın tipi ZeroDivisionError -dur.Misal olaraq hesablayıcı proqram hazırlasanız istifadəçi 0-a bölmə əməlini yazarsa xəta ilə nəticələnib proqram sonlandırılacaq.Biz öncədən bu xətanı qabaqlaya bilərik"
   ]
  },
  {
   "cell_type": "code",
   "execution_count": 51,
   "metadata": {},
   "outputs": [],
   "source": [
    "def toplama(a,b):\n",
    "    \"\"\"\n",
    "    funksiya toplama əməlini yerinə yetirir\n",
    "    \"\"\"\n",
    "    return ('Cavab:{}'.format(a+b))\n",
    "def çıxma(a,b):\n",
    "    \"\"\"\n",
    "    funksiya çıxma əməlini yerinə yetirir\n",
    "    \"\"\"\n",
    "    return ('Cavab:{}'.format(a-b))\n",
    "def vurma(a,b):\n",
    "    \"\"\"\n",
    "    funksiya vurma əməlini yerinə yetirir\n",
    "    \"\"\"\n",
    "    return ('Cavab:{}'.format(a*b))\n",
    "def bölmə(a,b):\n",
    "    \"\"\"\n",
    "    funksiya bölmə əməlini yerinə yetirir\n",
    "    \"\"\"\n",
    "    return ('Cavab:{}'.format(a/b))    \n"
   ]
  },
  {
   "cell_type": "markdown",
   "metadata": {},
   "source": [
    "Yuxarıda 4 sayda riyazi əməliyyatı hesablayacaq funksiya hazırladıq"
   ]
  },
  {
   "cell_type": "code",
   "execution_count": 52,
   "metadata": {},
   "outputs": [
    {
     "name": "stdout",
     "output_type": "stream",
     "text": [
      "Əməliyyatı seçin:toplama\n",
      "Birinci ədəd:12\n",
      "İkinci ədəd:3\n",
      "Cavab:15.0\n"
     ]
    }
   ],
   "source": [
    "emeliyyat = input('Əməliyyatı seçin:')\n",
    "a = input('Birinci ədəd:')\n",
    "b = input('İkinci ədəd:')\n",
    "try:\n",
    "    if  emeliyyat == 'toplama':\n",
    "        print(toplama(float(a),float(b)))\n",
    "    elif emeliyyat == 'çıxma':\n",
    "        print(çıxma(float(a),float(b)))\n",
    "    elif emeliyyat == 'vurma':\n",
    "        print(vurma(float(a),float(b)))\n",
    "    elif emeliyyat == 'bölmə':\n",
    "        print(bölmə(float(a),float(b)))\n",
    "except ZeroDivisionError:\n",
    "    print('0-a bölmə xətası')\n",
    "   \n",
    "        \n",
    "        \n",
    "    \n",
    "    \n",
    "    "
   ]
  },
  {
   "cell_type": "code",
   "execution_count": 53,
   "metadata": {},
   "outputs": [
    {
     "name": "stdout",
     "output_type": "stream",
     "text": [
      "Əməliyyatı seçin:bölmə\n",
      "Birinci ədəd:3\n",
      "İkinci ədəd:0\n",
      "0-a bölmə xətası\n"
     ]
    }
   ],
   "source": [
    "emeliyyat = input('Əməliyyatı seçin:')\n",
    "a = input('Birinci ədəd:')\n",
    "b = input('İkinci ədəd:')\n",
    "try:\n",
    "    if  emeliyyat == 'toplama':\n",
    "        print(toplama(float(a),float(b)))\n",
    "    elif emeliyyat == 'çıxma':\n",
    "        print(çıxma(float(a),float(b)))\n",
    "    elif emeliyyat == 'vurma':\n",
    "        print(vurma(float(a),float(b)))\n",
    "    elif emeliyyat == 'bölmə':\n",
    "        print(bölmə(float(a),float(b)))\n",
    "except ZeroDivisionError:\n",
    "    print('0-a bölmə xətası')"
   ]
  },
  {
   "cell_type": "code",
   "execution_count": null,
   "metadata": {},
   "outputs": [],
   "source": []
  },
  {
   "cell_type": "markdown",
   "metadata": {},
   "source": [
    "### except as xəta"
   ]
  },
  {
   "cell_type": "markdown",
   "metadata": {},
   "source": [
    "Yuxarıdakı nümunələrdə hər bir xətanı əldə edə bilirdik.Bu hissədə isə həm xətaları cəmləşdirməyi həm də xətanı bir simvola mənimsədib çap edə bilərik."
   ]
  },
  {
   "cell_type": "code",
   "execution_count": 6,
   "metadata": {},
   "outputs": [
    {
     "name": "stdout",
     "output_type": "stream",
     "text": [
      "bir rəqəm yazın:12\n",
      "bir rəqəm yazın:4\n",
      "Result: 3.0\n"
     ]
    }
   ],
   "source": [
    "try:\n",
    "    num=int(input('bir rəqəm yazın:'))\n",
    "    num1=int(input('bir rəqəm yazın:'))\n",
    "    print('Result:',num/num1)\n",
    "except ZeroDivisionError as err:\n",
    "    print('Xəta oldu,xəta tipi: {}'.format(err))"
   ]
  },
  {
   "cell_type": "code",
   "execution_count": 7,
   "metadata": {},
   "outputs": [
    {
     "name": "stdout",
     "output_type": "stream",
     "text": [
      "bir rəqəm yazın:4\n",
      "bir rəqəm yazın:0\n",
      "Xəta oldu,xəta tipi: division by zero\n"
     ]
    }
   ],
   "source": [
    "try:\n",
    "    num=int(input('bir rəqəm yazın:'))\n",
    "    num1=int(input('bir rəqəm yazın:'))\n",
    "    print('Result:',num/num1)\n",
    "except ZeroDivisionError as err:\n",
    "    print('Xəta oldu,xəta tipi: {}'.format(err))"
   ]
  },
  {
   "cell_type": "markdown",
   "metadata": {},
   "source": [
    "Yuxarıdakı nümunədə xətanı err ifadəsinə mənimsətdik"
   ]
  },
  {
   "cell_type": "markdown",
   "metadata": {},
   "source": [
    "Bundan başqa xətaları toplu şəkildə əldə etmək üçün"
   ]
  },
  {
   "cell_type": "code",
   "execution_count": 8,
   "metadata": {},
   "outputs": [
    {
     "name": "stdout",
     "output_type": "stream",
     "text": [
      "bir rəqəm yazın:\n",
      "Xəta oldu,xəta tipi: invalid literal for int() with base 10: ''\n"
     ]
    }
   ],
   "source": [
    "try:\n",
    "    num=int(input('bir rəqəm yazın:'))\n",
    "    num1=int(input('bir rəqəm yazın:'))\n",
    "    print('Result:',num/num1)\n",
    "except (ValueError,ZeroDivisionError) as err:\n",
    "    print('Xəta oldu,xəta tipi: {}'.format(err))"
   ]
  },
  {
   "cell_type": "markdown",
   "metadata": {},
   "source": [
    "Heç bir ifadə yazmadan enter düyməsini sıxdıqda ValueError xətası aldığımız üçün except bloku işə düşərək err ifadəsi ilə xətanı əldə edirik daha sonra print() funksiyası ilə ekrana çap edə bildik"
   ]
  },
  {
   "cell_type": "code",
   "execution_count": null,
   "metadata": {},
   "outputs": [
    {
     "name": "stdout",
     "output_type": "stream",
     "text": [
      "bir rəqəm yazın:12\n",
      "bir rəqəm yazın:5\n",
      "2.4\n",
      "bir rəqəm yazın:3\n",
      "bir rəqəm yazın:0\n",
      "0-a bölmək olmaz\n",
      "bir rəqəm yazın:11\n",
      "bir rəqəm yazın:\n",
      "sadəcə rəqəm daxil edin\n",
      "bir rəqəm yazın:4\n",
      "bir rəqəm yazın:34\n",
      "0.11764705882352941\n",
      "bir rəqəm yazın:q\n",
      "sadəcə rəqəm daxil edin\n"
     ]
    }
   ],
   "source": [
    "while True:\n",
    "    try:\n",
    "        num=int(input('bir rəqəm yazın:'))\n",
    "        num1=int(input('bir rəqəm yazın:'))\n",
    "    except ValueError:\n",
    "        print('sadəcə rəqəm daxil edin')\n",
    "    else:\n",
    "        try:\n",
    "            print(num/num1)\n",
    "        except ZeroDivisionError:\n",
    "            print('0-a bölmək olmaz')"
   ]
  },
  {
   "cell_type": "markdown",
   "metadata": {},
   "source": [
    "Yuxarıdakı nümunədə else operatorundan istifadə edərək xəta baş verəcək halda ayrı ayrı blokları çalışdıraraq nəticələri əldə edə bildik."
   ]
  },
  {
   "cell_type": "code",
   "execution_count": null,
   "metadata": {},
   "outputs": [],
   "source": []
  }
 ],
 "metadata": {
  "kernelspec": {
   "display_name": "Python 3",
   "language": "python",
   "name": "python3"
  },
  "language_info": {
   "codemirror_mode": {
    "name": "ipython",
    "version": 3
   },
   "file_extension": ".py",
   "mimetype": "text/x-python",
   "name": "python",
   "nbconvert_exporter": "python",
   "pygments_lexer": "ipython3",
   "version": "3.6.10"
  }
 },
 "nbformat": 4,
 "nbformat_minor": 2
}
