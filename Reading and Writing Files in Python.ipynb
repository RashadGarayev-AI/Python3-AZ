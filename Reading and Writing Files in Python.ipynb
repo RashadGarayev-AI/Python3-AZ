{
 "cells": [
  {
   "cell_type": "markdown",
   "metadata": {},
   "source": [
    "### Python dili ilə Faylların oxunması,yazılması mövzusu"
   ]
  },
  {
   "cell_type": "markdown",
   "metadata": {},
   "source": [
    "<p>Müxtəlif proqramlaşdırma dillərində faylların oxunması yazılması mövcuddur.Biz python dili ilə <code>txt mətin tipli fayllar</code> hazırlayacağıq.mətn faylları ən sadə mətn formatında olub məlumatlar toplusudur.Həmçinin biz faylı yenidən yaradıb məlumatlarımızı əlavə edə bilərik.Eləcədə var olun mətn faylı daxilində məlumatları əldə edə,dəyişikliyi tətbiq edə bilərik.mətn fayllarından başqa digər fayl tipləri də mövcuddur misal olaraq <code>json(JavaScript Object Notation),zip(sıxıştırılmış),pb(PureBasic)</code> və sairə.Bu fayl tipləri hər birinin özəl xüsusiyyətləri mövcuddur.mətn tipli fayllardan savayı digər tipli faylların oxunuşu eyni sintaksislə deyil,çünki bu tip faylların bəzisi digər skript dillər üçün nəzərdə tutulduğundan oxunma metodu python dilində kitabxanalar vasitəsilə yerinə yetirilir.İrəliləyən dərslərdə digər fayl tiplərindən də istifadə edəcəyik.Hələlik mətn tipli txt faylın oxunması yazılması tərtibatı kimi əsas meyarları öyrənək.</p>"
   ]
  },
  {
   "cell_type": "markdown",
   "metadata": {},
   "source": [
    "<strong><code>open() funksiyası</code></strong>"
   ]
  },
  {
   "cell_type": "markdown",
   "metadata": {},
   "source": [
    "<code>list() tuple() print() int()  </code> funksiyaları olduğu kimi <code>open()</code> funksiyası da python dili ilə gələn kök funksiyadır."
   ]
  },
  {
   "cell_type": "code",
   "execution_count": 6,
   "metadata": {},
   "outputs": [],
   "source": [
    "#help(open)"
   ]
  },
  {
   "cell_type": "markdown",
   "metadata": {},
   "source": [
    "<code> help(open)</code> yazaraq funksiya haqqında məlumatları əldə edə bilərsiniz.Həmçinin keçəcəyimiz fayl modları da funksiya daxilində göstərilmişdir"
   ]
  },
  {
   "cell_type": "code",
   "execution_count": 4,
   "metadata": {},
   "outputs": [
    {
     "name": "stdout",
     "output_type": "stream",
     "text": [
      "\n",
      "\n",
      "Character Meaning\n",
      "    --------- ---------------------------------------------------------------\n",
      "    'r'       open for reading (default)\n",
      "    'w'       open for writing, truncating the file first\n",
      "    'x'       create a new file and open it for writing\n",
      "    'a'       open for writing, appending to the end of the file if it exists\n",
      "    'b'       binary mode\n",
      "    't'       text mode (default)\n",
      "    '+'       open a disk file for updating (reading and writing)\n",
      "    'U'       universal newline mode (deprecated)\n",
      "    ========= ===============================================================\n",
      "\n",
      "\n",
      "\n",
      "\n"
     ]
    }
   ],
   "source": [
    "print(\"\"\"\n",
    "\n",
    "Character Meaning\n",
    "    --------- ---------------------------------------------------------------\n",
    "    'r'       open for reading (default)\n",
    "    'w'       open for writing, truncating the file first\n",
    "    'x'       create a new file and open it for writing\n",
    "    'a'       open for writing, appending to the end of the file if it exists\n",
    "    'b'       binary mode\n",
    "    't'       text mode (default)\n",
    "    '+'       open a disk file for updating (reading and writing)\n",
    "    'U'       universal newline mode (deprecated)\n",
    "    ========= ===============================================================\n",
    "\n",
    "\n",
    "\n",
    "\"\"\")"
   ]
  },
  {
   "cell_type": "markdown",
   "metadata": {},
   "source": [
    "#### Syntax(sintaksisi-yazılış qaydası)"
   ]
  },
  {
   "cell_type": "markdown",
   "metadata": {},
   "source": [
    "<code> f = open(\"fayl_adı\", \"mod\") </code>"
   ]
  },
  {
   "cell_type": "markdown",
   "metadata": {},
   "source": [
    "<code>open</code> funksiyasının susmaya(default) görə ala bildiyi parampetrlər mövcuddur ki cell üzərində <code>shift + tab </code> düyməsini sıxsanız qarşısınıza çıxacaqdır"
   ]
  },
  {
   "cell_type": "markdown",
   "metadata": {},
   "source": [
    "<code>f = open(file,mode='r',buffering=-1,encoding=None,errors=None,newline=None,closefd=True,opener=None)</code>\n",
    "<p>Yuxarıda qeyd olunan open funksiyasının susmaya görə aldığı parametrlərdir</p>"
   ]
  },
  {
   "cell_type": "code",
   "execution_count": 9,
   "metadata": {},
   "outputs": [
    {
     "ename": "FileNotFoundError",
     "evalue": "[Errno 2] No such file or directory: 'data.txt'",
     "output_type": "error",
     "traceback": [
      "\u001b[1;31m---------------------------------------------------------------------------\u001b[0m",
      "\u001b[1;31mFileNotFoundError\u001b[0m                         Traceback (most recent call last)",
      "\u001b[1;32m<ipython-input-9-2782c2a35af5>\u001b[0m in \u001b[0;36m<module>\u001b[1;34m()\u001b[0m\n\u001b[1;32m----> 1\u001b[1;33m \u001b[0mf\u001b[0m \u001b[1;33m=\u001b[0m \u001b[0mopen\u001b[0m\u001b[1;33m(\u001b[0m\u001b[1;34m\"data.txt\"\u001b[0m\u001b[1;33m)\u001b[0m\u001b[1;33m\u001b[0m\u001b[1;33m\u001b[0m\u001b[0m\n\u001b[0m",
      "\u001b[1;31mFileNotFoundError\u001b[0m: [Errno 2] No such file or directory: 'data.txt'"
     ]
    }
   ],
   "source": [
    "f = open(\"data.txt\") "
   ]
  },
  {
   "cell_type": "markdown",
   "metadata": {},
   "source": [
    "<code>FileNotFoundError</code> xəta aldıq.susmaya görə fayl modu r(read) olduğu üçün mütləqdirki fayl sistemdə mövcud olmalıdır.fayl cari kataloqda axtarış edilir.xətada deyildiyi kimi fayl və ya qovluğuq mövcud deyil"
   ]
  },
  {
   "cell_type": "markdown",
   "metadata": {},
   "source": [
    "#### Gəlin fayl modlarına dair təsvirlərə(Description) nəzər yetirək"
   ]
  },
  {
   "cell_type": "code",
   "execution_count": 11,
   "metadata": {},
   "outputs": [
    {
     "name": "stdout",
     "output_type": "stream",
     "text": [
      "\n",
      "\n",
      "Character Meaning      \n",
      "    --------- ---------------------------------------------------------------\n",
      "    'r'       faylı oxuma modunda açar.Əgər sisteminizdə həmin adda\n",
      "              fayl yoxdursa siz xəta mesajı alacaqsınız\n",
      "              \n",
      "    'w'       fayla ifadə yazmaq üçün istifadə olunur.Bu modda olan fayl əgər\n",
      "              sisteminizdə varsa,ifadələr silinəcəkdir.Əgər yoxdursa python bizə qeyd\n",
      "              etdiyimiz ada uyğun bir fayl açaraq modunu da w- yaradacaq\n",
      "              \n",
      "    'x'       faylı yazmaq modunda açır.Sisteminizdə əgər qeyd etdiyiniz adda fayl\n",
      "              varsa python sizə xəta mesajı verəcəkdir.\n",
      "              \n",
      "    'a'       Bir fayla ifadələr yazmaq hüququ verir.Sisteminizdə mövcud adda fayl\n",
      "              varsa mod,fayl daxilindəki ifadələrə toxunmadan yeni ifadənizi fayl sonuna\n",
      "              əlavə edəcək.Əgər qeyd etdiyiniz adda fayl yoxdursa python sizin üçün\n",
      "              bu modda yeni bir fayl yaradacaq.\n",
      "    'b'       Faylları ikili rejimdə(binar mod) açır.\n",
      "    \n",
      "    '+'       Bu mod tək işlənməyərək digər modlara əlavə olunaraq bir neçə\n",
      "              funksiyanı yerinə yetirir.Yəni bir fayla yazma,oxuma hüququ verir.\n",
      "    \n",
      "    ========= ===============================================================\n",
      "\n",
      "\n",
      "\n",
      "\n"
     ]
    }
   ],
   "source": [
    "print(\"\"\"\n",
    "\n",
    "Character Meaning      \n",
    "    --------- ---------------------------------------------------------------\n",
    "    'r'       faylı oxuma modunda açar.Əgər sisteminizdə həmin adda\n",
    "              fayl yoxdursa siz xəta mesajı alacaqsınız\n",
    "              \n",
    "    'w'       fayla ifadə yazmaq üçün istifadə olunur.Bu modda olan fayl əgər\n",
    "              sisteminizdə varsa,ifadələr silinəcəkdir.Əgər yoxdursa python bizə qeyd\n",
    "              etdiyimiz ada uyğun bir fayl açaraq modunu da w- yaradacaq\n",
    "              \n",
    "    'x'       faylı yazmaq modunda açır.Sisteminizdə əgər qeyd etdiyiniz adda fayl\n",
    "              varsa python sizə xəta mesajı verəcəkdir.\n",
    "              \n",
    "    'a'       Bir fayla ifadələr yazmaq hüququ verir.Sisteminizdə mövcud adda fayl\n",
    "              varsa mod,fayl daxilindəki ifadələrə toxunmadan yeni ifadənizi fayl sonuna\n",
    "              əlavə edəcək.Əgər qeyd etdiyiniz adda fayl yoxdursa python sizin üçün\n",
    "              bu modda yeni bir fayl yaradacaq.\n",
    "    'b'       Faylları ikili rejimdə(binar mod) açır.\n",
    "    \n",
    "    '+'       Bu mod tək işlənməyərək digər modlara əlavə olunaraq bir neçə\n",
    "              funksiyanı yerinə yetirir.Yəni bir fayla yazma,oxuma hüququ verir.\n",
    "    \n",
    "    ========= ===============================================================\n",
    "\n",
    "\n",
    "\n",
    "\"\"\")"
   ]
  },
  {
   "cell_type": "markdown",
   "metadata": {},
   "source": [
    "Yuxarıda qeyd olunanlar davamlı istifadə edəcəyimiz fayl modlarıdır.Asta-asta kodlarımızı yazaq"
   ]
  },
  {
   "cell_type": "code",
   "execution_count": 12,
   "metadata": {},
   "outputs": [],
   "source": [
    "f=open('data.txt',mode='w')"
   ]
  },
  {
   "cell_type": "markdown",
   "metadata": {},
   "source": [
    "cari kataloqa nəzər yetirsəniz data.txt faylı yaradıldı.Faylımız boşdur.Faylı siz cari kataloqdan savayı istənilən(icazəli) qovluqda da hazırlaya bilərsiniz.\n",
    "<p> <code> f=open('C:\\data.txt',mode='w') </code> </p>"
   ]
  },
  {
   "cell_type": "code",
   "execution_count": 15,
   "metadata": {},
   "outputs": [],
   "source": [
    " f=open('DATA/data.txt',mode='w') #DATA qovluğu hazırlayıb data.txt faylınının həmin qovluqda yaradılmasını təmin etdik"
   ]
  },
  {
   "cell_type": "markdown",
   "metadata": {},
   "source": [
    "#### Fayl metodları"
   ]
  },
  {
   "cell_type": "markdown",
   "metadata": {},
   "source": [
    "<code>write metodu</code> - metod ifadələri fayla yazmaq üçün istifadə olunur.hazırladığımız faylı f adlı dəyişənə mənimsətdik.diqqət etsəniz f. yazıb tab düyməsini sıxsanız metodlar siyahı şəklində görünəcəkdir.Metoddan istifadə edərək məlumatları fayla yazaq"
   ]
  },
  {
   "cell_type": "code",
   "execution_count": 17,
   "metadata": {},
   "outputs": [
    {
     "ename": "UnicodeEncodeError",
     "evalue": "'charmap' codec can't encode character '\\u015f' in position 16: character maps to <undefined>",
     "output_type": "error",
     "traceback": [
      "\u001b[1;31m---------------------------------------------------------------------------\u001b[0m",
      "\u001b[1;31mUnicodeEncodeError\u001b[0m                        Traceback (most recent call last)",
      "\u001b[1;32m<ipython-input-17-fece6bdb1e88>\u001b[0m in \u001b[0;36m<module>\u001b[1;34m()\u001b[0m\n\u001b[0;32m      1\u001b[0m \u001b[0mf\u001b[0m\u001b[1;33m=\u001b[0m\u001b[0mopen\u001b[0m\u001b[1;33m(\u001b[0m\u001b[1;34m'DATA/data.txt'\u001b[0m\u001b[1;33m,\u001b[0m\u001b[0mmode\u001b[0m\u001b[1;33m=\u001b[0m\u001b[1;34m'w'\u001b[0m\u001b[1;33m)\u001b[0m\u001b[1;33m\u001b[0m\u001b[1;33m\u001b[0m\u001b[0m\n\u001b[1;32m----> 2\u001b[1;33m \u001b[0mf\u001b[0m\u001b[1;33m.\u001b[0m\u001b[0mwrite\u001b[0m\u001b[1;33m(\u001b[0m\u001b[1;34m'Python proqramlaşdırma dili'\u001b[0m\u001b[1;33m)\u001b[0m\u001b[1;33m\u001b[0m\u001b[1;33m\u001b[0m\u001b[0m\n\u001b[0m",
      "\u001b[1;32mC:\\ProgramData\\Anaconda3\\lib\\encodings\\cp1252.py\u001b[0m in \u001b[0;36mencode\u001b[1;34m(self, input, final)\u001b[0m\n\u001b[0;32m     17\u001b[0m \u001b[1;32mclass\u001b[0m \u001b[0mIncrementalEncoder\u001b[0m\u001b[1;33m(\u001b[0m\u001b[0mcodecs\u001b[0m\u001b[1;33m.\u001b[0m\u001b[0mIncrementalEncoder\u001b[0m\u001b[1;33m)\u001b[0m\u001b[1;33m:\u001b[0m\u001b[1;33m\u001b[0m\u001b[1;33m\u001b[0m\u001b[0m\n\u001b[0;32m     18\u001b[0m     \u001b[1;32mdef\u001b[0m \u001b[0mencode\u001b[0m\u001b[1;33m(\u001b[0m\u001b[0mself\u001b[0m\u001b[1;33m,\u001b[0m \u001b[0minput\u001b[0m\u001b[1;33m,\u001b[0m \u001b[0mfinal\u001b[0m\u001b[1;33m=\u001b[0m\u001b[1;32mFalse\u001b[0m\u001b[1;33m)\u001b[0m\u001b[1;33m:\u001b[0m\u001b[1;33m\u001b[0m\u001b[1;33m\u001b[0m\u001b[0m\n\u001b[1;32m---> 19\u001b[1;33m         \u001b[1;32mreturn\u001b[0m \u001b[0mcodecs\u001b[0m\u001b[1;33m.\u001b[0m\u001b[0mcharmap_encode\u001b[0m\u001b[1;33m(\u001b[0m\u001b[0minput\u001b[0m\u001b[1;33m,\u001b[0m\u001b[0mself\u001b[0m\u001b[1;33m.\u001b[0m\u001b[0merrors\u001b[0m\u001b[1;33m,\u001b[0m\u001b[0mencoding_table\u001b[0m\u001b[1;33m)\u001b[0m\u001b[1;33m[\u001b[0m\u001b[1;36m0\u001b[0m\u001b[1;33m]\u001b[0m\u001b[1;33m\u001b[0m\u001b[1;33m\u001b[0m\u001b[0m\n\u001b[0m\u001b[0;32m     20\u001b[0m \u001b[1;33m\u001b[0m\u001b[0m\n\u001b[0;32m     21\u001b[0m \u001b[1;32mclass\u001b[0m \u001b[0mIncrementalDecoder\u001b[0m\u001b[1;33m(\u001b[0m\u001b[0mcodecs\u001b[0m\u001b[1;33m.\u001b[0m\u001b[0mIncrementalDecoder\u001b[0m\u001b[1;33m)\u001b[0m\u001b[1;33m:\u001b[0m\u001b[1;33m\u001b[0m\u001b[1;33m\u001b[0m\u001b[0m\n",
      "\u001b[1;31mUnicodeEncodeError\u001b[0m: 'charmap' codec can't encode character '\\u015f' in position 16: character maps to <undefined>"
     ]
    }
   ],
   "source": [
    "f=open('DATA/data.txt',mode='w')\n",
    "f.write('Python proqramlaşdırma dili')"
   ]
  },
  {
   "cell_type": "markdown",
   "metadata": {},
   "source": [
    "<code>UnicodeEncodeError:</code> xətası aldıq.Azərbaycan dilində ifadələri yazdıra bilmədik.Əlifbamızda olan dilimizə mənsim bəzi hərflər utf-8 kodlama sisteminə aid olduğundan open() funksiyasının ala bildiyi encoding parametri, kodlama sistemindən istifadə edəcəyik.susmaya görə None arqumentini alır bu parametr."
   ]
  },
  {
   "cell_type": "code",
   "execution_count": 19,
   "metadata": {},
   "outputs": [],
   "source": [
    "f=open('DATA/data.txt',mode='w',encoding='utf-8')\n",
    "data = f.write('Python proqramlaşdırma dili')"
   ]
  },
  {
   "cell_type": "code",
   "execution_count": 20,
   "metadata": {},
   "outputs": [
    {
     "name": "stdout",
     "output_type": "stream",
     "text": [
      "27\n"
     ]
    }
   ],
   "source": [
    "print(data)"
   ]
  },
  {
   "cell_type": "code",
   "execution_count": 22,
   "metadata": {},
   "outputs": [
    {
     "name": "stdout",
     "output_type": "stream",
     "text": [
      "<class '_io.TextIOWrapper'>\n",
      "<class 'int'>\n"
     ]
    }
   ],
   "source": [
    "print(type(f))\n",
    "print(type(data))"
   ]
  },
  {
   "cell_type": "code",
   "execution_count": 23,
   "metadata": {},
   "outputs": [
    {
     "name": "stdout",
     "output_type": "stream",
     "text": [
      "25\n"
     ]
    }
   ],
   "source": [
    "data1 = f.write('Java proqramlaşdırma dili')\n",
    "print(data1)"
   ]
  },
  {
   "cell_type": "markdown",
   "metadata": {},
   "source": [
    "Məlumatlar əlavə etdik,amma yazdığımız məlumatlar faylda saxlanılmadı.Bunun üçün açdığımız faylı məlumat daxil etdikdən sonra mütləq bağlamalıyıq.close() metodundan istifadə edəcəyik.Məlumatları daxil etdikdən sonra ekranda 27 çap olundu.Bu bayt cinsindən məlumatdır.Yəni yazdığımız simvollar toplam 27 bayt tutur."
   ]
  },
  {
   "cell_type": "code",
   "execution_count": 25,
   "metadata": {},
   "outputs": [],
   "source": [
    "f=open('DATA/data.txt',mode='w',encoding='utf-8')\n",
    "f.write('Python proqramlaşdırma dili')\n",
    "f.write('Java proqramlaşdırma dili')\n",
    "f.close()"
   ]
  },
  {
   "cell_type": "markdown",
   "metadata": {},
   "source": [
    "Hər iki ifadə faylda bir sətir boyu yazıldı.Yeni sətrə keçid üçün <code>\\n</code> xüsusi işarəsindən istifadə edəcəyik"
   ]
  },
  {
   "cell_type": "code",
   "execution_count": 28,
   "metadata": {},
   "outputs": [],
   "source": [
    "f=open('DATA/data.txt',mode='w',encoding='utf-8')\n",
    "f.write('Python proqramlaşdırma dili')\n",
    "f.write('\\nJava proqramlaşdırma dili') #\\n ilə ifadəni növbəti sətirə ötürdük\n",
    "f.close() #faylı bağlamağı unutmuruq"
   ]
  },
  {
   "cell_type": "markdown",
   "metadata": {},
   "source": [
    "İki sətirdən ibarət ifadələri fayldan oxuyaq.Bunun üçün <code>fayl.read()</code> metodundan istifadə edəcəyik"
   ]
  },
  {
   "cell_type": "code",
   "execution_count": 38,
   "metadata": {},
   "outputs": [
    {
     "name": "stdout",
     "output_type": "stream",
     "text": [
      "Python proqramlaşdırma diliJava proqramlaşdırma dilili\n"
     ]
    }
   ],
   "source": [
    "data = open('DATA/data.txt',mode='r',encoding='utf8') # r modu ilə faylı oxuyuruq.\n",
    "print(data.read())\n",
    "# read() metodu ilə məlumatları oxuduq"
   ]
  },
  {
   "cell_type": "code",
   "execution_count": 39,
   "metadata": {},
   "outputs": [
    {
     "name": "stdout",
     "output_type": "stream",
     "text": [
      "\n"
     ]
    }
   ],
   "source": [
    "print(data.read())"
   ]
  },
  {
   "cell_type": "markdown",
   "metadata": {},
   "source": [
    "Amma təkrar oxumaq istədikdə ekrana heç bir məlumat çap olunmadı.Bunun səbəbi,metod fayl məlumatını sətir-sətir oxuyub son sətrin əvvəlində dayanır və təkrar çağırdıqda qaldığı son yerdən oxuduğu üçün bu vəziyyətlə qarşılaşırıq.Alternativ olaraq faylların seek metodundan istifadə edərək fayl sətirlərində gəzinə bilərik.seek metodu bayt ardıcıllığı ilə simvollara qayıdır."
   ]
  },
  {
   "cell_type": "code",
   "execution_count": 40,
   "metadata": {},
   "outputs": [],
   "source": [
    "f=open('DATA/data.txt',mode='w',encoding='utf-8')\n",
    "f.write('Python proqramlaşdırma dili\\nJava proqramlaşdırma dili\\nC++ proqramlaşdırma dili')#\\n ilə ifadəni növbəti sətirə ötürdük\n",
    "f.close() #faylı bağlamağı unutmuruq"
   ]
  },
  {
   "cell_type": "code",
   "execution_count": 41,
   "metadata": {},
   "outputs": [
    {
     "name": "stdout",
     "output_type": "stream",
     "text": [
      "Python proqramlaşdırma dili\n",
      "Java proqramlaşdırma dili\n",
      "C++ proqramlaşdırma dili\n"
     ]
    }
   ],
   "source": [
    "data = open('DATA/data.txt',mode='r',encoding='utf8') # r modu ilə faylı oxuyuruq.\n",
    "print(data.read())\n",
    "# read() metodu ilə məlumatları oxuduq"
   ]
  },
  {
   "cell_type": "code",
   "execution_count": 43,
   "metadata": {},
   "outputs": [
    {
     "name": "stdout",
     "output_type": "stream",
     "text": [
      "Python proqramlaşdırma dili\n",
      "Java proqramlaşdırma dili\n",
      "C++ proqramlaşdırma dili\n"
     ]
    }
   ],
   "source": [
    "data.seek(0) #ilk s'trə qayıdırıq\n",
    "print(data.read())"
   ]
  },
  {
   "cell_type": "code",
   "execution_count": 48,
   "metadata": {},
   "outputs": [
    {
     "name": "stdout",
     "output_type": "stream",
     "text": [
      " proqramlaşdırma dili\n",
      "Java proqramlaşdırma dili\n",
      "C++ proqramlaşdırma dili\n"
     ]
    }
   ],
   "source": [
    "data.seek(6) #bayt ardıcıllığı\n",
    "print(data.read())"
   ]
  },
  {
   "cell_type": "markdown",
   "metadata": {},
   "source": [
    "<code>fayl.tell() </code> metodu.metod ilə faylın tutduğu bayt həcmini öyrənə bilərik"
   ]
  },
  {
   "cell_type": "code",
   "execution_count": 49,
   "metadata": {},
   "outputs": [
    {
     "name": "stdout",
     "output_type": "stream",
     "text": [
      "86\n"
     ]
    }
   ],
   "source": [
    "print(data.tell())"
   ]
  },
  {
   "cell_type": "markdown",
   "metadata": {},
   "source": [
    "<p>Bayt (ing. byte) — əsas informasiya vahidi olub 8 bitə bərabər hesab olunur. Rəqəmli informasiyanın saxlanması və emal olunması vahididir. Klaviaturadan daxil edilən hər hansı bir simvol kompüterin yaddaşında 1 bayt yer tutur.\n",
    "\n",
    "Məsələn, \"Kompüterin yaddaşı\" sözləri kompüterin yaddaşında 18 bayt (18*8=144 bit) yer tutur (17 hərf + 1 boşluq).</p>"
   ]
  },
  {
   "cell_type": "code",
   "execution_count": 57,
   "metadata": {},
   "outputs": [
    {
     "name": "stdout",
     "output_type": "stream",
     "text": [
      "Python proqramlaşdırma dili\n",
      "Java proqramlaşdırma dili\n",
      "C++ proqramlaşdırma dili\n"
     ]
    }
   ],
   "source": [
    "def fayl(folder,file):\n",
    "    try:\n",
    "        data = open(folder+file,mode='r',encoding='utf8')\n",
    "        print(data.read())\n",
    "    except (FileNotFoundError):\n",
    "        print('Fayl tapılmadı(və ya qovluq ünvanı doğru deyil)')\n",
    "\n",
    "fayl('DATA/','data.txt')"
   ]
  },
  {
   "cell_type": "code",
   "execution_count": 59,
   "metadata": {},
   "outputs": [
    {
     "name": "stdout",
     "output_type": "stream",
     "text": [
      "Fayl tapılmadı(və ya qovluq ünvanı doğru deyil)\n"
     ]
    }
   ],
   "source": [
    "def fayl(folder,file):\n",
    "    try:\n",
    "        data = open(folder+file,mode='r',encoding='utf8')\n",
    "        print(data.read())\n",
    "    except (FileNotFoundError):\n",
    "        print('Fayl tapılmadı(və ya qovluq ünvanı doğru deyil)')\n",
    "\n",
    "fayl('C:/','data.txt')"
   ]
  },
  {
   "cell_type": "markdown",
   "metadata": {},
   "source": [
    "<code>readline() metodu</code>"
   ]
  },
  {
   "cell_type": "code",
   "execution_count": 63,
   "metadata": {},
   "outputs": [
    {
     "name": "stdout",
     "output_type": "stream",
     "text": [
      "Python proqramlaşdırma dili\n",
      "\n"
     ]
    }
   ],
   "source": [
    "data = open('DATA/data.txt',mode='r+',encoding='utf8')\n",
    "print(data.readline())\n",
    "        \n",
    "  "
   ]
  },
  {
   "cell_type": "code",
   "execution_count": 64,
   "metadata": {},
   "outputs": [
    {
     "name": "stdout",
     "output_type": "stream",
     "text": [
      "Java proqramlaşdırma dili\n",
      "\n"
     ]
    }
   ],
   "source": [
    "print(data.readline())"
   ]
  },
  {
   "cell_type": "code",
   "execution_count": 65,
   "metadata": {},
   "outputs": [
    {
     "name": "stdout",
     "output_type": "stream",
     "text": [
      "C++ proqramlaşdırma dili\n"
     ]
    }
   ],
   "source": [
    "print(data.readline())"
   ]
  },
  {
   "cell_type": "code",
   "execution_count": 66,
   "metadata": {},
   "outputs": [
    {
     "name": "stdout",
     "output_type": "stream",
     "text": [
      "\n"
     ]
    }
   ],
   "source": [
    "print(data.readline())"
   ]
  },
  {
   "cell_type": "markdown",
   "metadata": {},
   "source": [
    "Metod,ilk sətirdən başlayaraq elementləri oxuyur."
   ]
  },
  {
   "cell_type": "markdown",
   "metadata": {},
   "source": [
    "<code>readlines() metodu</code>"
   ]
  },
  {
   "cell_type": "markdown",
   "metadata": {},
   "source": [
    "Metod,fayl məlumatlarını bütövlükdə əldə edib siyahı formasında tərtib edir.Aşağıdakı kodlarda məlumatları fayldan oxuyub ekrana çap etdik.Daha sonra tipini sorğuya çəkdikdə isə bizə siyahı tipində olduğunu göstərdi"
   ]
  },
  {
   "cell_type": "code",
   "execution_count": 70,
   "metadata": {},
   "outputs": [
    {
     "name": "stdout",
     "output_type": "stream",
     "text": [
      "['Python proqramlaşdırma dili\\n', 'Java proqramlaşdırma dili\\n', 'C++ proqramlaşdırma dili']\n",
      "<class 'list'>\n"
     ]
    }
   ],
   "source": [
    "data = open('DATA/data.txt',mode='r+',encoding='utf8')\n",
    "print(data.readlines())\n",
    "print(type(data.readlines()))"
   ]
  },
  {
   "cell_type": "code",
   "execution_count": 76,
   "metadata": {},
   "outputs": [
    {
     "name": "stdout",
     "output_type": "stream",
     "text": [
      "Python proqramlaşdırma dili\n",
      "\n",
      "Java proqramlaşdırma dili\n",
      "\n",
      "C++ proqramlaşdırma dili\n"
     ]
    }
   ],
   "source": [
    "data = open('DATA/data.txt',mode='r+',encoding='utf8')\n",
    "for i in data.readlines():\n",
    "    print(i)\n",
    "    "
   ]
  },
  {
   "cell_type": "code",
   "execution_count": 77,
   "metadata": {},
   "outputs": [
    {
     "name": "stdout",
     "output_type": "stream",
     "text": [
      "1 Python proqramlaşdırma dili\n",
      "\n",
      "2 Java proqramlaşdırma dili\n",
      "\n",
      "3 C++ proqramlaşdırma dili\n"
     ]
    }
   ],
   "source": [
    "data = open('DATA/data.txt',mode='r+',encoding='utf8')\n",
    "sayğac = 0\n",
    "for i in data.readlines():\n",
    "    sayğac+=1\n",
    "    print(sayğac,i)"
   ]
  },
  {
   "cell_type": "markdown",
   "metadata": {},
   "source": [
    "<code>closed metodu</code>"
   ]
  },
  {
   "cell_type": "markdown",
   "metadata": {},
   "source": [
    "Metod vasitəsilə faylın açıq olub olmadığı test edilir."
   ]
  },
  {
   "cell_type": "code",
   "execution_count": 79,
   "metadata": {},
   "outputs": [
    {
     "data": {
      "text/plain": [
       "False"
      ]
     },
     "execution_count": 79,
     "metadata": {},
     "output_type": "execute_result"
    }
   ],
   "source": [
    "data = open('DATA/data.txt',mode='r+',encoding='utf8')\n",
    "data.closed"
   ]
  },
  {
   "cell_type": "code",
   "execution_count": 82,
   "metadata": {},
   "outputs": [
    {
     "data": {
      "text/plain": [
       "True"
      ]
     },
     "execution_count": 82,
     "metadata": {},
     "output_type": "execute_result"
    }
   ],
   "source": [
    "data1 = open('DATA/data1.txt',mode='w',encoding='utf8')\n",
    "data1.write('Arduino Netduino Raspberry Pi')\n",
    "data1.close()\n",
    "data1.closed"
   ]
  },
  {
   "cell_type": "markdown",
   "metadata": {},
   "source": [
    "<code>truncate() metodu </code> "
   ]
  },
  {
   "cell_type": "markdown",
   "metadata": {},
   "source": [
    "Metod vasitəsilə fayl daxilindəki ifadələri silə bilərik."
   ]
  },
  {
   "cell_type": "code",
   "execution_count": 86,
   "metadata": {},
   "outputs": [],
   "source": [
    "data1 = open('DATA/data1.txt',mode='r+',encoding='utf8')\n",
    "data1.truncate()\n",
    "data1.close()"
   ]
  },
  {
   "cell_type": "markdown",
   "metadata": {},
   "source": [
    "<code>mode metodu</code>"
   ]
  },
  {
   "cell_type": "markdown",
   "metadata": {},
   "source": [
    "Metod vasitəsilə fayl hansı modda olduğu bildirilir"
   ]
  },
  {
   "cell_type": "code",
   "execution_count": 88,
   "metadata": {},
   "outputs": [
    {
     "data": {
      "text/plain": [
       "'r+'"
      ]
     },
     "execution_count": 88,
     "metadata": {},
     "output_type": "execute_result"
    }
   ],
   "source": [
    "data1 = open('DATA/data1.txt',mode='r+',encoding='utf8')\n",
    "data1.mode"
   ]
  },
  {
   "cell_type": "markdown",
   "metadata": {},
   "source": [
    "<code>name metodu</code>"
   ]
  },
  {
   "cell_type": "code",
   "execution_count": 89,
   "metadata": {},
   "outputs": [
    {
     "data": {
      "text/plain": [
       "'DATA/data.txt'"
      ]
     },
     "execution_count": 89,
     "metadata": {},
     "output_type": "execute_result"
    }
   ],
   "source": [
    "data = open('DATA/data.txt',mode='r+',encoding='utf8')\n",
    "data.name"
   ]
  },
  {
   "cell_type": "markdown",
   "metadata": {},
   "source": [
    "<code>encoding metodu</code>"
   ]
  },
  {
   "cell_type": "code",
   "execution_count": 90,
   "metadata": {},
   "outputs": [
    {
     "data": {
      "text/plain": [
       "'utf8'"
      ]
     },
     "execution_count": 90,
     "metadata": {},
     "output_type": "execute_result"
    }
   ],
   "source": [
    "data = open('DATA/data.txt',mode='r+',encoding='utf8')\n",
    "data.encoding"
   ]
  },
  {
   "cell_type": "markdown",
   "metadata": {},
   "source": [
    "Biz fayllara məlumat əlavə etdikdən sonra həmin faylı close metodu ilə bağlamaq məcburiyyətindəydik.Bundan əlavə python dilində with deyimi varki biz bu ifadə ilə faylı açıb məlumat əlavə etsəkdə close metodundan istifadə etməyəcəyik.Bu deyim həmçinin baza sistemlərində də istifadə olunur.sqlite,pymongo və s"
   ]
  },
  {
   "cell_type": "code",
   "execution_count": 120,
   "metadata": {},
   "outputs": [
    {
     "name": "stdout",
     "output_type": "stream",
     "text": [
      "File created\n"
     ]
    }
   ],
   "source": [
    "with open('DATA/new.txt','w',encoding='utf8') as f:\n",
    "    f.write('Maşın Öyrənmə Dərin Öyrənmə')\n",
    "    print('File created')"
   ]
  },
  {
   "cell_type": "code",
   "execution_count": 121,
   "metadata": {},
   "outputs": [
    {
     "name": "stdout",
     "output_type": "stream",
     "text": [
      "Maşın Öyrənmə Dərin Öyrənmə\n"
     ]
    }
   ],
   "source": [
    "with open('DATA/new.txt','r',encoding='utf8') as f:\n",
    "    print(f.read())"
   ]
  },
  {
   "cell_type": "code",
   "execution_count": 123,
   "metadata": {},
   "outputs": [
    {
     "name": "stdout",
     "output_type": "stream",
     "text": [
      "Python proqramlaşdırma dili\n",
      "Java proqramlaşdırma dili\n",
      "C++ proqramlaşdırma dili\n"
     ]
    }
   ],
   "source": [
    "def Fayl(folder,file):\n",
    "    try:\n",
    "        with open(folder+file) as f:\n",
    "            print(f.readlines())\n",
    "    except (FileNotFoundError):\n",
    "        print('Fayl tapılmadı(və ya qovluq ünvanı doğru deyil)')\n",
    "\n",
    "fayl('DATA/','data.txt')\n",
    "        "
   ]
  },
  {
   "cell_type": "code",
   "execution_count": null,
   "metadata": {},
   "outputs": [],
   "source": []
  }
 ],
 "metadata": {
  "kernelspec": {
   "display_name": "Python 3",
   "language": "python",
   "name": "python3"
  },
  "language_info": {
   "codemirror_mode": {
    "name": "ipython",
    "version": 3
   },
   "file_extension": ".py",
   "mimetype": "text/x-python",
   "name": "python",
   "nbconvert_exporter": "python",
   "pygments_lexer": "ipython3",
   "version": "3.6.10"
  }
 },
 "nbformat": 4,
 "nbformat_minor": 2
}
