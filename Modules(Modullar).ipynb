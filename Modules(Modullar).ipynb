{
 "cells": [
  {
   "cell_type": "markdown",
   "metadata": {},
   "source": [
    "# Modules (Modullar)"
   ]
  },
  {
   "cell_type": "markdown",
   "metadata": {},
   "source": [
    "Modullar Python proqramlaşdırma dilində sinifləri,funksiyaları və verilənləri ayrı-ayrı fayllarda yerləşdirməyə imkan verir.Biz,python interaktiv moddan çıxdıqda,yazdığımız funksiyalar-ifadələr öz funksionallığını itirir.Modullardan istifadə etməklə iri həcmli proqramları hissələrə bölməklə istifadə etmək mümkündür."
   ]
  },
  {
   "cell_type": "markdown",
   "metadata": {},
   "source": [
    "Modulları hazırlamaq üçün python faylları hazırlamağımız şərtdir.Modullar təkrar kod yazmaq,kodları kopalamaq və s kimi zəhmətlərdən bizim yardımçımız olur.Asta-asta giriş etdikcə modulların necə faydalı olduğunun şahidi olacaqsınız.Və siz modullara dəfələrlə rast gələcəksiniz.Məsələn,siz triqonometriya,loqarifma diskriminant kimi məsələləri öyrənmək üçün riyaziyyat kitabına ehtiyacınız olacaq.Burda kitab bir modul daxilindəki ayrı ayrı dərslər isə funksiya və sinifləridir."
   ]
  },
  {
   "cell_type": "markdown",
   "metadata": {},
   "source": [
    "İstifadəçi tərəfndən hazırlanan modullardan savayı Python dilinin standart kitabxanasına aid olan modullar da vardır.os,sys,math və s.(Ətraflı növbəti dərslərdə hər birini öyrənəcəyik)"
   ]
  },
  {
   "cell_type": "markdown",
   "metadata": {},
   "source": [
    "## *Modullar python faylı olub,sonluğu py və ya pyw ilə bitir. (modul.py)"
   ]
  },
  {
   "cell_type": "markdown",
   "metadata": {},
   "source": [
    "Yazdığınız modul faylın adını qeyd edərkən mütləq diqqətli olun,adı dil daxilində standart modullarla və ya yüklədiyiniz modulun adı ilə eyni olarsa modullarınız fəaliyyətsiz olacaq"
   ]
  },
  {
   "cell_type": "markdown",
   "metadata": {},
   "source": [
    "### *Modulu çağırmaq üçün import ifadəsindən istifadə edirik"
   ]
  },
  {
   "cell_type": "markdown",
   "metadata": {},
   "source": [
    "#### import modul_adı"
   ]
  },
  {
   "cell_type": "markdown",
   "metadata": {},
   "source": [
    "#### modul_adı.atribut"
   ]
  },
  {
   "cell_type": "markdown",
   "metadata": {},
   "source": [
    "Modul_adı çağırılan python faylı və ya modul adı,atribut isə modul daxilində yazılmış funksiya,siniflər və ya digər komponentlərdir"
   ]
  },
  {
   "cell_type": "markdown",
   "metadata": {},
   "source": [
    "İlk öncə Python dili standart kitabxanalarına aid olan modullara nəzər yetirək"
   ]
  },
  {
   "cell_type": "code",
   "execution_count": 5,
   "metadata": {},
   "outputs": [],
   "source": [
    "import sys  #sys modulunu proqrama daxil edirik(import edirik)"
   ]
  },
  {
   "cell_type": "code",
   "execution_count": 6,
   "metadata": {},
   "outputs": [
    {
     "data": {
      "text/plain": [
       "['',\n",
       " '/media/rashad/TOSHIBA EXT/Tain/Python3-AZ',\n",
       " '/usr/lib/python37.zip',\n",
       " '/usr/lib/python3.7',\n",
       " '/usr/lib/python3.7/lib-dynload',\n",
       " '/home/rashad/.local/lib/python3.7/site-packages',\n",
       " '/usr/local/lib/python3.7/dist-packages',\n",
       " '/usr/lib/python3/dist-packages',\n",
       " '/usr/lib/python3/dist-packages/IPython/extensions',\n",
       " '/home/rashad/.ipython']"
      ]
     },
     "execution_count": 6,
     "metadata": {},
     "output_type": "execute_result"
    }
   ],
   "source": [
    "sys.path"
   ]
  },
  {
   "cell_type": "markdown",
   "metadata": {},
   "source": [
    "## Proqrama modullar daxil olunanda,interpretator onları aşağıdakı ardıcıllıqla axtarır.\n",
    "\n",
    "### 1.Cari kataloq\n",
    "### 2.PYTHONPATH mühitində olan kataloqlar\n",
    "### 3.Platformadan asılı təyin edilən kataloqlar"
   ]
  },
  {
   "cell_type": "markdown",
   "metadata": {},
   "source": [
    "Kataloqların yeri əməliyyat sistemindən asılı olaraq fərqli ola bilər.Mən hal-hazırda Ubuntu 19.10 Linux distribyutoru istifadə etdiyimdən yuxarıdakı qaydada,pythonpath kataloqu sıralandı"
   ]
  },
  {
   "cell_type": "markdown",
   "metadata": {},
   "source": [
    "Modulda tərtib olunan atributları əldə etmək üçün isə dir() - ifadəsindən istifadə olunur."
   ]
  },
  {
   "cell_type": "code",
   "execution_count": 7,
   "metadata": {},
   "outputs": [
    {
     "data": {
      "text/plain": [
       "['__breakpointhook__',\n",
       " '__displayhook__',\n",
       " '__doc__',\n",
       " '__excepthook__',\n",
       " '__interactivehook__',\n",
       " '__loader__',\n",
       " '__name__',\n",
       " '__package__',\n",
       " '__spec__',\n",
       " '__stderr__',\n",
       " '__stdin__',\n",
       " '__stdout__',\n",
       " '_clear_type_cache',\n",
       " '_current_frames',\n",
       " '_debugmallocstats',\n",
       " '_framework',\n",
       " '_getframe',\n",
       " '_git',\n",
       " '_home',\n",
       " '_xoptions',\n",
       " 'abiflags',\n",
       " 'api_version',\n",
       " 'argv',\n",
       " 'base_exec_prefix',\n",
       " 'base_prefix',\n",
       " 'breakpointhook',\n",
       " 'builtin_module_names',\n",
       " 'byteorder',\n",
       " 'call_tracing',\n",
       " 'callstats',\n",
       " 'copyright',\n",
       " 'displayhook',\n",
       " 'dont_write_bytecode',\n",
       " 'exc_info',\n",
       " 'excepthook',\n",
       " 'exec_prefix',\n",
       " 'executable',\n",
       " 'exit',\n",
       " 'flags',\n",
       " 'float_info',\n",
       " 'float_repr_style',\n",
       " 'get_asyncgen_hooks',\n",
       " 'get_coroutine_origin_tracking_depth',\n",
       " 'get_coroutine_wrapper',\n",
       " 'getallocatedblocks',\n",
       " 'getcheckinterval',\n",
       " 'getdefaultencoding',\n",
       " 'getdlopenflags',\n",
       " 'getfilesystemencodeerrors',\n",
       " 'getfilesystemencoding',\n",
       " 'getprofile',\n",
       " 'getrecursionlimit',\n",
       " 'getrefcount',\n",
       " 'getsizeof',\n",
       " 'getswitchinterval',\n",
       " 'gettrace',\n",
       " 'hash_info',\n",
       " 'hexversion',\n",
       " 'implementation',\n",
       " 'int_info',\n",
       " 'intern',\n",
       " 'is_finalizing',\n",
       " 'last_traceback',\n",
       " 'last_type',\n",
       " 'last_value',\n",
       " 'maxsize',\n",
       " 'maxunicode',\n",
       " 'meta_path',\n",
       " 'modules',\n",
       " 'path',\n",
       " 'path_hooks',\n",
       " 'path_importer_cache',\n",
       " 'platform',\n",
       " 'prefix',\n",
       " 'ps1',\n",
       " 'ps2',\n",
       " 'ps3',\n",
       " 'set_asyncgen_hooks',\n",
       " 'set_coroutine_origin_tracking_depth',\n",
       " 'set_coroutine_wrapper',\n",
       " 'setcheckinterval',\n",
       " 'setdlopenflags',\n",
       " 'setprofile',\n",
       " 'setrecursionlimit',\n",
       " 'setswitchinterval',\n",
       " 'settrace',\n",
       " 'stderr',\n",
       " 'stdin',\n",
       " 'stdout',\n",
       " 'thread_info',\n",
       " 'version',\n",
       " 'version_info',\n",
       " 'warnoptions']"
      ]
     },
     "execution_count": 7,
     "metadata": {},
     "output_type": "execute_result"
    }
   ],
   "source": [
    "import sys\n",
    "dir(sys)"
   ]
  },
  {
   "cell_type": "code",
   "execution_count": null,
   "metadata": {},
   "outputs": [],
   "source": []
  }
 ],
 "metadata": {
  "kernelspec": {
   "display_name": "Python 3",
   "language": "python",
   "name": "python3"
  },
  "language_info": {
   "codemirror_mode": {
    "name": "ipython",
    "version": 3
   },
   "file_extension": ".py",
   "mimetype": "text/x-python",
   "name": "python",
   "nbconvert_exporter": "python",
   "pygments_lexer": "ipython3",
   "version": "3.7.5"
  }
 },
 "nbformat": 4,
 "nbformat_minor": 2
}
