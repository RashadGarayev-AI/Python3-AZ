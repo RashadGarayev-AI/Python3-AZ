{
 "cells": [
  {
   "cell_type": "markdown",
   "metadata": {},
   "source": [
    "## Python Object Oriented Programming(Obyekt Yönümlü Proqramlaşdırma)"
   ]
  },
  {
   "cell_type": "markdown",
   "metadata": {},
   "source": [
    "əvvəlki keçdiyimiz mövzulardan fərqli olaraq bu bəhsdə yeni mövzumuz obyektyönümlü proqramlaşdırmaya giriş edirik.Biz funksiyalar modullar bəhsini öyrənmişdik.Bilirikki ən önəmli konsepsiyalardan biri də funksiyalar idi.Və funksiyalar pythonda birinci sinif vətəndaş olaraq adlandırılırdı.Hər nümunələrdə nəqədər işimizi asanlaşdırdığının şahidi olurduq.Bəs OOP nədir!OOP əsasən yazdığımız funksiyaları toplu şəkildə bir obyektə sığdıraraq,obyektin daxilində saxlamasını,kənar müdaxilələrdən qorumasını inkapsulyasiya (encapsulation) edən varlıqlardır.Və qeyd edimki burda obyekt ifadəsi,dil daxilində ifadə etdiyimiz var olan maddə(vəya maddələr) anlayışını daşıyır.Misal olaraq funksiyada avtomobilin xüsusiyyətlərini tərtib edirik,bizim qeyd etdiyimiz avtomobil obyekt sayılır,xüsusiyyətləri isə həmin obyekti ifadə edən əlamətlərdir.(markası,avtomobilin gücü,rəngi,mühərrikin tipi kimi predmetlər avtomobili var edən xüsusiyyətlərdir)"
   ]
  },
  {
   "cell_type": "markdown",
   "metadata": {},
   "source": [
    "Obyekt yönümlü proqramlaşdırmanın əsasını iki aspekt təşkil edirki 1-ci sinif(class) 2-ci isə obyekt(object) dir.Obyekt əsas varlığı ifadə edir.Və obyektlər üçün hazırladığımız funksiyalara sahib ola bilərki,bu funksiyalar obyektin metodları adlanır.verilənlərin tiplərində istifadə etdiyimiz metodlar(siyahılarda append metodu) buna misal ola bilər."
   ]
  },
  {
   "cell_type": "markdown",
   "metadata": {},
   "source": [
    "Python dilində siniflərin hazırlanması,class açar sözü ilə başlayır,funksiyalarda def ifadəsindən istifadə etdiyimiz kimi,siniflərdə də class ifadəsindən istifadə edəcəyik"
   ]
  },
  {
   "cell_type": "code",
   "execution_count": 2,
   "metadata": {},
   "outputs": [
    {
     "name": "stdout",
     "output_type": "stream",
     "text": [
      "\n",
      "\n",
      "    class NameClass:\n",
      "        <statement-1>\n",
      "        .\n",
      "        .\n",
      "        .\n",
      "        <statement-N>\n",
      "\n"
     ]
    }
   ],
   "source": [
    "print(\"\"\"\n",
    "\n",
    "    class NameClass:\n",
    "        <statement-1>\n",
    "        .\n",
    "        .\n",
    "        .\n",
    "        <statement-N>\n",
    "\"\"\")"
   ]
  },
  {
   "cell_type": "markdown",
   "metadata": {},
   "source": [
    "ümumi halda yuxarıdakı formada ifadə edilir.Asta-asta məsələnin tam məğzini anlamağa çalışaq"
   ]
  },
  {
   "cell_type": "code",
   "execution_count": 3,
   "metadata": {},
   "outputs": [
    {
     "name": "stdout",
     "output_type": "stream",
     "text": [
      "\n",
      "     class NameClass:\n",
      "         .............\n",
      "     \n",
      "     və ya \n",
      "     \n",
      "     class NameClass(): \n",
      "         ..............\n",
      "         \n",
      "    kimi yaza bilərik\n",
      "    \n",
      "\n"
     ]
    }
   ],
   "source": [
    "print(\"\"\"\n",
    "     class NameClass:\n",
    "         .............\n",
    "     \n",
    "     və ya \n",
    "     \n",
    "     class NameClass(): \n",
    "         ..............\n",
    "         \n",
    "    kimi yaza bilərik\n",
    "    \n",
    "\"\"\")"
   ]
  },
  {
   "cell_type": "markdown",
   "metadata": {},
   "source": [
    "ilk sinfi hazırlayaq"
   ]
  },
  {
   "cell_type": "code",
   "execution_count": 4,
   "metadata": {},
   "outputs": [],
   "source": [
    "class Vehicle():\n",
    "    \"\"\"docstring\"\"\"\n",
    "    "
   ]
  },
  {
   "cell_type": "markdown",
   "metadata": {},
   "source": [
    "Yuxarıdakı nümunədə Vehicle adlı sinif hazırladıq"
   ]
  },
  {
   "cell_type": "markdown",
   "metadata": {},
   "source": [
    "Funksiyalarda olduğu kimi digər obyektə mənimsədə bilərik"
   ]
  },
  {
   "cell_type": "code",
   "execution_count": 5,
   "metadata": {},
   "outputs": [],
   "source": [
    "avtomobil = Vehicle()"
   ]
  },
  {
   "cell_type": "code",
   "execution_count": 6,
   "metadata": {},
   "outputs": [
    {
     "name": "stdout",
     "output_type": "stream",
     "text": [
      "<__main__.Vehicle object at 0x000001DA4C17E978>\n"
     ]
    }
   ],
   "source": [
    "print(avtomobil)"
   ]
  },
  {
   "cell_type": "markdown",
   "metadata": {},
   "source": [
    "və sinfi avtomobil ifadəsinə mənimsətdik,ardından print() funksiyası ilə çap etdik.və __main__ əsas obyekt olması ilə yanaşı sinfin ünvanını da bizə göstərdi"
   ]
  },
  {
   "cell_type": "code",
   "execution_count": 7,
   "metadata": {},
   "outputs": [],
   "source": [
    "class Vehicle():\n",
    "    \"\"\"docstring\"\"\"\n",
    "    _car = 'Bentley'\n",
    "    _enginetype = 'Burmayster(B&W)'\n",
    "    _color = 'Black'\n",
    "    _cylinder = '3.5lt'\n",
    "    "
   ]
  },
  {
   "cell_type": "markdown",
   "metadata": {},
   "source": [
    "avtomobilin markası, rəngi, silindirin həcmi və mühərrikin tipi kimi məlumatları əlavə etdik"
   ]
  },
  {
   "cell_type": "code",
   "execution_count": 8,
   "metadata": {},
   "outputs": [],
   "source": [
    "avtomobil = Vehicle()"
   ]
  },
  {
   "cell_type": "code",
   "execution_count": 9,
   "metadata": {},
   "outputs": [
    {
     "name": "stdout",
     "output_type": "stream",
     "text": [
      "<__main__.Vehicle object at 0x000001DA4C1FB0F0>\n"
     ]
    }
   ],
   "source": [
    "print(avtomobil)"
   ]
  },
  {
   "cell_type": "markdown",
   "metadata": {},
   "source": [
    "Bəs sinif daxilində qeyd etdiyimiz ifadələri necə əldə edə bilərik!"
   ]
  },
  {
   "cell_type": "code",
   "execution_count": 10,
   "metadata": {},
   "outputs": [
    {
     "data": {
      "text/plain": [
       "'Bentley'"
      ]
     },
     "execution_count": 10,
     "metadata": {},
     "output_type": "execute_result"
    }
   ],
   "source": [
    "avtomobil._car"
   ]
  },
  {
   "cell_type": "code",
   "execution_count": 11,
   "metadata": {},
   "outputs": [
    {
     "data": {
      "text/plain": [
       "'Black'"
      ]
     },
     "execution_count": 11,
     "metadata": {},
     "output_type": "execute_result"
    }
   ],
   "source": [
    "avtomobil._color"
   ]
  },
  {
   "cell_type": "code",
   "execution_count": 12,
   "metadata": {},
   "outputs": [
    {
     "data": {
      "text/plain": [
       "'Burmayster(B&W)'"
      ]
     },
     "execution_count": 12,
     "metadata": {},
     "output_type": "execute_result"
    }
   ],
   "source": [
    "avtomobil._enginetype"
   ]
  },
  {
   "cell_type": "markdown",
   "metadata": {},
   "source": [
    "Hazırladığımız obyekt daxilindəki dəyişənlərə kənardan müdaxilələr də edə bilərik"
   ]
  },
  {
   "cell_type": "code",
   "execution_count": 13,
   "metadata": {},
   "outputs": [],
   "source": [
    "avtomobil._color='Red'"
   ]
  },
  {
   "cell_type": "code",
   "execution_count": 14,
   "metadata": {},
   "outputs": [
    {
     "name": "stdout",
     "output_type": "stream",
     "text": [
      "Red\n"
     ]
    }
   ],
   "source": [
    "print(avtomobil._color)"
   ]
  },
  {
   "cell_type": "code",
   "execution_count": 15,
   "metadata": {},
   "outputs": [],
   "source": [
    "avtomobil._enginetype='MAN'"
   ]
  },
  {
   "cell_type": "code",
   "execution_count": 16,
   "metadata": {},
   "outputs": [
    {
     "name": "stdout",
     "output_type": "stream",
     "text": [
      "MAN\n"
     ]
    }
   ],
   "source": [
    "print(avtomobil._enginetype)"
   ]
  },
  {
   "cell_type": "markdown",
   "metadata": {},
   "source": [
    "Yuxarıda öncədən rəng avtomobil markası kimi dəyişənləri qeyd etdik və sonrada dəyişə bilirik,amma biz funksiyalarda olduğu kimi obyektə birbaşa arqumentlərimizi necə əlavə edə biləcəyik!"
   ]
  },
  {
   "cell_type": "code",
   "execution_count": 17,
   "metadata": {},
   "outputs": [],
   "source": [
    "def funk(a,b):\n",
    "    return ('Cavab:',a+b)"
   ]
  },
  {
   "cell_type": "code",
   "execution_count": 18,
   "metadata": {},
   "outputs": [],
   "source": [
    "result = funk(3,4)"
   ]
  },
  {
   "cell_type": "code",
   "execution_count": 19,
   "metadata": {},
   "outputs": [
    {
     "name": "stdout",
     "output_type": "stream",
     "text": [
      "('Cavab:', 7)\n"
     ]
    }
   ],
   "source": [
    "print(result)"
   ]
  },
  {
   "cell_type": "code",
   "execution_count": 20,
   "metadata": {},
   "outputs": [],
   "source": [
    "class Vehicle():\n",
    "    \"\"\"docstring\"\"\"\n",
    "    _car = 'Bentley'\n",
    "    _enginetype = 'Burmayster(B&W)'\n",
    "    _color = 'Black'\n",
    "    _cylinder = '3.5lt'"
   ]
  },
  {
   "cell_type": "code",
   "execution_count": 21,
   "metadata": {},
   "outputs": [],
   "source": [
    "avtomobil = Vehicle()"
   ]
  },
  {
   "cell_type": "code",
   "execution_count": 22,
   "metadata": {},
   "outputs": [
    {
     "ename": "TypeError",
     "evalue": "'Vehicle' object is not callable",
     "output_type": "error",
     "traceback": [
      "\u001b[1;31m---------------------------------------------------------------------------\u001b[0m",
      "\u001b[1;31mTypeError\u001b[0m                                 Traceback (most recent call last)",
      "\u001b[1;32m<ipython-input-22-b3956bdfade2>\u001b[0m in \u001b[0;36m<module>\u001b[1;34m()\u001b[0m\n\u001b[1;32m----> 1\u001b[1;33m \u001b[0mavtomobil\u001b[0m\u001b[1;33m(\u001b[0m\u001b[1;34m'Mercedes'\u001b[0m\u001b[1;33m,\u001b[0m\u001b[1;34m'Catarpillar'\u001b[0m\u001b[1;33m,\u001b[0m\u001b[1;34m'Green'\u001b[0m\u001b[1;33m,\u001b[0m\u001b[1;36m3.5\u001b[0m\u001b[1;33m)\u001b[0m\u001b[1;33m\u001b[0m\u001b[1;33m\u001b[0m\u001b[0m\n\u001b[0m",
      "\u001b[1;31mTypeError\u001b[0m: 'Vehicle' object is not callable"
     ]
    }
   ],
   "source": [
    "avtomobil('Mercedes','Catarpillar','Green',3.5)"
   ]
  },
  {
   "cell_type": "markdown",
   "metadata": {},
   "source": [
    "Və xəta aldıq"
   ]
  },
  {
   "cell_type": "code",
   "execution_count": 23,
   "metadata": {},
   "outputs": [
    {
     "data": {
      "text/plain": [
       "['__class__',\n",
       " '__delattr__',\n",
       " '__dict__',\n",
       " '__dir__',\n",
       " '__doc__',\n",
       " '__eq__',\n",
       " '__format__',\n",
       " '__ge__',\n",
       " '__getattribute__',\n",
       " '__gt__',\n",
       " '__hash__',\n",
       " '__init__',\n",
       " '__init_subclass__',\n",
       " '__le__',\n",
       " '__lt__',\n",
       " '__module__',\n",
       " '__ne__',\n",
       " '__new__',\n",
       " '__reduce__',\n",
       " '__reduce_ex__',\n",
       " '__repr__',\n",
       " '__setattr__',\n",
       " '__sizeof__',\n",
       " '__str__',\n",
       " '__subclasshook__',\n",
       " '__weakref__',\n",
       " '_car',\n",
       " '_color',\n",
       " '_cylinder',\n",
       " '_enginetype']"
      ]
     },
     "execution_count": 23,
     "metadata": {},
     "output_type": "execute_result"
    }
   ],
   "source": [
    "#dir funksiyası ilə avtomobil sinfinin hansı metodlardan ibarət olduğunu öyrənək\n",
    "dir(avtomobil)"
   ]
  },
  {
   "cell_type": "markdown",
   "metadata": {},
   "source": [
    "Sondan 4-lükdə bizim qeyd etdiyimiz dəyişənlər yer alır.Yuxarıda qeyd olunanlar isə siniflərin təməl metodlarıdır.Biz həm təməl metodları həm də obyekt üçün digər metodlar hazırlayacağıq.Və problemə köklənib ilk tərtibatçı metodumuza müraciət edək"
   ]
  },
  {
   "cell_type": "markdown",
   "metadata": {},
   "source": [
    " <p><code> __init__ metodu</code></p>"
   ]
  },
  {
   "cell_type": "markdown",
   "metadata": {},
   "source": [
    "metod siniflər üçün tərtibatçı metod olub,obyekt qeyd olunduqdan sonra öz funksionallığını təmin etməyə başlayır.Bu metod həmçinin konstruktor olaraq da adlandırılır.Biz bu metodu qeyd etməsək belə,python bunu avtomatik tərtib edir.konstruktor sinfin inşaedicisidir."
   ]
  },
  {
   "cell_type": "code",
   "execution_count": 24,
   "metadata": {},
   "outputs": [],
   "source": [
    "class Vehicle():\n",
    "\n",
    "    \"\"\"\n",
    "    _car = 'Bentley'\n",
    "    _enginetype = 'Burmayster(B&W)'\n",
    "    _color = 'Black'\n",
    "    _cylinder = '3.5lt'\n",
    "    \"\"\"\n",
    "    # __init__ metodunu istifadə etmək məcburiyyətindəyik\n",
    "    def __init__(self,car,engine,color,cylinder):\n",
    "        self.car = car\n",
    "        self.engine = engine\n",
    "        self.color = color\n",
    "        self.cylinder = cylinder\n",
    "        "
   ]
  },
  {
   "cell_type": "markdown",
   "metadata": {},
   "source": [
    "<p> və sinfi tərtib edib <code>\" __init__ \"</code> metodundan istifadə etdik.init metodu daxilində self ifadəsi həmin obyektin parametrlərinin global dəyərlər olduğuna dair işarədir.Yəni həmin parametrləri kənardan əldə etmək imkanımız var.</p>"
   ]
  },
  {
   "cell_type": "markdown",
   "metadata": {},
   "source": [
    "və ardından sinfimizi obyektə mənimsədib çağıraq"
   ]
  },
  {
   "cell_type": "code",
   "execution_count": 25,
   "metadata": {},
   "outputs": [
    {
     "ename": "TypeError",
     "evalue": "__init__() missing 4 required positional arguments: 'car', 'engine', 'color', and 'cylinder'",
     "output_type": "error",
     "traceback": [
      "\u001b[1;31m---------------------------------------------------------------------------\u001b[0m",
      "\u001b[1;31mTypeError\u001b[0m                                 Traceback (most recent call last)",
      "\u001b[1;32m<ipython-input-25-d6aea6fdc9f4>\u001b[0m in \u001b[0;36m<module>\u001b[1;34m()\u001b[0m\n\u001b[1;32m----> 1\u001b[1;33m \u001b[0mavtomobil\u001b[0m \u001b[1;33m=\u001b[0m \u001b[0mVehicle\u001b[0m\u001b[1;33m(\u001b[0m\u001b[1;33m)\u001b[0m\u001b[1;33m\u001b[0m\u001b[1;33m\u001b[0m\u001b[0m\n\u001b[0m",
      "\u001b[1;31mTypeError\u001b[0m: __init__() missing 4 required positional arguments: 'car', 'engine', 'color', and 'cylinder'"
     ]
    }
   ],
   "source": [
    "avtomobil = Vehicle()"
   ]
  },
  {
   "cell_type": "markdown",
   "metadata": {},
   "source": [
    "xəta aldıq.Çünki 4 ədəd arqument aldığı halda biz heç birini əlavə etmədik.yuxarıdakı xəta, aşağıdakı xəta ilə eyni mənanı kəsb edir"
   ]
  },
  {
   "cell_type": "code",
   "execution_count": 553,
   "metadata": {},
   "outputs": [],
   "source": [
    "def func(a,b):\n",
    "    return a**b\n"
   ]
  },
  {
   "cell_type": "code",
   "execution_count": 554,
   "metadata": {},
   "outputs": [
    {
     "ename": "TypeError",
     "evalue": "func() missing 2 required positional arguments: 'a' and 'b'",
     "output_type": "error",
     "traceback": [
      "\u001b[1;31m---------------------------------------------------------------------------\u001b[0m",
      "\u001b[1;31mTypeError\u001b[0m                                 Traceback (most recent call last)",
      "\u001b[1;32m<ipython-input-554-bd1982955a12>\u001b[0m in \u001b[0;36m<module>\u001b[1;34m()\u001b[0m\n\u001b[1;32m----> 1\u001b[1;33m \u001b[0mfunc\u001b[0m\u001b[1;33m(\u001b[0m\u001b[1;33m)\u001b[0m\u001b[1;33m\u001b[0m\u001b[1;33m\u001b[0m\u001b[0m\n\u001b[0m",
      "\u001b[1;31mTypeError\u001b[0m: func() missing 2 required positional arguments: 'a' and 'b'"
     ]
    }
   ],
   "source": [
    "func()"
   ]
  },
  {
   "cell_type": "code",
   "execution_count": 555,
   "metadata": {},
   "outputs": [],
   "source": [
    "avtomobil = Vehicle('MAN','Catarpillar','Black',3.5)"
   ]
  },
  {
   "cell_type": "code",
   "execution_count": 556,
   "metadata": {},
   "outputs": [
    {
     "name": "stdout",
     "output_type": "stream",
     "text": [
      "MAN\n"
     ]
    }
   ],
   "source": [
    "print(avtomobil.car)"
   ]
  },
  {
   "cell_type": "code",
   "execution_count": 557,
   "metadata": {},
   "outputs": [
    {
     "name": "stdout",
     "output_type": "stream",
     "text": [
      "Catarpillar\n"
     ]
    }
   ],
   "source": [
    "print(avtomobil.engine)"
   ]
  },
  {
   "cell_type": "markdown",
   "metadata": {},
   "source": [
    "<p>Əgər diqqət etdinizsə ilk başda hazırladığımız sinif,əlavə etdiyimiz rəng tipi marka və sairə,avtomobil ifadəsinə mənimsətdikdən sonra print(avtomobil._car) avtomobildən sonra noqtə qoyub tab düyməsini basdıqda(python shell ə xas xüsusiyyətdir) heç bir metod qarşımıza çıxmırdı.Amma indi avtomobil ifadəsindən sonra nöqtə qoyduqda color,engine və sairə kimi ifadələr qarşımıza çıxdı.Biz var olan  <code> __init__ </code>metodunu , Vehicle sinfinə tətbiq etdik.</p>"
   ]
  },
  {
   "cell_type": "code",
   "execution_count": 558,
   "metadata": {},
   "outputs": [],
   "source": [
    "avtomobil = Vehicle('Mercedes','MAK','Black',5.5)"
   ]
  },
  {
   "cell_type": "code",
   "execution_count": 559,
   "metadata": {},
   "outputs": [
    {
     "name": "stdout",
     "output_type": "stream",
     "text": [
      "5.5\n"
     ]
    }
   ],
   "source": [
    "print(avtomobil.cylinder)"
   ]
  },
  {
   "cell_type": "code",
   "execution_count": 560,
   "metadata": {},
   "outputs": [
    {
     "name": "stdout",
     "output_type": "stream",
     "text": [
      "MAK\n"
     ]
    }
   ],
   "source": [
    "print(avtomobil.engine)"
   ]
  },
  {
   "cell_type": "markdown",
   "metadata": {},
   "source": [
    "Yuxarıdakı sinfimizə dəyişiklik edib marka silindir rəng tiplərini dəyişdirə bildik.Biz dəyişikliyimizi metod hazırlayaraq edə bilərikmi!Bəli,ən faydalı üsullardan biridir."
   ]
  },
  {
   "cell_type": "markdown",
   "metadata": {},
   "source": [
    "Yeni bir sinif hazırlayaq"
   ]
  },
  {
   "cell_type": "code",
   "execution_count": 561,
   "metadata": {},
   "outputs": [],
   "source": [
    "class Person():\n",
    "    \"\"\"docstring\"\"\"\n",
    "    def __init__(self,ad,soyad,poçt,telno):\n",
    "        self.name = ad\n",
    "        self.surname = soyad\n",
    "        self.email = poçt\n",
    "        self.mobile = telno\n",
    "        \n",
    "    def _Set(self,name,surname,email,mobile):\n",
    "        self.name=name\n",
    "        self.surname = surname\n",
    "        self.email = email\n",
    "        self.mobile = mobile"
   ]
  },
  {
   "cell_type": "code",
   "execution_count": 562,
   "metadata": {},
   "outputs": [],
   "source": [
    "person = Person('Nicat','Məmmədov','example@gmail.com','+99455100')"
   ]
  },
  {
   "cell_type": "code",
   "execution_count": 563,
   "metadata": {},
   "outputs": [
    {
     "name": "stdout",
     "output_type": "stream",
     "text": [
      "Nicat\n"
     ]
    }
   ],
   "source": [
    "print(person.name)"
   ]
  },
  {
   "cell_type": "code",
   "execution_count": 564,
   "metadata": {},
   "outputs": [
    {
     "name": "stdout",
     "output_type": "stream",
     "text": [
      "+99455100\n"
     ]
    }
   ],
   "source": [
    "print(person.mobile)"
   ]
  },
  {
   "cell_type": "code",
   "execution_count": 565,
   "metadata": {},
   "outputs": [],
   "source": [
    "person._Set('Vüsalə','Xanlarova','example@gmail.com','+99455400')"
   ]
  },
  {
   "cell_type": "code",
   "execution_count": 566,
   "metadata": {},
   "outputs": [
    {
     "name": "stdout",
     "output_type": "stream",
     "text": [
      "Vüsalə\n"
     ]
    }
   ],
   "source": [
    "print(person.name)"
   ]
  },
  {
   "cell_type": "code",
   "execution_count": 567,
   "metadata": {},
   "outputs": [
    {
     "name": "stdout",
     "output_type": "stream",
     "text": [
      "Xanlarova\n"
     ]
    }
   ],
   "source": [
    "print(person.surname)"
   ]
  },
  {
   "cell_type": "code",
   "execution_count": 568,
   "metadata": {},
   "outputs": [
    {
     "name": "stdout",
     "output_type": "stream",
     "text": [
      "example@gmail.com\n"
     ]
    }
   ],
   "source": [
    "print(person.email)"
   ]
  },
  {
   "cell_type": "code",
   "execution_count": 569,
   "metadata": {},
   "outputs": [
    {
     "name": "stdout",
     "output_type": "stream",
     "text": [
      "+99455400\n"
     ]
    }
   ],
   "source": [
    "print(person.mobile)"
   ]
  },
  {
   "cell_type": "code",
   "execution_count": null,
   "metadata": {},
   "outputs": [],
   "source": []
  },
  {
   "cell_type": "markdown",
   "metadata": {},
   "source": [
    "## Inheritance (varislik mexanizmi) mövzusu"
   ]
  },
  {
   "cell_type": "markdown",
   "metadata": {},
   "source": [
    "Varislik mexanizmi nədir gəlin bu ifadəni ətraflı nəzəri olaraq öyrənək.Fərz edəkki şirkətə sahibiy və şirkətimiz müdriyyət müavin olmaqla digər işçilərdən ibarətdir.Varislik mexanizmində bir obyekt atributları ilə digər obyekt arasında əlaqənin olması vəziyyətində istifadə olunur.Ehtiyyac olmadıqda isə class sinfimiz enkapsulyasiya mexanizmində olaraq qalır.Mexanizm təkrar kod yazmaq yerinə varislik mexanizmindən istifadə edilərək hər dəfə istifadəçidən işçilər üçün ad soyad almaq, həmçinin müdriyyət üçün ayrı bir metod və ya funksiya hazırlamaq yerinə,ad soyad poçt ünvanı kimi atributları aparıcı sinfə əlavə edib daha sonrakı siniflərdə çağrılaraq metod və atributları istifadə edə bilərik.Həmçinin biz bu mövzu ilə əlaqəli olan Polimorfizm(polymorphism metodikası) anlayışına da toxunacağıq.Polimorfizm, aparıcı sinfə aid metod (və ya metodların) varislik mexanizmi ilə tərtib olunmuş sinifdə özünün davranışlarını başqacür aparmasıdır."
   ]
  },
  {
   "cell_type": "code",
   "execution_count": 570,
   "metadata": {},
   "outputs": [],
   "source": [
    "class Company():\n",
    "    \"\"\"docstring\"\"\"\n",
    "    \n",
    "    def __init__(self,fullname,email,mobile,salary,employment):\n",
    "        self.fullname = fullname\n",
    "        self.email = email\n",
    "        self.mobile = mobile\n",
    "        self.salary = salary\n",
    "        self.employment = employment\n",
    "    def Info(self):\n",
    "        print(\"\"\"\n",
    "        Person:{}\n",
    "        Email :{}\n",
    "        Mobile:{}\n",
    "        Salary(per month):{}\n",
    "        Employment:{}\n",
    "        \"\"\".format(self.fullname,self.email,self.mobile,self.salary,self.employment))\n",
    "\n",
    "    "
   ]
  },
  {
   "cell_type": "code",
   "execution_count": 571,
   "metadata": {},
   "outputs": [],
   "source": [
    "company = Company('Nurlan Əliyev','example@gmail.com','+99455100',2000,['Senior PHP Developer'])"
   ]
  },
  {
   "cell_type": "code",
   "execution_count": 572,
   "metadata": {},
   "outputs": [
    {
     "name": "stdout",
     "output_type": "stream",
     "text": [
      "\n",
      "        Person:Nurlan Əliyev\n",
      "        Email :example@gmail.com\n",
      "        Mobile:+99455100\n",
      "        Salary(per month):2000\n",
      "        Employment:['Senior PHP Developer']\n",
      "        \n"
     ]
    }
   ],
   "source": [
    "company.Info()"
   ]
  },
  {
   "cell_type": "markdown",
   "metadata": {},
   "source": [
    "Yuxarıdakı kodlarımızda Company sinfi hazırladıq.Və təyin etdiyimiz atributlar; istifadəçidən alaraq,İnfo metodu vasitəsilə ekrana çap edirik.Biz sektorda işçilər ilə müdriyyəti eyni qrupa aid edə bilmərik.Ümumi işçilər arasında fərqləndirməni dəyərləndirməliyik.Bunun üçün yeni metod əlavə etmək əvəzinə yeni sinif tərtib edib Company sinfini varislik mexanizmi ilə əldə edə bilərik.Bu bizə təkrar kod yazmamağa kömək edəcək.Sinif daxilində <code>fullname,email,mobile və s elementlər</code> həmin sinfin atributları <code>(həmçinin global elementlər)</code>,İnfo isə metoddur.Qeyd edimki funksiyaya bənzəri olsada,self arqumenti,metodu funksiyadan tamamilə ayırır.<code>init</code> ifadəsi ilə başlayan metodumuz konstruktor,<code>Info</code> isə aparıcı sinfin metodudur."
   ]
  },
  {
   "cell_type": "code",
   "execution_count": 573,
   "metadata": {},
   "outputs": [],
   "source": [
    "class Company():\n",
    "    \"\"\"docstring\"\"\"\n",
    "    \n",
    "    def __init__(self,fullname,email,mobile,salary,employment):\n",
    "        self.fullname = fullname\n",
    "        self.email = email\n",
    "        self.mobile = mobile\n",
    "        self.salary = salary\n",
    "        self.employment = employment\n",
    "    def Info(self):\n",
    "        print(\"\"\"\n",
    "        Person:{}\n",
    "        Email :{}\n",
    "        Mobile:{}\n",
    "        Salary(per month):{}\n",
    "        Employment:{}\n",
    "        \"\"\".format(self.fullname,self.email,self.mobile,self.salary,self.employment))\n",
    "        \n",
    "class Manager(Company):\n",
    "    \"\"\"docstring\"\"\"\n",
    "    \n",
    "    pass\n",
    "    "
   ]
  },
  {
   "cell_type": "code",
   "execution_count": 574,
   "metadata": {},
   "outputs": [],
   "source": [
    "company = Company('Nurlan Əliyev','example@gmail.com','+99455100',2000,['Senior PHP Developer'])"
   ]
  },
  {
   "cell_type": "code",
   "execution_count": 575,
   "metadata": {},
   "outputs": [
    {
     "name": "stdout",
     "output_type": "stream",
     "text": [
      "\n",
      "        Person:Nurlan Əliyev\n",
      "        Email :example@gmail.com\n",
      "        Mobile:+99455100\n",
      "        Salary(per month):2000\n",
      "        Employment:['Senior PHP Developer']\n",
      "        \n"
     ]
    }
   ],
   "source": [
    "company.Info()"
   ]
  },
  {
   "cell_type": "code",
   "execution_count": 576,
   "metadata": {},
   "outputs": [],
   "source": [
    "manager = Manager('Vüsalə Məmmədova','example@hotmail.com','+99455200',5000,['Managment'])"
   ]
  },
  {
   "cell_type": "code",
   "execution_count": 577,
   "metadata": {},
   "outputs": [
    {
     "name": "stdout",
     "output_type": "stream",
     "text": [
      "\n",
      "        Person:Vüsalə Məmmədova\n",
      "        Email :example@hotmail.com\n",
      "        Mobile:+99455200\n",
      "        Salary(per month):5000\n",
      "        Employment:['Managment']\n",
      "        \n"
     ]
    }
   ],
   "source": [
    "manager.Info()"
   ]
  },
  {
   "cell_type": "markdown",
   "metadata": {},
   "source": [
    "Kodlarımız daxilində Company sinfində olan elementləri varis alıb manager sinfinə tətbiq etdik.Şirkətimizdə müdir və işçilər ayrı frazalarda göstərildi."
   ]
  },
  {
   "cell_type": "markdown",
   "metadata": {},
   "source": [
    "Kodlarımıza dəyişiklik edək"
   ]
  },
  {
   "cell_type": "code",
   "execution_count": 578,
   "metadata": {},
   "outputs": [],
   "source": [
    "class Company():\n",
    "    \"\"\"docstring\"\"\"\n",
    "    #Ana sinfimiz.Ortaq elementlər və metodları digər siniflərdə istifadə olunacaq\n",
    "    def __init__(self,fullname,email,mobile,salary,employment):\n",
    "        self.fullname = fullname\n",
    "        self.email = email\n",
    "        self.mobile = mobile\n",
    "        self.salary = salary\n",
    "        self.employment = employment\n",
    "        \n",
    "    def Info(self):\n",
    "        print(\"\"\"\n",
    "        Person:{}\n",
    "        Email: {}\n",
    "        Mobile:{}\n",
    "        Salary:{}\n",
    "        Employment:{}      \n",
    "        \"\"\".format(self.fullname,self.email,self.mobile,self.salary,self.employment))\n",
    "class Manager(Company):\n",
    "    pass\n",
    "    "
   ]
  },
  {
   "cell_type": "code",
   "execution_count": 579,
   "metadata": {},
   "outputs": [
    {
     "name": "stdout",
     "output_type": "stream",
     "text": [
      "\n",
      "        Person:Nizami Mahmudov\n",
      "        Email: example@gmail.com\n",
      "        Mobile:+99455300\n",
      "        Salary:400\n",
      "        Employment:['Back-end Developer']      \n",
      "        \n"
     ]
    }
   ],
   "source": [
    "company = Company('Nizami Mahmudov','example@gmail.com','+99455300',400,['Back-end Developer'])\n",
    "company.Info()"
   ]
  },
  {
   "cell_type": "code",
   "execution_count": 580,
   "metadata": {},
   "outputs": [
    {
     "name": "stdout",
     "output_type": "stream",
     "text": [
      "\n",
      "        Person:Arzu Əliyeva\n",
      "        Email: example@gmail.com\n",
      "        Mobile:+99455100\n",
      "        Salary:5000\n",
      "        Employment:['Managment', 'Leader']      \n",
      "        \n"
     ]
    }
   ],
   "source": [
    "manager = Manager('Arzu Əliyeva','example@gmail.com','+99455100',5000,['Managment','Leader'])\n",
    "manager.Info()"
   ]
  },
  {
   "cell_type": "markdown",
   "metadata": {},
   "source": [
    "Yuxarıdakı kodlarımızda company sinfinə daxil olan elementləri varis alıb manager sinfində istifadə etdik.Yuxarıdakı nümunə kodlarda gördüyünüz kimi miras aldığımız bütün atributlar və metodlar manager sinfinə də daxil oldu.<code>self</code> ifadəsi ilə bütün atributları xaricdən istifadə etməyə imkan verdik."
   ]
  },
  {
   "cell_type": "code",
   "execution_count": 585,
   "metadata": {},
   "outputs": [
    {
     "data": {
      "text/plain": [
       "['Info',\n",
       " '__class__',\n",
       " '__delattr__',\n",
       " '__dict__',\n",
       " '__dir__',\n",
       " '__doc__',\n",
       " '__eq__',\n",
       " '__format__',\n",
       " '__ge__',\n",
       " '__getattribute__',\n",
       " '__gt__',\n",
       " '__hash__',\n",
       " '__init__',\n",
       " '__init_subclass__',\n",
       " '__le__',\n",
       " '__lt__',\n",
       " '__module__',\n",
       " '__ne__',\n",
       " '__new__',\n",
       " '__reduce__',\n",
       " '__reduce_ex__',\n",
       " '__repr__',\n",
       " '__setattr__',\n",
       " '__sizeof__',\n",
       " '__str__',\n",
       " '__subclasshook__',\n",
       " '__weakref__',\n",
       " 'email',\n",
       " 'employment',\n",
       " 'fullname',\n",
       " 'leader',\n",
       " 'mobile',\n",
       " 'salary']"
      ]
     },
     "execution_count": 585,
     "metadata": {},
     "output_type": "execute_result"
    }
   ],
   "source": [
    "dir(manager)"
   ]
  },
  {
   "cell_type": "markdown",
   "metadata": {},
   "source": [
    "<code>dir</code> funksiyası ilə <code>Manager</code> obyektinin içində 5 ədəd atributun Company sinfindən gəldiyini görürük,digərləri isə var olan metodlardır."
   ]
  },
  {
   "cell_type": "markdown",
   "metadata": {},
   "source": [
    "manager sinfi üçün metod və atributların təyin etdik.Aşağıdakı rəsmdə bacardığım qədər miras alma mövzusun izah etməyə çalışdım.Kodlarımızı yazdıqca düşünürəm mövzu sizə daha da aydın olacaq"
   ]
  },
  {
   "cell_type": "code",
   "execution_count": 582,
   "metadata": {},
   "outputs": [
    {
     "data": {
      "image/png": "[encoded data removed]",
      "text/plain": [
       "<IPython.core.display.Image object>"
      ]
     },
     "execution_count": 582,
     "metadata": {},
     "output_type": "execute_result"
    }
   ],
   "source": [
    "from IPython.display import Image\n",
    "Image(\"image/inhert.png\")"
   ]
  },
  {
   "cell_type": "markdown",
   "metadata": {},
   "source": [
    "Rəsmdə olan elementləri izah edək.Qeyd etdiyimiz qaydada Şirkətimiz var və şirkətimizdə əsas iki qism mövcuddur.Müdriyyət və işçilər.Bu iki qrupun ortaq xüsusiyyətləri ad soyad maaş və s kimi xüsusiyyətlərdir.Biz aparıcı şəxs üçün yenidən ad,soyad və s kimi elementləri yazmaq yerinə ümumi company sinfi daxilindən bu atributları növbəti manager sinfinə çəkirik.Və bununla biz company sinfindən varis mexanizmi ilə atribut və metodları alırıq."
   ]
  },
  {
   "cell_type": "markdown",
   "metadata": {},
   "source": [
    "Əgər biz varislik mexanizmini tərtib edib,hazırladığımız manager sinfinə əlavə metodlarımızı yazmaq istəsək,company sinfinin tərtibatçısı metodu daxilindəki bütün atributları da almalıyıq.Daha sonra isə əlavələrimiz mümkündür.Bundan başqa varis etdiyimiz elementləri super metodunda çağırmalıyıq.Aşağıdakı kodlarda super metodu əvəzinə birbaşa varis aldığımız sinfin adını daxil etmişəm.əlavə olaraq leader ifadəsi əlavə edib rəhbər sayını qeyd etdim"
   ]
  },
  {
   "cell_type": "code",
   "execution_count": 583,
   "metadata": {},
   "outputs": [],
   "source": [
    "class Company():\n",
    "    \"\"\"docstring\"\"\"\n",
    "    #Ana sinfimiz.Ortaq elementlər və metodları digər siniflərdə istifadə olunacaq\n",
    "    def __init__(self,fullname,email,mobile,salary,employment):\n",
    "        self.fullname = fullname\n",
    "        self.email = email\n",
    "        self.mobile = mobile\n",
    "        self.salary = salary\n",
    "        self.employment = employment\n",
    "        \n",
    "    def Info(self):\n",
    "        print(\"\"\"\n",
    "        Person:{}\n",
    "        Email: {}\n",
    "        Mobile:{}\n",
    "        Salary:{}\n",
    "        Employment:{}      \n",
    "        \"\"\".format(self.fullname,self.email,self.mobile,self.salary,self.employment))\n",
    "\n",
    "class Manager(Company):\n",
    "    #company sifini miras alırıq\n",
    "    def __init__(self,fullname,email,mobile,salary,employment,leader):\n",
    "        Company.__init__(self,fullname,email,mobile,salary,employment)\n",
    "        self.leader = leader\n",
    "\n",
    "    def Info(self):\n",
    "        print(\"\"\"\n",
    "        Person:{}\n",
    "        Email: {}\n",
    "        Mobile:{}\n",
    "        Salary:{}\n",
    "        Employment:{} \n",
    "        Leader:{}\n",
    "        \"\"\".format(self.fullname,self.email,self.mobile,self.salary,self.employment,self.leader))"
   ]
  },
  {
   "cell_type": "markdown",
   "metadata": {},
   "source": [
    "\n",
    "<p style=\"color:darkgreen;\"><code>def __init__(self,fullname,email,mobile,salary,employment,leader):</code>  -> sətirdəki ifadələr varis aldığımız sinfin nümayəndələri ilə eynidir.hər bir atributu qeyd etmək məcburiyyətindəyik.Çünki başdan manager sinfinə Company sinfini varis alacağımızı bildirmişik.Daha sonra super metodunu istifadə edərək əmr edirikki ,<code>Company.__init__(self,fullname,email,mobile,salary,employment)</code> company sinfindən bu atributları al.konstruktorda leader atributu əlavə etdiyimiz üçün növbəti sətirdə bunu özəlləşdirməliyik<code> --> self.leader = leader</code>.Daha sonra aparıcı sinfin İnfo metodu deyil,manager sinfi üçün məlumatları çap edən yeni info Metodu tərtib etdik.Bu üsul polimorfizm metodudur,eyni adla müxtəlif metodlar </p>\n",
    "\n",
    "\n"
   ]
  },
  {
   "cell_type": "code",
   "execution_count": null,
   "metadata": {},
   "outputs": [],
   "source": []
  },
  {
   "cell_type": "code",
   "execution_count": 584,
   "metadata": {},
   "outputs": [
    {
     "name": "stdout",
     "output_type": "stream",
     "text": [
      "\n",
      "        Person:Nizami Mahmudov\n",
      "        Email: example@gmail.com\n",
      "        Mobile:+99455300\n",
      "        Salary:3000\n",
      "        Employment:['Back-end Developer']      \n",
      "        \n",
      "**************************************************\n",
      "\n",
      "        Person:Arzu Əliyeva\n",
      "        Email: exmple@hotmail.com\n",
      "        Mobile:+99455500\n",
      "        Salary:5000\n",
      "        Employment:['Managment'] \n",
      "        Leader:1\n",
      "        \n"
     ]
    }
   ],
   "source": [
    "#rəhbər sinfi\n",
    "company = Company('Nizami Mahmudov','example@gmail.com','+99455300',3000,['Back-end Developer'])\n",
    "company.Info()\n",
    "print('*'*50)\n",
    "manager = Manager('Arzu Əliyeva','exmple@hotmail.com','+99455500',5000,['Managment'],1)\n",
    "manager.Info()"
   ]
  },
  {
   "cell_type": "markdown",
   "metadata": {},
   "source": [
    "<code>Polymorphism</code>"
   ]
  },
  {
   "cell_type": "code",
   "execution_count": 5,
   "metadata": {},
   "outputs": [
    {
     "name": "stdout",
     "output_type": "stream",
     "text": [
      "First class\n",
      "Second class\n"
     ]
    }
   ],
   "source": [
    "class Company():\n",
    "    \"\"\"docstring\"\"\"\n",
    "    #Ana sinfimiz.Ortaq elementlər və metodları digər siniflərdə istifadə olunacaq\n",
    "    def __init__(self,fullname,email,mobile,salary,employment):\n",
    "        self.fullname = fullname\n",
    "        self.email = email\n",
    "        self.mobile = mobile\n",
    "        self.salary = salary\n",
    "        self.employment = employment\n",
    "        \n",
    "    def Info(self):\n",
    "        print(\"\"\"\n",
    "        Person:{}\n",
    "        Email: {}\n",
    "        Mobile:{}\n",
    "        Salary:{}\n",
    "        Employment:{}      \n",
    "        \"\"\".format(self.fullname,self.email,self.mobile,self.salary,self.employment))\n",
    "    def polimorfizm():\n",
    "        return ('First class')\n",
    "\n",
    "class Manager(Company):\n",
    "    #company sifini miras alırıq\n",
    "    def __init__(self,fullname,email,mobile,salary,employment,leader):\n",
    "        Company.__init__(self,fullname,email,mobile,salary,employment)\n",
    "        self.leader = leader\n",
    "    def polimorfizm():\n",
    "        return ('Second class')\n",
    "    def Info(self):\n",
    "        print(\"\"\"\n",
    "        Person:{}\n",
    "        Email: {}\n",
    "        Mobile:{}\n",
    "        Salary:{}\n",
    "        Employment:{} \n",
    "        Leader:{}\n",
    "        \"\"\".format(self.fullname,self.email,self.mobile,self.salary,self.employment,self.leader))\n",
    "        \n",
    "print(Company.polimorfizm())\n",
    "print(Manager.polimorfizm())"
   ]
  },
  {
   "cell_type": "code",
   "execution_count": null,
   "metadata": {},
   "outputs": [],
   "source": []
  },
  {
   "cell_type": "markdown",
   "metadata": {},
   "source": [
    "### Special Methods (Xüsusi Metodlar)"
   ]
  },
  {
   "cell_type": "markdown",
   "metadata": {},
   "source": [
    "Sinifləri hazırlayarkən bir neçə metodları biz tətbiq etdik.Məsələn info metodu ilə sinfimizdə yer alan atribut elementlərini ekrana çap etdirdik.Bunların əvəzinə obyektin python tərəfindən hazırlanan xüsusi metodları var.Həmçinin <code>__init__</code> metodunu misal çəkə bilərik.Öncə yeni bir sinif hazrılayaq"
   ]
  },
  {
   "cell_type": "code",
   "execution_count": 6,
   "metadata": {},
   "outputs": [],
   "source": [
    "class Book():\n",
    "    def __init__(self,title,author,date,pages):\n",
    "        self.title = title\n",
    "        self.author = author\n",
    "        self.date = date\n",
    "        self.pages = pages"
   ]
  },
  {
   "cell_type": "code",
   "execution_count": 8,
   "metadata": {},
   "outputs": [],
   "source": [
    "book = Book('Python proqramlaşdırma dili','Rəşad Qarayev','10.10.2017',358)"
   ]
  },
  {
   "cell_type": "markdown",
   "metadata": {},
   "source": [
    "Book adlı sinfimizi hazırladır.dir funksiyası ilə hansı atribut və metodların olduğuna baxaq"
   ]
  },
  {
   "cell_type": "code",
   "execution_count": 9,
   "metadata": {},
   "outputs": [
    {
     "data": {
      "text/plain": [
       "['__class__',\n",
       " '__delattr__',\n",
       " '__dict__',\n",
       " '__dir__',\n",
       " '__doc__',\n",
       " '__eq__',\n",
       " '__format__',\n",
       " '__ge__',\n",
       " '__getattribute__',\n",
       " '__gt__',\n",
       " '__hash__',\n",
       " '__init__',\n",
       " '__init_subclass__',\n",
       " '__le__',\n",
       " '__lt__',\n",
       " '__module__',\n",
       " '__ne__',\n",
       " '__new__',\n",
       " '__reduce__',\n",
       " '__reduce_ex__',\n",
       " '__repr__',\n",
       " '__setattr__',\n",
       " '__sizeof__',\n",
       " '__str__',\n",
       " '__subclasshook__',\n",
       " '__weakref__',\n",
       " 'author',\n",
       " 'date',\n",
       " 'pages',\n",
       " 'title']"
      ]
     },
     "execution_count": 9,
     "metadata": {},
     "output_type": "execute_result"
    }
   ],
   "source": [
    "dir(book)"
   ]
  },
  {
   "cell_type": "markdown",
   "metadata": {},
   "source": [
    "Aşağıda dördlükdə atributlarımız və yuxarı hissədə isə metodlar yer alır.Yaxşı biz özümüz metodları təyin ediriksə bu xüsusi metodlar nəyə lazımdır.! Bu metodları istifadə etməməyimiz hər hansısa səhv yol deyil,amma naşı bir yoldur.Hətda kökənində qarşılaşacağınız problemlər belə var.Gəlin nümunələrlə nəzər yetirək"
   ]
  },
  {
   "cell_type": "code",
   "execution_count": 10,
   "metadata": {},
   "outputs": [],
   "source": [
    "class Book():\n",
    "    def __init__(self,title,author,date,pages):\n",
    "        self.title = title\n",
    "        self.author = author\n",
    "        self.date = date\n",
    "        self.pages = pages\n",
    "    \n",
    "book = Book('Python proqramlaşdırma dili','Rəşad Qarayev','10.10.2017',358)"
   ]
  },
  {
   "cell_type": "code",
   "execution_count": 17,
   "metadata": {},
   "outputs": [
    {
     "name": "stdout",
     "output_type": "stream",
     "text": [
      "<__main__.Book object at 0x000001C0F6059EB8>\n"
     ]
    }
   ],
   "source": [
    "print(book)"
   ]
  },
  {
   "cell_type": "markdown",
   "metadata": {},
   "source": [
    "Yuxarıda sinif qeyd etdik və parametrləri atributlara göndərdik.Daha sonra print() funksiyası ilə çap etdirdikdə yuxarıdakı məlumat çap olundu.Python həmin ərəfədə<code> __str__ </code>metodunu çağırır."
   ]
  },
  {
   "cell_type": "code",
   "execution_count": 18,
   "metadata": {},
   "outputs": [
    {
     "name": "stdout",
     "output_type": "stream",
     "text": [
      "<__main__.Book object at 0x000001C0F6059EB8>\n"
     ]
    }
   ],
   "source": [
    "print(book.__str__())"
   ]
  },
  {
   "cell_type": "markdown",
   "metadata": {},
   "source": [
    "Və gördüyünüz kimi hər iki nəticə eynidir.Və biz həmin məlumatın yerinə özümüz<code> __str__ metodu </code> yazaraq ekrana məlumatlarımızı çap etdirə bilərik"
   ]
  },
  {
   "cell_type": "code",
   "execution_count": 65,
   "metadata": {},
   "outputs": [],
   "source": [
    "class Book():\n",
    "    def __init__(self,title,author,date,pages):\n",
    "        self.title = title\n",
    "        self.author = author\n",
    "        self.date = date\n",
    "        self.pages = pages\n",
    "    def __str__(self):\n",
    "        return (\"Book:{} ;Author:{}; Date:{}; Pages:{} \".format(self.title,self.author,self.date,self.pages))\n",
    "    \n",
    "book = Book('Python proqramlaşdırma dili','Rəşad Qarayev','10.10.2017',358)"
   ]
  },
  {
   "cell_type": "code",
   "execution_count": 66,
   "metadata": {},
   "outputs": [
    {
     "name": "stdout",
     "output_type": "stream",
     "text": [
      "Book:Python proqramlaşdırma dili ;Author:Rəşad Qarayev; Date:10.10.2017; Pages:358 \n"
     ]
    }
   ],
   "source": [
    "print(book)"
   ]
  },
  {
   "cell_type": "code",
   "execution_count": 67,
   "metadata": {},
   "outputs": [
    {
     "name": "stdout",
     "output_type": "stream",
     "text": [
      "Book:Python proqramlaşdırma dili ;Author:Rəşad Qarayev; Date:10.10.2017; Pages:358 \n"
     ]
    }
   ],
   "source": [
    "print(book.__str__())"
   ]
  },
  {
   "cell_type": "markdown",
   "metadata": {},
   "source": [
    "Və gördüyünüz kimi İnfo metodu hazırlamaq yerinə pythonun bizə təklif etdiyi xüsusi metodları istifadə edərək nəticəni əldə etdik"
   ]
  },
  {
   "cell_type": "code",
   "execution_count": 68,
   "metadata": {},
   "outputs": [
    {
     "ename": "TypeError",
     "evalue": "object of type 'Book' has no len()",
     "output_type": "error",
     "traceback": [
      "\u001b[1;31m---------------------------------------------------------------------------\u001b[0m",
      "\u001b[1;31mTypeError\u001b[0m                                 Traceback (most recent call last)",
      "\u001b[1;32m<ipython-input-68-54c057cebb26>\u001b[0m in \u001b[0;36m<module>\u001b[1;34m()\u001b[0m\n\u001b[1;32m----> 1\u001b[1;33m \u001b[0mprint\u001b[0m\u001b[1;33m(\u001b[0m\u001b[0mlen\u001b[0m\u001b[1;33m(\u001b[0m\u001b[0mbook\u001b[0m\u001b[1;33m)\u001b[0m\u001b[1;33m)\u001b[0m\u001b[1;33m\u001b[0m\u001b[1;33m\u001b[0m\u001b[0m\n\u001b[0m",
      "\u001b[1;31mTypeError\u001b[0m: object of type 'Book' has no len()"
     ]
    }
   ],
   "source": [
    "print(len(book))"
   ]
  },
  {
   "cell_type": "markdown",
   "metadata": {},
   "source": [
    "Çünki len metodunu tətbiq etmədiyimiz üçün xəta aldıq."
   ]
  },
  {
   "cell_type": "code",
   "execution_count": 113,
   "metadata": {},
   "outputs": [],
   "source": [
    "class Book():\n",
    "    \"\"\"\n",
    "    \n",
    "    Kitab sinfinin hazırlanması\n",
    "    Sinif daxilində Kitab adı,Müəllif,tarix və səhifə sayı atributları yer alır\n",
    "    \n",
    "    \n",
    "    \"\"\"\n",
    "    def __init__(self,title,author,date,pages):\n",
    "        self.title = title\n",
    "        self.author = author\n",
    "        self.date = date\n",
    "        self.pages = pages\n",
    "    def __str__(self):\n",
    "        return (\"Book:{} ;Author:{}; Date:{}; Pages:{} \".format(self.title,self.author,self.date,self.pages))\n",
    "    def __dir__(self):\n",
    "        return ['title', 'author', 'date','pages']\n",
    "    def __len__(self):\n",
    "        return self.pages\n",
    "    \n",
    "    def __del__(self):\n",
    "        return (\"Kitab silindi\")\n",
    "    \n",
    "book = Book('Python proqramlaşdırma dili','Rəşad Qarayev','10.10.2017',358)\n"
   ]
  },
  {
   "cell_type": "code",
   "execution_count": 114,
   "metadata": {},
   "outputs": [
    {
     "name": "stdout",
     "output_type": "stream",
     "text": [
      "\n",
      "    \n",
      "    Kitab sinfinin hazırlanması\n",
      "    Sinif daxilində Kitab adı,Müəllif,tarix və səhifə sayı atributları yer alır\n",
      "    \n",
      "    \n",
      "    \n",
      "358\n",
      "358\n"
     ]
    }
   ],
   "source": [
    "print(book.__doc__)\n",
    "print(book.__len__())\n",
    "print(len(book))"
   ]
  },
  {
   "cell_type": "markdown",
   "metadata": {},
   "source": [
    "<code>len</code> funksiyasını ilk öncə <code>' __len__  '</code>metodunu obyekt daxilində axtarır,varsa metoda əlavə etdiyimiz dəyərlər ekranda göstərilir"
   ]
  },
  {
   "cell_type": "code",
   "execution_count": null,
   "metadata": {},
   "outputs": [],
   "source": []
  },
  {
   "cell_type": "code",
   "execution_count": 115,
   "metadata": {},
   "outputs": [
    {
     "name": "stdout",
     "output_type": "stream",
     "text": [
      "Book:Python proqramlaşdırma dili ;Author:Rəşad Qarayev; Date:10.10.2017; Pages:358 \n"
     ]
    }
   ],
   "source": [
    "print(book)"
   ]
  },
  {
   "cell_type": "code",
   "execution_count": 116,
   "metadata": {},
   "outputs": [],
   "source": [
    "del(book)"
   ]
  },
  {
   "cell_type": "code",
   "execution_count": 117,
   "metadata": {},
   "outputs": [
    {
     "ename": "NameError",
     "evalue": "name 'book' is not defined",
     "output_type": "error",
     "traceback": [
      "\u001b[1;31m---------------------------------------------------------------------------\u001b[0m",
      "\u001b[1;31mNameError\u001b[0m                                 Traceback (most recent call last)",
      "\u001b[1;32m<ipython-input-117-92f3aa8bac21>\u001b[0m in \u001b[0;36m<module>\u001b[1;34m()\u001b[0m\n\u001b[1;32m----> 1\u001b[1;33m \u001b[0mbook\u001b[0m\u001b[1;33m\u001b[0m\u001b[1;33m\u001b[0m\u001b[0m\n\u001b[0m",
      "\u001b[1;31mNameError\u001b[0m: name 'book' is not defined"
     ]
    }
   ],
   "source": [
    "book"
   ]
  },
  {
   "cell_type": "markdown",
   "metadata": {},
   "source": [
    "<code>del</code> funksiyası ilə book obyektini tamamilə sildik."
   ]
  },
  {
   "cell_type": "markdown",
   "metadata": {},
   "source": [
    "Üç ədəd metod əlavə etdik,növbəti metod <code> __dir__ </code> metodunu əlavə edək"
   ]
  },
  {
   "cell_type": "code",
   "execution_count": 120,
   "metadata": {},
   "outputs": [],
   "source": [
    "class Book():\n",
    "    \"\"\"\n",
    "    \n",
    "    Kitab sinfinin hazırlanması\n",
    "    Sinif daxilində Kitab adı,Müəllif,tarix və səhifə sayı atributları yer alır\n",
    "    \n",
    "    \n",
    "    \"\"\"\n",
    "    def __init__(self,title,author,date,pages):\n",
    "        self.title = title\n",
    "        self.author = author\n",
    "        self.date = date\n",
    "        self.pages = pages\n",
    "    def __str__(self):\n",
    "        return (\"Book:{} ;Author:{}; Date:{}; Pages:{} \".format(self.title,self.author,self.date,self.pages))\n",
    "    def __dir__(self):\n",
    "        return ['title', 'author', 'date','pages']\n",
    "    def __len__(self):\n",
    "        return self.pages\n",
    "    \n",
    "    def __del__(self):\n",
    "        return (\"Kitab silindi\")\n",
    "    \n",
    "book = Book('Python proqramlaşdırma dili','Rəşad Qarayev','10.10.2017',358)"
   ]
  },
  {
   "cell_type": "code",
   "execution_count": 121,
   "metadata": {},
   "outputs": [
    {
     "name": "stdout",
     "output_type": "stream",
     "text": [
      "['author', 'date', 'pages', 'title']\n"
     ]
    }
   ],
   "source": [
    "print(dir(book))"
   ]
  },
  {
   "cell_type": "markdown",
   "metadata": {},
   "source": [
    "Daha öncə  <code>dir</code> funksiyasından istifadə etdikdə pythonun obyekt üçün təklif etdiyi metodlar və hazırladığımız atributlar çap olunurdu.Amma biz dir metodunu özəlləşdirdiyimiz üçün sadəcə atributları əlavə etdik."
   ]
  },
  {
   "cell_type": "code",
   "execution_count": null,
   "metadata": {},
   "outputs": [],
   "source": [
    "Və sonda qeyd edimki OOP mövzusunun hal-hazırda bəzi əsas hissələrini izah etdim.OOP metodologiyası geniş mövzudur.PyQt dərslərində biz davamlı olaraq class siniflərdən istifadə edəcəyik.Bu üsulla siz,həm qraf"
   ]
  }
 ],
 "metadata": {
  "kernelspec": {
   "display_name": "Python 3",
   "language": "python",
   "name": "python3"
  },
  "language_info": {
   "codemirror_mode": {
    "name": "ipython",
    "version": 3
   },
   "file_extension": ".py",
   "mimetype": "text/x-python",
   "name": "python",
   "nbconvert_exporter": "python",
   "pygments_lexer": "ipython3",
   "version": "3.6.10"
  }
 },
 "nbformat": 4,
 "nbformat_minor": 2
}
