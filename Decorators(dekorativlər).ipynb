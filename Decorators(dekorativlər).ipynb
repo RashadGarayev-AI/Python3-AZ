{
 "cells": [
  {
   "cell_type": "markdown",
   "metadata": {},
   "source": [
    "# Dekoratorlar"
   ]
  },
  {
   "cell_type": "markdown",
   "metadata": {},
   "source": [
    "Bundan əvvəlki bəhsdə funksiyalar və modulları öyrəndik.Modullar və funksiyalar haqqında ümumi təsəvvürünüz yarandı.İn isə funksiyalarda istifadə olunan dekoratorları öyrənək."
   ]
  },
  {
   "cell_type": "markdown",
   "metadata": {},
   "source": [
    "### Dekoratorlar nədir!"
   ]
  },
  {
   "cell_type": "markdown",
   "metadata": {},
   "source": [
    "\n",
    "Dekorativ funksiyalar, Pythonda istifadəçiyə quruluşunu dəyişdirmədən mövcud bir obyektə yeni funksionallıq əlavə etməyə imkan verən dizayn nümunəsidir.Dekorativlər adətən təmin edəcəyimiz funksiyadan  əvvəl çağırılır.Pythonda funksiyalar birinci sinif vətəndaşlardır(first class citizens).Bu o deməkdir ki, arqument kimi ötürülərək, bir funksiyadan geri qaytarılmış, dəyişdirilmiş və dəyişənə tapşırılan kimi əməliyyatlara dəstək olurlar. Bu Python dekorativlərini yaratmağı öyrənməzdən əvvəl başa düşmək üçün əsas bir anlayışdır.Dekorativlərə Flask framework -də daha çox istifadə olunur.Uzan uzadı kod sətirləri yazmaq yerinə,dekorativ funksiyalardan istifadə edə bilərsiniz."
   ]
  },
  {
   "cell_type": "code",
   "execution_count": 57,
   "metadata": {},
   "outputs": [
    {
     "data": {
      "text/plain": [
       "5"
      ]
     },
     "execution_count": 57,
     "metadata": {},
     "output_type": "execute_result"
    }
   ],
   "source": [
    "def add_num(var):\n",
    "    return var + 1\n",
    "add_one = add_num\n",
    "add_one(4)"
   ]
  },
  {
   "cell_type": "markdown",
   "metadata": {},
   "source": [
    "Yuxarıdakı funksiyada yeni kod nümunəsi yoxdur.add_num funksiyası hazırladıq və ardından bir (var) arqumenti almasını təmin edib həmin dəyəri return ilə aldıq"
   ]
  },
  {
   "cell_type": "markdown",
   "metadata": {},
   "source": [
    "Və ya funksiya daxilində funksiya hazırlayaq\n"
   ]
  },
  {
   "cell_type": "code",
   "execution_count": 58,
   "metadata": {},
   "outputs": [
    {
     "data": {
      "text/plain": [
       "5"
      ]
     },
     "execution_count": 58,
     "metadata": {},
     "output_type": "execute_result"
    }
   ],
   "source": [
    "#Defining Functions Inside other Functions\n",
    "def add_num(var):\n",
    "    def add_one(var):\n",
    "        return var + 1\n",
    "\n",
    "\n",
    "    result = add_one(var)\n",
    "    return result\n",
    "add_num(4)"
   ]
  },
  {
   "cell_type": "markdown",
   "metadata": {},
   "source": [
    "Yuxarıdakı add_num əsas add_one funksiyası isə aparıcıdır."
   ]
  },
  {
   "cell_type": "markdown",
   "metadata": {},
   "source": [
    "Və ya iki ayrı funksiya tərtib edib funksiya parametrlərini digərinə ötürmək\n"
   ]
  },
  {
   "cell_type": "code",
   "execution_count": 59,
   "metadata": {},
   "outputs": [
    {
     "data": {
      "text/plain": [
       "5"
      ]
     },
     "execution_count": 59,
     "metadata": {},
     "output_type": "execute_result"
    }
   ],
   "source": [
    "#Passing Functions as Arguments to other Functions\n",
    "def add_num(var):\n",
    "    return var + 1\n",
    "\n",
    "def func_call(function):\n",
    "    var = 4 #sabit dəyər\n",
    "    return function(var)\n",
    "func_call(add_num)"
   ]
  },
  {
   "cell_type": "markdown",
   "metadata": {},
   "source": [
    "Yuxarıda add_num funksiyası tərtib edib var dəyişəni üzərinə 1ədədini əlavə edirik.func_call funksiyası vasitəsilə ilk funksiya üçün dəyişənə 4 rəqəmini mənimsətdik daha sonra return vasitəsilə ilk funksiyamizdan aldığımız toplama əməlini yerinə yetiririk "
   ]
  },
  {
   "cell_type": "markdown",
   "metadata": {},
   "source": [
    "Həmçinin bir funksiya yeni bir törəmə funksiya hazırlaya bilər"
   ]
  },
  {
   "cell_type": "code",
   "execution_count": 60,
   "metadata": {},
   "outputs": [
    {
     "data": {
      "text/plain": [
       "8"
      ]
     },
     "execution_count": 60,
     "metadata": {},
     "output_type": "execute_result"
    }
   ],
   "source": [
    "#Functions Returning other Functions\n",
    "i = 4\n",
    "def some():\n",
    "    def var():\n",
    "        return i*2\n",
    "    return var\n",
    "k = some()\n",
    "k()"
   ]
  },
  {
   "cell_type": "code",
   "execution_count": 61,
   "metadata": {},
   "outputs": [],
   "source": [
    "#Creating Decorators\n",
    "def _decorator(function):\n",
    "    def wrapper():\n",
    "        func = function()\n",
    "        _make = func.upper()\n",
    "        return _make\n",
    "    return wrapper"
   ]
  },
  {
   "cell_type": "code",
   "execution_count": 62,
   "metadata": {},
   "outputs": [
    {
     "data": {
      "text/plain": [
       "'AZERBAIJAN'"
      ]
     },
     "execution_count": 62,
     "metadata": {},
     "output_type": "execute_result"
    }
   ],
   "source": [
    "def uppercase():\n",
    "    return 'azerbaijan'\n",
    "decorate =_decorator(uppercase)\n",
    "decorate()"
   ]
  },
  {
   "cell_type": "markdown",
   "metadata": {},
   "source": [
    "Yuxarıdakı nümunədə dekorativ funksiyanı hazırladıq._decorator funksiyası daxilində wrapper funksiyası hazırlayıb daha sonra _decorator funksiyasından gələn function arqumentini func dəyişəninə əlavə etdik.Aldığımız parametr sətir tipində olduğu üçün sətir tipi metodlarından rahatlıqla istifadə edə bilərik.Və əsas funksiyamız wrapper funksiyasını return ifadəsinə ötürürük.  "
   ]
  },
  {
   "cell_type": "markdown",
   "metadata": {},
   "source": [
    "Və ya başqa yazılışla @ - işarəsindən istifadə olunur.və dekorativ funksiyanı istifadə etmək üçün tətbiq edəcəyimiz funksiyadan əvvəl yazılmalıdır."
   ]
  },
  {
   "cell_type": "code",
   "execution_count": 63,
   "metadata": {},
   "outputs": [
    {
     "data": {
      "text/plain": [
       "'AZERBAIJAN'"
      ]
     },
     "execution_count": 63,
     "metadata": {},
     "output_type": "execute_result"
    }
   ],
   "source": [
    "def _decorator(function):\n",
    "    def wrapper():\n",
    "        func = function()\n",
    "        _make = func.upper()\n",
    "        return _make\n",
    "    return wrapper\n",
    "\n",
    "@_decorator #dekorativ funksiyamızı çağırırıq\n",
    "def uppercase():\n",
    "    return 'azerbaijan'\n",
    "uppercase()"
   ]
  },
  {
   "cell_type": "markdown",
   "metadata": {},
   "source": [
    "Yuxarıdakı nümunədə @_decorator - dekorativ funksiya olub özündən sonra gələn istənilən funksiyaya tətbiq oluna bilinir"
   ]
  },
  {
   "cell_type": "code",
   "execution_count": 64,
   "metadata": {},
   "outputs": [
    {
     "data": {
      "text/plain": [
       "['MACHINE', 'LEARNING']"
      ]
     },
     "execution_count": 64,
     "metadata": {},
     "output_type": "execute_result"
    }
   ],
   "source": [
    "def _decorator(function):\n",
    "    def wrapper():\n",
    "        func = function()\n",
    "        _make = func.upper()\n",
    "        return _make\n",
    "    return wrapper\n",
    "def _decorator2(function):\n",
    "    def wrapper():\n",
    "        func = function()\n",
    "        split = func.split()\n",
    "        return split\n",
    "    return wrapper\n",
    "\n",
    "@_decorator2\n",
    "@_decorator\n",
    "\n",
    "def test():\n",
    "    return 'machine learning'\n",
    "test()"
   ]
  },
  {
   "cell_type": "code",
   "execution_count": null,
   "metadata": {},
   "outputs": [],
   "source": []
  },
  {
   "cell_type": "code",
   "execution_count": 2,
   "metadata": {},
   "outputs": [],
   "source": [
    "def Fahrenheit(temprature):\n",
    "    \"\"\"\n",
    "    funksiya selsi cinsindən temperaturu fahrenheyt cinsinə çevirir\n",
    "    \"\"\"\n",
    "    \n",
    "    def wrapper(fahrenheit):\n",
    "        F = (fahrenheit * 9/5) + 32\n",
    "        temprature(fahrenheit)\n",
    "        return ('Converted :{:.2f}F'.format(F))\n",
    "    return wrapper\n",
    "\n",
    "def Celsius(temprature):\n",
    "    \"\"\"\n",
    "    funksiya fahrenheit cinsindən temperaturu selsi cinsinə çevirir\n",
    "    \"\"\"\n",
    "    def wrapper(celsius):\n",
    "        C = (celsius - 32) * 5/9\n",
    "        temprature(celsius)\n",
    "        return ('Converted :{:.2f}F'.format(C))\n",
    "    return wrapper"
   ]
  },
  {
   "cell_type": "code",
   "execution_count": 4,
   "metadata": {},
   "outputs": [
    {
     "data": {
      "text/plain": [
       "'Converted :-11.11F'"
      ]
     },
     "execution_count": 4,
     "metadata": {},
     "output_type": "execute_result"
    }
   ],
   "source": [
    "@Celsius\n",
    "def convert(t):\n",
    "    return t\n",
    "convert(12)"
   ]
  },
  {
   "cell_type": "code",
   "execution_count": 5,
   "metadata": {},
   "outputs": [
    {
     "data": {
      "text/plain": [
       "'Converted :50.00F'"
      ]
     },
     "execution_count": 5,
     "metadata": {},
     "output_type": "execute_result"
    }
   ],
   "source": [
    "@Fahrenheit\n",
    "def convert(t):\n",
    "    return t \n",
    "convert(10)"
   ]
  },
  {
   "cell_type": "code",
   "execution_count": null,
   "metadata": {},
   "outputs": [],
   "source": []
  }
 ],
 "metadata": {
  "kernelspec": {
   "display_name": "Python 3",
   "language": "python",
   "name": "python3"
  },
  "language_info": {
   "codemirror_mode": {
    "name": "ipython",
    "version": 3
   },
   "file_extension": ".py",
   "mimetype": "text/x-python",
   "name": "python",
   "nbconvert_exporter": "python",
   "pygments_lexer": "ipython3",
   "version": "3.6.10"
  }
 },
 "nbformat": 4,
 "nbformat_minor": 2
}
